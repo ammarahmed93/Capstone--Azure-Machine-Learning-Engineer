{
 "cells": [
  {
   "cell_type": "markdown",
   "metadata": {},
   "source": [
    "# Automated ML\n",
    "\n",
    "TODO: Import Dependencies. In the cell below, import all the dependencies that you will need to complete the project."
   ]
  },
  {
   "cell_type": "code",
   "execution_count": 1,
   "metadata": {
    "gather": {
     "logged": 1598423888013
    },
    "jupyter": {
     "outputs_hidden": false,
     "source_hidden": false
    },
    "nteract": {
     "transient": {
      "deleting": false
     }
    }
   },
   "outputs": [],
   "source": [
    "import logging\n",
    "import os\n",
    "import csv\n",
    "\n",
    "from matplotlib import pyplot as plt\n",
    "import numpy as np\n",
    "import pandas as pd\n",
    "from sklearn import datasets\n",
    "import pkg_resources\n",
    "\n",
    "import azureml.core\n",
    "from azureml.core.experiment import Experiment\n",
    "from azureml.core.workspace import Workspace\n",
    "from azureml.train.automl import AutoMLConfig\n",
    "from azureml.core.dataset import Dataset\n",
    "from azureml.widgets import RunDetails\n",
    "\n",
    "from azureml.core.compute import AmlCompute\n",
    "from azureml.core.compute import ComputeTarget\n",
    "from azureml.core.compute_target import ComputeTargetException\n",
    "\n",
    "from azureml.core.webservice import AciWebservice, Webservice\n",
    "from azureml.core.model import InferenceConfig, Model"
   ]
  },
  {
   "cell_type": "markdown",
   "metadata": {},
   "source": [
    "## Dataset\n",
    "\n",
    "### Overview\n",
    "\n",
    "The dataset used for this project can be obtained from the [Wine Quality- UCI Repo](https://archive.ics.uci.edu/ml/machine-learning-databases/wine-quality/). The dataset contains two seprate csv files for each the white and red wine qualities. Both dataset were combined and the red wine was assigned a value of 1 and white wine as 0 in the target column \"y\". The final merged csv file was upploaded to github and can be accessed [here](https://github.com/ammarahmed93/Capstone--Azure-Machine-Learning-Engineer/blob/main/wine-classification.csv). The data contains 6,598 rows and 13 columns including the target column. The goal is to predict the wine type (red or white wine) based on the other given properties such as pH, alchohol ...etc. Therefore this is a binary classification task.\n",
    "\n",
    "TODO: Get data. In the cell below, write code to access the data you will be using in this project. Remember that the dataset needs to be external."
   ]
  },
  {
   "cell_type": "code",
   "execution_count": 2,
   "metadata": {
    "gather": {
     "logged": 1598423890461
    },
    "jupyter": {
     "outputs_hidden": false,
     "source_hidden": false
    },
    "nteract": {
     "transient": {
      "deleting": false
     }
    }
   },
   "outputs": [],
   "source": [
    "ws = Workspace.from_config()\n",
    "\n",
    "# choose a name for experiment\n",
    "experiment_name = 'classification-automl'\n",
    "project_folder = './capstoneProject'\n",
    "experiment=Experiment(ws, experiment_name)"
   ]
  },
  {
   "cell_type": "code",
   "execution_count": null,
   "metadata": {},
   "outputs": [],
   "source": [
    "found = False\n",
    "description_text = \"Wine Quality DataSet for Udacity Capstone Project\"\n",
    "key = 'wine-classification'\n",
    "\n",
    "if key in ws.datasets.keys(): \n",
    "    found = True\n",
    "    dataset = ws.datasets[key] \n",
    "\n",
    "if not found:\n",
    "    # Create AML Dataset and register it into Workspace\n",
    "    whiteWine_data = 'https://github.com/ammarahmed93/Capstone--Azure-Machine-Learning-Engineer/wine-classification.csv'\n",
    "    dataset = Dataset.Tabular.from_delimited_files(whiteWine_data, separator=',')        \n",
    "      \n",
    "    #Register Dataset in Workspace\n",
    "    dataset = whiteWine_dataset.register(workspace=ws,\n",
    "                                   name=key,\n",
    "                                   description=description_text)\n",
    "\n",
    "\n",
    "df = dataset.to_pandas_dataframe()\n",
    "df.describe()"
   ]
  },
  {
   "cell_type": "markdown",
   "metadata": {},
   "source": [
    "# Create or Attach an AmlCompute cluster"
   ]
  },
  {
   "cell_type": "code",
   "execution_count": 3,
   "metadata": {},
   "outputs": [
    {
     "name": "stdout",
     "output_type": "stream",
     "text": [
      "InProgress...\n",
      "SucceededProvisioning operation finished, operation \"Succeeded\"\n",
      "Succeeded\n",
      "AmlCompute wait for completion finished\n",
      "\n",
      "Wait timeout has been reached\n",
      "Current provisioning state of AmlCompute is \"Succeeded\" and current node count is \"0\"\n"
     ]
    }
   ],
   "source": [
    "# NOTE: update the cluster name to match the existing cluster\n",
    "# Choose a name for your CPU cluster\n",
    "amlcompute_cluster_name = \"aml-compute\"\n",
    "\n",
    "# Verify that cluster does not exist already\n",
    "try:\n",
    "    compute_target = ComputeTarget(workspace=ws, name=amlcompute_cluster_name)\n",
    "    print('Found existing cluster, use it.')\n",
    "except ComputeTargetException:\n",
    "    compute_config = AmlCompute.provisioning_configuration(vm_size='Standard_D16_v3',# for GPU, use \"STANDARD_NC6\"\n",
    "                                                           #vm_priority = 'lowpriority', # optional\n",
    "                                                           max_nodes=6)\n",
    "    compute_target = ComputeTarget.create(ws, amlcompute_cluster_name, compute_config)\n",
    "\n",
    "compute_target.wait_for_completion(show_output=True, min_node_count = 1, timeout_in_minutes = 0)\n",
    "# For a more detailed view of current AmlCompute status, use get_status()."
   ]
  },
  {
   "cell_type": "markdown",
   "metadata": {},
   "source": [
    "## AutoML Configuration\n",
    "\n",
    "TODO: Explain why you chose the automl settings and cofiguration you used below.\n",
    "\n",
    "ref: https://docs.microsoft.com/en-us/azure/machine-learning/how-to-configure-cross-validation-data-splits\n",
    "\n",
    "The following cell was used to assign the automl settings and configuration. For the automl settings the following was chosen:\n",
    "- _n_cross_validations_ : The cross validation was provided to perform k-fold cross-validation. This parameter sets how many cross validations to perfotm, based on the same number of folds. In this case, 3 folds are used for cross-validation. Therefore 3 different trainings are performed with each training using 2/3 of the data and each validation using 1/3 of the data with a different holdout fold each time. The metrics are calculated with the average of the five validation metrics.\n",
    "<br>\n",
    "- _experiment_timeout_minutes_: In this case the maximum time that each iteration can run for is 20 minutes. if the iteration reaches the time limit then it will terminate.\n",
    "<br>\n",
    "- _enable_early_stopping_: When enabling early termination, if the score is not improving in the short term after the first 20 iterations then the experiment will terminate. \n",
    "<br>\n",
    "- _max_concurrent_iterations_: The maximum number of iterations that would be execute in parallel, in this case 4 parallel iterations at max. This is dependent on the number of nodes provisioned and has to be one less than the provisioned nodes. \n",
    "<br>\n",
    "- _primary_metric_: The metric that the AutoML will optimize for the model selection. The \"AUC_weighted\" was chosen in this case as its better metric for imblanced data.\n",
    "<br>\n",
    "- _task_: \"classification\" since its a binary classification task. \n",
    "\n"
   ]
  },
  {
   "cell_type": "code",
   "execution_count": 12,
   "metadata": {},
   "outputs": [],
   "source": [
    "# automl settings\n",
    "automl_settings = {\n",
    "    \"n_cross_validations\": 3,\n",
    "    \"experiment_timeout_minutes\": 20,\n",
    "    \"enable_early_stopping\": True,\n",
    "    \"max_concurrent_iterations\": 4,\n",
    "    \"primary_metric\" : 'AUC_weighted'\n",
    "}\n",
    "\n",
    "#automl config \n",
    "automl_config = AutoMLConfig(compute_target=compute_target,\n",
    "                             path = project_folder,\n",
    "                             task = \"classification\",\n",
    "                             training_data=dataset,\n",
    "                             label_column_name=\"y\",   \n",
    "                             featurization= 'auto',\n",
    "                             debug_log = \"automl_errors.log\",\n",
    "                             **automl_settings\n",
    "                            )\n"
   ]
  },
  {
   "cell_type": "code",
   "execution_count": 13,
   "metadata": {
    "gather": {
     "logged": 1598431107951
    },
    "jupyter": {
     "outputs_hidden": false,
     "source_hidden": false
    },
    "nteract": {
     "transient": {
      "deleting": false
     }
    }
   },
   "outputs": [
    {
     "name": "stdout",
     "output_type": "stream",
     "text": [
      "Submitting remote run.\n"
     ]
    },
    {
     "data": {
      "text/html": [
       "<table style=\"width:100%\"><tr><th>Experiment</th><th>Id</th><th>Type</th><th>Status</th><th>Details Page</th><th>Docs Page</th></tr><tr><td>classification-automl</td><td>AutoML_ef44b052-3c3b-41df-bbd1-7380ee53b8c6</td><td>automl</td><td>NotStarted</td><td><a href=\"https://ml.azure.com/runs/AutoML_ef44b052-3c3b-41df-bbd1-7380ee53b8c6?wsid=/subscriptions/b968fb36-f06a-4c76-a15f-afab68ae7667/resourcegroups/aml-quickstarts-162664/workspaces/quick-starts-ws-162664&amp;tid=660b3398-b80e-49d2-bc5b-ac1dc93b5254\" target=\"_blank\" rel=\"noopener\">Link to Azure Machine Learning studio</a></td><td><a href=\"https://docs.microsoft.com/en-us/python/api/overview/azure/ml/intro?view=azure-ml-py\" target=\"_blank\" rel=\"noopener\">Link to Documentation</a></td></tr></table>"
      ],
      "text/plain": [
       "<IPython.core.display.HTML object>"
      ]
     },
     "metadata": {},
     "output_type": "display_data"
    }
   ],
   "source": [
    "# TODO: Submit your experiment\n",
    "automl_run = experiment.submit(automl_config)"
   ]
  },
  {
   "cell_type": "markdown",
   "metadata": {},
   "source": [
    "## Run Details\n",
    "\n",
    "OPTIONAL: Write about the different models trained and their performance. Why do you think some models did better than others?\n",
    "\n",
    "TODO: In the cell below, use the `RunDetails` widget to show the different experiments."
   ]
  },
  {
   "cell_type": "code",
   "execution_count": 14,
   "metadata": {
    "gather": {
     "logged": 1598431121770
    },
    "jupyter": {
     "outputs_hidden": false,
     "source_hidden": false
    },
    "nteract": {
     "transient": {
      "deleting": false
     }
    },
    "scrolled": false
   },
   "outputs": [
    {
     "data": {
      "application/vnd.jupyter.widget-view+json": {
       "model_id": "24831b5ad3bc49d392eaffa1a7122742",
       "version_major": 2,
       "version_minor": 0
      },
      "text/plain": [
       "_AutoMLWidget(widget_settings={'childWidgetDisplay': 'popup', 'send_telemetry': False, 'log_level': 'INFO', 's…"
      ]
     },
     "metadata": {},
     "output_type": "display_data"
    },
    {
     "data": {
      "application/aml.mini.widget.v1": "{\"status\": \"Completed\", \"workbench_run_details_uri\": \"https://ml.azure.com/runs/AutoML_ef44b052-3c3b-41df-bbd1-7380ee53b8c6?wsid=/subscriptions/b968fb36-f06a-4c76-a15f-afab68ae7667/resourcegroups/aml-quickstarts-162664/workspaces/quick-starts-ws-162664&tid=660b3398-b80e-49d2-bc5b-ac1dc93b5254\", \"run_id\": \"AutoML_ef44b052-3c3b-41df-bbd1-7380ee53b8c6\", \"run_properties\": {\"run_id\": \"AutoML_ef44b052-3c3b-41df-bbd1-7380ee53b8c6\", \"created_utc\": \"2021-11-03T13:38:21.956413Z\", \"properties\": {\"num_iterations\": \"1000\", \"training_type\": \"TrainFull\", \"acquisition_function\": \"EI\", \"primary_metric\": \"AUC_weighted\", \"train_split\": \"0\", \"acquisition_parameter\": \"0\", \"num_cross_validation\": \"3\", \"target\": \"aml-compute\", \"AMLSettingsJsonString\": \"{\\\"path\\\":null,\\\"name\\\":\\\"classification-automl\\\",\\\"subscription_id\\\":\\\"b968fb36-f06a-4c76-a15f-afab68ae7667\\\",\\\"resource_group\\\":\\\"aml-quickstarts-162664\\\",\\\"workspace_name\\\":\\\"quick-starts-ws-162664\\\",\\\"region\\\":\\\"southcentralus\\\",\\\"compute_target\\\":\\\"aml-compute\\\",\\\"spark_service\\\":null,\\\"azure_service\\\":\\\"remote\\\",\\\"many_models\\\":false,\\\"pipeline_fetch_max_batch_size\\\":1,\\\"enable_batch_run\\\":false,\\\"enable_run_restructure\\\":false,\\\"start_auxiliary_runs_before_parent_complete\\\":false,\\\"enable_code_generation\\\":false,\\\"iterations\\\":1000,\\\"primary_metric\\\":\\\"AUC_weighted\\\",\\\"task_type\\\":\\\"classification\\\",\\\"data_script\\\":null,\\\"test_size\\\":0.0,\\\"test_include_predictions_only\\\":false,\\\"validation_size\\\":0.0,\\\"n_cross_validations\\\":3,\\\"y_min\\\":null,\\\"y_max\\\":null,\\\"num_classes\\\":null,\\\"featurization\\\":\\\"auto\\\",\\\"_ignore_package_version_incompatibilities\\\":false,\\\"is_timeseries\\\":false,\\\"max_cores_per_iteration\\\":1,\\\"max_concurrent_iterations\\\":4,\\\"iteration_timeout_minutes\\\":null,\\\"mem_in_mb\\\":null,\\\"enforce_time_on_windows\\\":false,\\\"experiment_timeout_minutes\\\":20,\\\"experiment_exit_score\\\":null,\\\"whitelist_models\\\":null,\\\"blacklist_algos\\\":[\\\"TensorFlowLinearClassifier\\\",\\\"TensorFlowDNN\\\"],\\\"supported_models\\\":[\\\"LinearSVM\\\",\\\"ExtremeRandomTrees\\\",\\\"TensorFlowDNN\\\",\\\"TensorFlowLinearClassifier\\\",\\\"DecisionTree\\\",\\\"BernoulliNaiveBayes\\\",\\\"GradientBoosting\\\",\\\"AveragedPerceptronClassifier\\\",\\\"KNN\\\",\\\"SGD\\\",\\\"LogisticRegression\\\",\\\"XGBoostClassifier\\\",\\\"RandomForest\\\",\\\"SVM\\\",\\\"LightGBM\\\",\\\"MultinomialNaiveBayes\\\"],\\\"private_models\\\":[],\\\"auto_blacklist\\\":true,\\\"blacklist_samples_reached\\\":false,\\\"exclude_nan_labels\\\":true,\\\"verbosity\\\":20,\\\"_debug_log\\\":\\\"azureml_automl.log\\\",\\\"show_warnings\\\":false,\\\"model_explainability\\\":true,\\\"service_url\\\":null,\\\"sdk_url\\\":null,\\\"sdk_packages\\\":null,\\\"enable_onnx_compatible_models\\\":false,\\\"enable_split_onnx_featurizer_estimator_models\\\":false,\\\"vm_type\\\":\\\"STANDARD_D16_V3\\\",\\\"telemetry_verbosity\\\":20,\\\"send_telemetry\\\":true,\\\"enable_dnn\\\":false,\\\"scenario\\\":\\\"SDK-1.13.0\\\",\\\"environment_label\\\":null,\\\"save_mlflow\\\":false,\\\"force_text_dnn\\\":false,\\\"enable_feature_sweeping\\\":true,\\\"enable_early_stopping\\\":true,\\\"early_stopping_n_iters\\\":10,\\\"metrics\\\":null,\\\"enable_metric_confidence\\\":false,\\\"enable_ensembling\\\":true,\\\"enable_stack_ensembling\\\":true,\\\"ensemble_iterations\\\":15,\\\"enable_tf\\\":false,\\\"enable_subsampling\\\":null,\\\"subsample_seed\\\":null,\\\"enable_nimbusml\\\":false,\\\"enable_streaming\\\":false,\\\"force_streaming\\\":false,\\\"track_child_runs\\\":true,\\\"allowed_private_models\\\":[],\\\"label_column_name\\\":\\\"y\\\",\\\"weight_column_name\\\":null,\\\"cv_split_column_names\\\":null,\\\"positive_label\\\":null,\\\"enable_local_managed\\\":false,\\\"_local_managed_run_id\\\":null,\\\"cost_mode\\\":1,\\\"lag_length\\\":0,\\\"metric_operation\\\":\\\"maximize\\\",\\\"preprocess\\\":true}\", \"DataPrepJsonString\": \"{\\\\\\\"training_data\\\\\\\": {\\\\\\\"datasetId\\\\\\\": \\\\\\\"ddd2bea2-5b54-4650-b261-478adcaad255\\\\\\\"}, \\\\\\\"datasets\\\\\\\": 0}\", \"EnableSubsampling\": null, \"runTemplate\": \"AutoML\", \"azureml.runsource\": \"automl\", \"display_task_type\": \"classification\", \"dependencies_versions\": \"{\\\"azureml-widgets\\\": \\\"1.34.0\\\", \\\"azureml-train\\\": \\\"1.34.0\\\", \\\"azureml-train-restclients-hyperdrive\\\": \\\"1.34.0\\\", \\\"azureml-train-core\\\": \\\"1.34.0\\\", \\\"azureml-train-automl\\\": \\\"1.34.0\\\", \\\"azureml-train-automl-runtime\\\": \\\"1.34.0\\\", \\\"azureml-train-automl-client\\\": \\\"1.34.0\\\", \\\"azureml-tensorboard\\\": \\\"1.34.0\\\", \\\"azureml-telemetry\\\": \\\"1.34.0\\\", \\\"azureml-sdk\\\": \\\"1.34.0\\\", \\\"azureml-samples\\\": \\\"0+unknown\\\", \\\"azureml-responsibleai\\\": \\\"1.34.0\\\", \\\"azureml-pipeline\\\": \\\"1.34.0\\\", \\\"azureml-pipeline-steps\\\": \\\"1.34.0\\\", \\\"azureml-pipeline-core\\\": \\\"1.34.0\\\", \\\"azureml-opendatasets\\\": \\\"1.34.0\\\", \\\"azureml-mlflow\\\": \\\"1.34.0\\\", \\\"azureml-interpret\\\": \\\"1.34.0\\\", \\\"azureml-inference-server-http\\\": \\\"0.3.1\\\", \\\"azureml-explain-model\\\": \\\"1.34.0\\\", \\\"azureml-defaults\\\": \\\"1.34.0\\\", \\\"azureml-dataset-runtime\\\": \\\"1.34.0\\\", \\\"azureml-dataprep\\\": \\\"2.22.2\\\", \\\"azureml-dataprep-rslex\\\": \\\"1.20.1\\\", \\\"azureml-dataprep-native\\\": \\\"38.0.0\\\", \\\"azureml-datadrift\\\": \\\"1.34.0\\\", \\\"azureml-core\\\": \\\"1.34.0\\\", \\\"azureml-contrib-services\\\": \\\"1.34.0\\\", \\\"azureml-contrib-server\\\": \\\"1.34.0\\\", \\\"azureml-contrib-reinforcementlearning\\\": \\\"1.34.0\\\", \\\"azureml-contrib-pipeline-steps\\\": \\\"1.34.0\\\", \\\"azureml-contrib-notebook\\\": \\\"1.34.0\\\", \\\"azureml-contrib-fairness\\\": \\\"1.34.0\\\", \\\"azureml-contrib-dataset\\\": \\\"1.34.0\\\", \\\"azureml-contrib-automl-pipeline-steps\\\": \\\"1.34.0\\\", \\\"azureml-cli-common\\\": \\\"1.34.0\\\", \\\"azureml-automl-runtime\\\": \\\"1.34.0\\\", \\\"azureml-automl-dnn-nlp\\\": \\\"1.34.0\\\", \\\"azureml-automl-core\\\": \\\"1.34.0\\\", \\\"azureml-accel-models\\\": \\\"1.34.0\\\"}\", \"_aml_system_scenario_identification\": \"Remote.Parent\", \"ClientType\": \"SDK\", \"environment_cpu_name\": \"AzureML-AutoML\", \"environment_cpu_label\": \"prod\", \"environment_gpu_name\": \"AzureML-AutoML-GPU\", \"environment_gpu_label\": \"prod\", \"root_attribution\": \"automl\", \"attribution\": \"AutoML\", \"Orchestrator\": \"AutoML\", \"CancelUri\": \"https://southcentralus.api.azureml.ms/jasmine/v1.0/subscriptions/b968fb36-f06a-4c76-a15f-afab68ae7667/resourceGroups/aml-quickstarts-162664/providers/Microsoft.MachineLearningServices/workspaces/quick-starts-ws-162664/experimentids/3de1ae57-16bc-4cce-8494-7e4b26be29e3/cancel/AutoML_ef44b052-3c3b-41df-bbd1-7380ee53b8c6\", \"ClientSdkVersion\": \"1.35.1\", \"snapshotId\": \"00000000-0000-0000-0000-000000000000\", \"SetupRunId\": \"AutoML_ef44b052-3c3b-41df-bbd1-7380ee53b8c6_setup\", \"SetupRunContainerId\": \"dcid.AutoML_ef44b052-3c3b-41df-bbd1-7380ee53b8c6_setup\", \"FeaturizationRunJsonPath\": \"featurizer_container.json\", \"FeaturizationRunId\": \"AutoML_ef44b052-3c3b-41df-bbd1-7380ee53b8c6_featurize\", \"ProblemInfoJsonString\": \"{\\\"dataset_num_categorical\\\": 0, \\\"is_sparse\\\": true, \\\"subsampling\\\": false, \\\"has_extra_col\\\": true, \\\"dataset_classes\\\": 2, \\\"dataset_features\\\": 18, \\\"dataset_samples\\\": 6497, \\\"single_frequency_class_detected\\\": false}\", \"ModelExplainRunId\": \"AutoML_ef44b052-3c3b-41df-bbd1-7380ee53b8c6_ModelExplain\"}, \"tags\": {\"model_explain_run\": \"best_run\", \"_aml_system_azureml.automlComponent\": \"AutoML\", \"pipeline_id\": \"\", \"score\": \"\", \"predicted_cost\": \"\", \"fit_time\": \"\", \"training_percent\": \"\", \"iteration\": \"\", \"run_preprocessor\": \"\", \"run_algorithm\": \"\", \"dynamic_whitelisting_iterations\": \"<25>;<30>;<35>;\", \"_aml_system_azureml.automl_early_exit_message\": \"No scores improved over last 20 iterations, so experiment stopped early. This early stopping behavior can be disabled by setting enable_early_stopping = False in AutoMLConfig for notebook/python SDK runs.\", \"automl_best_child_run_id\": \"AutoML_ef44b052-3c3b-41df-bbd1-7380ee53b8c6_36\", \"model_explain_best_run_child_id\": \"AutoML_ef44b052-3c3b-41df-bbd1-7380ee53b8c6_36\"}, \"end_time_utc\": \"2021-11-03T14:02:23.943773Z\", \"status\": \"Completed\", \"log_files\": {}, \"log_groups\": [], \"run_duration\": \"0:24:01\", \"run_number\": \"1\", \"run_queued_details\": {\"status\": \"Completed\", \"details\": null}}, \"child_runs\": [{\"run_id\": \"AutoML_ef44b052-3c3b-41df-bbd1-7380ee53b8c6_setup\", \"run_number\": 2, \"metric\": null, \"status\": \"Completed\", \"run_type\": \"azureml.scriptrun\", \"training_percent\": null, \"start_time\": \"2021-11-03T13:44:10.679927Z\", \"end_time\": \"2021-11-03T13:46:32.98286Z\", \"created_time\": \"2021-11-03T13:38:35.624215Z\", \"created_time_dt\": \"2021-11-03T13:38:35.624215Z\", \"duration\": \"0:07:57\", \"iteration\": null, \"goal\": null, \"run_name\": \"Completed\", \"run_properties\": null}, {\"run_id\": \"AutoML_ef44b052-3c3b-41df-bbd1-7380ee53b8c6_featurize\", \"run_number\": 3, \"metric\": null, \"status\": \"Completed\", \"run_type\": \"automl.featurization\", \"training_percent\": null, \"start_time\": \"2021-11-03T13:46:33.891839Z\", \"end_time\": \"2021-11-03T13:47:31.236124Z\", \"created_time\": \"2021-11-03T13:46:33.35724Z\", \"created_time_dt\": \"2021-11-03T13:46:33.35724Z\", \"duration\": \"0:00:57\", \"iteration\": null, \"goal\": null, \"run_name\": \"Completed\", \"run_properties\": null}, {\"run_id\": \"AutoML_ef44b052-3c3b-41df-bbd1-7380ee53b8c6_0\", \"run_number\": 5, \"metric\": null, \"status\": \"Completed\", \"run_type\": \"azureml.scriptrun\", \"training_percent\": \"100\", \"start_time\": \"2021-11-03T13:49:57.474917Z\", \"end_time\": \"2021-11-03T13:50:40.117008Z\", \"created_time\": \"2021-11-03T13:47:32.177929Z\", \"created_time_dt\": \"2021-11-03T13:47:32.177929Z\", \"duration\": \"0:03:07\", \"iteration\": \"0\", \"goal\": \"AUC_weighted_max\", \"run_name\": \"MaxAbsScaler, LightGBM\", \"run_properties\": \"copy=True\", \"primary_metric\": 0.99884139, \"best_metric\": 0.99884139}, {\"run_id\": \"AutoML_ef44b052-3c3b-41df-bbd1-7380ee53b8c6_3\", \"run_number\": 6, \"metric\": null, \"status\": \"Completed\", \"run_type\": \"azureml.scriptrun\", \"training_percent\": \"100\", \"start_time\": \"2021-11-03T13:49:12.118698Z\", \"end_time\": \"2021-11-03T13:49:52.479303Z\", \"created_time\": \"2021-11-03T13:47:32.232965Z\", \"created_time_dt\": \"2021-11-03T13:47:32.232965Z\", \"duration\": \"0:02:20\", \"iteration\": \"3\", \"goal\": \"AUC_weighted_max\", \"run_name\": \"MaxAbsScaler, RandomForest\", \"run_properties\": \"copy=True\", \"primary_metric\": 0.99585289, \"best_metric\": 0.99884139}, {\"run_id\": \"AutoML_ef44b052-3c3b-41df-bbd1-7380ee53b8c6_2\", \"run_number\": 7, \"metric\": null, \"status\": \"Completed\", \"run_type\": \"azureml.scriptrun\", \"training_percent\": \"100\", \"start_time\": \"2021-11-03T13:47:39.307138Z\", \"end_time\": \"2021-11-03T13:48:19.849192Z\", \"created_time\": \"2021-11-03T13:47:32.252346Z\", \"created_time_dt\": \"2021-11-03T13:47:32.252346Z\", \"duration\": \"0:00:47\", \"iteration\": \"2\", \"goal\": \"AUC_weighted_max\", \"run_name\": \"MaxAbsScaler, ExtremeRandomTrees\", \"run_properties\": \"copy=True\", \"primary_metric\": 0.99416358, \"best_metric\": 0.99884139}, {\"run_id\": \"AutoML_ef44b052-3c3b-41df-bbd1-7380ee53b8c6_1\", \"run_number\": 8, \"metric\": null, \"status\": \"Completed\", \"run_type\": \"azureml.scriptrun\", \"training_percent\": \"100\", \"start_time\": \"2021-11-03T13:48:26.147443Z\", \"end_time\": \"2021-11-03T13:49:07.341227Z\", \"created_time\": \"2021-11-03T13:47:32.272046Z\", \"created_time_dt\": \"2021-11-03T13:47:32.272046Z\", \"duration\": \"0:01:35\", \"iteration\": \"1\", \"goal\": \"AUC_weighted_max\", \"run_name\": \"MaxAbsScaler, XGBoostClassifier\", \"run_properties\": \"copy=True\", \"primary_metric\": 0.99848686, \"best_metric\": 0.99884139}, {\"run_id\": \"AutoML_ef44b052-3c3b-41df-bbd1-7380ee53b8c6_4\", \"run_number\": 9, \"metric\": null, \"status\": \"Completed\", \"run_type\": \"azureml.scriptrun\", \"training_percent\": \"100\", \"start_time\": \"2021-11-03T13:50:44.82018Z\", \"end_time\": \"2021-11-03T13:53:13.051334Z\", \"created_time\": \"2021-11-03T13:48:22.598797Z\", \"created_time_dt\": \"2021-11-03T13:48:22.598797Z\", \"duration\": \"0:04:50\", \"iteration\": \"4\", \"goal\": \"AUC_weighted_max\", \"run_name\": \"StandardScalerWrapper, LightGBM\", \"run_properties\": \"\\n    copy=True,\\n    with_mean=False,\\n    with_std=True\\n\", \"primary_metric\": 0.99564917, \"best_metric\": 0.99884139}, {\"run_id\": \"AutoML_ef44b052-3c3b-41df-bbd1-7380ee53b8c6_5\", \"run_number\": 10, \"metric\": null, \"status\": \"Completed\", \"run_type\": \"azureml.scriptrun\", \"training_percent\": \"100\", \"start_time\": \"2021-11-03T13:52:29.532906Z\", \"end_time\": \"2021-11-03T13:54:37.949039Z\", \"created_time\": \"2021-11-03T13:49:10.006387Z\", \"created_time_dt\": \"2021-11-03T13:49:10.006387Z\", \"duration\": \"0:05:27\", \"iteration\": \"5\", \"goal\": \"AUC_weighted_max\", \"run_name\": \"SparseNormalizer, XGBoostClassifier\", \"run_properties\": \"copy=True, norm='max'\", \"primary_metric\": 0.99571775, \"best_metric\": 0.99884139}, {\"run_id\": \"AutoML_ef44b052-3c3b-41df-bbd1-7380ee53b8c6_6\", \"run_number\": 11, \"metric\": null, \"status\": \"Completed\", \"run_type\": \"azureml.scriptrun\", \"training_percent\": \"100\", \"start_time\": \"2021-11-03T13:52:28.284718Z\", \"end_time\": \"2021-11-03T13:54:42.218409Z\", \"created_time\": \"2021-11-03T13:49:55.111602Z\", \"created_time_dt\": \"2021-11-03T13:49:55.111602Z\", \"duration\": \"0:04:47\", \"iteration\": \"6\", \"goal\": \"AUC_weighted_max\", \"run_name\": \"SparseNormalizer, RandomForest\", \"run_properties\": \"copy=True, norm='l2'\", \"primary_metric\": 0.99435962, \"best_metric\": 0.99884139}, {\"run_id\": \"AutoML_ef44b052-3c3b-41df-bbd1-7380ee53b8c6_7\", \"run_number\": 12, \"metric\": null, \"status\": \"Completed\", \"run_type\": \"azureml.scriptrun\", \"training_percent\": \"100\", \"start_time\": \"2021-11-03T13:52:38.235398Z\", \"end_time\": \"2021-11-03T13:53:59.226232Z\", \"created_time\": \"2021-11-03T13:50:42.946348Z\", \"created_time_dt\": \"2021-11-03T13:50:42.946348Z\", \"duration\": \"0:03:16\", \"iteration\": \"7\", \"goal\": \"AUC_weighted_max\", \"run_name\": \"StandardScalerWrapper, XGBoostClassifier\", \"run_properties\": \"\\n    copy=True,\\n    with_mean=False,\\n    with_std=False\\n\", \"primary_metric\": 0.99786168, \"best_metric\": 0.99884139}, {\"run_id\": \"AutoML_ef44b052-3c3b-41df-bbd1-7380ee53b8c6_8\", \"run_number\": 13, \"metric\": null, \"status\": \"Completed\", \"run_type\": \"azureml.scriptrun\", \"training_percent\": \"100\", \"start_time\": \"2021-11-03T13:53:21.785394Z\", \"end_time\": \"2021-11-03T13:54:02.186513Z\", \"created_time\": \"2021-11-03T13:53:15.86921Z\", \"created_time_dt\": \"2021-11-03T13:53:15.86921Z\", \"duration\": \"0:00:46\", \"iteration\": \"8\", \"goal\": \"AUC_weighted_max\", \"run_name\": \"SparseNormalizer, XGBoostClassifier\", \"run_properties\": \"copy=True, norm='max'\", \"primary_metric\": 0.99469531, \"best_metric\": 0.99884139}, {\"run_id\": \"AutoML_ef44b052-3c3b-41df-bbd1-7380ee53b8c6_9\", \"run_number\": 14, \"metric\": null, \"status\": \"Completed\", \"run_type\": \"azureml.scriptrun\", \"training_percent\": \"100\", \"start_time\": \"2021-11-03T13:54:06.991895Z\", \"end_time\": \"2021-11-03T13:54:43.800602Z\", \"created_time\": \"2021-11-03T13:54:01.820633Z\", \"created_time_dt\": \"2021-11-03T13:54:01.820633Z\", \"duration\": \"0:00:41\", \"iteration\": \"9\", \"goal\": \"AUC_weighted_max\", \"run_name\": \"MaxAbsScaler, RandomForest\", \"run_properties\": \"copy=True\", \"primary_metric\": 0.99466808, \"best_metric\": 0.99884139}, {\"run_id\": \"AutoML_ef44b052-3c3b-41df-bbd1-7380ee53b8c6_10\", \"run_number\": 15, \"metric\": null, \"status\": \"Completed\", \"run_type\": \"azureml.scriptrun\", \"training_percent\": \"100\", \"start_time\": \"2021-11-03T13:54:11.20201Z\", \"end_time\": \"2021-11-03T13:54:52.601784Z\", \"created_time\": \"2021-11-03T13:54:05.663271Z\", \"created_time_dt\": \"2021-11-03T13:54:05.663271Z\", \"duration\": \"0:00:46\", \"iteration\": \"10\", \"goal\": \"AUC_weighted_max\", \"run_name\": \"SparseNormalizer, LightGBM\", \"run_properties\": \"copy=True, norm='l1'\", \"primary_metric\": 0.99315253, \"best_metric\": 0.99884139}, {\"run_id\": \"AutoML_ef44b052-3c3b-41df-bbd1-7380ee53b8c6_11\", \"run_number\": 16, \"metric\": null, \"status\": \"Completed\", \"run_type\": \"azureml.scriptrun\", \"training_percent\": \"100\", \"start_time\": \"2021-11-03T13:54:45.601595Z\", \"end_time\": \"2021-11-03T13:55:33.938178Z\", \"created_time\": \"2021-11-03T13:54:40.314662Z\", \"created_time_dt\": \"2021-11-03T13:54:40.314662Z\", \"duration\": \"0:00:53\", \"iteration\": \"11\", \"goal\": \"AUC_weighted_max\", \"run_name\": \"MaxAbsScaler, ExtremeRandomTrees\", \"run_properties\": \"copy=True\", \"primary_metric\": 0.99601615, \"best_metric\": 0.99884139}, {\"run_id\": \"AutoML_ef44b052-3c3b-41df-bbd1-7380ee53b8c6_12\", \"run_number\": 17, \"metric\": null, \"status\": \"Completed\", \"run_type\": \"azureml.scriptrun\", \"training_percent\": \"100\", \"start_time\": \"2021-11-03T13:54:50.641616Z\", \"end_time\": \"2021-11-03T13:55:29.881499Z\", \"created_time\": \"2021-11-03T13:54:45.135106Z\", \"created_time_dt\": \"2021-11-03T13:54:45.135106Z\", \"duration\": \"0:00:44\", \"iteration\": \"12\", \"goal\": \"AUC_weighted_max\", \"run_name\": \"StandardScalerWrapper, XGBoostClassifier\", \"run_properties\": \"\\n    copy=True,\\n    with_mean=False,\\n    with_std=False\\n\", \"primary_metric\": 0.99768205, \"best_metric\": 0.99884139}, {\"run_id\": \"AutoML_ef44b052-3c3b-41df-bbd1-7380ee53b8c6_13\", \"run_number\": 18, \"metric\": null, \"status\": \"Completed\", \"run_type\": \"azureml.scriptrun\", \"training_percent\": \"100\", \"start_time\": \"2021-11-03T13:54:58.515843Z\", \"end_time\": \"2021-11-03T13:55:34.757388Z\", \"created_time\": \"2021-11-03T13:54:48.81371Z\", \"created_time_dt\": \"2021-11-03T13:54:48.81371Z\", \"duration\": \"0:00:45\", \"iteration\": \"13\", \"goal\": \"AUC_weighted_max\", \"run_name\": \"StandardScalerWrapper, ExtremeRandomTrees\", \"run_properties\": \"\\n    copy=True,\\n    with_mean=False,\\n    with_std=False\\n\", \"primary_metric\": 0.93399768, \"best_metric\": 0.99884139}, {\"run_id\": \"AutoML_ef44b052-3c3b-41df-bbd1-7380ee53b8c6_14\", \"run_number\": 19, \"metric\": null, \"status\": \"Completed\", \"run_type\": \"azureml.scriptrun\", \"training_percent\": \"100\", \"start_time\": \"2021-11-03T13:55:00.642128Z\", \"end_time\": \"2021-11-03T13:55:45.00582Z\", \"created_time\": \"2021-11-03T13:54:55.549036Z\", \"created_time_dt\": \"2021-11-03T13:54:55.549036Z\", \"duration\": \"0:00:49\", \"iteration\": \"14\", \"goal\": \"AUC_weighted_max\", \"run_name\": \"StandardScalerWrapper, RandomForest\", \"run_properties\": \"\\n    copy=True,\\n    with_mean=False,\\n    with_std=False\\n\", \"primary_metric\": 0.99917879, \"best_metric\": 0.99917879}, {\"run_id\": \"AutoML_ef44b052-3c3b-41df-bbd1-7380ee53b8c6_15\", \"run_number\": 20, \"metric\": null, \"status\": \"Completed\", \"run_type\": \"azureml.scriptrun\", \"training_percent\": \"100\", \"start_time\": \"2021-11-03T13:55:38.899633Z\", \"end_time\": \"2021-11-03T13:56:18.360741Z\", \"created_time\": \"2021-11-03T13:55:32.408509Z\", \"created_time_dt\": \"2021-11-03T13:55:32.408509Z\", \"duration\": \"0:00:45\", \"iteration\": \"15\", \"goal\": \"AUC_weighted_max\", \"run_name\": \"MaxAbsScaler, LightGBM\", \"run_properties\": \"copy=True\", \"primary_metric\": 0.99629943, \"best_metric\": 0.99917879}, {\"run_id\": \"AutoML_ef44b052-3c3b-41df-bbd1-7380ee53b8c6_16\", \"run_number\": 21, \"metric\": null, \"status\": \"Completed\", \"run_type\": \"azureml.scriptrun\", \"training_percent\": \"100\", \"start_time\": \"2021-11-03T13:55:40.996929Z\", \"end_time\": \"2021-11-03T13:56:22.599696Z\", \"created_time\": \"2021-11-03T13:55:36.32487Z\", \"created_time_dt\": \"2021-11-03T13:55:36.32487Z\", \"duration\": \"0:00:46\", \"iteration\": \"16\", \"goal\": \"AUC_weighted_max\", \"run_name\": \"MaxAbsScaler, LogisticRegression\", \"run_properties\": \"copy=True\", \"primary_metric\": 0.99511645, \"best_metric\": 0.99917879}, {\"run_id\": \"AutoML_ef44b052-3c3b-41df-bbd1-7380ee53b8c6_17\", \"run_number\": 22, \"metric\": null, \"status\": \"Completed\", \"run_type\": \"azureml.scriptrun\", \"training_percent\": \"100\", \"start_time\": \"2021-11-03T13:55:44.005223Z\", \"end_time\": \"2021-11-03T13:58:08.979846Z\", \"created_time\": \"2021-11-03T13:55:39.95599Z\", \"created_time_dt\": \"2021-11-03T13:55:39.95599Z\", \"duration\": \"0:02:29\", \"iteration\": \"17\", \"goal\": \"AUC_weighted_max\", \"run_name\": \"StandardScalerWrapper, ExtremeRandomTrees\", \"run_properties\": \"\\n    copy=True,\\n    with_mean=False,\\n    with_std=True\\n\", \"primary_metric\": 0.99667237, \"best_metric\": 0.99917879}, {\"run_id\": \"AutoML_ef44b052-3c3b-41df-bbd1-7380ee53b8c6_18\", \"run_number\": 23, \"metric\": null, \"status\": \"Completed\", \"run_type\": \"azureml.scriptrun\", \"training_percent\": \"100\", \"start_time\": \"2021-11-03T13:55:55.165253Z\", \"end_time\": \"2021-11-03T13:56:49.477618Z\", \"created_time\": \"2021-11-03T13:55:47.581834Z\", \"created_time_dt\": \"2021-11-03T13:55:47.581834Z\", \"duration\": \"0:01:01\", \"iteration\": \"18\", \"goal\": \"AUC_weighted_max\", \"run_name\": \"StandardScalerWrapper, XGBoostClassifier\", \"run_properties\": \"\\n    copy=True,\\n    with_mean=False,\\n    with_std=False\\n\", \"primary_metric\": 0.99473615, \"best_metric\": 0.99917879}, {\"run_id\": \"AutoML_ef44b052-3c3b-41df-bbd1-7380ee53b8c6_19\", \"run_number\": 24, \"metric\": null, \"status\": \"Completed\", \"run_type\": \"azureml.scriptrun\", \"training_percent\": \"100\", \"start_time\": \"2021-11-03T13:56:25.446247Z\", \"end_time\": \"2021-11-03T13:59:05.383934Z\", \"created_time\": \"2021-11-03T13:56:20.924434Z\", \"created_time_dt\": \"2021-11-03T13:56:20.924434Z\", \"duration\": \"0:02:44\", \"iteration\": \"19\", \"goal\": \"AUC_weighted_max\", \"run_name\": \"MaxAbsScaler, ExtremeRandomTrees\", \"run_properties\": \"copy=True\", \"primary_metric\": 0.98854643, \"best_metric\": 0.99917879}, {\"run_id\": \"AutoML_ef44b052-3c3b-41df-bbd1-7380ee53b8c6_20\", \"run_number\": 25, \"metric\": null, \"status\": \"Completed\", \"run_type\": \"azureml.scriptrun\", \"training_percent\": \"100\", \"start_time\": \"2021-11-03T13:56:31.814232Z\", \"end_time\": \"2021-11-03T13:57:11.445084Z\", \"created_time\": \"2021-11-03T13:56:25.106736Z\", \"created_time_dt\": \"2021-11-03T13:56:25.106736Z\", \"duration\": \"0:00:46\", \"iteration\": \"20\", \"goal\": \"AUC_weighted_max\", \"run_name\": \"MaxAbsScaler, LogisticRegression\", \"run_properties\": \"copy=True\", \"primary_metric\": 0.99518543, \"best_metric\": 0.99917879}, {\"run_id\": \"AutoML_ef44b052-3c3b-41df-bbd1-7380ee53b8c6_21\", \"run_number\": 26, \"metric\": null, \"status\": \"Completed\", \"run_type\": \"azureml.scriptrun\", \"training_percent\": \"100\", \"start_time\": \"2021-11-03T13:56:58.587378Z\", \"end_time\": \"2021-11-03T13:57:38.513948Z\", \"created_time\": \"2021-11-03T13:56:52.152496Z\", \"created_time_dt\": \"2021-11-03T13:56:52.152496Z\", \"duration\": \"0:00:46\", \"iteration\": \"21\", \"goal\": \"AUC_weighted_max\", \"run_name\": \"StandardScalerWrapper, XGBoostClassifier\", \"run_properties\": \"\\n    copy=True,\\n    with_mean=False,\\n    with_std=False\\n\", \"primary_metric\": 0.99512205, \"best_metric\": 0.99917879}, {\"run_id\": \"AutoML_ef44b052-3c3b-41df-bbd1-7380ee53b8c6_22\", \"run_number\": 27, \"metric\": null, \"status\": \"Completed\", \"run_type\": \"azureml.scriptrun\", \"training_percent\": \"100\", \"start_time\": \"2021-11-03T13:57:23.82682Z\", \"end_time\": \"2021-11-03T13:58:05.252061Z\", \"created_time\": \"2021-11-03T13:57:14.250412Z\", \"created_time_dt\": \"2021-11-03T13:57:14.250412Z\", \"duration\": \"0:00:51\", \"iteration\": \"22\", \"goal\": \"AUC_weighted_max\", \"run_name\": \"StandardScalerWrapper, XGBoostClassifier\", \"run_properties\": \"\\n    copy=True,\\n    with_mean=False,\\n    with_std=False\\n\", \"primary_metric\": 0.9986597, \"best_metric\": 0.99917879}, {\"run_id\": \"AutoML_ef44b052-3c3b-41df-bbd1-7380ee53b8c6_23\", \"run_number\": 28, \"metric\": null, \"status\": \"Completed\", \"run_type\": \"azureml.scriptrun\", \"training_percent\": \"100\", \"start_time\": \"2021-11-03T13:57:47.919515Z\", \"end_time\": \"2021-11-03T14:00:13.006847Z\", \"created_time\": \"2021-11-03T13:57:41.837568Z\", \"created_time_dt\": \"2021-11-03T13:57:41.837568Z\", \"duration\": \"0:02:31\", \"iteration\": \"23\", \"goal\": \"AUC_weighted_max\", \"run_name\": \"MaxAbsScaler, RandomForest\", \"run_properties\": \"copy=True\", \"primary_metric\": 0.99349573, \"best_metric\": 0.99917879}, {\"run_id\": \"AutoML_ef44b052-3c3b-41df-bbd1-7380ee53b8c6_24\", \"run_number\": 29, \"metric\": null, \"status\": \"Completed\", \"run_type\": \"azureml.scriptrun\", \"training_percent\": \"100\", \"start_time\": \"2021-11-03T13:58:14.122735Z\", \"end_time\": \"2021-11-03T13:58:54.14936Z\", \"created_time\": \"2021-11-03T13:58:07.848957Z\", \"created_time_dt\": \"2021-11-03T13:58:07.848957Z\", \"duration\": \"0:00:46\", \"iteration\": \"24\", \"goal\": \"AUC_weighted_max\", \"run_name\": \"SparseNormalizer, XGBoostClassifier\", \"run_properties\": \"copy=True, norm='max'\", \"primary_metric\": 0.99300367, \"best_metric\": 0.99917879}, {\"run_id\": \"AutoML_ef44b052-3c3b-41df-bbd1-7380ee53b8c6_25\", \"run_number\": 30, \"metric\": null, \"status\": \"Completed\", \"run_type\": \"azureml.scriptrun\", \"training_percent\": \"100\", \"start_time\": \"2021-11-03T13:58:19.238348Z\", \"end_time\": \"2021-11-03T13:59:01.543141Z\", \"created_time\": \"2021-11-03T13:58:11.93949Z\", \"created_time_dt\": \"2021-11-03T13:58:11.93949Z\", \"duration\": \"0:00:49\", \"iteration\": \"25\", \"goal\": \"AUC_weighted_max\", \"run_name\": \"MaxAbsScaler, RandomForest\", \"run_properties\": \"copy=True\", \"primary_metric\": 0.97889375, \"best_metric\": 0.99917879}, {\"run_id\": \"AutoML_ef44b052-3c3b-41df-bbd1-7380ee53b8c6_26\", \"run_number\": 31, \"metric\": null, \"status\": \"Completed\", \"run_type\": \"azureml.scriptrun\", \"training_percent\": \"100\", \"start_time\": \"2021-11-03T13:59:04.672488Z\", \"end_time\": \"2021-11-03T13:59:41.656793Z\", \"created_time\": \"2021-11-03T13:58:55.949584Z\", \"created_time_dt\": \"2021-11-03T13:58:55.949584Z\", \"duration\": \"0:00:45\", \"iteration\": \"26\", \"goal\": \"AUC_weighted_max\", \"run_name\": \"MaxAbsScaler, LogisticRegression\", \"run_properties\": \"copy=True\", \"primary_metric\": 0.99510028, \"best_metric\": 0.99917879}, {\"run_id\": \"AutoML_ef44b052-3c3b-41df-bbd1-7380ee53b8c6_27\", \"run_number\": 32, \"metric\": null, \"status\": \"Completed\", \"run_type\": \"azureml.scriptrun\", \"training_percent\": \"100\", \"start_time\": \"2021-11-03T13:59:17.834633Z\", \"end_time\": \"2021-11-03T13:59:57.04987Z\", \"created_time\": \"2021-11-03T13:59:03.575252Z\", \"created_time_dt\": \"2021-11-03T13:59:03.575252Z\", \"duration\": \"0:00:53\", \"iteration\": \"27\", \"goal\": \"AUC_weighted_max\", \"run_name\": \"StandardScalerWrapper, LightGBM\", \"run_properties\": \"\\n    copy=True,\\n    with_mean=False,\\n    with_std=True\\n\", \"primary_metric\": 0.99808012, \"best_metric\": 0.99917879}, {\"run_id\": \"AutoML_ef44b052-3c3b-41df-bbd1-7380ee53b8c6_28\", \"run_number\": 33, \"metric\": null, \"status\": \"Completed\", \"run_type\": \"azureml.scriptrun\", \"training_percent\": \"100\", \"start_time\": \"2021-11-03T13:59:17.715236Z\", \"end_time\": \"2021-11-03T13:59:59.632771Z\", \"created_time\": \"2021-11-03T13:59:07.145716Z\", \"created_time_dt\": \"2021-11-03T13:59:07.145716Z\", \"duration\": \"0:00:52\", \"iteration\": \"28\", \"goal\": \"AUC_weighted_max\", \"run_name\": \"MaxAbsScaler, LightGBM\", \"run_properties\": \"copy=True\", \"primary_metric\": 0.99728072, \"best_metric\": 0.99917879}, {\"run_id\": \"AutoML_ef44b052-3c3b-41df-bbd1-7380ee53b8c6_29\", \"run_number\": 34, \"metric\": null, \"status\": \"Completed\", \"run_type\": \"azureml.scriptrun\", \"training_percent\": \"100\", \"start_time\": \"2021-11-03T13:59:51.813734Z\", \"end_time\": \"2021-11-03T14:00:31.294801Z\", \"created_time\": \"2021-11-03T13:59:43.368283Z\", \"created_time_dt\": \"2021-11-03T13:59:43.368283Z\", \"duration\": \"0:00:47\", \"iteration\": \"29\", \"goal\": \"AUC_weighted_max\", \"run_name\": \"StandardScalerWrapper, XGBoostClassifier\", \"run_properties\": \"\\n    copy=True,\\n    with_mean=False,\\n    with_std=False\\n\", \"primary_metric\": 0.99874679, \"best_metric\": 0.99917879}, {\"run_id\": \"AutoML_ef44b052-3c3b-41df-bbd1-7380ee53b8c6_30\", \"run_number\": 35, \"metric\": null, \"status\": \"Completed\", \"run_type\": \"azureml.scriptrun\", \"training_percent\": \"100\", \"start_time\": \"2021-11-03T14:00:06.14699Z\", \"end_time\": \"2021-11-03T14:00:51.787286Z\", \"created_time\": \"2021-11-03T13:59:59.702268Z\", \"created_time_dt\": \"2021-11-03T13:59:59.702268Z\", \"duration\": \"0:00:52\", \"iteration\": \"30\", \"goal\": \"AUC_weighted_max\", \"run_name\": \"MaxAbsScaler, RandomForest\", \"run_properties\": \"copy=True\", \"primary_metric\": 0.5, \"best_metric\": 0.99917879}, {\"run_id\": \"AutoML_ef44b052-3c3b-41df-bbd1-7380ee53b8c6_31\", \"run_number\": 36, \"metric\": null, \"status\": \"Completed\", \"run_type\": \"azureml.scriptrun\", \"training_percent\": \"100\", \"start_time\": \"2021-11-03T14:00:09.522775Z\", \"end_time\": \"2021-11-03T14:00:51.162913Z\", \"created_time\": \"2021-11-03T14:00:02.530451Z\", \"created_time_dt\": \"2021-11-03T14:00:02.530451Z\", \"duration\": \"0:00:48\", \"iteration\": \"31\", \"goal\": \"AUC_weighted_max\", \"run_name\": \"TruncatedSVDWrapper, XGBoostClassifier\", \"run_properties\": \"n_components=0.8015789473684211, random_state=None\", \"primary_metric\": 0.99425134, \"best_metric\": 0.99917879}, {\"run_id\": \"AutoML_ef44b052-3c3b-41df-bbd1-7380ee53b8c6_32\", \"run_number\": 37, \"metric\": null, \"status\": \"Completed\", \"run_type\": \"azureml.scriptrun\", \"training_percent\": \"100\", \"start_time\": \"2021-11-03T14:00:22.208783Z\", \"end_time\": \"2021-11-03T14:01:03.826574Z\", \"created_time\": \"2021-11-03T14:00:14.737497Z\", \"created_time_dt\": \"2021-11-03T14:00:14.737497Z\", \"duration\": \"0:00:49\", \"iteration\": \"32\", \"goal\": \"AUC_weighted_max\", \"run_name\": \"TruncatedSVDWrapper, XGBoostClassifier\", \"run_properties\": \"n_components=0.45526315789473687, random_state=None\", \"primary_metric\": 0.98649092, \"best_metric\": 0.99917879}, {\"run_id\": \"AutoML_ef44b052-3c3b-41df-bbd1-7380ee53b8c6_33\", \"run_number\": 38, \"metric\": null, \"status\": \"Canceled\", \"run_type\": \"azureml.scriptrun\", \"training_percent\": \"100\", \"start_time\": \"2021-11-03T14:00:40.350043Z\", \"end_time\": \"2021-11-03T14:01:05.879917Z\", \"created_time\": \"2021-11-03T14:00:33.515714Z\", \"created_time_dt\": \"2021-11-03T14:00:33.515714Z\", \"duration\": \"0:00:32\", \"iteration\": \"33\", \"goal\": \"AUC_weighted_max\", \"run_name\": \"TruncatedSVDWrapper, XGBoostClassifier\", \"run_properties\": \"n_components=0.7026315789473684, random_state=None\", \"primary_metric\": 0.9927167, \"best_metric\": 0.99917879}, {\"run_id\": \"AutoML_ef44b052-3c3b-41df-bbd1-7380ee53b8c6_34\", \"run_number\": 39, \"metric\": null, \"status\": \"Canceled\", \"run_type\": \"azureml.scriptrun\", \"training_percent\": \"100\", \"start_time\": \"2021-11-03T14:00:59.596692Z\", \"end_time\": \"2021-11-03T14:01:05.978137Z\", \"created_time\": \"2021-11-03T14:00:52.961002Z\", \"created_time_dt\": \"2021-11-03T14:00:52.961002Z\", \"duration\": \"0:00:13\", \"iteration\": \"34\", \"goal\": null, \"run_name\": \"Canceled\", \"run_properties\": null}, {\"run_id\": \"AutoML_ef44b052-3c3b-41df-bbd1-7380ee53b8c6_35\", \"run_number\": 40, \"metric\": null, \"status\": \"Canceled\", \"run_type\": \"azureml.scriptrun\", \"training_percent\": \"100\", \"start_time\": \"2021-11-03T14:01:02.917858Z\", \"end_time\": \"2021-11-03T14:01:05.790628Z\", \"created_time\": \"2021-11-03T14:00:57.218596Z\", \"created_time_dt\": \"2021-11-03T14:00:57.218596Z\", \"duration\": \"0:00:08\", \"iteration\": \"35\", \"goal\": null, \"run_name\": \"Canceled\", \"run_properties\": null}, {\"run_id\": \"AutoML_ef44b052-3c3b-41df-bbd1-7380ee53b8c6_36\", \"run_number\": 41, \"metric\": null, \"status\": \"Completed\", \"run_type\": \"azureml.scriptrun\", \"training_percent\": \"100\", \"start_time\": \"2021-11-03T14:01:11.768592Z\", \"end_time\": \"2021-11-03T14:02:08.043838Z\", \"created_time\": \"2021-11-03T14:01:06.94718Z\", \"created_time_dt\": \"2021-11-03T14:01:06.94718Z\", \"duration\": \"0:01:01\", \"iteration\": \"36\", \"goal\": \"AUC_weighted_max\", \"run_name\": \"VotingEnsemble\", \"run_properties\": \"\\n    estimators=[('14', Pipeline(\\n        memory=None,\\n        steps=[('standardscalerwrapper', StandardScalerWrapper(\\n            copy=True,\\n            with_mean=False,\\n            with_std=False\\n        \", \"primary_metric\": 0.99923514, \"best_metric\": 0.99923514}, {\"run_id\": \"AutoML_ef44b052-3c3b-41df-bbd1-7380ee53b8c6_37\", \"run_number\": 42, \"metric\": null, \"status\": \"Completed\", \"run_type\": \"azureml.scriptrun\", \"training_percent\": \"100\", \"start_time\": \"2021-11-03T14:01:12.915785Z\", \"end_time\": \"2021-11-03T14:02:22.169176Z\", \"created_time\": \"2021-11-03T14:01:06.967971Z\", \"created_time_dt\": \"2021-11-03T14:01:06.967971Z\", \"duration\": \"0:01:15\", \"iteration\": \"37\", \"goal\": \"AUC_weighted_max\", \"run_name\": \"StackEnsemble\", \"run_properties\": \"\\n    base_learners=[('14', Pipeline(\\n        memory=None,\\n        steps=[('standardscalerwrapper', StandardScalerWrapper(\\n            copy=True,\\n            with_mean=False,\\n            with_std=False\\n        \", \"primary_metric\": 0.9991736, \"best_metric\": 0.99923514}], \"children_metrics\": {\"categories\": [0], \"series\": {\"f1_score_weighted\": [{\"categories\": [\"0\", \"1\", \"2\", \"3\", \"4\", \"5\", \"6\", \"7\", \"8\", \"9\", \"10\", \"11\", \"12\", \"13\", \"14\", \"15\", \"16\", \"17\", \"18\", \"19\", \"20\", \"21\", \"22\", \"23\", \"24\", \"25\", \"26\", \"27\", \"28\", \"29\", \"30\", \"31\", \"32\", \"33\", \"36\", \"37\"], \"mode\": \"markers\", \"name\": \"f1_score_weighted\", \"stepped\": false, \"type\": \"scatter\", \"data\": [0.994915597040256, 0.9944510235061425, 0.9771897098698252, 0.9845303438634092, 0.9827640620598507, 0.9847748124552882, 0.9731243660129341, 0.9925864007463062, 0.9829107297931426, 0.9738948524576806, 0.975051861950969, 0.9884957949584212, 0.9919668065749282, 0.6481296375251855, 0.9946006249484919, 0.9871167178161583, 0.987575257596728, 0.9877194535275565, 0.9879450781041177, 0.6481296375251855, 0.9909127206567462, 0.9876233439324261, 0.9952200528531777, 0.9666167354840608, 0.9808991275729375, 0.782227287002018, 0.9875851823229483, 0.9941423666668286, 0.9905885455593068, 0.9942967121362462, 0.6481296375251855, 0.9786732130325455, 0.9625330452788082, 0.9722355100486778, 0.9953770473445522, 0.9950653701857064]}, {\"categories\": [\"0\", \"1\", \"2\", \"3\", \"4\", \"5\", \"6\", \"7\", \"8\", \"9\", \"10\", \"11\", \"12\", \"13\", \"14\", \"15\", \"16\", \"17\", \"18\", \"19\", \"20\", \"21\", \"22\", \"23\", \"24\", \"25\", \"26\", \"27\", \"28\", \"29\", \"30\", \"31\", \"32\", \"33\", \"36\", \"37\"], \"mode\": \"lines\", \"name\": \"f1_score_weighted_max\", \"stepped\": true, \"type\": \"scatter\", \"data\": [0.994915597040256, 0.994915597040256, 0.994915597040256, 0.994915597040256, 0.994915597040256, 0.994915597040256, 0.994915597040256, 0.994915597040256, 0.994915597040256, 0.994915597040256, 0.994915597040256, 0.994915597040256, 0.994915597040256, 0.994915597040256, 0.994915597040256, 0.994915597040256, 0.994915597040256, 0.994915597040256, 0.994915597040256, 0.994915597040256, 0.994915597040256, 0.994915597040256, 0.9952200528531777, 0.9952200528531777, 0.9952200528531777, 0.9952200528531777, 0.9952200528531777, 0.9952200528531777, 0.9952200528531777, 0.9952200528531777, 0.9952200528531777, 0.9952200528531777, 0.9952200528531777, 0.9952200528531777, 0.9953770473445522, 0.9953770473445522]}], \"recall_score_micro\": [{\"categories\": [\"0\", \"1\", \"2\", \"3\", \"4\", \"5\", \"6\", \"7\", \"8\", \"9\", \"10\", \"11\", \"12\", \"13\", \"14\", \"15\", \"16\", \"17\", \"18\", \"19\", \"20\", \"21\", \"22\", \"23\", \"24\", \"25\", \"26\", \"27\", \"28\", \"29\", \"30\", \"31\", \"32\", \"33\", \"36\", \"37\"], \"mode\": \"markers\", \"name\": \"recall_score_micro\", \"stepped\": false, \"type\": \"scatter\", \"data\": [0.9949209456524907, 0.9944589808056059, 0.9773744559526932, 0.9846085880395247, 0.982915332982186, 0.9847631923697254, 0.9729114021226642, 0.9926121165723757, 0.98291575947689, 0.9736804431564305, 0.975220231202779, 0.9884568497537348, 0.9919964714671489, 0.7538860420367396, 0.9946131586411026, 0.9872247776363237, 0.9875325646477119, 0.9876872400603632, 0.987994671659498, 0.7538860420367396, 0.9909187904325863, 0.9876866003183072, 0.9952287326638789, 0.9661407276141816, 0.980915214985318, 0.7660476096038078, 0.9875327778950638, 0.9941513359591191, 0.9906114299159023, 0.9943053005472637, 0.7538860420367396, 0.9787594975039396, 0.962905623119425, 0.9724487264512726, 0.995382626169573, 0.9950746969932834]}, {\"categories\": [\"0\", \"1\", \"2\", \"3\", \"4\", \"5\", \"6\", \"7\", \"8\", \"9\", \"10\", \"11\", \"12\", \"13\", \"14\", \"15\", \"16\", \"17\", \"18\", \"19\", \"20\", \"21\", \"22\", \"23\", \"24\", \"25\", \"26\", \"27\", \"28\", \"29\", \"30\", \"31\", \"32\", \"33\", \"36\", \"37\"], \"mode\": \"lines\", \"name\": \"recall_score_micro_max\", \"stepped\": true, \"type\": \"scatter\", \"data\": [0.9949209456524907, 0.9949209456524907, 0.9949209456524907, 0.9949209456524907, 0.9949209456524907, 0.9949209456524907, 0.9949209456524907, 0.9949209456524907, 0.9949209456524907, 0.9949209456524907, 0.9949209456524907, 0.9949209456524907, 0.9949209456524907, 0.9949209456524907, 0.9949209456524907, 0.9949209456524907, 0.9949209456524907, 0.9949209456524907, 0.9949209456524907, 0.9949209456524907, 0.9949209456524907, 0.9949209456524907, 0.9952287326638789, 0.9952287326638789, 0.9952287326638789, 0.9952287326638789, 0.9952287326638789, 0.9952287326638789, 0.9952287326638789, 0.9952287326638789, 0.9952287326638789, 0.9952287326638789, 0.9952287326638789, 0.9952287326638789, 0.995382626169573, 0.995382626169573]}], \"recall_score_macro\": [{\"categories\": [\"0\", \"1\", \"2\", \"3\", \"4\", \"5\", \"6\", \"7\", \"8\", \"9\", \"10\", \"11\", \"12\", \"13\", \"14\", \"15\", \"16\", \"17\", \"18\", \"19\", \"20\", \"21\", \"22\", \"23\", \"24\", \"25\", \"26\", \"27\", \"28\", \"29\", \"30\", \"31\", \"32\", \"33\", \"36\", \"37\"], \"mode\": \"markers\", \"name\": \"recall_score_macro\", \"stepped\": false, \"type\": \"scatter\", \"data\": [0.9919986299307224, 0.9910455976429273, 0.9617114947940649, 0.9741200651379515, 0.9684281186149107, 0.9795221316036239, 0.9714778634387127, 0.986610958984596, 0.9759734429432302, 0.972983760466053, 0.9602115033320587, 0.9874291063854419, 0.9855785395948374, 0.5, 0.9904516872195153, 0.9746478956709014, 0.9866605581005468, 0.9860223779066857, 0.9796691247384269, 0.5, 0.9870241493610505, 0.9784122978492237, 0.9917506362409751, 0.9671689543651586, 0.9726899648594837, 0.8365596660343096, 0.9875085390558705, 0.99060876669866, 0.9848700612380886, 0.9907328325631409, 0.5, 0.9673950808795059, 0.9406128506481307, 0.9553809581070473, 0.9925058410524586, 0.9914604383186454]}, {\"categories\": [\"0\", \"1\", \"2\", \"3\", \"4\", \"5\", \"6\", \"7\", \"8\", \"9\", \"10\", \"11\", \"12\", \"13\", \"14\", \"15\", \"16\", \"17\", \"18\", \"19\", \"20\", \"21\", \"22\", \"23\", \"24\", \"25\", \"26\", \"27\", \"28\", \"29\", \"30\", \"31\", \"32\", \"33\", \"36\", \"37\"], \"mode\": \"lines\", \"name\": \"recall_score_macro_max\", \"stepped\": true, \"type\": \"scatter\", \"data\": [0.9919986299307224, 0.9919986299307224, 0.9919986299307224, 0.9919986299307224, 0.9919986299307224, 0.9919986299307224, 0.9919986299307224, 0.9919986299307224, 0.9919986299307224, 0.9919986299307224, 0.9919986299307224, 0.9919986299307224, 0.9919986299307224, 0.9919986299307224, 0.9919986299307224, 0.9919986299307224, 0.9919986299307224, 0.9919986299307224, 0.9919986299307224, 0.9919986299307224, 0.9919986299307224, 0.9919986299307224, 0.9919986299307224, 0.9919986299307224, 0.9919986299307224, 0.9919986299307224, 0.9919986299307224, 0.9919986299307224, 0.9919986299307224, 0.9919986299307224, 0.9919986299307224, 0.9919986299307224, 0.9919986299307224, 0.9919986299307224, 0.9925058410524586, 0.9925058410524586]}], \"AUC_weighted\": [{\"categories\": [\"0\", \"1\", \"2\", \"3\", \"4\", \"5\", \"6\", \"7\", \"8\", \"9\", \"10\", \"11\", \"12\", \"13\", \"14\", \"15\", \"16\", \"17\", \"18\", \"19\", \"20\", \"21\", \"22\", \"23\", \"24\", \"25\", \"26\", \"27\", \"28\", \"29\", \"30\", \"31\", \"32\", \"33\", \"36\", \"37\"], \"mode\": \"markers\", \"name\": \"AUC_weighted\", \"stepped\": false, \"type\": \"scatter\", \"data\": [0.9988413863768829, 0.9984868552752948, 0.9941635833346, 0.9958528912844439, 0.9956491674221954, 0.99571774507108, 0.9943596198540573, 0.9978616770739825, 0.9946953131660692, 0.9946680776518071, 0.9931525349637139, 0.9960161545136486, 0.9976820484567921, 0.9339976771994175, 0.9991787913466629, 0.9962994254369676, 0.9951164504247648, 0.9966723686896221, 0.9947361503576596, 0.9885464305439297, 0.9951854292303061, 0.995122049322282, 0.998659697173473, 0.9934957292334682, 0.9930036707964192, 0.978893746352785, 0.9951002771802728, 0.9980801245888471, 0.9972807173191433, 0.9987467884902296, 0.5, 0.9942513425429663, 0.9864909248943207, 0.992716701495099, 0.9992351406679374, 0.9991736046922304]}, {\"categories\": [\"0\", \"1\", \"2\", \"3\", \"4\", \"5\", \"6\", \"7\", \"8\", \"9\", \"10\", \"11\", \"12\", \"13\", \"14\", \"15\", \"16\", \"17\", \"18\", \"19\", \"20\", \"21\", \"22\", \"23\", \"24\", \"25\", \"26\", \"27\", \"28\", \"29\", \"30\", \"31\", \"32\", \"33\", \"36\", \"37\"], \"mode\": \"lines\", \"name\": \"AUC_weighted_max\", \"stepped\": true, \"type\": \"scatter\", \"data\": [0.9988413863768829, 0.9988413863768829, 0.9988413863768829, 0.9988413863768829, 0.9988413863768829, 0.9988413863768829, 0.9988413863768829, 0.9988413863768829, 0.9988413863768829, 0.9988413863768829, 0.9988413863768829, 0.9988413863768829, 0.9988413863768829, 0.9988413863768829, 0.9991787913466629, 0.9991787913466629, 0.9991787913466629, 0.9991787913466629, 0.9991787913466629, 0.9991787913466629, 0.9991787913466629, 0.9991787913466629, 0.9991787913466629, 0.9991787913466629, 0.9991787913466629, 0.9991787913466629, 0.9991787913466629, 0.9991787913466629, 0.9991787913466629, 0.9991787913466629, 0.9991787913466629, 0.9991787913466629, 0.9991787913466629, 0.9991787913466629, 0.9992351406679374, 0.9992351406679374]}], \"f1_score_micro\": [{\"categories\": [\"0\", \"1\", \"2\", \"3\", \"4\", \"5\", \"6\", \"7\", \"8\", \"9\", \"10\", \"11\", \"12\", \"13\", \"14\", \"15\", \"16\", \"17\", \"18\", \"19\", \"20\", \"21\", \"22\", \"23\", \"24\", \"25\", \"26\", \"27\", \"28\", \"29\", \"30\", \"31\", \"32\", \"33\", \"36\", \"37\"], \"mode\": \"markers\", \"name\": \"f1_score_micro\", \"stepped\": false, \"type\": \"scatter\", \"data\": [0.9949209456524907, 0.9944589808056059, 0.9773744559526932, 0.9846085880395247, 0.982915332982186, 0.9847631923697254, 0.9729114021226642, 0.9926121165723757, 0.98291575947689, 0.9736804431564305, 0.975220231202779, 0.9884568497537348, 0.9919964714671489, 0.7538860420367396, 0.9946131586411026, 0.9872247776363237, 0.9875325646477119, 0.9876872400603632, 0.987994671659498, 0.7538860420367396, 0.9909187904325863, 0.9876866003183072, 0.9952287326638789, 0.9661407276141816, 0.980915214985318, 0.7660476096038078, 0.9875327778950638, 0.9941513359591191, 0.9906114299159023, 0.9943053005472637, 0.7538860420367396, 0.9787594975039396, 0.962905623119425, 0.9724487264512726, 0.995382626169573, 0.9950746969932834]}, {\"categories\": [\"0\", \"1\", \"2\", \"3\", \"4\", \"5\", \"6\", \"7\", \"8\", \"9\", \"10\", \"11\", \"12\", \"13\", \"14\", \"15\", \"16\", \"17\", \"18\", \"19\", \"20\", \"21\", \"22\", \"23\", \"24\", \"25\", \"26\", \"27\", \"28\", \"29\", \"30\", \"31\", \"32\", \"33\", \"36\", \"37\"], \"mode\": \"lines\", \"name\": \"f1_score_micro_max\", \"stepped\": true, \"type\": \"scatter\", \"data\": [0.9949209456524907, 0.9949209456524907, 0.9949209456524907, 0.9949209456524907, 0.9949209456524907, 0.9949209456524907, 0.9949209456524907, 0.9949209456524907, 0.9949209456524907, 0.9949209456524907, 0.9949209456524907, 0.9949209456524907, 0.9949209456524907, 0.9949209456524907, 0.9949209456524907, 0.9949209456524907, 0.9949209456524907, 0.9949209456524907, 0.9949209456524907, 0.9949209456524907, 0.9949209456524907, 0.9949209456524907, 0.9952287326638789, 0.9952287326638789, 0.9952287326638789, 0.9952287326638789, 0.9952287326638789, 0.9952287326638789, 0.9952287326638789, 0.9952287326638789, 0.9952287326638789, 0.9952287326638789, 0.9952287326638789, 0.9952287326638789, 0.995382626169573, 0.995382626169573]}], \"average_precision_score_micro\": [{\"categories\": [\"0\", \"1\", \"2\", \"3\", \"4\", \"5\", \"6\", \"7\", \"8\", \"9\", \"10\", \"11\", \"12\", \"13\", \"14\", \"15\", \"16\", \"17\", \"18\", \"19\", \"20\", \"21\", \"22\", \"23\", \"24\", \"25\", \"26\", \"27\", \"28\", \"29\", \"30\", \"31\", \"32\", \"33\", \"36\", \"37\"], \"mode\": \"markers\", \"name\": \"average_precision_score_micro\", \"stepped\": false, \"type\": \"scatter\", \"data\": [0.999163654952362, 0.9991061357874612, 0.9954965410014008, 0.9969142754775393, 0.9962365621039208, 0.99665665836517, 0.9953400459457181, 0.9986767317748249, 0.9958994117476611, 0.9959379202043998, 0.9946314634545971, 0.9976360408268407, 0.9985529361264485, 0.9164141562887768, 0.9994092524413757, 0.9966584932063979, 0.995945364625675, 0.9980765225691609, 0.9961553620609228, 0.9404214644793009, 0.9960578556835484, 0.996422001966205, 0.9990889199172767, 0.9943340822768624, 0.9945374445802732, 0.9388769251761643, 0.9959230623960017, 0.9988754280943039, 0.9979829053063103, 0.9991900130309553, 0.6914892822879314, 0.9959353099820584, 0.9900744850024058, 0.9949424246147807, 0.9995022538799773, 0.9992651246629797]}, {\"categories\": [\"0\", \"1\", \"2\", \"3\", \"4\", \"5\", \"6\", \"7\", \"8\", \"9\", \"10\", \"11\", \"12\", \"13\", \"14\", \"15\", \"16\", \"17\", \"18\", \"19\", \"20\", \"21\", \"22\", \"23\", \"24\", \"25\", \"26\", \"27\", \"28\", \"29\", \"30\", \"31\", \"32\", \"33\", \"36\", \"37\"], \"mode\": \"lines\", \"name\": \"average_precision_score_micro_max\", \"stepped\": true, \"type\": \"scatter\", \"data\": [0.999163654952362, 0.999163654952362, 0.999163654952362, 0.999163654952362, 0.999163654952362, 0.999163654952362, 0.999163654952362, 0.999163654952362, 0.999163654952362, 0.999163654952362, 0.999163654952362, 0.999163654952362, 0.999163654952362, 0.999163654952362, 0.9994092524413757, 0.9994092524413757, 0.9994092524413757, 0.9994092524413757, 0.9994092524413757, 0.9994092524413757, 0.9994092524413757, 0.9994092524413757, 0.9994092524413757, 0.9994092524413757, 0.9994092524413757, 0.9994092524413757, 0.9994092524413757, 0.9994092524413757, 0.9994092524413757, 0.9994092524413757, 0.9994092524413757, 0.9994092524413757, 0.9994092524413757, 0.9994092524413757, 0.9995022538799773, 0.9995022538799773]}], \"log_loss\": [{\"categories\": [\"0\", \"1\", \"2\", \"3\", \"4\", \"5\", \"6\", \"7\", \"8\", \"9\", \"10\", \"11\", \"12\", \"13\", \"14\", \"15\", \"16\", \"17\", \"18\", \"19\", \"20\", \"21\", \"22\", \"23\", \"24\", \"25\", \"26\", \"27\", \"28\", \"29\", \"30\", \"31\", \"32\", \"33\", \"36\", \"37\"], \"mode\": \"markers\", \"name\": \"log_loss\", \"stepped\": false, \"type\": \"scatter\", \"data\": [0.023473957004933394, 0.022588862287946963, 0.15230606297456903, 0.09964212844293718, 0.10713804704309439, 0.22778449387971675, 0.09449508822462475, 0.2304616268272036, 0.2316476152838328, 0.1864307237164368, 0.10647131500527174, 0.25187716758363266, 0.07058360947689495, 0.5040680118777284, 0.032593890384682446, 0.1439758191957924, 0.051347929221575155, 0.11503050900205776, 0.22796477944989083, 0.4845073737336552, 0.04414517534258324, 0.22666252490171304, 0.023060265799842664, 0.17362340577775062, 0.23310456130219767, 0.3704674214512535, 0.05314131241823348, 0.027936185609190697, 0.04215501116098353, 0.02085951996866382, 0.5583148429419316, 0.07289741895632436, 0.2749507483489441, 0.1195069111947536, 0.04255192473615075, 0.025503224561635642]}, {\"categories\": [\"0\", \"1\", \"2\", \"3\", \"4\", \"5\", \"6\", \"7\", \"8\", \"9\", \"10\", \"11\", \"12\", \"13\", \"14\", \"15\", \"16\", \"17\", \"18\", \"19\", \"20\", \"21\", \"22\", \"23\", \"24\", \"25\", \"26\", \"27\", \"28\", \"29\", \"30\", \"31\", \"32\", \"33\", \"36\", \"37\"], \"mode\": \"lines\", \"name\": \"log_loss_min\", \"stepped\": true, \"type\": \"scatter\", \"data\": [0.023473957004933394, 0.022588862287946963, 0.022588862287946963, 0.022588862287946963, 0.022588862287946963, 0.022588862287946963, 0.022588862287946963, 0.022588862287946963, 0.022588862287946963, 0.022588862287946963, 0.022588862287946963, 0.022588862287946963, 0.022588862287946963, 0.022588862287946963, 0.022588862287946963, 0.022588862287946963, 0.022588862287946963, 0.022588862287946963, 0.022588862287946963, 0.022588862287946963, 0.022588862287946963, 0.022588862287946963, 0.022588862287946963, 0.022588862287946963, 0.022588862287946963, 0.022588862287946963, 0.022588862287946963, 0.022588862287946963, 0.022588862287946963, 0.02085951996866382, 0.02085951996866382, 0.02085951996866382, 0.02085951996866382, 0.02085951996866382, 0.02085951996866382, 0.02085951996866382]}], \"AUC_micro\": [{\"categories\": [\"0\", \"1\", \"2\", \"3\", \"4\", \"5\", \"6\", \"7\", \"8\", \"9\", \"10\", \"11\", \"12\", \"13\", \"14\", \"15\", \"16\", \"17\", \"18\", \"19\", \"20\", \"21\", \"22\", \"23\", \"24\", \"25\", \"26\", \"27\", \"28\", \"29\", \"30\", \"31\", \"32\", \"33\", \"36\", \"37\"], \"mode\": \"markers\", \"name\": \"AUC_micro\", \"stepped\": false, \"type\": \"scatter\", \"data\": [0.9993004059207276, 0.9991667645968324, 0.9957558356143501, 0.9973560203296622, 0.9969748010357855, 0.9973137896520067, 0.9952688121575436, 0.9987730372193516, 0.9967003743301297, 0.9960219520075936, 0.9950699986413659, 0.997801432893353, 0.9987087426352893, 0.9146691053253293, 0.9994610199601928, 0.9969262794867287, 0.9971087805388823, 0.9981107540614583, 0.9970490381043281, 0.9350790032736424, 0.9974083441419554, 0.9972574046860271, 0.9992480837168648, 0.9946714972011744, 0.995765139046, 0.9340880246201425, 0.9971054223481737, 0.9989062198143852, 0.998157963777271, 0.9993070570789385, 0.7538860420367396, 0.9963690400358409, 0.9908047450702124, 0.9953623871505913, 0.9995480002375398, 0.9993117657707113]}, {\"categories\": [\"0\", \"1\", \"2\", \"3\", \"4\", \"5\", \"6\", \"7\", \"8\", \"9\", \"10\", \"11\", \"12\", \"13\", \"14\", \"15\", \"16\", \"17\", \"18\", \"19\", \"20\", \"21\", \"22\", \"23\", \"24\", \"25\", \"26\", \"27\", \"28\", \"29\", \"30\", \"31\", \"32\", \"33\", \"36\", \"37\"], \"mode\": \"lines\", \"name\": \"AUC_micro_max\", \"stepped\": true, \"type\": \"scatter\", \"data\": [0.9993004059207276, 0.9993004059207276, 0.9993004059207276, 0.9993004059207276, 0.9993004059207276, 0.9993004059207276, 0.9993004059207276, 0.9993004059207276, 0.9993004059207276, 0.9993004059207276, 0.9993004059207276, 0.9993004059207276, 0.9993004059207276, 0.9993004059207276, 0.9994610199601928, 0.9994610199601928, 0.9994610199601928, 0.9994610199601928, 0.9994610199601928, 0.9994610199601928, 0.9994610199601928, 0.9994610199601928, 0.9994610199601928, 0.9994610199601928, 0.9994610199601928, 0.9994610199601928, 0.9994610199601928, 0.9994610199601928, 0.9994610199601928, 0.9994610199601928, 0.9994610199601928, 0.9994610199601928, 0.9994610199601928, 0.9994610199601928, 0.9995480002375398, 0.9995480002375398]}], \"weighted_accuracy\": [{\"categories\": [\"0\", \"1\", \"2\", \"3\", \"4\", \"5\", \"6\", \"7\", \"8\", \"9\", \"10\", \"11\", \"12\", \"13\", \"14\", \"15\", \"16\", \"17\", \"18\", \"19\", \"20\", \"21\", \"22\", \"23\", \"24\", \"25\", \"26\", \"27\", \"28\", \"29\", \"30\", \"31\", \"32\", \"33\", \"36\", \"37\"], \"mode\": \"markers\", \"name\": \"weighted_accuracy\", \"stepped\": false, \"type\": \"scatter\", \"data\": [0.9966413622326487, 0.9964613182317289, 0.9866329369791668, 0.9907523593094814, 0.9914443025997436, 0.9878443925964913, 0.9737483629167419, 0.9961256802413191, 0.9869987147215977, 0.9740613376772643, 0.9841456498907005, 0.9890272038326481, 0.9957575536808273, 0.9034420245704599, 0.9970386005511899, 0.9946238579798904, 0.9880376597757964, 0.9886236868604087, 0.9929248137053364, 0.9034420245704599, 0.9932137741589356, 0.9931733544168885, 0.9972679610757268, 0.965612056015368, 0.9857344601604056, 0.7244825742731565, 0.9875382626867566, 0.9962252218762181, 0.9939754451160433, 0.9964057909355919, 0.9034420245704599, 0.9854563243850282, 0.9760998359772008, 0.9824981234727241, 0.9970749998356073, 0.9972018282388696]}, {\"categories\": [\"0\", \"1\", \"2\", \"3\", \"4\", \"5\", \"6\", \"7\", \"8\", \"9\", \"10\", \"11\", \"12\", \"13\", \"14\", \"15\", \"16\", \"17\", \"18\", \"19\", \"20\", \"21\", \"22\", \"23\", \"24\", \"25\", \"26\", \"27\", \"28\", \"29\", \"30\", \"31\", \"32\", \"33\", \"36\", \"37\"], \"mode\": \"lines\", \"name\": \"weighted_accuracy_max\", \"stepped\": true, \"type\": \"scatter\", \"data\": [0.9966413622326487, 0.9966413622326487, 0.9966413622326487, 0.9966413622326487, 0.9966413622326487, 0.9966413622326487, 0.9966413622326487, 0.9966413622326487, 0.9966413622326487, 0.9966413622326487, 0.9966413622326487, 0.9966413622326487, 0.9966413622326487, 0.9966413622326487, 0.9970386005511899, 0.9970386005511899, 0.9970386005511899, 0.9970386005511899, 0.9970386005511899, 0.9970386005511899, 0.9970386005511899, 0.9970386005511899, 0.9972679610757268, 0.9972679610757268, 0.9972679610757268, 0.9972679610757268, 0.9972679610757268, 0.9972679610757268, 0.9972679610757268, 0.9972679610757268, 0.9972679610757268, 0.9972679610757268, 0.9972679610757268, 0.9972679610757268, 0.9972679610757268, 0.9972679610757268]}], \"accuracy\": [{\"categories\": [\"0\", \"1\", \"2\", \"3\", \"4\", \"5\", \"6\", \"7\", \"8\", \"9\", \"10\", \"11\", \"12\", \"13\", \"14\", \"15\", \"16\", \"17\", \"18\", \"19\", \"20\", \"21\", \"22\", \"23\", \"24\", \"25\", \"26\", \"27\", \"28\", \"29\", \"30\", \"31\", \"32\", \"33\", \"36\", \"37\"], \"mode\": \"markers\", \"name\": \"accuracy\", \"stepped\": false, \"type\": \"scatter\", \"data\": [0.9949209456524907, 0.9944589808056059, 0.9773744559526932, 0.9846085880395247, 0.982915332982186, 0.9847631923697254, 0.9729114021226642, 0.9926121165723757, 0.98291575947689, 0.9736804431564305, 0.975220231202779, 0.9884568497537348, 0.9919964714671489, 0.7538860420367396, 0.9946131586411026, 0.9872247776363237, 0.9875325646477119, 0.9876872400603632, 0.987994671659498, 0.7538860420367396, 0.9909187904325863, 0.9876866003183072, 0.9952287326638789, 0.9661407276141816, 0.980915214985318, 0.7660476096038078, 0.9875327778950638, 0.9941513359591191, 0.9906114299159023, 0.9943053005472637, 0.7538860420367396, 0.9787594975039396, 0.962905623119425, 0.9724487264512726, 0.995382626169573, 0.9950746969932834]}, {\"categories\": [\"0\", \"1\", \"2\", \"3\", \"4\", \"5\", \"6\", \"7\", \"8\", \"9\", \"10\", \"11\", \"12\", \"13\", \"14\", \"15\", \"16\", \"17\", \"18\", \"19\", \"20\", \"21\", \"22\", \"23\", \"24\", \"25\", \"26\", \"27\", \"28\", \"29\", \"30\", \"31\", \"32\", \"33\", \"36\", \"37\"], \"mode\": \"lines\", \"name\": \"accuracy_max\", \"stepped\": true, \"type\": \"scatter\", \"data\": [0.9949209456524907, 0.9949209456524907, 0.9949209456524907, 0.9949209456524907, 0.9949209456524907, 0.9949209456524907, 0.9949209456524907, 0.9949209456524907, 0.9949209456524907, 0.9949209456524907, 0.9949209456524907, 0.9949209456524907, 0.9949209456524907, 0.9949209456524907, 0.9949209456524907, 0.9949209456524907, 0.9949209456524907, 0.9949209456524907, 0.9949209456524907, 0.9949209456524907, 0.9949209456524907, 0.9949209456524907, 0.9952287326638789, 0.9952287326638789, 0.9952287326638789, 0.9952287326638789, 0.9952287326638789, 0.9952287326638789, 0.9952287326638789, 0.9952287326638789, 0.9952287326638789, 0.9952287326638789, 0.9952287326638789, 0.9952287326638789, 0.995382626169573, 0.995382626169573]}], \"matthews_correlation\": [{\"categories\": [\"0\", \"1\", \"2\", \"3\", \"4\", \"5\", \"6\", \"7\", \"8\", \"9\", \"10\", \"11\", \"12\", \"13\", \"14\", \"15\", \"16\", \"17\", \"18\", \"19\", \"20\", \"21\", \"22\", \"23\", \"24\", \"25\", \"26\", \"27\", \"28\", \"29\", \"30\", \"31\", \"32\", \"33\", \"36\", \"37\"], \"mode\": \"markers\", \"name\": \"matthews_correlation\", \"stepped\": false, \"type\": \"scatter\", \"data\": [0.9863057794830973, 0.9850798637474476, 0.9385821868914883, 0.9583258947246032, 0.9536641484360956, 0.9587878709001613, 0.9285110046670718, 0.9799860040329027, 0.9538239495966963, 0.9306428270537855, 0.9328097905247903, 0.9692636648353555, 0.9783251645360561, 0.0, 0.9853847781765411, 0.9654803077213883, 0.9667223277451882, 0.966953427901854, 0.9674743231725218, 0.0, 0.9754576916003893, 0.9666655712900708, 0.9870817503977537, 0.9125532084096593, 0.9482218674837465, 0.581054396068911, 0.9668497639634289, 0.9841774120449625, 0.9745422850028499, 0.9845949330461661, 0.0, 0.9424426868658631, 0.8988480042906729, 0.9249642232801708, 0.9875170637153295, 0.9866879606030267]}, {\"categories\": [\"0\", \"1\", \"2\", \"3\", \"4\", \"5\", \"6\", \"7\", \"8\", \"9\", \"10\", \"11\", \"12\", \"13\", \"14\", \"15\", \"16\", \"17\", \"18\", \"19\", \"20\", \"21\", \"22\", \"23\", \"24\", \"25\", \"26\", \"27\", \"28\", \"29\", \"30\", \"31\", \"32\", \"33\", \"36\", \"37\"], \"mode\": \"lines\", \"name\": \"matthews_correlation_max\", \"stepped\": true, \"type\": \"scatter\", \"data\": [0.9863057794830973, 0.9863057794830973, 0.9863057794830973, 0.9863057794830973, 0.9863057794830973, 0.9863057794830973, 0.9863057794830973, 0.9863057794830973, 0.9863057794830973, 0.9863057794830973, 0.9863057794830973, 0.9863057794830973, 0.9863057794830973, 0.9863057794830973, 0.9863057794830973, 0.9863057794830973, 0.9863057794830973, 0.9863057794830973, 0.9863057794830973, 0.9863057794830973, 0.9863057794830973, 0.9863057794830973, 0.9870817503977537, 0.9870817503977537, 0.9870817503977537, 0.9870817503977537, 0.9870817503977537, 0.9870817503977537, 0.9870817503977537, 0.9870817503977537, 0.9870817503977537, 0.9870817503977537, 0.9870817503977537, 0.9870817503977537, 0.9875170637153295, 0.9875170637153295]}], \"precision_score_macro\": [{\"categories\": [\"0\", \"1\", \"2\", \"3\", \"4\", \"5\", \"6\", \"7\", \"8\", \"9\", \"10\", \"11\", \"12\", \"13\", \"14\", \"15\", \"16\", \"17\", \"18\", \"19\", \"20\", \"21\", \"22\", \"23\", \"24\", \"25\", \"26\", \"27\", \"28\", \"29\", \"30\", \"31\", \"32\", \"33\", \"36\", \"37\"], \"mode\": \"markers\", \"name\": \"precision_score_macro\", \"stepped\": false, \"type\": \"scatter\", \"data\": [0.9943104254991658, 0.9940396734404615, 0.9769983699775735, 0.9842675708180076, 0.9853883745675261, 0.9792725012677496, 0.9571463288070889, 0.993399738390146, 0.9778846833123415, 0.9577833947131448, 0.9727051219910879, 0.9818569691907083, 0.9927739135441115, 0.3769430210183698, 0.9949446322901435, 0.9909709854843758, 0.9800844477229819, 0.9809467016917496, 0.987844186174191, 0.3769430210183698, 0.9884359980767865, 0.9883065018314942, 0.9953377517139446, 0.9457291980515414, 0.9755489378842386, 0.7508269923217114, 0.9793758733264656, 0.993573435072778, 0.9896845697244504, 0.993867470201052, 0.3769430210183698, 0.9750794108277444, 0.9584231033389689, 0.9696941273397749, 0.9950147895633151, 0.9952351251883759]}, {\"categories\": [\"0\", \"1\", \"2\", \"3\", \"4\", \"5\", \"6\", \"7\", \"8\", \"9\", \"10\", \"11\", \"12\", \"13\", \"14\", \"15\", \"16\", \"17\", \"18\", \"19\", \"20\", \"21\", \"22\", \"23\", \"24\", \"25\", \"26\", \"27\", \"28\", \"29\", \"30\", \"31\", \"32\", \"33\", \"36\", \"37\"], \"mode\": \"lines\", \"name\": \"precision_score_macro_max\", \"stepped\": true, \"type\": \"scatter\", \"data\": [0.9943104254991658, 0.9943104254991658, 0.9943104254991658, 0.9943104254991658, 0.9943104254991658, 0.9943104254991658, 0.9943104254991658, 0.9943104254991658, 0.9943104254991658, 0.9943104254991658, 0.9943104254991658, 0.9943104254991658, 0.9943104254991658, 0.9943104254991658, 0.9949446322901435, 0.9949446322901435, 0.9949446322901435, 0.9949446322901435, 0.9949446322901435, 0.9949446322901435, 0.9949446322901435, 0.9949446322901435, 0.9953377517139446, 0.9953377517139446, 0.9953377517139446, 0.9953377517139446, 0.9953377517139446, 0.9953377517139446, 0.9953377517139446, 0.9953377517139446, 0.9953377517139446, 0.9953377517139446, 0.9953377517139446, 0.9953377517139446, 0.9953377517139446, 0.9953377517139446]}], \"precision_score_micro\": [{\"categories\": [\"0\", \"1\", \"2\", \"3\", \"4\", \"5\", \"6\", \"7\", \"8\", \"9\", \"10\", \"11\", \"12\", \"13\", \"14\", \"15\", \"16\", \"17\", \"18\", \"19\", \"20\", \"21\", \"22\", \"23\", \"24\", \"25\", \"26\", \"27\", \"28\", \"29\", \"30\", \"31\", \"32\", \"33\", \"36\", \"37\"], \"mode\": \"markers\", \"name\": \"precision_score_micro\", \"stepped\": false, \"type\": \"scatter\", \"data\": [0.9949209456524907, 0.9944589808056059, 0.9773744559526932, 0.9846085880395247, 0.982915332982186, 0.9847631923697254, 0.9729114021226642, 0.9926121165723757, 0.98291575947689, 0.9736804431564305, 0.975220231202779, 0.9884568497537348, 0.9919964714671489, 0.7538860420367396, 0.9946131586411026, 0.9872247776363237, 0.9875325646477119, 0.9876872400603632, 0.987994671659498, 0.7538860420367396, 0.9909187904325863, 0.9876866003183072, 0.9952287326638789, 0.9661407276141816, 0.980915214985318, 0.7660476096038078, 0.9875327778950638, 0.9941513359591191, 0.9906114299159023, 0.9943053005472637, 0.7538860420367396, 0.9787594975039396, 0.962905623119425, 0.9724487264512726, 0.995382626169573, 0.9950746969932834]}, {\"categories\": [\"0\", \"1\", \"2\", \"3\", \"4\", \"5\", \"6\", \"7\", \"8\", \"9\", \"10\", \"11\", \"12\", \"13\", \"14\", \"15\", \"16\", \"17\", \"18\", \"19\", \"20\", \"21\", \"22\", \"23\", \"24\", \"25\", \"26\", \"27\", \"28\", \"29\", \"30\", \"31\", \"32\", \"33\", \"36\", \"37\"], \"mode\": \"lines\", \"name\": \"precision_score_micro_max\", \"stepped\": true, \"type\": \"scatter\", \"data\": [0.9949209456524907, 0.9949209456524907, 0.9949209456524907, 0.9949209456524907, 0.9949209456524907, 0.9949209456524907, 0.9949209456524907, 0.9949209456524907, 0.9949209456524907, 0.9949209456524907, 0.9949209456524907, 0.9949209456524907, 0.9949209456524907, 0.9949209456524907, 0.9949209456524907, 0.9949209456524907, 0.9949209456524907, 0.9949209456524907, 0.9949209456524907, 0.9949209456524907, 0.9949209456524907, 0.9949209456524907, 0.9952287326638789, 0.9952287326638789, 0.9952287326638789, 0.9952287326638789, 0.9952287326638789, 0.9952287326638789, 0.9952287326638789, 0.9952287326638789, 0.9952287326638789, 0.9952287326638789, 0.9952287326638789, 0.9952287326638789, 0.995382626169573, 0.995382626169573]}], \"AUC_macro\": [{\"categories\": [\"0\", \"1\", \"2\", \"3\", \"4\", \"5\", \"6\", \"7\", \"8\", \"9\", \"10\", \"11\", \"12\", \"13\", \"14\", \"15\", \"16\", \"17\", \"18\", \"19\", \"20\", \"21\", \"22\", \"23\", \"24\", \"25\", \"26\", \"27\", \"28\", \"29\", \"30\", \"31\", \"32\", \"33\", \"36\", \"37\"], \"mode\": \"markers\", \"name\": \"AUC_macro\", \"stepped\": false, \"type\": \"scatter\", \"data\": [0.9988413863768827, 0.9984868552752948, 0.9941635833346, 0.9958528912844438, 0.9956491674221954, 0.99571774507108, 0.9943596198540573, 0.9978616770739827, 0.9946953131660692, 0.9946680776518071, 0.9931525349637139, 0.9960161545136486, 0.9976820484567921, 0.9339976771994175, 0.9991787913466629, 0.9962994254369676, 0.9951164504247646, 0.9966723686896222, 0.9947361503576596, 0.9885464305439297, 0.9951854292303061, 0.995122049322282, 0.998659697173473, 0.9934957292334682, 0.993003670796419, 0.9788937463527848, 0.9951002771802729, 0.9980801245888472, 0.9972807173191431, 0.9987467884902296, 0.5, 0.9942513425429663, 0.9864909248943207, 0.9927167014950992, 0.9992351406679375, 0.9991736046922304]}, {\"categories\": [\"0\", \"1\", \"2\", \"3\", \"4\", \"5\", \"6\", \"7\", \"8\", \"9\", \"10\", \"11\", \"12\", \"13\", \"14\", \"15\", \"16\", \"17\", \"18\", \"19\", \"20\", \"21\", \"22\", \"23\", \"24\", \"25\", \"26\", \"27\", \"28\", \"29\", \"30\", \"31\", \"32\", \"33\", \"36\", \"37\"], \"mode\": \"lines\", \"name\": \"AUC_macro_max\", \"stepped\": true, \"type\": \"scatter\", \"data\": [0.9988413863768827, 0.9988413863768827, 0.9988413863768827, 0.9988413863768827, 0.9988413863768827, 0.9988413863768827, 0.9988413863768827, 0.9988413863768827, 0.9988413863768827, 0.9988413863768827, 0.9988413863768827, 0.9988413863768827, 0.9988413863768827, 0.9988413863768827, 0.9991787913466629, 0.9991787913466629, 0.9991787913466629, 0.9991787913466629, 0.9991787913466629, 0.9991787913466629, 0.9991787913466629, 0.9991787913466629, 0.9991787913466629, 0.9991787913466629, 0.9991787913466629, 0.9991787913466629, 0.9991787913466629, 0.9991787913466629, 0.9991787913466629, 0.9991787913466629, 0.9991787913466629, 0.9991787913466629, 0.9991787913466629, 0.9991787913466629, 0.9992351406679375, 0.9992351406679375]}], \"f1_score_macro\": [{\"categories\": [\"0\", \"1\", \"2\", \"3\", \"4\", \"5\", \"6\", \"7\", \"8\", \"9\", \"10\", \"11\", \"12\", \"13\", \"14\", \"15\", \"16\", \"17\", \"18\", \"19\", \"20\", \"21\", \"22\", \"23\", \"24\", \"25\", \"26\", \"27\", \"28\", \"29\", \"30\", \"31\", \"32\", \"33\", \"36\", \"37\"], \"mode\": \"markers\", \"name\": \"f1_score_macro\", \"stepped\": false, \"type\": \"scatter\", \"data\": [0.9931465701781029, 0.9925298803176373, 0.9690446553914166, 0.9790489325074822, 0.9765454423598507, 0.9793811346212781, 0.9640210823004702, 0.9899467897776892, 0.9768461436459567, 0.9650595821429876, 0.9661927723303507, 0.9845831060924262, 0.9891114633138253, 0.429821223274147, 0.9926710335913521, 0.9824813870241386, 0.9833152647032616, 0.9834435485170244, 0.9836599710963326, 0.429821223274147, 0.9877238012488961, 0.9832286806047933, 0.9935282533286941, 0.9555387903123673, 0.9740778446030482, 0.7451104557961973, 0.9833542892625221, 0.9920797575417022, 0.987247678969092, 0.9922870629611892, 0.429821223274147, 0.9711595591130667, 0.9490547150092091, 0.9622688500548433, 0.9937516021907119, 0.9933293007280133]}, {\"categories\": [\"0\", \"1\", \"2\", \"3\", \"4\", \"5\", \"6\", \"7\", \"8\", \"9\", \"10\", \"11\", \"12\", \"13\", \"14\", \"15\", \"16\", \"17\", \"18\", \"19\", \"20\", \"21\", \"22\", \"23\", \"24\", \"25\", \"26\", \"27\", \"28\", \"29\", \"30\", \"31\", \"32\", \"33\", \"36\", \"37\"], \"mode\": \"lines\", \"name\": \"f1_score_macro_max\", \"stepped\": true, \"type\": \"scatter\", \"data\": [0.9931465701781029, 0.9931465701781029, 0.9931465701781029, 0.9931465701781029, 0.9931465701781029, 0.9931465701781029, 0.9931465701781029, 0.9931465701781029, 0.9931465701781029, 0.9931465701781029, 0.9931465701781029, 0.9931465701781029, 0.9931465701781029, 0.9931465701781029, 0.9931465701781029, 0.9931465701781029, 0.9931465701781029, 0.9931465701781029, 0.9931465701781029, 0.9931465701781029, 0.9931465701781029, 0.9931465701781029, 0.9935282533286941, 0.9935282533286941, 0.9935282533286941, 0.9935282533286941, 0.9935282533286941, 0.9935282533286941, 0.9935282533286941, 0.9935282533286941, 0.9935282533286941, 0.9935282533286941, 0.9935282533286941, 0.9935282533286941, 0.9937516021907119, 0.9937516021907119]}], \"norm_macro_recall\": [{\"categories\": [\"0\", \"1\", \"2\", \"3\", \"4\", \"5\", \"6\", \"7\", \"8\", \"9\", \"10\", \"11\", \"12\", \"13\", \"14\", \"15\", \"16\", \"17\", \"18\", \"19\", \"20\", \"21\", \"22\", \"23\", \"24\", \"25\", \"26\", \"27\", \"28\", \"29\", \"30\", \"31\", \"32\", \"33\", \"36\", \"37\"], \"mode\": \"markers\", \"name\": \"norm_macro_recall\", \"stepped\": false, \"type\": \"scatter\", \"data\": [0.9839972598614445, 0.9820911952858546, 0.92342298958813, 0.9482401302759028, 0.9368562372298216, 0.9590442632072479, 0.9429557268774252, 0.9732219179691923, 0.9519468858864603, 0.945967520932106, 0.9204230066641174, 0.9748582127708838, 0.9711570791896748, 0.0, 0.9809033744390306, 0.9492957913418026, 0.9733211162010936, 0.9720447558133717, 0.9593382494768538, 0.0, 0.9740482987221011, 0.9568245956984475, 0.9835012724819503, 0.9343379087303173, 0.9453799297189672, 0.6731193320686192, 0.9750170781117408, 0.9812175333973201, 0.9697401224761771, 0.9814656651262817, 0.0, 0.9347901617590116, 0.8812257012962612, 0.9107619162140943, 0.9850116821049171, 0.9829208766372908]}, {\"categories\": [\"0\", \"1\", \"2\", \"3\", \"4\", \"5\", \"6\", \"7\", \"8\", \"9\", \"10\", \"11\", \"12\", \"13\", \"14\", \"15\", \"16\", \"17\", \"18\", \"19\", \"20\", \"21\", \"22\", \"23\", \"24\", \"25\", \"26\", \"27\", \"28\", \"29\", \"30\", \"31\", \"32\", \"33\", \"36\", \"37\"], \"mode\": \"lines\", \"name\": \"norm_macro_recall_max\", \"stepped\": true, \"type\": \"scatter\", \"data\": [0.9839972598614445, 0.9839972598614445, 0.9839972598614445, 0.9839972598614445, 0.9839972598614445, 0.9839972598614445, 0.9839972598614445, 0.9839972598614445, 0.9839972598614445, 0.9839972598614445, 0.9839972598614445, 0.9839972598614445, 0.9839972598614445, 0.9839972598614445, 0.9839972598614445, 0.9839972598614445, 0.9839972598614445, 0.9839972598614445, 0.9839972598614445, 0.9839972598614445, 0.9839972598614445, 0.9839972598614445, 0.9839972598614445, 0.9839972598614445, 0.9839972598614445, 0.9839972598614445, 0.9839972598614445, 0.9839972598614445, 0.9839972598614445, 0.9839972598614445, 0.9839972598614445, 0.9839972598614445, 0.9839972598614445, 0.9839972598614445, 0.9850116821049171, 0.9850116821049171]}], \"precision_score_weighted\": [{\"categories\": [\"0\", \"1\", \"2\", \"3\", \"4\", \"5\", \"6\", \"7\", \"8\", \"9\", \"10\", \"11\", \"12\", \"13\", \"14\", \"15\", \"16\", \"17\", \"18\", \"19\", \"20\", \"21\", \"22\", \"23\", \"24\", \"25\", \"26\", \"27\", \"28\", \"29\", \"30\", \"31\", \"32\", \"33\", \"36\", \"37\"], \"mode\": \"markers\", \"name\": \"precision_score_weighted\", \"stepped\": false, \"type\": \"scatter\", \"data\": [0.9949196280959217, 0.9944577903074178, 0.9773733463721589, 0.9846196004043164, 0.9830386874380568, 0.9848051615682073, 0.9736841203798757, 0.992628733328479, 0.9830037499890443, 0.9744988160025282, 0.9752037665414949, 0.9886087063393849, 0.9920124408260275, 0.5684323033063011, 0.9946193638413475, 0.987392266898878, 0.9876862982728003, 0.9878017945733744, 0.988011590087048, 0.5684323033063011, 0.9909142876004435, 0.9877161344617492, 0.9952300162469253, 0.9681692063980835, 0.9809324436822514, 0.871726618377623, 0.987742773214544, 0.994146519216816, 0.9906003069242244, 0.9943035901981533, 0.5684323033063011, 0.9786787452072762, 0.9627154251152592, 0.9723395195338242, 0.9953817783631291, 0.9950778547923228]}, {\"categories\": [\"0\", \"1\", \"2\", \"3\", \"4\", \"5\", \"6\", \"7\", \"8\", \"9\", \"10\", \"11\", \"12\", \"13\", \"14\", \"15\", \"16\", \"17\", \"18\", \"19\", \"20\", \"21\", \"22\", \"23\", \"24\", \"25\", \"26\", \"27\", \"28\", \"29\", \"30\", \"31\", \"32\", \"33\", \"36\", \"37\"], \"mode\": \"lines\", \"name\": \"precision_score_weighted_max\", \"stepped\": true, \"type\": \"scatter\", \"data\": [0.9949196280959217, 0.9949196280959217, 0.9949196280959217, 0.9949196280959217, 0.9949196280959217, 0.9949196280959217, 0.9949196280959217, 0.9949196280959217, 0.9949196280959217, 0.9949196280959217, 0.9949196280959217, 0.9949196280959217, 0.9949196280959217, 0.9949196280959217, 0.9949196280959217, 0.9949196280959217, 0.9949196280959217, 0.9949196280959217, 0.9949196280959217, 0.9949196280959217, 0.9949196280959217, 0.9949196280959217, 0.9952300162469253, 0.9952300162469253, 0.9952300162469253, 0.9952300162469253, 0.9952300162469253, 0.9952300162469253, 0.9952300162469253, 0.9952300162469253, 0.9952300162469253, 0.9952300162469253, 0.9952300162469253, 0.9952300162469253, 0.9953817783631291, 0.9953817783631291]}], \"average_precision_score_macro\": [{\"categories\": [\"0\", \"1\", \"2\", \"3\", \"4\", \"5\", \"6\", \"7\", \"8\", \"9\", \"10\", \"11\", \"12\", \"13\", \"14\", \"15\", \"16\", \"17\", \"18\", \"19\", \"20\", \"21\", \"22\", \"23\", \"24\", \"25\", \"26\", \"27\", \"28\", \"29\", \"30\", \"31\", \"32\", \"33\", \"36\", \"37\"], \"mode\": \"markers\", \"name\": \"average_precision_score_macro\", \"stepped\": false, \"type\": \"scatter\", \"data\": [0.9987583346371428, 0.9984122481950752, 0.9931509224853458, 0.9955629188811205, 0.9955764138826421, 0.9943310265666735, 0.9924869778138348, 0.9977994637424211, 0.9917742274335373, 0.9939824291501752, 0.9912123082728669, 0.9963783430528013, 0.99742810544554, 0.9115923728806016, 0.9988752100240035, 0.9966206948371134, 0.9945756119181507, 0.9966966361956162, 0.9938709612453546, 0.9855537862011339, 0.9946434768903325, 0.9943729682371748, 0.9984883726023632, 0.9925970281168125, 0.9894380937457546, 0.9603933943006973, 0.9945653546090029, 0.9979694735642788, 0.997156445454483, 0.9986211730191111, 0.5, 0.9936253307405037, 0.9825529019547612, 0.9912535729294093, 0.9991390104808917, 0.9990668299535285]}, {\"categories\": [\"0\", \"1\", \"2\", \"3\", \"4\", \"5\", \"6\", \"7\", \"8\", \"9\", \"10\", \"11\", \"12\", \"13\", \"14\", \"15\", \"16\", \"17\", \"18\", \"19\", \"20\", \"21\", \"22\", \"23\", \"24\", \"25\", \"26\", \"27\", \"28\", \"29\", \"30\", \"31\", \"32\", \"33\", \"36\", \"37\"], \"mode\": \"lines\", \"name\": \"average_precision_score_macro_max\", \"stepped\": true, \"type\": \"scatter\", \"data\": [0.9987583346371428, 0.9987583346371428, 0.9987583346371428, 0.9987583346371428, 0.9987583346371428, 0.9987583346371428, 0.9987583346371428, 0.9987583346371428, 0.9987583346371428, 0.9987583346371428, 0.9987583346371428, 0.9987583346371428, 0.9987583346371428, 0.9987583346371428, 0.9988752100240035, 0.9988752100240035, 0.9988752100240035, 0.9988752100240035, 0.9988752100240035, 0.9988752100240035, 0.9988752100240035, 0.9988752100240035, 0.9988752100240035, 0.9988752100240035, 0.9988752100240035, 0.9988752100240035, 0.9988752100240035, 0.9988752100240035, 0.9988752100240035, 0.9988752100240035, 0.9988752100240035, 0.9988752100240035, 0.9988752100240035, 0.9988752100240035, 0.9991390104808917, 0.9991390104808917]}], \"balanced_accuracy\": [{\"categories\": [\"0\", \"1\", \"2\", \"3\", \"4\", \"5\", \"6\", \"7\", \"8\", \"9\", \"10\", \"11\", \"12\", \"13\", \"14\", \"15\", \"16\", \"17\", \"18\", \"19\", \"20\", \"21\", \"22\", \"23\", \"24\", \"25\", \"26\", \"27\", \"28\", \"29\", \"30\", \"31\", \"32\", \"33\", \"36\", \"37\"], \"mode\": \"markers\", \"name\": \"balanced_accuracy\", \"stepped\": false, \"type\": \"scatter\", \"data\": [0.9919986299307224, 0.9910455976429273, 0.9617114947940649, 0.9741200651379515, 0.9684281186149107, 0.9795221316036239, 0.9714778634387127, 0.986610958984596, 0.9759734429432302, 0.972983760466053, 0.9602115033320587, 0.9874291063854419, 0.9855785395948374, 0.5, 0.9904516872195153, 0.9746478956709014, 0.9866605581005468, 0.9860223779066857, 0.9796691247384269, 0.5, 0.9870241493610505, 0.9784122978492237, 0.9917506362409751, 0.9671689543651586, 0.9726899648594837, 0.8365596660343096, 0.9875085390558705, 0.99060876669866, 0.9848700612380886, 0.9907328325631409, 0.5, 0.9673950808795059, 0.9406128506481307, 0.9553809581070473, 0.9925058410524586, 0.9914604383186454]}, {\"categories\": [\"0\", \"1\", \"2\", \"3\", \"4\", \"5\", \"6\", \"7\", \"8\", \"9\", \"10\", \"11\", \"12\", \"13\", \"14\", \"15\", \"16\", \"17\", \"18\", \"19\", \"20\", \"21\", \"22\", \"23\", \"24\", \"25\", \"26\", \"27\", \"28\", \"29\", \"30\", \"31\", \"32\", \"33\", \"36\", \"37\"], \"mode\": \"lines\", \"name\": \"balanced_accuracy_max\", \"stepped\": true, \"type\": \"scatter\", \"data\": [0.9919986299307224, 0.9919986299307224, 0.9919986299307224, 0.9919986299307224, 0.9919986299307224, 0.9919986299307224, 0.9919986299307224, 0.9919986299307224, 0.9919986299307224, 0.9919986299307224, 0.9919986299307224, 0.9919986299307224, 0.9919986299307224, 0.9919986299307224, 0.9919986299307224, 0.9919986299307224, 0.9919986299307224, 0.9919986299307224, 0.9919986299307224, 0.9919986299307224, 0.9919986299307224, 0.9919986299307224, 0.9919986299307224, 0.9919986299307224, 0.9919986299307224, 0.9919986299307224, 0.9919986299307224, 0.9919986299307224, 0.9919986299307224, 0.9919986299307224, 0.9919986299307224, 0.9919986299307224, 0.9919986299307224, 0.9919986299307224, 0.9925058410524586, 0.9925058410524586]}], \"recall_score_weighted\": [{\"categories\": [\"0\", \"1\", \"2\", \"3\", \"4\", \"5\", \"6\", \"7\", \"8\", \"9\", \"10\", \"11\", \"12\", \"13\", \"14\", \"15\", \"16\", \"17\", \"18\", \"19\", \"20\", \"21\", \"22\", \"23\", \"24\", \"25\", \"26\", \"27\", \"28\", \"29\", \"30\", \"31\", \"32\", \"33\", \"36\", \"37\"], \"mode\": \"markers\", \"name\": \"recall_score_weighted\", \"stepped\": false, \"type\": \"scatter\", \"data\": [0.9949209456524907, 0.9944589808056059, 0.9773744559526932, 0.9846085880395247, 0.982915332982186, 0.9847631923697254, 0.9729114021226642, 0.9926121165723757, 0.98291575947689, 0.9736804431564305, 0.975220231202779, 0.9884568497537348, 0.9919964714671489, 0.7538860420367396, 0.9946131586411026, 0.9872247776363237, 0.9875325646477119, 0.9876872400603632, 0.987994671659498, 0.7538860420367396, 0.9909187904325863, 0.9876866003183072, 0.9952287326638789, 0.9661407276141816, 0.980915214985318, 0.7660476096038078, 0.9875327778950638, 0.9941513359591191, 0.9906114299159023, 0.9943053005472637, 0.7538860420367396, 0.9787594975039396, 0.962905623119425, 0.9724487264512726, 0.995382626169573, 0.9950746969932834]}, {\"categories\": [\"0\", \"1\", \"2\", \"3\", \"4\", \"5\", \"6\", \"7\", \"8\", \"9\", \"10\", \"11\", \"12\", \"13\", \"14\", \"15\", \"16\", \"17\", \"18\", \"19\", \"20\", \"21\", \"22\", \"23\", \"24\", \"25\", \"26\", \"27\", \"28\", \"29\", \"30\", \"31\", \"32\", \"33\", \"36\", \"37\"], \"mode\": \"lines\", \"name\": \"recall_score_weighted_max\", \"stepped\": true, \"type\": \"scatter\", \"data\": [0.9949209456524907, 0.9949209456524907, 0.9949209456524907, 0.9949209456524907, 0.9949209456524907, 0.9949209456524907, 0.9949209456524907, 0.9949209456524907, 0.9949209456524907, 0.9949209456524907, 0.9949209456524907, 0.9949209456524907, 0.9949209456524907, 0.9949209456524907, 0.9949209456524907, 0.9949209456524907, 0.9949209456524907, 0.9949209456524907, 0.9949209456524907, 0.9949209456524907, 0.9949209456524907, 0.9949209456524907, 0.9952287326638789, 0.9952287326638789, 0.9952287326638789, 0.9952287326638789, 0.9952287326638789, 0.9952287326638789, 0.9952287326638789, 0.9952287326638789, 0.9952287326638789, 0.9952287326638789, 0.9952287326638789, 0.9952287326638789, 0.995382626169573, 0.995382626169573]}], \"average_precision_score_weighted\": [{\"categories\": [\"0\", \"1\", \"2\", \"3\", \"4\", \"5\", \"6\", \"7\", \"8\", \"9\", \"10\", \"11\", \"12\", \"13\", \"14\", \"15\", \"16\", \"17\", \"18\", \"19\", \"20\", \"21\", \"22\", \"23\", \"24\", \"25\", \"26\", \"27\", \"28\", \"29\", \"30\", \"31\", \"32\", \"33\", \"36\", \"37\"], \"mode\": \"markers\", \"name\": \"average_precision_score_weighted\", \"stepped\": false, \"type\": \"scatter\", \"data\": [0.9990716716487956, 0.9988718400566214, 0.9953621427034234, 0.9967260251698841, 0.9964997845050584, 0.9960781363437423, 0.9952709032062245, 0.998391201930625, 0.9946088437978299, 0.9959043212988702, 0.9941336739322444, 0.9972512628040252, 0.9981259802956433, 0.941101261611088, 0.9992785433414516, 0.9974416583399589, 0.9951774264250849, 0.9976636911485106, 0.99546131626747, 0.9900261792742406, 0.9951647999051385, 0.9958202885476712, 0.9988728337961909, 0.9948012770552147, 0.9928974279400178, 0.9756156282935726, 0.9951583923276921, 0.9985994534075896, 0.9979717511462685, 0.9989940124822168, 0.629092522539123, 0.9954783311413892, 0.9884747150471259, 0.9939960009128909, 0.9994002539127403, 0.9993501266821999]}, {\"categories\": [\"0\", \"1\", \"2\", \"3\", \"4\", \"5\", \"6\", \"7\", \"8\", \"9\", \"10\", \"11\", \"12\", \"13\", \"14\", \"15\", \"16\", \"17\", \"18\", \"19\", \"20\", \"21\", \"22\", \"23\", \"24\", \"25\", \"26\", \"27\", \"28\", \"29\", \"30\", \"31\", \"32\", \"33\", \"36\", \"37\"], \"mode\": \"lines\", \"name\": \"average_precision_score_weighted_max\", \"stepped\": true, \"type\": \"scatter\", \"data\": [0.9990716716487956, 0.9990716716487956, 0.9990716716487956, 0.9990716716487956, 0.9990716716487956, 0.9990716716487956, 0.9990716716487956, 0.9990716716487956, 0.9990716716487956, 0.9990716716487956, 0.9990716716487956, 0.9990716716487956, 0.9990716716487956, 0.9990716716487956, 0.9992785433414516, 0.9992785433414516, 0.9992785433414516, 0.9992785433414516, 0.9992785433414516, 0.9992785433414516, 0.9992785433414516, 0.9992785433414516, 0.9992785433414516, 0.9992785433414516, 0.9992785433414516, 0.9992785433414516, 0.9992785433414516, 0.9992785433414516, 0.9992785433414516, 0.9992785433414516, 0.9992785433414516, 0.9992785433414516, 0.9992785433414516, 0.9992785433414516, 0.9994002539127403, 0.9994002539127403]}]}, \"metricName\": null, \"primaryMetricName\": \"AUC_weighted\", \"showLegend\": false}, \"run_metrics\": [{\"name\": \"experiment_status\", \"run_id\": \"AutoML_ef44b052-3c3b-41df-bbd1-7380ee53b8c6\", \"categories\": [0, 1, 2, 3, 4, 5, 6, 7, 8, 9, 10, 11, 12, 13], \"series\": [{\"data\": [\"DatasetEvaluation\", \"FeaturesGeneration\", \"DatasetFeaturization\", \"DatasetFeaturizationCompleted\", \"DatasetCrossValidationSplit\", \"ModelSelection\", \"BestRunExplainModel\", \"ModelExplanationDataSetSetup\", \"PickSurrogateModel\", \"EngineeredFeatureExplanations\", \"EngineeredFeatureExplanations\", \"RawFeaturesExplanations\", \"RawFeaturesExplanations\", \"BestRunExplainModel\"]}]}, {\"name\": \"experiment_status_description\", \"run_id\": \"AutoML_ef44b052-3c3b-41df-bbd1-7380ee53b8c6\", \"categories\": [0, 1, 2, 3, 4, 5, 6, 7, 8, 9, 10, 11, 12, 13], \"series\": [{\"data\": [\"Gathering dataset statistics.\", \"Generating features for the dataset.\", \"Beginning to fit featurizers and featurize the dataset.\", \"Completed fit featurizers and featurizing the dataset.\", \"Generating individually featurized CV splits.\", \"Beginning model selection.\", \"Best run model explanations started\", \"Model explanations data setup completed\", \"Choosing LightGBM as the surrogate model for explanations\", \"Computation of engineered features started\", \"Computation of engineered features completed\", \"Computation of raw features started\", \"Computation of raw features completed\", \"Best run model explanations completed\"]}]}, {\"name\": \"average_precision_score_macro\", \"run_id\": \"AutoML_ef44b052-3c3b-41df-bbd1-7380ee53b8c6\", \"categories\": [0], \"series\": [{\"data\": [0.9991390104808917]}]}, {\"name\": \"accuracy\", \"run_id\": \"AutoML_ef44b052-3c3b-41df-bbd1-7380ee53b8c6\", \"categories\": [0], \"series\": [{\"data\": [0.995382626169573]}]}, {\"name\": \"average_precision_score_weighted\", \"run_id\": \"AutoML_ef44b052-3c3b-41df-bbd1-7380ee53b8c6\", \"categories\": [0], \"series\": [{\"data\": [0.9994002539127403]}]}, {\"name\": \"AUC_macro\", \"run_id\": \"AutoML_ef44b052-3c3b-41df-bbd1-7380ee53b8c6\", \"categories\": [0], \"series\": [{\"data\": [0.9992351406679375]}]}, {\"name\": \"matthews_correlation\", \"run_id\": \"AutoML_ef44b052-3c3b-41df-bbd1-7380ee53b8c6\", \"categories\": [0], \"series\": [{\"data\": [0.9875170637153295]}]}, {\"name\": \"recall_score_micro\", \"run_id\": \"AutoML_ef44b052-3c3b-41df-bbd1-7380ee53b8c6\", \"categories\": [0], \"series\": [{\"data\": [0.995382626169573]}]}, {\"name\": \"f1_score_micro\", \"run_id\": \"AutoML_ef44b052-3c3b-41df-bbd1-7380ee53b8c6\", \"categories\": [0], \"series\": [{\"data\": [0.995382626169573]}]}, {\"name\": \"balanced_accuracy\", \"run_id\": \"AutoML_ef44b052-3c3b-41df-bbd1-7380ee53b8c6\", \"categories\": [0], \"series\": [{\"data\": [0.9925058410524586]}]}, {\"name\": \"recall_score_macro\", \"run_id\": \"AutoML_ef44b052-3c3b-41df-bbd1-7380ee53b8c6\", \"categories\": [0], \"series\": [{\"data\": [0.9925058410524586]}]}, {\"name\": \"precision_score_macro\", \"run_id\": \"AutoML_ef44b052-3c3b-41df-bbd1-7380ee53b8c6\", \"categories\": [0], \"series\": [{\"data\": [0.9950147895633151]}]}, {\"name\": \"AUC_weighted\", \"run_id\": \"AutoML_ef44b052-3c3b-41df-bbd1-7380ee53b8c6\", \"categories\": [0], \"series\": [{\"data\": [0.9992351406679374]}]}, {\"name\": \"log_loss\", \"run_id\": \"AutoML_ef44b052-3c3b-41df-bbd1-7380ee53b8c6\", \"categories\": [0], \"series\": [{\"data\": [0.04255192473615075]}]}, {\"name\": \"precision_score_weighted\", \"run_id\": \"AutoML_ef44b052-3c3b-41df-bbd1-7380ee53b8c6\", \"categories\": [0], \"series\": [{\"data\": [0.9953817783631291]}]}, {\"name\": \"f1_score_macro\", \"run_id\": \"AutoML_ef44b052-3c3b-41df-bbd1-7380ee53b8c6\", \"categories\": [0], \"series\": [{\"data\": [0.9937516021907119]}]}, {\"name\": \"norm_macro_recall\", \"run_id\": \"AutoML_ef44b052-3c3b-41df-bbd1-7380ee53b8c6\", \"categories\": [0], \"series\": [{\"data\": [0.9850116821049171]}]}, {\"name\": \"weighted_accuracy\", \"run_id\": \"AutoML_ef44b052-3c3b-41df-bbd1-7380ee53b8c6\", \"categories\": [0], \"series\": [{\"data\": [0.9970749998356073]}]}, {\"name\": \"f1_score_weighted\", \"run_id\": \"AutoML_ef44b052-3c3b-41df-bbd1-7380ee53b8c6\", \"categories\": [0], \"series\": [{\"data\": [0.9953770473445522]}]}, {\"name\": \"average_precision_score_micro\", \"run_id\": \"AutoML_ef44b052-3c3b-41df-bbd1-7380ee53b8c6\", \"categories\": [0], \"series\": [{\"data\": [0.9995022538799773]}]}, {\"name\": \"AUC_micro\", \"run_id\": \"AutoML_ef44b052-3c3b-41df-bbd1-7380ee53b8c6\", \"categories\": [0], \"series\": [{\"data\": [0.9995480002375398]}]}, {\"name\": \"precision_score_micro\", \"run_id\": \"AutoML_ef44b052-3c3b-41df-bbd1-7380ee53b8c6\", \"categories\": [0], \"series\": [{\"data\": [0.995382626169573]}]}, {\"name\": \"recall_score_weighted\", \"run_id\": \"AutoML_ef44b052-3c3b-41df-bbd1-7380ee53b8c6\", \"categories\": [0], \"series\": [{\"data\": [0.995382626169573]}]}], \"run_logs\": \"\\nRun is completed.\", \"graph\": {}, \"widget_settings\": {\"childWidgetDisplay\": \"popup\", \"send_telemetry\": false, \"log_level\": \"INFO\", \"sdk_version\": \"1.34.0\"}, \"loading\": false}"
     },
     "metadata": {},
     "output_type": "display_data"
    }
   ],
   "source": [
    "RunDetails(automl_run).show()"
   ]
  },
  {
   "cell_type": "markdown",
   "metadata": {},
   "source": [
    "## Best Model\n",
    "\n",
    "TODO: In the cell below, get the best model from the automl experiments and display all the properties of the model.\n",
    "\n"
   ]
  },
  {
   "cell_type": "code",
   "execution_count": 15,
   "metadata": {
    "gather": {
     "logged": 1598431425670
    },
    "jupyter": {
     "outputs_hidden": false,
     "source_hidden": false
    },
    "nteract": {
     "transient": {
      "deleting": false
     }
    }
   },
   "outputs": [
    {
     "name": "stderr",
     "output_type": "stream",
     "text": [
      "WARNING:root:The version of the SDK does not match the version the model was trained on.\n",
      "WARNING:root:The consistency in the result may not be guaranteed.\n",
      "WARNING:root:Package:azureml-automl-core, training version:1.35.1, current version:1.34.0\n",
      "Package:azureml-automl-runtime, training version:1.35.1, current version:1.34.0\n",
      "Package:azureml-core, training version:1.35.0.post1, current version:1.34.0\n",
      "Package:azureml-dataprep, training version:2.23.2, current version:2.22.2\n",
      "Package:azureml-dataprep-rslex, training version:1.21.2, current version:1.20.1\n",
      "Package:azureml-dataset-runtime, training version:1.35.0, current version:1.34.0\n",
      "Package:azureml-defaults, training version:1.35.0, current version:1.34.0\n",
      "Package:azureml-interpret, training version:1.35.0, current version:1.34.0\n",
      "Package:azureml-mlflow, training version:1.35.0, current version:1.34.0\n",
      "Package:azureml-pipeline-core, training version:1.35.0, current version:1.34.0\n",
      "Package:azureml-responsibleai, training version:1.35.0, current version:1.34.0\n",
      "Package:azureml-telemetry, training version:1.35.0, current version:1.34.0\n",
      "Package:azureml-train-automl-client, training version:1.35.0, current version:1.34.0\n",
      "Package:azureml-train-automl-runtime, training version:1.35.1, current version:1.34.0\n",
      "Package:azureml-train-core, training version:1.35.0, current version:1.34.0\n",
      "Package:azureml-train-restclients-hyperdrive, training version:1.35.0, current version:1.34.0\n",
      "WARNING:root:Please ensure the version of your local conda dependencies match the version on which your model was trained in order to properly retrieve your model.\n"
     ]
    },
    {
     "name": "stdout",
     "output_type": "stream",
     "text": [
      "Run(Experiment: classification-automl,\n",
      "Id: AutoML_ef44b052-3c3b-41df-bbd1-7380ee53b8c6_36,\n",
      "Type: azureml.scriptrun,\n",
      "Status: Completed)\n",
      "Pipeline(memory=None,\n",
      "         steps=[('datatransformer',\n",
      "                 DataTransformer(enable_dnn=False, enable_feature_sweeping=True, feature_sweeping_config={}, feature_sweeping_timeout=86400, featurization_config=None, force_text_dnn=False, is_cross_validation=True, is_onnx_compatible=False, observer=None, task='classification', working_dir='/mnt/batch/tasks/shared/LS_root/mount...\n",
      "), random_state=0, tree_method='auto'))], verbose=False)), ('25', Pipeline(memory=None, steps=[('maxabsscaler', MaxAbsScaler(copy=True)), ('randomforestclassifier', RandomForestClassifier(bootstrap=True, ccp_alpha=0.0, class_weight='balanced', criterion='entropy', max_depth=None, max_features=0.8, max_leaf_nodes=None, max_samples=None, min_impurity_decrease=0.0, min_impurity_split=None, min_samples_leaf=0.29368421052631577, min_samples_split=0.47842105263157897, min_weight_fraction_leaf=0.0, n_estimators=200, n_jobs=1, oob_score=True, random_state=None, verbose=0, warm_start=False))], verbose=False))], flatten_transform=None, weights=[0.2727272727272727, 0.36363636363636365, 0.09090909090909091, 0.09090909090909091, 0.09090909090909091, 0.09090909090909091]))],\n",
      "         verbose=False)\n"
     ]
    }
   ],
   "source": [
    "best_automl_run, best_automl_model = automl_run.get_output()\n",
    "print(best_automl_run)\n",
    "print(best_automl_model)"
   ]
  },
  {
   "cell_type": "code",
   "execution_count": 16,
   "metadata": {},
   "outputs": [],
   "source": [
    "best_automl_run.get_file_names()\n",
    "\n",
    "# Download the yaml file that includes the environment dependencies\n",
    "best_automl_run.download_file('outputs/conda_env_v_1_0_0.yml', 'env.yml')"
   ]
  },
  {
   "cell_type": "code",
   "execution_count": 34,
   "metadata": {
    "gather": {
     "logged": 1598431426111
    },
    "jupyter": {
     "outputs_hidden": false,
     "source_hidden": false
    },
    "nteract": {
     "transient": {
      "deleting": false
     }
    }
   },
   "outputs": [
    {
     "data": {
      "text/plain": [
       "Model(workspace=Workspace.create(name='quick-starts-ws-162664', subscription_id='b968fb36-f06a-4c76-a15f-afab68ae7667', resource_group='aml-quickstarts-162664'), name=automl_VotingEnsemble.pkl, id=automl_VotingEnsemble.pkl:1, version=1, tags={}, properties={})"
      ]
     },
     "execution_count": 34,
     "metadata": {},
     "output_type": "execute_result"
    }
   ],
   "source": [
    "#TODO: Save the best model\n",
    "best_automl_run.download_file('outputs/model.pkl', 'Automl_model.pkl')\n",
    "# register best model\n",
    "best_automl_run.register_model(model_name = \"automl_VotingEnsemble.pkl\", model_path = './outputs/')\n"
   ]
  },
  {
   "cell_type": "markdown",
   "metadata": {},
   "source": [
    "## Model Deployment\n",
    "\n",
    "Remember you have to deploy only one of the two models you trained.. Perform the steps in the rest of this notebook only if you wish to deploy this model.\n",
    "\n",
    "TODO: In the cell below, register the model, create an inference config and deploy the model as a web service."
   ]
  },
  {
   "cell_type": "code",
   "execution_count": 37,
   "metadata": {
    "gather": {
     "logged": 1598431435189
    },
    "jupyter": {
     "outputs_hidden": false,
     "source_hidden": false
    },
    "nteract": {
     "transient": {
      "deleting": false
     }
    }
   },
   "outputs": [
    {
     "name": "stdout",
     "output_type": "stream",
     "text": [
      "automl_VotingEnsemble.pkl\n"
     ]
    }
   ],
   "source": [
    "# automl_model = best_automl_run.register_model(model_name = 'automl_VotingEnsemble', model_path='./outputs/')\n",
    "# model = Model.register(ws, model_name=\"bidaf_onnx\", model_path=\"./model.onnx\")\n",
    "automl_model = automl_run.register_model(model_name = 'automl_VotingEnsemble.pkl')\n",
    "print(automl_run.model_id)"
   ]
  },
  {
   "cell_type": "code",
   "execution_count": 39,
   "metadata": {},
   "outputs": [
    {
     "name": "stdout",
     "output_type": "stream",
     "text": [
      "automl_VotingEnsemble.pkl\tautoml_VotingEnsemble.pkl:2\t2\n"
     ]
    }
   ],
   "source": [
    "print(automl_model.name, automl_model.id, automl_model.version, sep='\\t')"
   ]
  },
  {
   "cell_type": "code",
   "execution_count": 40,
   "metadata": {},
   "outputs": [
    {
     "name": "stdout",
     "output_type": "stream",
     "text": [
      "Tips: You can try get_logs(): https://aka.ms/debugimage#dockerlog or local deployment: https://aka.ms/debugimage#debug-locally to debug if deployment takes longer than 10 minutes.\n",
      "Running\n",
      "2021-11-03 15:09:28+00:00 Creating Container Registry if not exists.\n",
      "2021-11-03 15:09:28+00:00 Registering the environment.\n",
      "2021-11-03 15:09:29+00:00 Use the existing image.\n",
      "2021-11-03 15:09:30+00:00 Submitting deployment to compute.\n",
      "2021-11-03 15:09:33+00:00 Checking the status of deployment wine-classification-aciservice..\n",
      "2021-11-03 15:14:24+00:00 Checking the status of inference endpoint wine-classification-aciservice.\n",
      "Succeeded\n",
      "ACI service creation operation finished, operation \"Succeeded\"\n"
     ]
    }
   ],
   "source": [
    "environment = best_automl_run.get_environment()\n",
    "# entry_script = 'source_dir/score.py'\n",
    "\n",
    "inference_config = InferenceConfig(source_directory=\"./source_dir\", entry_script=\"./score.py\", environment=environment)\n",
    "deployment_config = AciWebservice.deploy_configuration(cpu_cores = 1,\n",
    "                                                     memory_gb = 1,\n",
    "                                                     auth_enabled = True,\n",
    "                                                     enable_app_insights = True)\n",
    "\n",
    "service = Model.deploy(ws, 'wine-classification-aciservice', [automl_model], inference_config, deployment_config, overwrite=True)\n",
    "service.wait_for_deployment(show_output =True)"
   ]
  },
  {
   "cell_type": "code",
   "execution_count": 43,
   "metadata": {},
   "outputs": [
    {
     "data": {
      "text/html": [
       "<div>\n",
       "<style scoped>\n",
       "    .dataframe tbody tr th:only-of-type {\n",
       "        vertical-align: middle;\n",
       "    }\n",
       "\n",
       "    .dataframe tbody tr th {\n",
       "        vertical-align: top;\n",
       "    }\n",
       "\n",
       "    .dataframe thead th {\n",
       "        text-align: right;\n",
       "    }\n",
       "</style>\n",
       "<table border=\"1\" class=\"dataframe\">\n",
       "  <thead>\n",
       "    <tr style=\"text-align: right;\">\n",
       "      <th></th>\n",
       "      <th>Column2</th>\n",
       "      <th>fixed acidity</th>\n",
       "      <th>volatile acidity</th>\n",
       "      <th>citric acid</th>\n",
       "      <th>residual sugar</th>\n",
       "      <th>chlorides</th>\n",
       "      <th>free sulfur dioxide</th>\n",
       "      <th>total sulfur dioxide</th>\n",
       "      <th>density</th>\n",
       "      <th>pH</th>\n",
       "      <th>sulphates</th>\n",
       "      <th>alcohol</th>\n",
       "      <th>quality</th>\n",
       "      <th>y</th>\n",
       "    </tr>\n",
       "  </thead>\n",
       "  <tbody>\n",
       "    <tr>\n",
       "      <th>4898</th>\n",
       "      <td>0</td>\n",
       "      <td>7.40</td>\n",
       "      <td>0.70</td>\n",
       "      <td>0.00</td>\n",
       "      <td>1.90</td>\n",
       "      <td>0.08</td>\n",
       "      <td>11.00</td>\n",
       "      <td>34.00</td>\n",
       "      <td>1.00</td>\n",
       "      <td>3.51</td>\n",
       "      <td>0.56</td>\n",
       "      <td>9.40</td>\n",
       "      <td>5</td>\n",
       "      <td>0</td>\n",
       "    </tr>\n",
       "    <tr>\n",
       "      <th>4899</th>\n",
       "      <td>1</td>\n",
       "      <td>7.80</td>\n",
       "      <td>0.88</td>\n",
       "      <td>0.00</td>\n",
       "      <td>2.60</td>\n",
       "      <td>0.10</td>\n",
       "      <td>25.00</td>\n",
       "      <td>67.00</td>\n",
       "      <td>1.00</td>\n",
       "      <td>3.20</td>\n",
       "      <td>0.68</td>\n",
       "      <td>9.80</td>\n",
       "      <td>5</td>\n",
       "      <td>0</td>\n",
       "    </tr>\n",
       "    <tr>\n",
       "      <th>4900</th>\n",
       "      <td>2</td>\n",
       "      <td>7.80</td>\n",
       "      <td>0.76</td>\n",
       "      <td>0.04</td>\n",
       "      <td>2.30</td>\n",
       "      <td>0.09</td>\n",
       "      <td>15.00</td>\n",
       "      <td>54.00</td>\n",
       "      <td>1.00</td>\n",
       "      <td>3.26</td>\n",
       "      <td>0.65</td>\n",
       "      <td>9.80</td>\n",
       "      <td>5</td>\n",
       "      <td>0</td>\n",
       "    </tr>\n",
       "    <tr>\n",
       "      <th>4901</th>\n",
       "      <td>3</td>\n",
       "      <td>11.20</td>\n",
       "      <td>0.28</td>\n",
       "      <td>0.56</td>\n",
       "      <td>1.90</td>\n",
       "      <td>0.07</td>\n",
       "      <td>17.00</td>\n",
       "      <td>60.00</td>\n",
       "      <td>1.00</td>\n",
       "      <td>3.16</td>\n",
       "      <td>0.58</td>\n",
       "      <td>9.80</td>\n",
       "      <td>6</td>\n",
       "      <td>0</td>\n",
       "    </tr>\n",
       "    <tr>\n",
       "      <th>4902</th>\n",
       "      <td>4</td>\n",
       "      <td>7.40</td>\n",
       "      <td>0.70</td>\n",
       "      <td>0.00</td>\n",
       "      <td>1.90</td>\n",
       "      <td>0.08</td>\n",
       "      <td>11.00</td>\n",
       "      <td>34.00</td>\n",
       "      <td>1.00</td>\n",
       "      <td>3.51</td>\n",
       "      <td>0.56</td>\n",
       "      <td>9.40</td>\n",
       "      <td>5</td>\n",
       "      <td>0</td>\n",
       "    </tr>\n",
       "    <tr>\n",
       "      <th>...</th>\n",
       "      <td>...</td>\n",
       "      <td>...</td>\n",
       "      <td>...</td>\n",
       "      <td>...</td>\n",
       "      <td>...</td>\n",
       "      <td>...</td>\n",
       "      <td>...</td>\n",
       "      <td>...</td>\n",
       "      <td>...</td>\n",
       "      <td>...</td>\n",
       "      <td>...</td>\n",
       "      <td>...</td>\n",
       "      <td>...</td>\n",
       "      <td>...</td>\n",
       "    </tr>\n",
       "    <tr>\n",
       "      <th>6492</th>\n",
       "      <td>1594</td>\n",
       "      <td>6.20</td>\n",
       "      <td>0.60</td>\n",
       "      <td>0.08</td>\n",
       "      <td>2.00</td>\n",
       "      <td>0.09</td>\n",
       "      <td>32.00</td>\n",
       "      <td>44.00</td>\n",
       "      <td>0.99</td>\n",
       "      <td>3.45</td>\n",
       "      <td>0.58</td>\n",
       "      <td>10.50</td>\n",
       "      <td>5</td>\n",
       "      <td>0</td>\n",
       "    </tr>\n",
       "    <tr>\n",
       "      <th>6493</th>\n",
       "      <td>1595</td>\n",
       "      <td>5.90</td>\n",
       "      <td>0.55</td>\n",
       "      <td>0.10</td>\n",
       "      <td>2.20</td>\n",
       "      <td>0.06</td>\n",
       "      <td>39.00</td>\n",
       "      <td>51.00</td>\n",
       "      <td>1.00</td>\n",
       "      <td>3.52</td>\n",
       "      <td>0.76</td>\n",
       "      <td>11.20</td>\n",
       "      <td>6</td>\n",
       "      <td>0</td>\n",
       "    </tr>\n",
       "    <tr>\n",
       "      <th>6494</th>\n",
       "      <td>1596</td>\n",
       "      <td>6.30</td>\n",
       "      <td>0.51</td>\n",
       "      <td>0.13</td>\n",
       "      <td>2.30</td>\n",
       "      <td>0.08</td>\n",
       "      <td>29.00</td>\n",
       "      <td>40.00</td>\n",
       "      <td>1.00</td>\n",
       "      <td>3.42</td>\n",
       "      <td>0.75</td>\n",
       "      <td>11.00</td>\n",
       "      <td>6</td>\n",
       "      <td>0</td>\n",
       "    </tr>\n",
       "    <tr>\n",
       "      <th>6495</th>\n",
       "      <td>1597</td>\n",
       "      <td>5.90</td>\n",
       "      <td>0.65</td>\n",
       "      <td>0.12</td>\n",
       "      <td>2.00</td>\n",
       "      <td>0.07</td>\n",
       "      <td>32.00</td>\n",
       "      <td>44.00</td>\n",
       "      <td>1.00</td>\n",
       "      <td>3.57</td>\n",
       "      <td>0.71</td>\n",
       "      <td>10.20</td>\n",
       "      <td>5</td>\n",
       "      <td>0</td>\n",
       "    </tr>\n",
       "    <tr>\n",
       "      <th>6496</th>\n",
       "      <td>1598</td>\n",
       "      <td>6.00</td>\n",
       "      <td>0.31</td>\n",
       "      <td>0.47</td>\n",
       "      <td>3.60</td>\n",
       "      <td>0.07</td>\n",
       "      <td>18.00</td>\n",
       "      <td>42.00</td>\n",
       "      <td>1.00</td>\n",
       "      <td>3.39</td>\n",
       "      <td>0.66</td>\n",
       "      <td>11.00</td>\n",
       "      <td>6</td>\n",
       "      <td>0</td>\n",
       "    </tr>\n",
       "  </tbody>\n",
       "</table>\n",
       "<p>1599 rows × 14 columns</p>\n",
       "</div>"
      ],
      "text/plain": [
       "     Column2  fixed acidity  volatile acidity  citric acid  residual sugar  \\\n",
       "4898       0           7.40              0.70         0.00            1.90   \n",
       "4899       1           7.80              0.88         0.00            2.60   \n",
       "4900       2           7.80              0.76         0.04            2.30   \n",
       "4901       3          11.20              0.28         0.56            1.90   \n",
       "4902       4           7.40              0.70         0.00            1.90   \n",
       "...      ...            ...               ...          ...             ...   \n",
       "6492    1594           6.20              0.60         0.08            2.00   \n",
       "6493    1595           5.90              0.55         0.10            2.20   \n",
       "6494    1596           6.30              0.51         0.13            2.30   \n",
       "6495    1597           5.90              0.65         0.12            2.00   \n",
       "6496    1598           6.00              0.31         0.47            3.60   \n",
       "\n",
       "      chlorides  free sulfur dioxide  total sulfur dioxide  density   pH  \\\n",
       "4898       0.08                11.00                 34.00     1.00 3.51   \n",
       "4899       0.10                25.00                 67.00     1.00 3.20   \n",
       "4900       0.09                15.00                 54.00     1.00 3.26   \n",
       "4901       0.07                17.00                 60.00     1.00 3.16   \n",
       "4902       0.08                11.00                 34.00     1.00 3.51   \n",
       "...         ...                  ...                   ...      ...  ...   \n",
       "6492       0.09                32.00                 44.00     0.99 3.45   \n",
       "6493       0.06                39.00                 51.00     1.00 3.52   \n",
       "6494       0.08                29.00                 40.00     1.00 3.42   \n",
       "6495       0.07                32.00                 44.00     1.00 3.57   \n",
       "6496       0.07                18.00                 42.00     1.00 3.39   \n",
       "\n",
       "      sulphates  alcohol  quality  y  \n",
       "4898       0.56     9.40        5  0  \n",
       "4899       0.68     9.80        5  0  \n",
       "4900       0.65     9.80        5  0  \n",
       "4901       0.58     9.80        6  0  \n",
       "4902       0.56     9.40        5  0  \n",
       "...         ...      ...      ... ..  \n",
       "6492       0.58    10.50        5  0  \n",
       "6493       0.76    11.20        6  0  \n",
       "6494       0.75    11.00        6  0  \n",
       "6495       0.71    10.20        5  0  \n",
       "6496       0.66    11.00        6  0  \n",
       "\n",
       "[1599 rows x 14 columns]"
      ]
     },
     "execution_count": 43,
     "metadata": {},
     "output_type": "execute_result"
    }
   ],
   "source": [
    "df[df['y']==0]"
   ]
  },
  {
   "cell_type": "markdown",
   "metadata": {
    "collapsed": true,
    "gather": {
     "logged": 1598431657736
    },
    "jupyter": {
     "outputs_hidden": false,
     "source_hidden": false
    },
    "nteract": {
     "transient": {
      "deleting": false
     }
    }
   },
   "source": [
    "TODO: In the cell below, send a request to the web service you deployed to test it."
   ]
  },
  {
   "cell_type": "code",
   "execution_count": 49,
   "metadata": {
    "gather": {
     "logged": 1598432707604
    },
    "jupyter": {
     "outputs_hidden": false,
     "source_hidden": false
    },
    "nteract": {
     "transient": {
      "deleting": false
     }
    }
   },
   "outputs": [
    {
     "name": "stdout",
     "output_type": "stream",
     "text": [
      "b'\"{\\\\\"result\\\\\": [1]}\"'\n"
     ]
    }
   ],
   "source": [
    "import urllib.request\n",
    "import json\n",
    "import os\n",
    "import ssl\n",
    "\n",
    "def allowSelfSignedHttps(allowed):\n",
    "    # bypass the server certificate verification on client side\n",
    "    if allowed and not os.environ.get('PYTHONHTTPSVERIFY', '') and getattr(ssl, '_create_unverified_context', None):\n",
    "        ssl._create_default_https_context = ssl._create_unverified_context\n",
    "\n",
    "allowSelfSignedHttps(True) # this line is needed if you use self-signed certificate in your scoring service.\n",
    "\n",
    "# Request data goes here\n",
    "data = { \n",
    "      \"data\": [ \n",
    "          {\n",
    "              \"Column2\": \"example_value\",\n",
    "              \"fixed acidity\": 0,\n",
    "              \"volatile acidity\": 0,\n",
    "              \"citric acid\": 0,\n",
    "              \"residual sugar\": 0,\n",
    "              \"chlorides\": 0,\n",
    "              \"free sulfur dioxide\": 0,\n",
    "              \"total sulfur dioxide\": 0,\n",
    "              \"density\": 0,\n",
    "              \"pH\": 0,\n",
    "              \"sulphates\": 0,\n",
    "              \"alcohol\": 0,\n",
    "              \"quality\": 0\n",
    "          }\n",
    "      ]\n",
    " \n",
    "}\n",
    "\n",
    "body = str.encode(json.dumps(data))\n",
    "\n",
    "url = 'http://13baaa78-384c-4473-bca9-aa3fc8f64722.southcentralus.azurecontainer.io/score'\n",
    "api_key = 'Cabj58lVd2Ha8syeTBdQwg5sxvM8N3t9' # Replace this with the API key for the web service\n",
    "headers = {'Content-Type':'application/json', 'Authorization':('Bearer '+ api_key)}\n",
    "\n",
    "req = urllib.request.Request(url, body, headers)\n",
    "\n",
    "try:\n",
    "    response = urllib.request.urlopen(req)\n",
    "\n",
    "    result = response.read()\n",
    "    print(result)\n",
    "except urllib.error.HTTPError as error:\n",
    "    print(\"The request failed with status code: \" + str(error.code))\n",
    "\n",
    "    # Print the headers - they include the requert ID and the timestamp, which are useful for debugging the failure\n",
    "    print(error.info())\n",
    "    print(json.loads(error.read().decode(\"utf8\", 'ignore')))\n"
   ]
  },
  {
   "cell_type": "markdown",
   "metadata": {
    "collapsed": true,
    "gather": {
     "logged": 1598432765711
    },
    "jupyter": {
     "outputs_hidden": false,
     "source_hidden": false
    },
    "nteract": {
     "transient": {
      "deleting": false
     }
    }
   },
   "source": [
    "TODO: In the cell below, print the logs of the web service and delete the service"
   ]
  },
  {
   "cell_type": "code",
   "execution_count": 48,
   "metadata": {},
   "outputs": [
    {
     "name": "stdout",
     "output_type": "stream",
     "text": [
      "Service state: Healthy\n",
      "Service scoring URI: http://13baaa78-384c-4473-bca9-aa3fc8f64722.southcentralus.azurecontainer.io/score\n",
      "Service primary authentication key: Cabj58lVd2Ha8syeTBdQwg5sxvM8N3t9\n"
     ]
    }
   ],
   "source": [
    "# Check Model status\n",
    "primary, secondary = service.get_keys()\n",
    "\n",
    "print('Service state: ' + service.state)\n",
    "print('Service scoring URI: ' + service.scoring_uri)\n",
    "print('Service primary authentication key: '+ primary)"
   ]
  },
  {
   "cell_type": "code",
   "execution_count": 50,
   "metadata": {},
   "outputs": [
    {
     "data": {
      "text/plain": [
       "'2021-11-03T15:14:09,702717500+00:00 - gunicorn/run \\nDynamic Python package installation is disabled.\\nStarting HTTP server\\n2021-11-03T15:14:09,712726800+00:00 - iot-server/run \\n2021-11-03T15:14:09,704358600+00:00 - rsyslog/run \\n2021-11-03T15:14:09,768720500+00:00 - nginx/run \\nrsyslogd: /azureml-envs/azureml_705720c76ff57b57c77d577152dabb18/lib/libuuid.so.1: no version information available (required by rsyslogd)\\nEdgeHubConnectionString and IOTEDGE_IOTHUBHOSTNAME are not set. Exiting...\\n2021-11-03T15:14:10,160170000+00:00 - iot-server/finish 1 0\\n2021-11-03T15:14:10,161521300+00:00 - Exit code 1 is normal. Not restarting iot-server.\\nStarting gunicorn 20.1.0\\nListening at: http://127.0.0.1:31311 (70)\\nUsing worker: sync\\nworker timeout is set to 300\\nBooting worker with pid: 98\\nSPARK_HOME not set. Skipping PySpark Initialization.\\nGenerating new fontManager, this may take some time...\\nInitializing logger\\n2021-11-03 15:14:13,624 | root | INFO | Starting up app insights client\\nlogging socket was found. logging is available.\\nlogging socket was found. logging is available.\\n2021-11-03 15:14:13,626 | root | INFO | Starting up request id generator\\n2021-11-03 15:14:13,626 | root | INFO | Starting up app insight hooks\\n2021-11-03 15:14:13,627 | root | INFO | Invoking user\\'s init function\\n2021-11-03 15:14:20,773 | root | INFO | Users\\'s init has completed successfully\\n2021-11-03 15:14:20,793 | root | INFO | Skipping middleware: dbg_model_info as it\\'s not enabled.\\n2021-11-03 15:14:20,793 | root | INFO | Skipping middleware: dbg_resource_usage as it\\'s not enabled.\\nGenerating swagger file: /tmp/tmppasi5s6t\\n2021-11-03 15:14:20,796 | root | INFO | Scoring timeout is found from os.environ: 60000 ms\\n2021-11-03 15:14:24,456 | root | INFO | 200\\n127.0.0.1 - - [03/Nov/2021:15:14:24 +0000] \"GET /swagger.json HTTP/1.0\" 200 3215 \"-\" \"Go-http-client/1.1\"\\n2021-11-03 15:14:26,904 | root | INFO | 200\\n127.0.0.1 - - [03/Nov/2021:15:14:26 +0000] \"GET /swagger.json HTTP/1.0\" 200 3215 \"-\" \"Go-http-client/1.1\"\\n2021-11-03 15:25:06,151 | root | INFO | 200\\n127.0.0.1 - - [03/Nov/2021:15:25:06 +0000] \"GET /swagger.json HTTP/1.0\" 200 3215 \"-\" \"Go-http-client/1.1\"\\n2021-11-03 15:25:06,191 | root | INFO | 200\\n127.0.0.1 - - [03/Nov/2021:15:25:06 +0000] \"GET /swagger.json HTTP/1.0\" 200 3215 \"-\" \"Go-http-client/1.1\"\\n2021-11-03 15:27:47,770 | root | INFO | 200\\n127.0.0.1 - - [03/Nov/2021:15:27:47 +0000] \"GET /swagger.json HTTP/1.0\" 200 3215 \"-\" \"Go-http-client/1.1\"\\n2021-11-03 15:27:49,352 | root | INFO | 200\\n127.0.0.1 - - [03/Nov/2021:15:27:49 +0000] \"GET /swagger.json HTTP/1.0\" 200 3215 \"-\" \"Go-http-client/1.1\"\\n2021-11-03 15:27:54,647 | root | INFO | 200\\n127.0.0.1 - - [03/Nov/2021:15:27:54 +0000] \"GET /swagger.json HTTP/1.0\" 200 3215 \"-\" \"Go-http-client/1.1\"\\n2021-11-03 15:27:57,270 | root | INFO | 200\\n127.0.0.1 - - [03/Nov/2021:15:27:57 +0000] \"GET /swagger.json HTTP/1.0\" 200 3215 \"-\" \"Go-http-client/1.1\"\\n2021-11-03 15:27:58,603 | root | INFO | Validation Request Content-Type\\n2021-11-03 15:27:58,604 | root | INFO | Scoring Timer is set to 60.0 seconds\\n2021-11-03 15:27:58,916 | root | INFO | 200\\n127.0.0.1 - - [03/Nov/2021:15:27:58 +0000] \"POST /score?verbose=true HTTP/1.0\" 200 19 \"-\" \"Go-http-client/1.1\"\\n2021-11-03 15:31:08,840 | root | INFO | Validation Request Content-Type\\n2021-11-03 15:31:08,842 | root | INFO | Scoring Timer is set to 60.0 seconds\\n2021-11-03 15:31:09,147 | root | INFO | 200\\n127.0.0.1 - - [03/Nov/2021:15:31:09 +0000] \"POST /score?verbose=true HTTP/1.0\" 200 19 \"-\" \"Go-http-client/1.1\"\\n2021-11-03 15:31:20,273 | root | INFO | Validation Request Content-Type\\n2021-11-03 15:31:20,274 | root | INFO | Scoring Timer is set to 60.0 seconds\\n2021-11-03 15:31:20,567 | root | INFO | 200\\n127.0.0.1 - - [03/Nov/2021:15:31:20 +0000] \"POST /score?verbose=true HTTP/1.0\" 200 19 \"-\" \"Go-http-client/1.1\"\\n2021-11-03 15:31:30,977 | root | INFO | Validation Request Content-Type\\n2021-11-03 15:31:30,978 | root | INFO | Scoring Timer is set to 60.0 seconds\\n2021-11-03 15:31:31,218 | root | INFO | 200\\n127.0.0.1 - - [03/Nov/2021:15:31:31 +0000] \"POST /score?verbose=true HTTP/1.0\" 200 19 \"-\" \"Go-http-client/1.1\"\\n2021-11-03 15:31:37,148 | root | INFO | Validation Request Content-Type\\n2021-11-03 15:31:37,149 | root | INFO | Scoring Timer is set to 60.0 seconds\\n2021-11-03 15:31:37,409 | root | INFO | 200\\n127.0.0.1 - - [03/Nov/2021:15:31:37 +0000] \"POST /score?verbose=true HTTP/1.0\" 200 19 \"-\" \"Go-http-client/1.1\"\\n2021-11-03 15:34:47,399 | root | INFO | Validation Request Content-Type\\n2021-11-03 15:34:47,400 | root | INFO | Scoring Timer is set to 60.0 seconds\\n2021-11-03 15:34:47,642 | root | INFO | 200\\n127.0.0.1 - - [03/Nov/2021:15:34:47 +0000] \"POST /score?verbose=true HTTP/1.0\" 200 19 \"-\" \"Go-http-client/1.1\"\\n2021-11-03 15:35:57,576 | root | INFO | 200\\n127.0.0.1 - - [03/Nov/2021:15:35:57 +0000] \"GET /swagger.json HTTP/1.0\" 200 3215 \"-\" \"Go-http-client/1.1\"\\n2021-11-03 15:36:22,400 | root | INFO | 200\\n127.0.0.1 - - [03/Nov/2021:15:36:22 +0000] \"GET /swagger.json HTTP/1.0\" 200 3215 \"-\" \"Go-http-client/1.1\"\\n2021-11-03 15:37:01,340 | root | INFO | 200\\n127.0.0.1 - - [03/Nov/2021:15:37:01 +0000] \"GET /swagger.json HTTP/1.0\" 200 3215 \"-\" \"Go-http-client/1.1\"\\n2021-11-03 15:37:35,521 | root | INFO | 200\\n127.0.0.1 - - [03/Nov/2021:15:37:35 +0000] \"GET /swagger.json HTTP/1.0\" 200 3215 \"-\" \"Go-http-client/1.1\"\\n2021-11-03 15:39:03,136 | root | INFO | Validation Request Content-Type\\n2021-11-03 15:39:03,141 | root | INFO | Scoring Timer is set to 60.0 seconds\\n2021-11-03 15:39:03,423 | root | INFO | 200\\n127.0.0.1 - - [03/Nov/2021:15:39:03 +0000] \"POST /score HTTP/1.0\" 200 19 \"-\" \"Python-urllib/3.6\"\\n2021-11-03 15:41:23,198 | root | INFO | Validation Request Content-Type\\n2021-11-03 15:41:23,200 | root | INFO | Scoring Timer is set to 60.0 seconds\\n2021-11-03 15:41:23,433 | root | INFO | 200\\n127.0.0.1 - - [03/Nov/2021:15:41:23 +0000] \"POST /score HTTP/1.0\" 200 19 \"-\" \"Python-urllib/3.6\"\\n'"
      ]
     },
     "execution_count": 50,
     "metadata": {},
     "output_type": "execute_result"
    }
   ],
   "source": [
    "service.get_logs()"
   ]
  },
  {
   "cell_type": "markdown",
   "metadata": {},
   "source": [
    "# Resource clean-up"
   ]
  },
  {
   "cell_type": "code",
   "execution_count": 51,
   "metadata": {
    "jupyter": {
     "outputs_hidden": false,
     "source_hidden": false
    },
    "nteract": {
     "transient": {
      "deleting": false
     }
    }
   },
   "outputs": [],
   "source": [
    "service.delete()"
   ]
  },
  {
   "cell_type": "code",
   "execution_count": null,
   "metadata": {},
   "outputs": [],
   "source": []
  }
 ],
 "metadata": {
  "kernel_info": {
   "name": "python3"
  },
  "kernelspec": {
   "display_name": "Python 3 (ipykernel)",
   "language": "python",
   "name": "python3"
  },
  "language_info": {
   "codemirror_mode": {
    "name": "ipython",
    "version": 3
   },
   "file_extension": ".py",
   "mimetype": "text/x-python",
   "name": "python",
   "nbconvert_exporter": "python",
   "pygments_lexer": "ipython3",
   "version": "3.9.0"
  },
  "microsoft": {
   "host": {
    "AzureML": {
     "notebookHasBeenCompleted": true
    }
   }
  },
  "nteract": {
   "version": "nteract-front-end@1.0.0"
  },
  "toc": {
   "base_numbering": 1,
   "nav_menu": {},
   "number_sections": true,
   "sideBar": true,
   "skip_h1_title": false,
   "title_cell": "Table of Contents",
   "title_sidebar": "Contents",
   "toc_cell": false,
   "toc_position": {},
   "toc_section_display": true,
   "toc_window_display": false
  }
 },
 "nbformat": 4,
 "nbformat_minor": 2
}
