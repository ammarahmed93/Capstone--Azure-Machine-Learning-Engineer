{
 "cells": [
  {
   "cell_type": "markdown",
   "metadata": {},
   "source": [
    "# Automated ML\n",
    "\n",
    "TODO: Import Dependencies. In the cell below, import all the dependencies that you will need to complete the project."
   ]
  },
  {
   "cell_type": "code",
   "execution_count": 39,
   "metadata": {
    "gather": {
     "logged": 1598423888013
    },
    "jupyter": {
     "outputs_hidden": false,
     "source_hidden": false
    },
    "nteract": {
     "transient": {
      "deleting": false
     }
    }
   },
   "outputs": [],
   "source": [
    "import logging\n",
    "import os\n",
    "import csv\n",
    "\n",
    "from matplotlib import pyplot as plt\n",
    "import numpy as np\n",
    "import pandas as pd\n",
    "from sklearn import datasets\n",
    "import pkg_resources\n",
    "\n",
    "import azureml.core\n",
    "from azureml.core.experiment import Experiment\n",
    "from azureml.core.workspace import Workspace\n",
    "from azureml.train.automl import AutoMLConfig\n",
    "from azureml.core.dataset import Dataset\n",
    "from azureml.widgets import RunDetails\n",
    "\n",
    "from azureml.core.compute import AmlCompute\n",
    "from azureml.core.compute import ComputeTarget\n",
    "from azureml.core.compute_target import ComputeTargetException\n",
    "\n",
    "from azureml.core.webservice import AciWebservice, Webservice\n",
    "from azureml.core.model import InferenceConfig, Model"
   ]
  },
  {
   "cell_type": "markdown",
   "metadata": {},
   "source": [
    "## Dataset\n",
    "\n",
    "### Overview\n",
    "TODO: In this markdown cell, give an overview of the dataset you are using. Also mention the task you will be performing.\n",
    "\n",
    "\n",
    "TODO: Get data. In the cell below, write code to access the data you will be using in this project. Remember that the dataset needs to be external."
   ]
  },
  {
   "cell_type": "code",
   "execution_count": 15,
   "metadata": {
    "gather": {
     "logged": 1598423890461
    },
    "jupyter": {
     "outputs_hidden": false,
     "source_hidden": false
    },
    "nteract": {
     "transient": {
      "deleting": false
     }
    }
   },
   "outputs": [],
   "source": [
    "ws = Workspace.from_config()\n",
    "\n",
    "# choose a name for experiment\n",
    "experiment_name = 'classification-automl'\n",
    "project_folder = './capstoneProject'\n",
    "experiment=Experiment(ws, experiment_name)"
   ]
  },
  {
   "cell_type": "markdown",
   "metadata": {},
   "source": [
    "# Create or Attach an AmlCompute cluster"
   ]
  },
  {
   "cell_type": "code",
   "execution_count": 3,
   "metadata": {},
   "outputs": [
    {
     "name": "stdout",
     "output_type": "stream",
     "text": [
      "Found existing cluster, use it.\n",
      "Succeeded\n",
      "AmlCompute wait for completion finished\n",
      "\n",
      "Minimum number of nodes requested have been provisioned\n"
     ]
    }
   ],
   "source": [
    "# NOTE: update the cluster name to match the existing cluster\n",
    "# Choose a name for your CPU cluster\n",
    "amlcompute_cluster_name = \"aml-compute\"\n",
    "\n",
    "# Verify that cluster does not exist already\n",
    "try:\n",
    "    compute_target = ComputeTarget(workspace=ws, name=amlcompute_cluster_name)\n",
    "    print('Found existing cluster, use it.')\n",
    "except ComputeTargetException:\n",
    "    compute_config = AmlCompute.provisioning_configuration(vm_size='Standard_D16_v3',# for GPU, use \"STANDARD_NC6\"\n",
    "                                                           #vm_priority = 'lowpriority', # optional\n",
    "                                                           max_nodes=6)\n",
    "    compute_target = ComputeTarget.create(ws, amlcompute_cluster_name, compute_config)\n",
    "\n",
    "compute_target.wait_for_completion(show_output=True, min_node_count = 1, timeout_in_minutes = 0)\n",
    "# For a more detailed view of current AmlCompute status, use get_status()."
   ]
  },
  {
   "cell_type": "markdown",
   "metadata": {},
   "source": [
    "# Data"
   ]
  },
  {
   "cell_type": "code",
   "execution_count": 4,
   "metadata": {},
   "outputs": [
    {
     "data": {
      "text/html": [
       "<div>\n",
       "<style scoped>\n",
       "    .dataframe tbody tr th:only-of-type {\n",
       "        vertical-align: middle;\n",
       "    }\n",
       "\n",
       "    .dataframe tbody tr th {\n",
       "        vertical-align: top;\n",
       "    }\n",
       "\n",
       "    .dataframe thead th {\n",
       "        text-align: right;\n",
       "    }\n",
       "</style>\n",
       "<table border=\"1\" class=\"dataframe\">\n",
       "  <thead>\n",
       "    <tr style=\"text-align: right;\">\n",
       "      <th></th>\n",
       "      <th>fixed acidity</th>\n",
       "      <th>volatile acidity</th>\n",
       "      <th>citric acid</th>\n",
       "      <th>residual sugar</th>\n",
       "      <th>chlorides</th>\n",
       "      <th>free sulfur dioxide</th>\n",
       "      <th>total sulfur dioxide</th>\n",
       "      <th>density</th>\n",
       "      <th>pH</th>\n",
       "      <th>sulphates</th>\n",
       "      <th>alcohol</th>\n",
       "      <th>quality</th>\n",
       "    </tr>\n",
       "  </thead>\n",
       "  <tbody>\n",
       "    <tr>\n",
       "      <th>count</th>\n",
       "      <td>4898.000000</td>\n",
       "      <td>4898.000000</td>\n",
       "      <td>4898.000000</td>\n",
       "      <td>4898.000000</td>\n",
       "      <td>4898.000000</td>\n",
       "      <td>4898.000000</td>\n",
       "      <td>4898.000000</td>\n",
       "      <td>4898.000000</td>\n",
       "      <td>4898.000000</td>\n",
       "      <td>4898.000000</td>\n",
       "      <td>4898.000000</td>\n",
       "      <td>4898.000000</td>\n",
       "    </tr>\n",
       "    <tr>\n",
       "      <th>mean</th>\n",
       "      <td>6.854788</td>\n",
       "      <td>0.278241</td>\n",
       "      <td>0.334192</td>\n",
       "      <td>6.391415</td>\n",
       "      <td>0.045772</td>\n",
       "      <td>35.308085</td>\n",
       "      <td>138.360657</td>\n",
       "      <td>0.994027</td>\n",
       "      <td>3.188267</td>\n",
       "      <td>0.489847</td>\n",
       "      <td>10.514267</td>\n",
       "      <td>5.877909</td>\n",
       "    </tr>\n",
       "    <tr>\n",
       "      <th>std</th>\n",
       "      <td>0.843868</td>\n",
       "      <td>0.100795</td>\n",
       "      <td>0.121020</td>\n",
       "      <td>5.072058</td>\n",
       "      <td>0.021848</td>\n",
       "      <td>17.007137</td>\n",
       "      <td>42.498065</td>\n",
       "      <td>0.002991</td>\n",
       "      <td>0.151001</td>\n",
       "      <td>0.114126</td>\n",
       "      <td>1.230621</td>\n",
       "      <td>0.885639</td>\n",
       "    </tr>\n",
       "    <tr>\n",
       "      <th>min</th>\n",
       "      <td>3.800000</td>\n",
       "      <td>0.080000</td>\n",
       "      <td>0.000000</td>\n",
       "      <td>0.600000</td>\n",
       "      <td>0.009000</td>\n",
       "      <td>2.000000</td>\n",
       "      <td>9.000000</td>\n",
       "      <td>0.987110</td>\n",
       "      <td>2.720000</td>\n",
       "      <td>0.220000</td>\n",
       "      <td>8.000000</td>\n",
       "      <td>3.000000</td>\n",
       "    </tr>\n",
       "    <tr>\n",
       "      <th>25%</th>\n",
       "      <td>6.300000</td>\n",
       "      <td>0.210000</td>\n",
       "      <td>0.270000</td>\n",
       "      <td>1.700000</td>\n",
       "      <td>0.036000</td>\n",
       "      <td>23.000000</td>\n",
       "      <td>108.000000</td>\n",
       "      <td>0.991723</td>\n",
       "      <td>3.090000</td>\n",
       "      <td>0.410000</td>\n",
       "      <td>9.500000</td>\n",
       "      <td>5.000000</td>\n",
       "    </tr>\n",
       "    <tr>\n",
       "      <th>50%</th>\n",
       "      <td>6.800000</td>\n",
       "      <td>0.260000</td>\n",
       "      <td>0.320000</td>\n",
       "      <td>5.200000</td>\n",
       "      <td>0.043000</td>\n",
       "      <td>34.000000</td>\n",
       "      <td>134.000000</td>\n",
       "      <td>0.993740</td>\n",
       "      <td>3.180000</td>\n",
       "      <td>0.470000</td>\n",
       "      <td>10.400000</td>\n",
       "      <td>6.000000</td>\n",
       "    </tr>\n",
       "    <tr>\n",
       "      <th>75%</th>\n",
       "      <td>7.300000</td>\n",
       "      <td>0.320000</td>\n",
       "      <td>0.390000</td>\n",
       "      <td>9.900000</td>\n",
       "      <td>0.050000</td>\n",
       "      <td>46.000000</td>\n",
       "      <td>167.000000</td>\n",
       "      <td>0.996100</td>\n",
       "      <td>3.280000</td>\n",
       "      <td>0.550000</td>\n",
       "      <td>11.400000</td>\n",
       "      <td>6.000000</td>\n",
       "    </tr>\n",
       "    <tr>\n",
       "      <th>max</th>\n",
       "      <td>14.200000</td>\n",
       "      <td>1.100000</td>\n",
       "      <td>1.660000</td>\n",
       "      <td>65.800000</td>\n",
       "      <td>0.346000</td>\n",
       "      <td>289.000000</td>\n",
       "      <td>440.000000</td>\n",
       "      <td>1.038980</td>\n",
       "      <td>3.820000</td>\n",
       "      <td>1.080000</td>\n",
       "      <td>14.200000</td>\n",
       "      <td>9.000000</td>\n",
       "    </tr>\n",
       "  </tbody>\n",
       "</table>\n",
       "</div>"
      ],
      "text/plain": [
       "       fixed acidity  volatile acidity  citric acid  residual sugar  \\\n",
       "count    4898.000000       4898.000000  4898.000000     4898.000000   \n",
       "mean        6.854788          0.278241     0.334192        6.391415   \n",
       "std         0.843868          0.100795     0.121020        5.072058   \n",
       "min         3.800000          0.080000     0.000000        0.600000   \n",
       "25%         6.300000          0.210000     0.270000        1.700000   \n",
       "50%         6.800000          0.260000     0.320000        5.200000   \n",
       "75%         7.300000          0.320000     0.390000        9.900000   \n",
       "max        14.200000          1.100000     1.660000       65.800000   \n",
       "\n",
       "         chlorides  free sulfur dioxide  total sulfur dioxide      density  \\\n",
       "count  4898.000000          4898.000000           4898.000000  4898.000000   \n",
       "mean      0.045772            35.308085            138.360657     0.994027   \n",
       "std       0.021848            17.007137             42.498065     0.002991   \n",
       "min       0.009000             2.000000              9.000000     0.987110   \n",
       "25%       0.036000            23.000000            108.000000     0.991723   \n",
       "50%       0.043000            34.000000            134.000000     0.993740   \n",
       "75%       0.050000            46.000000            167.000000     0.996100   \n",
       "max       0.346000           289.000000            440.000000     1.038980   \n",
       "\n",
       "                pH    sulphates      alcohol      quality  \n",
       "count  4898.000000  4898.000000  4898.000000  4898.000000  \n",
       "mean      3.188267     0.489847    10.514267     5.877909  \n",
       "std       0.151001     0.114126     1.230621     0.885639  \n",
       "min       2.720000     0.220000     8.000000     3.000000  \n",
       "25%       3.090000     0.410000     9.500000     5.000000  \n",
       "50%       3.180000     0.470000    10.400000     6.000000  \n",
       "75%       3.280000     0.550000    11.400000     6.000000  \n",
       "max       3.820000     1.080000    14.200000     9.000000  "
      ]
     },
     "execution_count": 4,
     "metadata": {},
     "output_type": "execute_result"
    }
   ],
   "source": [
    "# Try to load the dataset from the Workspace. Otherwise, create it from the file\n",
    "# NOTE: update the key to match the dataset name\n",
    "found = False\n",
    "key_1 = \"wine-white\"\n",
    "key_2 = \"red-wine\"\n",
    "description_text = \"Wine Quality DataSet for Udacity Capstone Project\"\n",
    "\n",
    "if key_1 in ws.datasets.keys() and key_2 in ws.datasets.keys(): \n",
    "        found = True\n",
    "        dataset_1= ws.datasets[key_1] \n",
    "        dataset_2= ws.datasets[key_2] \n",
    "\n",
    "if not found:\n",
    "        # Create AML Dataset and register it into Workspace\n",
    "        whiteWine_data = 'https://archive.ics.uci.edu/ml/machine-learning-databases/wine-quality/winequality-white.csv'\n",
    "        redWine_data = 'https://archive.ics.uci.edu/ml/machine-learning-databases/wine-quality/winequality-white.csv'\n",
    "        \n",
    "        whiteWine_dataset = Dataset.Tabular.from_delimited_files(whiteWine_data, separator=';')        \n",
    "        redWine_dataset = Dataset.Tabular.from_delimited_files(redWine_data, separator=';')        \n",
    "        #Register Dataset in Workspace\n",
    "        dataset_1 = whiteWine_dataset.register(workspace=ws,\n",
    "                                   name=key_1,\n",
    "                                   description=description_text)\n",
    "        #Register Dataset in Workspace\n",
    "        dataset_2 = redWine_dataset.register(workspace=ws,\n",
    "                                   name=key_2,\n",
    "                                   description=description_text)\n",
    "\n",
    "\n",
    "whiteWine_df = dataset_1.to_pandas_dataframe()\n",
    "whiteWine_df.describe()"
   ]
  },
  {
   "cell_type": "code",
   "execution_count": 5,
   "metadata": {},
   "outputs": [],
   "source": [
    "whiteWine_df = dataset_1.to_pandas_dataframe()\n",
    "whiteWine_df['y'] = 1\n",
    "\n",
    "redWine_df = dataset_2.to_pandas_dataframe()\n",
    "redWine_df['y'] = 0"
   ]
  },
  {
   "cell_type": "code",
   "execution_count": 6,
   "metadata": {},
   "outputs": [
    {
     "data": {
      "text/html": [
       "<div>\n",
       "<style scoped>\n",
       "    .dataframe tbody tr th:only-of-type {\n",
       "        vertical-align: middle;\n",
       "    }\n",
       "\n",
       "    .dataframe tbody tr th {\n",
       "        vertical-align: top;\n",
       "    }\n",
       "\n",
       "    .dataframe thead th {\n",
       "        text-align: right;\n",
       "    }\n",
       "</style>\n",
       "<table border=\"1\" class=\"dataframe\">\n",
       "  <thead>\n",
       "    <tr style=\"text-align: right;\">\n",
       "      <th></th>\n",
       "      <th>fixed acidity</th>\n",
       "      <th>volatile acidity</th>\n",
       "      <th>citric acid</th>\n",
       "      <th>residual sugar</th>\n",
       "      <th>chlorides</th>\n",
       "      <th>free sulfur dioxide</th>\n",
       "      <th>total sulfur dioxide</th>\n",
       "      <th>density</th>\n",
       "      <th>pH</th>\n",
       "      <th>sulphates</th>\n",
       "      <th>alcohol</th>\n",
       "      <th>quality</th>\n",
       "      <th>y</th>\n",
       "    </tr>\n",
       "  </thead>\n",
       "  <tbody>\n",
       "    <tr>\n",
       "      <th>0</th>\n",
       "      <td>7.0</td>\n",
       "      <td>0.270</td>\n",
       "      <td>0.36</td>\n",
       "      <td>20.7</td>\n",
       "      <td>0.045</td>\n",
       "      <td>45.0</td>\n",
       "      <td>170.0</td>\n",
       "      <td>1.00100</td>\n",
       "      <td>3.00</td>\n",
       "      <td>0.45</td>\n",
       "      <td>8.8</td>\n",
       "      <td>6</td>\n",
       "      <td>1</td>\n",
       "    </tr>\n",
       "    <tr>\n",
       "      <th>1</th>\n",
       "      <td>6.3</td>\n",
       "      <td>0.300</td>\n",
       "      <td>0.34</td>\n",
       "      <td>1.6</td>\n",
       "      <td>0.049</td>\n",
       "      <td>14.0</td>\n",
       "      <td>132.0</td>\n",
       "      <td>0.99400</td>\n",
       "      <td>3.30</td>\n",
       "      <td>0.49</td>\n",
       "      <td>9.5</td>\n",
       "      <td>6</td>\n",
       "      <td>1</td>\n",
       "    </tr>\n",
       "    <tr>\n",
       "      <th>2</th>\n",
       "      <td>8.1</td>\n",
       "      <td>0.280</td>\n",
       "      <td>0.40</td>\n",
       "      <td>6.9</td>\n",
       "      <td>0.050</td>\n",
       "      <td>30.0</td>\n",
       "      <td>97.0</td>\n",
       "      <td>0.99510</td>\n",
       "      <td>3.26</td>\n",
       "      <td>0.44</td>\n",
       "      <td>10.1</td>\n",
       "      <td>6</td>\n",
       "      <td>1</td>\n",
       "    </tr>\n",
       "    <tr>\n",
       "      <th>3</th>\n",
       "      <td>7.2</td>\n",
       "      <td>0.230</td>\n",
       "      <td>0.32</td>\n",
       "      <td>8.5</td>\n",
       "      <td>0.058</td>\n",
       "      <td>47.0</td>\n",
       "      <td>186.0</td>\n",
       "      <td>0.99560</td>\n",
       "      <td>3.19</td>\n",
       "      <td>0.40</td>\n",
       "      <td>9.9</td>\n",
       "      <td>6</td>\n",
       "      <td>1</td>\n",
       "    </tr>\n",
       "    <tr>\n",
       "      <th>4</th>\n",
       "      <td>7.2</td>\n",
       "      <td>0.230</td>\n",
       "      <td>0.32</td>\n",
       "      <td>8.5</td>\n",
       "      <td>0.058</td>\n",
       "      <td>47.0</td>\n",
       "      <td>186.0</td>\n",
       "      <td>0.99560</td>\n",
       "      <td>3.19</td>\n",
       "      <td>0.40</td>\n",
       "      <td>9.9</td>\n",
       "      <td>6</td>\n",
       "      <td>1</td>\n",
       "    </tr>\n",
       "    <tr>\n",
       "      <th>...</th>\n",
       "      <td>...</td>\n",
       "      <td>...</td>\n",
       "      <td>...</td>\n",
       "      <td>...</td>\n",
       "      <td>...</td>\n",
       "      <td>...</td>\n",
       "      <td>...</td>\n",
       "      <td>...</td>\n",
       "      <td>...</td>\n",
       "      <td>...</td>\n",
       "      <td>...</td>\n",
       "      <td>...</td>\n",
       "      <td>...</td>\n",
       "    </tr>\n",
       "    <tr>\n",
       "      <th>1594</th>\n",
       "      <td>6.2</td>\n",
       "      <td>0.600</td>\n",
       "      <td>0.08</td>\n",
       "      <td>2.0</td>\n",
       "      <td>0.090</td>\n",
       "      <td>32.0</td>\n",
       "      <td>44.0</td>\n",
       "      <td>0.99490</td>\n",
       "      <td>3.45</td>\n",
       "      <td>0.58</td>\n",
       "      <td>10.5</td>\n",
       "      <td>5</td>\n",
       "      <td>0</td>\n",
       "    </tr>\n",
       "    <tr>\n",
       "      <th>1595</th>\n",
       "      <td>5.9</td>\n",
       "      <td>0.550</td>\n",
       "      <td>0.10</td>\n",
       "      <td>2.2</td>\n",
       "      <td>0.062</td>\n",
       "      <td>39.0</td>\n",
       "      <td>51.0</td>\n",
       "      <td>0.99512</td>\n",
       "      <td>3.52</td>\n",
       "      <td>0.76</td>\n",
       "      <td>11.2</td>\n",
       "      <td>6</td>\n",
       "      <td>0</td>\n",
       "    </tr>\n",
       "    <tr>\n",
       "      <th>1596</th>\n",
       "      <td>6.3</td>\n",
       "      <td>0.510</td>\n",
       "      <td>0.13</td>\n",
       "      <td>2.3</td>\n",
       "      <td>0.076</td>\n",
       "      <td>29.0</td>\n",
       "      <td>40.0</td>\n",
       "      <td>0.99574</td>\n",
       "      <td>3.42</td>\n",
       "      <td>0.75</td>\n",
       "      <td>11.0</td>\n",
       "      <td>6</td>\n",
       "      <td>0</td>\n",
       "    </tr>\n",
       "    <tr>\n",
       "      <th>1597</th>\n",
       "      <td>5.9</td>\n",
       "      <td>0.645</td>\n",
       "      <td>0.12</td>\n",
       "      <td>2.0</td>\n",
       "      <td>0.075</td>\n",
       "      <td>32.0</td>\n",
       "      <td>44.0</td>\n",
       "      <td>0.99547</td>\n",
       "      <td>3.57</td>\n",
       "      <td>0.71</td>\n",
       "      <td>10.2</td>\n",
       "      <td>5</td>\n",
       "      <td>0</td>\n",
       "    </tr>\n",
       "    <tr>\n",
       "      <th>1598</th>\n",
       "      <td>6.0</td>\n",
       "      <td>0.310</td>\n",
       "      <td>0.47</td>\n",
       "      <td>3.6</td>\n",
       "      <td>0.067</td>\n",
       "      <td>18.0</td>\n",
       "      <td>42.0</td>\n",
       "      <td>0.99549</td>\n",
       "      <td>3.39</td>\n",
       "      <td>0.66</td>\n",
       "      <td>11.0</td>\n",
       "      <td>6</td>\n",
       "      <td>0</td>\n",
       "    </tr>\n",
       "  </tbody>\n",
       "</table>\n",
       "<p>6497 rows × 13 columns</p>\n",
       "</div>"
      ],
      "text/plain": [
       "      fixed acidity  volatile acidity  citric acid  residual sugar  chlorides  \\\n",
       "0               7.0             0.270         0.36            20.7      0.045   \n",
       "1               6.3             0.300         0.34             1.6      0.049   \n",
       "2               8.1             0.280         0.40             6.9      0.050   \n",
       "3               7.2             0.230         0.32             8.5      0.058   \n",
       "4               7.2             0.230         0.32             8.5      0.058   \n",
       "...             ...               ...          ...             ...        ...   \n",
       "1594            6.2             0.600         0.08             2.0      0.090   \n",
       "1595            5.9             0.550         0.10             2.2      0.062   \n",
       "1596            6.3             0.510         0.13             2.3      0.076   \n",
       "1597            5.9             0.645         0.12             2.0      0.075   \n",
       "1598            6.0             0.310         0.47             3.6      0.067   \n",
       "\n",
       "      free sulfur dioxide  total sulfur dioxide  density    pH  sulphates  \\\n",
       "0                    45.0                 170.0  1.00100  3.00       0.45   \n",
       "1                    14.0                 132.0  0.99400  3.30       0.49   \n",
       "2                    30.0                  97.0  0.99510  3.26       0.44   \n",
       "3                    47.0                 186.0  0.99560  3.19       0.40   \n",
       "4                    47.0                 186.0  0.99560  3.19       0.40   \n",
       "...                   ...                   ...      ...   ...        ...   \n",
       "1594                 32.0                  44.0  0.99490  3.45       0.58   \n",
       "1595                 39.0                  51.0  0.99512  3.52       0.76   \n",
       "1596                 29.0                  40.0  0.99574  3.42       0.75   \n",
       "1597                 32.0                  44.0  0.99547  3.57       0.71   \n",
       "1598                 18.0                  42.0  0.99549  3.39       0.66   \n",
       "\n",
       "      alcohol  quality  y  \n",
       "0         8.8        6  1  \n",
       "1         9.5        6  1  \n",
       "2        10.1        6  1  \n",
       "3         9.9        6  1  \n",
       "4         9.9        6  1  \n",
       "...       ...      ... ..  \n",
       "1594     10.5        5  0  \n",
       "1595     11.2        6  0  \n",
       "1596     11.0        6  0  \n",
       "1597     10.2        5  0  \n",
       "1598     11.0        6  0  \n",
       "\n",
       "[6497 rows x 13 columns]"
      ]
     },
     "execution_count": 6,
     "metadata": {},
     "output_type": "execute_result"
    }
   ],
   "source": [
    "df = pd.concat([whiteWine_df,redWine_df])\n",
    "df"
   ]
  },
  {
   "cell_type": "code",
   "execution_count": null,
   "metadata": {},
   "outputs": [],
   "source": []
  },
  {
   "cell_type": "code",
   "execution_count": 7,
   "metadata": {},
   "outputs": [
    {
     "name": "stderr",
     "output_type": "stream",
     "text": [
      "Method register_pandas_dataframe: This is an experimental method, and may change at any time. Please see https://aka.ms/azuremlexperimental for more information.\n"
     ]
    },
    {
     "name": "stdout",
     "output_type": "stream",
     "text": [
      "Validating arguments.\n",
      "Arguments validated.\n",
      "Successfully obtained datastore reference and path.\n",
      "Uploading file to managed-dataset/709c2d74-3149-4a78-8ea0-f097448e710a/\n",
      "Successfully uploaded file to datastore.\n",
      "Creating and registering a new dataset.\n",
      "Successfully created and registered a new dataset.\n"
     ]
    }
   ],
   "source": [
    "#Register Dataset\n",
    "from azureml.core import Workspace, Datastore, Dataset\n",
    "import pandas as pd\n",
    "\n",
    "datastore = Datastore.get(ws, 'workspaceblobstore')\n",
    "dataset = Dataset.Tabular.register_pandas_dataframe(df, datastore, \"wine_classification\", show_progress=True)"
   ]
  },
  {
   "cell_type": "markdown",
   "metadata": {},
   "source": [
    "## AutoML Configuration\n",
    "\n",
    "TODO: Explain why you chose the automl settings and cofiguration you used below."
   ]
  },
  {
   "cell_type": "code",
   "execution_count": 12,
   "metadata": {},
   "outputs": [],
   "source": [
    "# automl settings\n",
    "automl_settings = {\n",
    "    \"n_cross_validations\": 3,\n",
    "    \"experiment_timeout_minutes\": 20,\n",
    "    \"enable_early_stopping\": True,\n",
    "    \"max_concurrent_iterations\": 4,\n",
    "    \"primary_metric\" : 'AUC_weighted'\n",
    "}\n",
    "\n",
    "#automl config \n",
    "automl_config = AutoMLConfig(compute_target=compute_target,\n",
    "                             path = project_folder,\n",
    "                             task = \"classification\",\n",
    "                             training_data=dataset,\n",
    "                             label_column_name=\"y\",   \n",
    "                             featurization= 'auto',\n",
    "                             debug_log = \"automl_errors.log\",\n",
    "                             **automl_settings\n",
    "                            )\n"
   ]
  },
  {
   "cell_type": "code",
   "execution_count": 16,
   "metadata": {
    "gather": {
     "logged": 1598431107951
    },
    "jupyter": {
     "outputs_hidden": false,
     "source_hidden": false
    },
    "nteract": {
     "transient": {
      "deleting": false
     }
    }
   },
   "outputs": [
    {
     "name": "stdout",
     "output_type": "stream",
     "text": [
      "Submitting remote run.\n"
     ]
    },
    {
     "data": {
      "text/html": [
       "<table style=\"width:100%\"><tr><th>Experiment</th><th>Id</th><th>Type</th><th>Status</th><th>Details Page</th><th>Docs Page</th></tr><tr><td>classification-automl</td><td>AutoML_1324cd9d-077c-4c97-a240-7ea26e06e70a</td><td>automl</td><td>NotStarted</td><td><a href=\"https://ml.azure.com/runs/AutoML_1324cd9d-077c-4c97-a240-7ea26e06e70a?wsid=/subscriptions/9a7511b8-150f-4a58-8528-3e7d50216c31/resourcegroups/aml-quickstarts-162225/workspaces/quick-starts-ws-162225&amp;tid=660b3398-b80e-49d2-bc5b-ac1dc93b5254\" target=\"_blank\" rel=\"noopener\">Link to Azure Machine Learning studio</a></td><td><a href=\"https://docs.microsoft.com/en-us/python/api/overview/azure/ml/intro?view=azure-ml-py\" target=\"_blank\" rel=\"noopener\">Link to Documentation</a></td></tr></table>"
      ],
      "text/plain": [
       "<IPython.core.display.HTML object>"
      ]
     },
     "metadata": {},
     "output_type": "display_data"
    }
   ],
   "source": [
    "# TODO: Submit your experiment\n",
    "automl_run = experiment.submit(automl_config)"
   ]
  },
  {
   "cell_type": "markdown",
   "metadata": {},
   "source": [
    "## Run Details\n",
    "\n",
    "OPTIONAL: Write about the different models trained and their performance. Why do you think some models did better than others?\n",
    "\n",
    "TODO: In the cell below, use the `RunDetails` widget to show the different experiments."
   ]
  },
  {
   "cell_type": "code",
   "execution_count": 17,
   "metadata": {
    "gather": {
     "logged": 1598431121770
    },
    "jupyter": {
     "outputs_hidden": false,
     "source_hidden": false
    },
    "nteract": {
     "transient": {
      "deleting": false
     }
    },
    "scrolled": false
   },
   "outputs": [
    {
     "data": {
      "application/vnd.jupyter.widget-view+json": {
       "model_id": "476c597776e04f20bd328c650122f2e1",
       "version_major": 2,
       "version_minor": 0
      },
      "text/plain": [
       "_AutoMLWidget(widget_settings={'childWidgetDisplay': 'popup', 'send_telemetry': False, 'log_level': 'INFO', 's…"
      ]
     },
     "metadata": {},
     "output_type": "display_data"
    },
    {
     "data": {
      "application/aml.mini.widget.v1": "{\"status\": \"Completed\", \"workbench_run_details_uri\": \"https://ml.azure.com/runs/AutoML_1324cd9d-077c-4c97-a240-7ea26e06e70a?wsid=/subscriptions/9a7511b8-150f-4a58-8528-3e7d50216c31/resourcegroups/aml-quickstarts-162225/workspaces/quick-starts-ws-162225&tid=660b3398-b80e-49d2-bc5b-ac1dc93b5254\", \"run_id\": \"AutoML_1324cd9d-077c-4c97-a240-7ea26e06e70a\", \"run_properties\": {\"run_id\": \"AutoML_1324cd9d-077c-4c97-a240-7ea26e06e70a\", \"created_utc\": \"2021-10-27T18:53:57.715948Z\", \"properties\": {\"num_iterations\": \"1000\", \"training_type\": \"TrainFull\", \"acquisition_function\": \"EI\", \"primary_metric\": \"AUC_weighted\", \"train_split\": \"0\", \"acquisition_parameter\": \"0\", \"num_cross_validation\": \"3\", \"target\": \"aml-compute\", \"AMLSettingsJsonString\": \"{\\\"path\\\":null,\\\"name\\\":\\\"classification-automl\\\",\\\"subscription_id\\\":\\\"9a7511b8-150f-4a58-8528-3e7d50216c31\\\",\\\"resource_group\\\":\\\"aml-quickstarts-162225\\\",\\\"workspace_name\\\":\\\"quick-starts-ws-162225\\\",\\\"region\\\":\\\"southcentralus\\\",\\\"compute_target\\\":\\\"aml-compute\\\",\\\"spark_service\\\":null,\\\"azure_service\\\":\\\"remote\\\",\\\"many_models\\\":false,\\\"pipeline_fetch_max_batch_size\\\":1,\\\"enable_batch_run\\\":false,\\\"enable_run_restructure\\\":false,\\\"start_auxiliary_runs_before_parent_complete\\\":false,\\\"enable_code_generation\\\":false,\\\"iterations\\\":1000,\\\"primary_metric\\\":\\\"AUC_weighted\\\",\\\"task_type\\\":\\\"classification\\\",\\\"data_script\\\":null,\\\"test_size\\\":0.0,\\\"test_include_predictions_only\\\":false,\\\"validation_size\\\":0.0,\\\"n_cross_validations\\\":3,\\\"y_min\\\":null,\\\"y_max\\\":null,\\\"num_classes\\\":null,\\\"featurization\\\":\\\"auto\\\",\\\"_ignore_package_version_incompatibilities\\\":false,\\\"is_timeseries\\\":false,\\\"max_cores_per_iteration\\\":1,\\\"max_concurrent_iterations\\\":4,\\\"iteration_timeout_minutes\\\":null,\\\"mem_in_mb\\\":null,\\\"enforce_time_on_windows\\\":false,\\\"experiment_timeout_minutes\\\":20,\\\"experiment_exit_score\\\":null,\\\"whitelist_models\\\":null,\\\"blacklist_algos\\\":[\\\"TensorFlowLinearClassifier\\\",\\\"TensorFlowDNN\\\"],\\\"supported_models\\\":[\\\"RandomForest\\\",\\\"TensorFlowDNN\\\",\\\"SGD\\\",\\\"XGBoostClassifier\\\",\\\"LinearSVM\\\",\\\"LogisticRegression\\\",\\\"LightGBM\\\",\\\"GradientBoosting\\\",\\\"MultinomialNaiveBayes\\\",\\\"DecisionTree\\\",\\\"TensorFlowLinearClassifier\\\",\\\"BernoulliNaiveBayes\\\",\\\"SVM\\\",\\\"ExtremeRandomTrees\\\",\\\"KNN\\\",\\\"AveragedPerceptronClassifier\\\"],\\\"private_models\\\":[],\\\"auto_blacklist\\\":true,\\\"blacklist_samples_reached\\\":false,\\\"exclude_nan_labels\\\":true,\\\"verbosity\\\":20,\\\"_debug_log\\\":\\\"azureml_automl.log\\\",\\\"show_warnings\\\":false,\\\"model_explainability\\\":true,\\\"service_url\\\":null,\\\"sdk_url\\\":null,\\\"sdk_packages\\\":null,\\\"enable_onnx_compatible_models\\\":false,\\\"enable_split_onnx_featurizer_estimator_models\\\":false,\\\"vm_type\\\":\\\"STANDARD_D16_V3\\\",\\\"telemetry_verbosity\\\":20,\\\"send_telemetry\\\":true,\\\"enable_dnn\\\":false,\\\"scenario\\\":\\\"SDK-1.13.0\\\",\\\"environment_label\\\":null,\\\"save_mlflow\\\":false,\\\"force_text_dnn\\\":false,\\\"enable_feature_sweeping\\\":true,\\\"enable_early_stopping\\\":true,\\\"early_stopping_n_iters\\\":10,\\\"metrics\\\":null,\\\"enable_metric_confidence\\\":false,\\\"enable_ensembling\\\":true,\\\"enable_stack_ensembling\\\":true,\\\"ensemble_iterations\\\":15,\\\"enable_tf\\\":false,\\\"enable_subsampling\\\":null,\\\"subsample_seed\\\":null,\\\"enable_nimbusml\\\":false,\\\"enable_streaming\\\":false,\\\"force_streaming\\\":false,\\\"track_child_runs\\\":true,\\\"allowed_private_models\\\":[],\\\"label_column_name\\\":\\\"y\\\",\\\"weight_column_name\\\":null,\\\"cv_split_column_names\\\":null,\\\"positive_label\\\":null,\\\"enable_local_managed\\\":false,\\\"_local_managed_run_id\\\":null,\\\"cost_mode\\\":1,\\\"lag_length\\\":0,\\\"metric_operation\\\":\\\"maximize\\\",\\\"preprocess\\\":true}\", \"DataPrepJsonString\": \"{\\\\\\\"training_data\\\\\\\": {\\\\\\\"datasetId\\\\\\\": \\\\\\\"da81d5c1-5c62-47fe-9b01-3b6c6c959391\\\\\\\"}, \\\\\\\"datasets\\\\\\\": 0}\", \"EnableSubsampling\": null, \"runTemplate\": \"AutoML\", \"azureml.runsource\": \"automl\", \"display_task_type\": \"classification\", \"dependencies_versions\": \"{\\\"azureml-widgets\\\": \\\"1.34.0\\\", \\\"azureml-train\\\": \\\"1.34.0\\\", \\\"azureml-train-restclients-hyperdrive\\\": \\\"1.34.0\\\", \\\"azureml-train-core\\\": \\\"1.34.0\\\", \\\"azureml-train-automl\\\": \\\"1.34.0\\\", \\\"azureml-train-automl-runtime\\\": \\\"1.34.0\\\", \\\"azureml-train-automl-client\\\": \\\"1.34.0\\\", \\\"azureml-tensorboard\\\": \\\"1.34.0\\\", \\\"azureml-telemetry\\\": \\\"1.34.0\\\", \\\"azureml-sdk\\\": \\\"1.34.0\\\", \\\"azureml-samples\\\": \\\"0+unknown\\\", \\\"azureml-responsibleai\\\": \\\"1.34.0\\\", \\\"azureml-pipeline\\\": \\\"1.34.0\\\", \\\"azureml-pipeline-steps\\\": \\\"1.34.0\\\", \\\"azureml-pipeline-core\\\": \\\"1.34.0\\\", \\\"azureml-opendatasets\\\": \\\"1.34.0\\\", \\\"azureml-mlflow\\\": \\\"1.34.0\\\", \\\"azureml-interpret\\\": \\\"1.34.0\\\", \\\"azureml-inference-server-http\\\": \\\"0.3.1\\\", \\\"azureml-explain-model\\\": \\\"1.34.0\\\", \\\"azureml-defaults\\\": \\\"1.34.0\\\", \\\"azureml-dataset-runtime\\\": \\\"1.34.0\\\", \\\"azureml-dataprep\\\": \\\"2.22.2\\\", \\\"azureml-dataprep-rslex\\\": \\\"1.20.1\\\", \\\"azureml-dataprep-native\\\": \\\"38.0.0\\\", \\\"azureml-datadrift\\\": \\\"1.34.0\\\", \\\"azureml-core\\\": \\\"1.34.0\\\", \\\"azureml-contrib-services\\\": \\\"1.34.0\\\", \\\"azureml-contrib-server\\\": \\\"1.34.0\\\", \\\"azureml-contrib-reinforcementlearning\\\": \\\"1.34.0\\\", \\\"azureml-contrib-pipeline-steps\\\": \\\"1.34.0\\\", \\\"azureml-contrib-notebook\\\": \\\"1.34.0\\\", \\\"azureml-contrib-fairness\\\": \\\"1.34.0\\\", \\\"azureml-contrib-dataset\\\": \\\"1.34.0\\\", \\\"azureml-contrib-automl-pipeline-steps\\\": \\\"1.34.0\\\", \\\"azureml-cli-common\\\": \\\"1.34.0\\\", \\\"azureml-automl-runtime\\\": \\\"1.34.0\\\", \\\"azureml-automl-dnn-nlp\\\": \\\"1.34.0\\\", \\\"azureml-automl-core\\\": \\\"1.34.0\\\", \\\"azureml-accel-models\\\": \\\"1.34.0\\\"}\", \"_aml_system_scenario_identification\": \"Remote.Parent\", \"ClientType\": \"SDK\", \"environment_cpu_name\": \"AzureML-AutoML\", \"environment_cpu_label\": \"prod\", \"environment_gpu_name\": \"AzureML-AutoML-GPU\", \"environment_gpu_label\": \"prod\", \"root_attribution\": \"automl\", \"attribution\": \"AutoML\", \"Orchestrator\": \"AutoML\", \"CancelUri\": \"https://southcentralus.api.azureml.ms/jasmine/v1.0/subscriptions/9a7511b8-150f-4a58-8528-3e7d50216c31/resourceGroups/aml-quickstarts-162225/providers/Microsoft.MachineLearningServices/workspaces/quick-starts-ws-162225/experimentids/f21bdc84-a769-488a-bfcc-b2be9c28c925/cancel/AutoML_1324cd9d-077c-4c97-a240-7ea26e06e70a\", \"ClientSdkVersion\": \"1.34.1\", \"snapshotId\": \"00000000-0000-0000-0000-000000000000\", \"SetupRunId\": \"AutoML_1324cd9d-077c-4c97-a240-7ea26e06e70a_setup\", \"SetupRunContainerId\": \"dcid.AutoML_1324cd9d-077c-4c97-a240-7ea26e06e70a_setup\", \"FeaturizationRunJsonPath\": \"featurizer_container.json\", \"FeaturizationRunId\": \"AutoML_1324cd9d-077c-4c97-a240-7ea26e06e70a_featurize\", \"ProblemInfoJsonString\": \"{\\\"dataset_num_categorical\\\": 0, \\\"is_sparse\\\": true, \\\"subsampling\\\": false, \\\"has_extra_col\\\": true, \\\"dataset_classes\\\": 2, \\\"dataset_features\\\": 18, \\\"dataset_samples\\\": 6497, \\\"single_frequency_class_detected\\\": false}\", \"ModelExplainRunId\": \"AutoML_1324cd9d-077c-4c97-a240-7ea26e06e70a_ModelExplain\"}, \"tags\": {\"model_explain_run\": \"best_run\", \"_aml_system_azureml.automlComponent\": \"AutoML\", \"pipeline_id\": \"\", \"score\": \"\", \"predicted_cost\": \"\", \"fit_time\": \"\", \"training_percent\": \"\", \"iteration\": \"\", \"run_preprocessor\": \"\", \"run_algorithm\": \"\", \"dynamic_whitelisting_iterations\": \"<25>;<30>;<35>;\", \"_aml_system_azureml.automl_early_exit_message\": \"No scores improved over last 20 iterations, so experiment stopped early. This early stopping behavior can be disabled by setting enable_early_stopping = False in AutoMLConfig for notebook/python SDK runs.\", \"automl_best_child_run_id\": \"AutoML_1324cd9d-077c-4c97-a240-7ea26e06e70a_36\", \"model_explain_best_run_child_id\": \"AutoML_1324cd9d-077c-4c97-a240-7ea26e06e70a_36\"}, \"end_time_utc\": \"2021-10-27T19:08:19.224646Z\", \"status\": \"Completed\", \"log_files\": {}, \"log_groups\": [], \"run_duration\": \"0:14:21\", \"run_number\": \"25\", \"run_queued_details\": {\"status\": \"Completed\", \"details\": null}}, \"child_runs\": [{\"run_id\": \"AutoML_1324cd9d-077c-4c97-a240-7ea26e06e70a_setup\", \"run_number\": 26, \"metric\": null, \"status\": \"Completed\", \"run_type\": \"azureml.scriptrun\", \"training_percent\": null, \"start_time\": \"2021-10-27T18:54:14.62788Z\", \"end_time\": \"2021-10-27T18:55:33.685564Z\", \"created_time\": \"2021-10-27T18:54:09.822384Z\", \"created_time_dt\": \"2021-10-27T18:54:09.822384Z\", \"duration\": \"0:01:23\", \"iteration\": null, \"goal\": null, \"run_name\": \"Completed\", \"run_properties\": null}, {\"run_id\": \"AutoML_1324cd9d-077c-4c97-a240-7ea26e06e70a_featurize\", \"run_number\": 27, \"metric\": null, \"status\": \"Completed\", \"run_type\": \"automl.featurization\", \"training_percent\": null, \"start_time\": \"2021-10-27T18:55:34.521972Z\", \"end_time\": \"2021-10-27T18:56:32.367517Z\", \"created_time\": \"2021-10-27T18:55:34.129618Z\", \"created_time_dt\": \"2021-10-27T18:55:34.129618Z\", \"duration\": \"0:00:58\", \"iteration\": null, \"goal\": null, \"run_name\": \"Completed\", \"run_properties\": null}, {\"run_id\": \"AutoML_1324cd9d-077c-4c97-a240-7ea26e06e70a_0\", \"run_number\": 29, \"metric\": null, \"status\": \"Completed\", \"run_type\": \"azureml.scriptrun\", \"training_percent\": \"100\", \"start_time\": \"2021-10-27T18:57:09.70375Z\", \"end_time\": \"2021-10-27T18:57:48.294034Z\", \"created_time\": \"2021-10-27T18:56:33.240491Z\", \"created_time_dt\": \"2021-10-27T18:56:33.240491Z\", \"duration\": \"0:01:15\", \"iteration\": \"0\", \"goal\": \"AUC_weighted_max\", \"run_name\": \"MaxAbsScaler, LightGBM\", \"run_properties\": \"copy=True\", \"primary_metric\": 0.99884139, \"best_metric\": 0.99884139}, {\"run_id\": \"AutoML_1324cd9d-077c-4c97-a240-7ea26e06e70a_3\", \"run_number\": 30, \"metric\": null, \"status\": \"Completed\", \"run_type\": \"azureml.scriptrun\", \"training_percent\": \"100\", \"start_time\": \"2021-10-27T18:56:37.179236Z\", \"end_time\": \"2021-10-27T18:57:20.893045Z\", \"created_time\": \"2021-10-27T18:56:33.261706Z\", \"created_time_dt\": \"2021-10-27T18:56:33.261706Z\", \"duration\": \"0:00:47\", \"iteration\": \"3\", \"goal\": \"AUC_weighted_max\", \"run_name\": \"MaxAbsScaler, RandomForest\", \"run_properties\": \"copy=True\", \"primary_metric\": 0.99606183, \"best_metric\": 0.99884139}, {\"run_id\": \"AutoML_1324cd9d-077c-4c97-a240-7ea26e06e70a_1\", \"run_number\": 31, \"metric\": null, \"status\": \"Completed\", \"run_type\": \"azureml.scriptrun\", \"training_percent\": \"100\", \"start_time\": \"2021-10-27T18:56:40.44568Z\", \"end_time\": \"2021-10-27T18:57:20.23982Z\", \"created_time\": \"2021-10-27T18:56:33.270767Z\", \"created_time_dt\": \"2021-10-27T18:56:33.270767Z\", \"duration\": \"0:00:46\", \"iteration\": \"1\", \"goal\": \"AUC_weighted_max\", \"run_name\": \"MaxAbsScaler, XGBoostClassifier\", \"run_properties\": \"copy=True\", \"primary_metric\": 0.99848686, \"best_metric\": 0.99884139}, {\"run_id\": \"AutoML_1324cd9d-077c-4c97-a240-7ea26e06e70a_2\", \"run_number\": 32, \"metric\": null, \"status\": \"Completed\", \"run_type\": \"azureml.scriptrun\", \"training_percent\": \"100\", \"start_time\": \"2021-10-27T18:57:12.379165Z\", \"end_time\": \"2021-10-27T18:57:51.592161Z\", \"created_time\": \"2021-10-27T18:56:33.456465Z\", \"created_time_dt\": \"2021-10-27T18:56:33.456465Z\", \"duration\": \"0:01:18\", \"iteration\": \"2\", \"goal\": \"AUC_weighted_max\", \"run_name\": \"MaxAbsScaler, ExtremeRandomTrees\", \"run_properties\": \"copy=True\", \"primary_metric\": 0.99233507, \"best_metric\": 0.99884139}, {\"run_id\": \"AutoML_1324cd9d-077c-4c97-a240-7ea26e06e70a_4\", \"run_number\": 33, \"metric\": null, \"status\": \"Completed\", \"run_type\": \"azureml.scriptrun\", \"training_percent\": \"100\", \"start_time\": \"2021-10-27T18:57:54.636197Z\", \"end_time\": \"2021-10-27T18:58:33.724545Z\", \"created_time\": \"2021-10-27T18:57:23.488873Z\", \"created_time_dt\": \"2021-10-27T18:57:23.488873Z\", \"duration\": \"0:01:10\", \"iteration\": \"4\", \"goal\": \"AUC_weighted_max\", \"run_name\": \"StandardScalerWrapper, LightGBM\", \"run_properties\": \"\\n    copy=True,\\n    with_mean=False,\\n    with_std=True\\n\", \"primary_metric\": 0.99564917, \"best_metric\": 0.99884139}, {\"run_id\": \"AutoML_1324cd9d-077c-4c97-a240-7ea26e06e70a_5\", \"run_number\": 34, \"metric\": null, \"status\": \"Completed\", \"run_type\": \"azureml.scriptrun\", \"training_percent\": \"100\", \"start_time\": \"2021-10-27T18:57:57.799728Z\", \"end_time\": \"2021-10-27T18:58:36.225518Z\", \"created_time\": \"2021-10-27T18:57:23.650976Z\", \"created_time_dt\": \"2021-10-27T18:57:23.650976Z\", \"duration\": \"0:01:12\", \"iteration\": \"5\", \"goal\": \"AUC_weighted_max\", \"run_name\": \"SparseNormalizer, XGBoostClassifier\", \"run_properties\": \"copy=True, norm='max'\", \"primary_metric\": 0.99571775, \"best_metric\": 0.99884139}, {\"run_id\": \"AutoML_1324cd9d-077c-4c97-a240-7ea26e06e70a_6\", \"run_number\": 35, \"metric\": null, \"status\": \"Completed\", \"run_type\": \"azureml.scriptrun\", \"training_percent\": \"100\", \"start_time\": \"2021-10-27T18:58:07.080189Z\", \"end_time\": \"2021-10-27T18:58:50.2117Z\", \"created_time\": \"2021-10-27T18:57:51.360838Z\", \"created_time_dt\": \"2021-10-27T18:57:51.360838Z\", \"duration\": \"0:00:58\", \"iteration\": \"6\", \"goal\": \"AUC_weighted_max\", \"run_name\": \"SparseNormalizer, RandomForest\", \"run_properties\": \"copy=True, norm='l2'\", \"primary_metric\": 0.99451329, \"best_metric\": 0.99884139}, {\"run_id\": \"AutoML_1324cd9d-077c-4c97-a240-7ea26e06e70a_7\", \"run_number\": 36, \"metric\": null, \"status\": \"Completed\", \"run_type\": \"azureml.scriptrun\", \"training_percent\": \"100\", \"start_time\": \"2021-10-27T18:58:07.78334Z\", \"end_time\": \"2021-10-27T18:58:46.95088Z\", \"created_time\": \"2021-10-27T18:57:54.902214Z\", \"created_time_dt\": \"2021-10-27T18:57:54.902214Z\", \"duration\": \"0:00:52\", \"iteration\": \"7\", \"goal\": \"AUC_weighted_max\", \"run_name\": \"StandardScalerWrapper, XGBoostClassifier\", \"run_properties\": \"\\n    copy=True,\\n    with_mean=False,\\n    with_std=False\\n\", \"primary_metric\": 0.99786168, \"best_metric\": 0.99884139}, {\"run_id\": \"AutoML_1324cd9d-077c-4c97-a240-7ea26e06e70a_8\", \"run_number\": 37, \"metric\": null, \"status\": \"Completed\", \"run_type\": \"azureml.scriptrun\", \"training_percent\": \"100\", \"start_time\": \"2021-10-27T18:58:51.541423Z\", \"end_time\": \"2021-10-27T19:01:15.813095Z\", \"created_time\": \"2021-10-27T18:58:36.550197Z\", \"created_time_dt\": \"2021-10-27T18:58:36.550197Z\", \"duration\": \"0:02:39\", \"iteration\": \"8\", \"goal\": \"AUC_weighted_max\", \"run_name\": \"SparseNormalizer, XGBoostClassifier\", \"run_properties\": \"copy=True, norm='max'\", \"primary_metric\": 0.99469531, \"best_metric\": 0.99884139}, {\"run_id\": \"AutoML_1324cd9d-077c-4c97-a240-7ea26e06e70a_9\", \"run_number\": 38, \"metric\": null, \"status\": \"Completed\", \"run_type\": \"azureml.scriptrun\", \"training_percent\": \"100\", \"start_time\": \"2021-10-27T18:58:55.394357Z\", \"end_time\": \"2021-10-27T18:59:34.848953Z\", \"created_time\": \"2021-10-27T18:58:40.069393Z\", \"created_time_dt\": \"2021-10-27T18:58:40.069393Z\", \"duration\": \"0:00:54\", \"iteration\": \"9\", \"goal\": \"AUC_weighted_max\", \"run_name\": \"MaxAbsScaler, RandomForest\", \"run_properties\": \"copy=True\", \"primary_metric\": 0.99544464, \"best_metric\": 0.99884139}, {\"run_id\": \"AutoML_1324cd9d-077c-4c97-a240-7ea26e06e70a_10\", \"run_number\": 39, \"metric\": null, \"status\": \"Completed\", \"run_type\": \"azureml.scriptrun\", \"training_percent\": \"100\", \"start_time\": \"2021-10-27T18:59:01.450151Z\", \"end_time\": \"2021-10-27T18:59:42.554898Z\", \"created_time\": \"2021-10-27T18:58:49.738305Z\", \"created_time_dt\": \"2021-10-27T18:58:49.738305Z\", \"duration\": \"0:00:52\", \"iteration\": \"10\", \"goal\": \"AUC_weighted_max\", \"run_name\": \"SparseNormalizer, LightGBM\", \"run_properties\": \"copy=True, norm='l1'\", \"primary_metric\": 0.99315253, \"best_metric\": 0.99884139}, {\"run_id\": \"AutoML_1324cd9d-077c-4c97-a240-7ea26e06e70a_11\", \"run_number\": 40, \"metric\": null, \"status\": \"Completed\", \"run_type\": \"azureml.scriptrun\", \"training_percent\": \"100\", \"start_time\": \"2021-10-27T18:59:07.465756Z\", \"end_time\": \"2021-10-27T18:59:56.193898Z\", \"created_time\": \"2021-10-27T18:58:53.532367Z\", \"created_time_dt\": \"2021-10-27T18:58:53.532367Z\", \"duration\": \"0:01:02\", \"iteration\": \"11\", \"goal\": \"AUC_weighted_max\", \"run_name\": \"MaxAbsScaler, ExtremeRandomTrees\", \"run_properties\": \"copy=True\", \"primary_metric\": 0.99605178, \"best_metric\": 0.99884139}, {\"run_id\": \"AutoML_1324cd9d-077c-4c97-a240-7ea26e06e70a_12\", \"run_number\": 41, \"metric\": null, \"status\": \"Completed\", \"run_type\": \"azureml.scriptrun\", \"training_percent\": \"100\", \"start_time\": \"2021-10-27T19:00:02.010682Z\", \"end_time\": \"2021-10-27T19:00:42.370354Z\", \"created_time\": \"2021-10-27T18:59:37.720355Z\", \"created_time_dt\": \"2021-10-27T18:59:37.720355Z\", \"duration\": \"0:01:04\", \"iteration\": \"12\", \"goal\": \"AUC_weighted_max\", \"run_name\": \"StandardScalerWrapper, XGBoostClassifier\", \"run_properties\": \"\\n    copy=True,\\n    with_mean=False,\\n    with_std=False\\n\", \"primary_metric\": 0.99768205, \"best_metric\": 0.99884139}, {\"run_id\": \"AutoML_1324cd9d-077c-4c97-a240-7ea26e06e70a_13\", \"run_number\": 42, \"metric\": null, \"status\": \"Completed\", \"run_type\": \"azureml.scriptrun\", \"training_percent\": \"100\", \"start_time\": \"2021-10-27T19:00:08.820905Z\", \"end_time\": \"2021-10-27T19:00:45.525212Z\", \"created_time\": \"2021-10-27T18:59:45.303263Z\", \"created_time_dt\": \"2021-10-27T18:59:45.303263Z\", \"duration\": \"0:01:00\", \"iteration\": \"13\", \"goal\": \"AUC_weighted_max\", \"run_name\": \"StandardScalerWrapper, ExtremeRandomTrees\", \"run_properties\": \"\\n    copy=True,\\n    with_mean=False,\\n    with_std=False\\n\", \"primary_metric\": 0.96050324, \"best_metric\": 0.99884139}, {\"run_id\": \"AutoML_1324cd9d-077c-4c97-a240-7ea26e06e70a_14\", \"run_number\": 43, \"metric\": null, \"status\": \"Completed\", \"run_type\": \"azureml.scriptrun\", \"training_percent\": \"100\", \"start_time\": \"2021-10-27T19:00:17.271696Z\", \"end_time\": \"2021-10-27T19:01:01.761003Z\", \"created_time\": \"2021-10-27T18:59:58.892241Z\", \"created_time_dt\": \"2021-10-27T18:59:58.892241Z\", \"duration\": \"0:01:02\", \"iteration\": \"14\", \"goal\": \"AUC_weighted_max\", \"run_name\": \"StandardScalerWrapper, RandomForest\", \"run_properties\": \"\\n    copy=True,\\n    with_mean=False,\\n    with_std=False\\n\", \"primary_metric\": 0.99829916, \"best_metric\": 0.99884139}, {\"run_id\": \"AutoML_1324cd9d-077c-4c97-a240-7ea26e06e70a_15\", \"run_number\": 44, \"metric\": null, \"status\": \"Completed\", \"run_type\": \"azureml.scriptrun\", \"training_percent\": \"100\", \"start_time\": \"2021-10-27T19:01:07.55241Z\", \"end_time\": \"2021-10-27T19:01:53.22992Z\", \"created_time\": \"2021-10-27T19:00:45.227041Z\", \"created_time_dt\": \"2021-10-27T19:00:45.227041Z\", \"duration\": \"0:01:08\", \"iteration\": \"15\", \"goal\": \"AUC_weighted_max\", \"run_name\": \"MaxAbsScaler, LightGBM\", \"run_properties\": \"copy=True\", \"primary_metric\": 0.99629943, \"best_metric\": 0.99884139}, {\"run_id\": \"AutoML_1324cd9d-077c-4c97-a240-7ea26e06e70a_16\", \"run_number\": 45, \"metric\": null, \"status\": \"Completed\", \"run_type\": \"azureml.scriptrun\", \"training_percent\": \"100\", \"start_time\": \"2021-10-27T19:01:10.606176Z\", \"end_time\": \"2021-10-27T19:03:36.010401Z\", \"created_time\": \"2021-10-27T19:00:48.836694Z\", \"created_time_dt\": \"2021-10-27T19:00:48.836694Z\", \"duration\": \"0:02:47\", \"iteration\": \"16\", \"goal\": \"AUC_weighted_max\", \"run_name\": \"MaxAbsScaler, LogisticRegression\", \"run_properties\": \"copy=True\", \"primary_metric\": 0.99511645, \"best_metric\": 0.99884139}, {\"run_id\": \"AutoML_1324cd9d-077c-4c97-a240-7ea26e06e70a_17\", \"run_number\": 46, \"metric\": null, \"status\": \"Completed\", \"run_type\": \"azureml.scriptrun\", \"training_percent\": \"100\", \"start_time\": \"2021-10-27T19:01:23.677217Z\", \"end_time\": \"2021-10-27T19:02:09.209308Z\", \"created_time\": \"2021-10-27T19:01:04.674566Z\", \"created_time_dt\": \"2021-10-27T19:01:04.674566Z\", \"duration\": \"0:01:04\", \"iteration\": \"17\", \"goal\": \"AUC_weighted_max\", \"run_name\": \"StandardScalerWrapper, ExtremeRandomTrees\", \"run_properties\": \"\\n    copy=True,\\n    with_mean=False,\\n    with_std=True\\n\", \"primary_metric\": 0.99652938, \"best_metric\": 0.99884139}, {\"run_id\": \"AutoML_1324cd9d-077c-4c97-a240-7ea26e06e70a_18\", \"run_number\": 47, \"metric\": null, \"status\": \"Completed\", \"run_type\": \"azureml.scriptrun\", \"training_percent\": \"100\", \"start_time\": \"2021-10-27T19:01:31.881524Z\", \"end_time\": \"2021-10-27T19:03:57.04808Z\", \"created_time\": \"2021-10-27T19:01:18.49217Z\", \"created_time_dt\": \"2021-10-27T19:01:18.49217Z\", \"duration\": \"0:02:38\", \"iteration\": \"18\", \"goal\": \"AUC_weighted_max\", \"run_name\": \"StandardScalerWrapper, XGBoostClassifier\", \"run_properties\": \"\\n    copy=True,\\n    with_mean=False,\\n    with_std=False\\n\", \"primary_metric\": 0.99473615, \"best_metric\": 0.99884139}, {\"run_id\": \"AutoML_1324cd9d-077c-4c97-a240-7ea26e06e70a_19\", \"run_number\": 48, \"metric\": null, \"status\": \"Completed\", \"run_type\": \"azureml.scriptrun\", \"training_percent\": \"100\", \"start_time\": \"2021-10-27T19:02:15.703605Z\", \"end_time\": \"2021-10-27T19:03:47.8198Z\", \"created_time\": \"2021-10-27T19:01:55.909993Z\", \"created_time_dt\": \"2021-10-27T19:01:55.909993Z\", \"duration\": \"0:01:51\", \"iteration\": \"19\", \"goal\": \"AUC_weighted_max\", \"run_name\": \"MaxAbsScaler, ExtremeRandomTrees\", \"run_properties\": \"copy=True\", \"primary_metric\": 0.99203673, \"best_metric\": 0.99884139}, {\"run_id\": \"AutoML_1324cd9d-077c-4c97-a240-7ea26e06e70a_20\", \"run_number\": 49, \"metric\": null, \"status\": \"Completed\", \"run_type\": \"azureml.scriptrun\", \"training_percent\": \"100\", \"start_time\": \"2021-10-27T19:02:24.394838Z\", \"end_time\": \"2021-10-27T19:03:04.394862Z\", \"created_time\": \"2021-10-27T19:02:12.306303Z\", \"created_time_dt\": \"2021-10-27T19:02:12.306303Z\", \"duration\": \"0:00:52\", \"iteration\": \"20\", \"goal\": \"AUC_weighted_max\", \"run_name\": \"MaxAbsScaler, LogisticRegression\", \"run_properties\": \"copy=True\", \"primary_metric\": 0.99518543, \"best_metric\": 0.99884139}, {\"run_id\": \"AutoML_1324cd9d-077c-4c97-a240-7ea26e06e70a_21\", \"run_number\": 50, \"metric\": null, \"status\": \"Completed\", \"run_type\": \"azureml.scriptrun\", \"training_percent\": \"100\", \"start_time\": \"2021-10-27T19:03:16.47446Z\", \"end_time\": \"2021-10-27T19:03:54.738936Z\", \"created_time\": \"2021-10-27T19:03:07.298999Z\", \"created_time_dt\": \"2021-10-27T19:03:07.298999Z\", \"duration\": \"0:00:47\", \"iteration\": \"21\", \"goal\": \"AUC_weighted_max\", \"run_name\": \"StandardScalerWrapper, XGBoostClassifier\", \"run_properties\": \"\\n    copy=True,\\n    with_mean=False,\\n    with_std=False\\n\", \"primary_metric\": 0.99512205, \"best_metric\": 0.99884139}, {\"run_id\": \"AutoML_1324cd9d-077c-4c97-a240-7ea26e06e70a_22\", \"run_number\": 51, \"metric\": null, \"status\": \"Completed\", \"run_type\": \"azureml.scriptrun\", \"training_percent\": \"100\", \"start_time\": \"2021-10-27T19:03:45.017174Z\", \"end_time\": \"2021-10-27T19:04:24.526422Z\", \"created_time\": \"2021-10-27T19:03:38.912246Z\", \"created_time_dt\": \"2021-10-27T19:03:38.912246Z\", \"duration\": \"0:00:45\", \"iteration\": \"22\", \"goal\": \"AUC_weighted_max\", \"run_name\": \"StandardScalerWrapper, XGBoostClassifier\", \"run_properties\": \"\\n    copy=True,\\n    with_mean=False,\\n    with_std=False\\n\", \"primary_metric\": 0.9986597, \"best_metric\": 0.99884139}, {\"run_id\": \"AutoML_1324cd9d-077c-4c97-a240-7ea26e06e70a_23\", \"run_number\": 52, \"metric\": null, \"status\": \"Completed\", \"run_type\": \"azureml.scriptrun\", \"training_percent\": \"100\", \"start_time\": \"2021-10-27T19:03:58.08448Z\", \"end_time\": \"2021-10-27T19:04:36.241782Z\", \"created_time\": \"2021-10-27T19:03:50.825125Z\", \"created_time_dt\": \"2021-10-27T19:03:50.825125Z\", \"duration\": \"0:00:45\", \"iteration\": \"23\", \"goal\": \"AUC_weighted_max\", \"run_name\": \"MaxAbsScaler, RandomForest\", \"run_properties\": \"copy=True\", \"primary_metric\": 0.99314848, \"best_metric\": 0.99884139}, {\"run_id\": \"AutoML_1324cd9d-077c-4c97-a240-7ea26e06e70a_24\", \"run_number\": 53, \"metric\": null, \"status\": \"Completed\", \"run_type\": \"azureml.scriptrun\", \"training_percent\": \"100\", \"start_time\": \"2021-10-27T19:04:05.125784Z\", \"end_time\": \"2021-10-27T19:04:45.349396Z\", \"created_time\": \"2021-10-27T19:03:57.768386Z\", \"created_time_dt\": \"2021-10-27T19:03:57.768386Z\", \"duration\": \"0:00:47\", \"iteration\": \"24\", \"goal\": \"AUC_weighted_max\", \"run_name\": \"SparseNormalizer, XGBoostClassifier\", \"run_properties\": \"copy=True, norm='max'\", \"primary_metric\": 0.99300367, \"best_metric\": 0.99884139}, {\"run_id\": \"AutoML_1324cd9d-077c-4c97-a240-7ea26e06e70a_25\", \"run_number\": 54, \"metric\": null, \"status\": \"Completed\", \"run_type\": \"azureml.scriptrun\", \"training_percent\": \"100\", \"start_time\": \"2021-10-27T19:04:13.231973Z\", \"end_time\": \"2021-10-27T19:04:53.723367Z\", \"created_time\": \"2021-10-27T19:04:06.017042Z\", \"created_time_dt\": \"2021-10-27T19:04:06.017042Z\", \"duration\": \"0:00:47\", \"iteration\": \"25\", \"goal\": \"AUC_weighted_max\", \"run_name\": \"MaxAbsScaler, LightGBM\", \"run_properties\": \"copy=True\", \"primary_metric\": 0.99736971, \"best_metric\": 0.99884139}, {\"run_id\": \"AutoML_1324cd9d-077c-4c97-a240-7ea26e06e70a_26\", \"run_number\": 55, \"metric\": null, \"status\": \"Completed\", \"run_type\": \"azureml.scriptrun\", \"training_percent\": \"100\", \"start_time\": \"2021-10-27T19:04:35.201181Z\", \"end_time\": \"2021-10-27T19:06:59.64321Z\", \"created_time\": \"2021-10-27T19:04:26.572471Z\", \"created_time_dt\": \"2021-10-27T19:04:26.572471Z\", \"duration\": \"0:02:33\", \"iteration\": \"26\", \"goal\": \"AUC_weighted_max\", \"run_name\": \"StandardScalerWrapper, LogisticRegression\", \"run_properties\": \"\\n    copy=True,\\n    with_mean=False,\\n    with_std=True\\n\", \"primary_metric\": 0.99516425, \"best_metric\": 0.99884139}, {\"run_id\": \"AutoML_1324cd9d-077c-4c97-a240-7ea26e06e70a_27\", \"run_number\": 56, \"metric\": null, \"status\": \"Completed\", \"run_type\": \"azureml.scriptrun\", \"training_percent\": \"100\", \"start_time\": \"2021-10-27T19:04:44.449021Z\", \"end_time\": \"2021-10-27T19:05:26.207693Z\", \"created_time\": \"2021-10-27T19:04:38.065229Z\", \"created_time_dt\": \"2021-10-27T19:04:38.065229Z\", \"duration\": \"0:00:48\", \"iteration\": \"27\", \"goal\": \"AUC_weighted_max\", \"run_name\": \"StandardScalerWrapper, XGBoostClassifier\", \"run_properties\": \"\\n    copy=True,\\n    with_mean=False,\\n    with_std=False\\n\", \"primary_metric\": 0.99877959, \"best_metric\": 0.99884139}, {\"run_id\": \"AutoML_1324cd9d-077c-4c97-a240-7ea26e06e70a_28\", \"run_number\": 57, \"metric\": null, \"status\": \"Completed\", \"run_type\": \"azureml.scriptrun\", \"training_percent\": \"100\", \"start_time\": \"2021-10-27T19:04:54.317577Z\", \"end_time\": \"2021-10-27T19:05:36.707727Z\", \"created_time\": \"2021-10-27T19:04:47.314535Z\", \"created_time_dt\": \"2021-10-27T19:04:47.314535Z\", \"duration\": \"0:00:49\", \"iteration\": \"28\", \"goal\": \"AUC_weighted_max\", \"run_name\": \"MaxAbsScaler, LogisticRegression\", \"run_properties\": \"copy=True\", \"primary_metric\": 0.99510259, \"best_metric\": 0.99884139}, {\"run_id\": \"AutoML_1324cd9d-077c-4c97-a240-7ea26e06e70a_29\", \"run_number\": 58, \"metric\": null, \"status\": \"Completed\", \"run_type\": \"azureml.scriptrun\", \"training_percent\": \"100\", \"start_time\": \"2021-10-27T19:05:03.416248Z\", \"end_time\": \"2021-10-27T19:05:46.732707Z\", \"created_time\": \"2021-10-27T19:04:55.779577Z\", \"created_time_dt\": \"2021-10-27T19:04:55.779577Z\", \"duration\": \"0:00:50\", \"iteration\": \"29\", \"goal\": \"AUC_weighted_max\", \"run_name\": \"MaxAbsScaler, LogisticRegression\", \"run_properties\": \"copy=True\", \"primary_metric\": 0.99509364, \"best_metric\": 0.99884139}, {\"run_id\": \"AutoML_1324cd9d-077c-4c97-a240-7ea26e06e70a_30\", \"run_number\": 59, \"metric\": null, \"status\": \"Completed\", \"run_type\": \"azureml.scriptrun\", \"training_percent\": \"100\", \"start_time\": \"2021-10-27T19:05:35.8339Z\", \"end_time\": \"2021-10-27T19:06:15.77491Z\", \"created_time\": \"2021-10-27T19:05:29.001787Z\", \"created_time_dt\": \"2021-10-27T19:05:29.001787Z\", \"duration\": \"0:00:46\", \"iteration\": \"30\", \"goal\": \"AUC_weighted_max\", \"run_name\": \"MaxAbsScaler, LightGBM\", \"run_properties\": \"copy=True\", \"primary_metric\": 0.99477466, \"best_metric\": 0.99884139}, {\"run_id\": \"AutoML_1324cd9d-077c-4c97-a240-7ea26e06e70a_31\", \"run_number\": 60, \"metric\": null, \"status\": \"Completed\", \"run_type\": \"azureml.scriptrun\", \"training_percent\": \"100\", \"start_time\": \"2021-10-27T19:05:46.574757Z\", \"end_time\": \"2021-10-27T19:06:29.700626Z\", \"created_time\": \"2021-10-27T19:05:39.167385Z\", \"created_time_dt\": \"2021-10-27T19:05:39.167385Z\", \"duration\": \"0:00:50\", \"iteration\": \"31\", \"goal\": \"AUC_weighted_max\", \"run_name\": \"StandardScalerWrapper, XGBoostClassifier\", \"run_properties\": \"\\n    copy=True,\\n    with_mean=False,\\n    with_std=False\\n\", \"primary_metric\": 0.99851525, \"best_metric\": 0.99884139}, {\"run_id\": \"AutoML_1324cd9d-077c-4c97-a240-7ea26e06e70a_32\", \"run_number\": 61, \"metric\": null, \"status\": \"Completed\", \"run_type\": \"azureml.scriptrun\", \"training_percent\": \"100\", \"start_time\": \"2021-10-27T19:05:54.744878Z\", \"end_time\": \"2021-10-27T19:06:40.550832Z\", \"created_time\": \"2021-10-27T19:05:49.35999Z\", \"created_time_dt\": \"2021-10-27T19:05:49.35999Z\", \"duration\": \"0:00:51\", \"iteration\": \"32\", \"goal\": \"AUC_weighted_max\", \"run_name\": \"StandardScalerWrapper, RandomForest\", \"run_properties\": \"\\n    copy=True,\\n    with_mean=False,\\n    with_std=False\\n\", \"primary_metric\": 0.9935445, \"best_metric\": 0.99884139}, {\"run_id\": \"AutoML_1324cd9d-077c-4c97-a240-7ea26e06e70a_33\", \"run_number\": 62, \"metric\": null, \"status\": \"Canceled\", \"run_type\": \"azureml.scriptrun\", \"training_percent\": \"100\", \"start_time\": \"2021-10-27T19:06:25.877305Z\", \"end_time\": \"2021-10-27T19:07:00.937016Z\", \"created_time\": \"2021-10-27T19:06:17.831399Z\", \"created_time_dt\": \"2021-10-27T19:06:17.831399Z\", \"duration\": \"0:00:43\", \"iteration\": \"33\", \"goal\": \"AUC_weighted_max\", \"run_name\": \"StandardScalerWrapper, XGBoostClassifier\", \"run_properties\": \"\\n    copy=True,\\n    with_mean=False,\\n    with_std=False\\n\", \"primary_metric\": 0.99860912, \"best_metric\": 0.99884139}, {\"run_id\": \"AutoML_1324cd9d-077c-4c97-a240-7ea26e06e70a_34\", \"run_number\": 63, \"metric\": null, \"status\": \"Canceled\", \"run_type\": \"azureml.scriptrun\", \"training_percent\": \"100\", \"start_time\": \"2021-10-27T19:06:36.768659Z\", \"end_time\": \"2021-10-27T19:07:00.658301Z\", \"created_time\": \"2021-10-27T19:06:31.672331Z\", \"created_time_dt\": \"2021-10-27T19:06:31.672331Z\", \"duration\": \"0:00:28\", \"iteration\": \"34\", \"goal\": \"AUC_weighted_max\", \"run_name\": \"StandardScalerWrapper, XGBoostClassifier\", \"run_properties\": \"\\n    copy=True,\\n    with_mean=False,\\n    with_std=False\\n\", \"primary_metric\": 0.9984555, \"best_metric\": 0.99884139}, {\"run_id\": \"AutoML_1324cd9d-077c-4c97-a240-7ea26e06e70a_35\", \"run_number\": 64, \"metric\": null, \"status\": \"Canceled\", \"run_type\": \"azureml.scriptrun\", \"training_percent\": \"100\", \"start_time\": \"2021-10-27T19:06:49.78043Z\", \"end_time\": \"2021-10-27T19:07:00.698661Z\", \"created_time\": \"2021-10-27T19:06:43.594645Z\", \"created_time_dt\": \"2021-10-27T19:06:43.594645Z\", \"duration\": \"0:00:17\", \"iteration\": \"35\", \"goal\": null, \"run_name\": \"Canceled\", \"run_properties\": null}, {\"run_id\": \"AutoML_1324cd9d-077c-4c97-a240-7ea26e06e70a_36\", \"run_number\": 65, \"metric\": null, \"status\": \"Completed\", \"run_type\": \"azureml.scriptrun\", \"training_percent\": \"100\", \"start_time\": \"2021-10-27T19:07:09.868798Z\", \"end_time\": \"2021-10-27T19:08:07.670734Z\", \"created_time\": \"2021-10-27T19:07:01.823347Z\", \"created_time_dt\": \"2021-10-27T19:07:01.823347Z\", \"duration\": \"0:01:05\", \"iteration\": \"36\", \"goal\": \"AUC_weighted_max\", \"run_name\": \"VotingEnsemble\", \"run_properties\": \"\\n    estimators=[('0', Pipeline(\\n        memory=None,\\n        steps=[('maxabsscaler', MaxAbsScaler(\\n            copy=True\\n        \", \"primary_metric\": 0.99888691, \"best_metric\": 0.99888691}, {\"run_id\": \"AutoML_1324cd9d-077c-4c97-a240-7ea26e06e70a_37\", \"run_number\": 66, \"metric\": null, \"status\": \"Completed\", \"run_type\": \"azureml.scriptrun\", \"training_percent\": \"100\", \"start_time\": \"2021-10-27T19:07:10.016792Z\", \"end_time\": \"2021-10-27T19:08:17.420598Z\", \"created_time\": \"2021-10-27T19:07:01.917151Z\", \"created_time_dt\": \"2021-10-27T19:07:01.917151Z\", \"duration\": \"0:01:15\", \"iteration\": \"37\", \"goal\": \"AUC_weighted_max\", \"run_name\": \"StackEnsemble\", \"run_properties\": \"\\n    base_learners=[('0', Pipeline(\\n        memory=None,\\n        steps=[('maxabsscaler', MaxAbsScaler(\\n            copy=True\\n        \", \"primary_metric\": 0.99880094, \"best_metric\": 0.99888691}], \"children_metrics\": {\"categories\": [0], \"series\": {\"AUC_macro\": [{\"categories\": [\"0\", \"1\", \"2\", \"3\", \"4\", \"5\", \"6\", \"7\", \"8\", \"9\", \"10\", \"11\", \"12\", \"13\", \"14\", \"15\", \"16\", \"17\", \"18\", \"19\", \"20\", \"21\", \"22\", \"23\", \"24\", \"25\", \"26\", \"27\", \"28\", \"29\", \"30\", \"31\", \"32\", \"33\", \"34\", \"36\", \"37\"], \"mode\": \"markers\", \"name\": \"AUC_macro\", \"stepped\": false, \"type\": \"scatter\", \"data\": [0.9988413863768827, 0.9984868552752948, 0.9923350699318084, 0.9960618281460967, 0.9956491674221954, 0.99571774507108, 0.9945132895145975, 0.9978616770739827, 0.9946953131660692, 0.995444642263925, 0.9931525349637139, 0.9960517798507368, 0.9976820484567921, 0.9605032367992595, 0.9982991602674662, 0.9962994254369676, 0.9951164504247646, 0.9965293831001567, 0.9947361503576596, 0.992036729696252, 0.9951854292303061, 0.995122049322282, 0.998659697173473, 0.9931484808711204, 0.993003670796419, 0.9973697063139992, 0.9951642533716196, 0.9987795932362715, 0.9951025861500281, 0.9950936429143367, 0.9947746610354761, 0.9985152473825806, 0.9935444972228478, 0.9986091196629912, 0.9984554971352143, 0.9988869093259961, 0.9988009364834826]}, {\"categories\": [\"0\", \"1\", \"2\", \"3\", \"4\", \"5\", \"6\", \"7\", \"8\", \"9\", \"10\", \"11\", \"12\", \"13\", \"14\", \"15\", \"16\", \"17\", \"18\", \"19\", \"20\", \"21\", \"22\", \"23\", \"24\", \"25\", \"26\", \"27\", \"28\", \"29\", \"30\", \"31\", \"32\", \"33\", \"34\", \"36\", \"37\"], \"mode\": \"lines\", \"name\": \"AUC_macro_max\", \"stepped\": true, \"type\": \"scatter\", \"data\": [0.9988413863768827, 0.9988413863768827, 0.9988413863768827, 0.9988413863768827, 0.9988413863768827, 0.9988413863768827, 0.9988413863768827, 0.9988413863768827, 0.9988413863768827, 0.9988413863768827, 0.9988413863768827, 0.9988413863768827, 0.9988413863768827, 0.9988413863768827, 0.9988413863768827, 0.9988413863768827, 0.9988413863768827, 0.9988413863768827, 0.9988413863768827, 0.9988413863768827, 0.9988413863768827, 0.9988413863768827, 0.9988413863768827, 0.9988413863768827, 0.9988413863768827, 0.9988413863768827, 0.9988413863768827, 0.9988413863768827, 0.9988413863768827, 0.9988413863768827, 0.9988413863768827, 0.9988413863768827, 0.9988413863768827, 0.9988413863768827, 0.9988413863768827, 0.9988869093259961, 0.9988869093259961]}], \"average_precision_score_micro\": [{\"categories\": [\"0\", \"1\", \"2\", \"3\", \"4\", \"5\", \"6\", \"7\", \"8\", \"9\", \"10\", \"11\", \"12\", \"13\", \"14\", \"15\", \"16\", \"17\", \"18\", \"19\", \"20\", \"21\", \"22\", \"23\", \"24\", \"25\", \"26\", \"27\", \"28\", \"29\", \"30\", \"31\", \"32\", \"33\", \"34\", \"36\", \"37\"], \"mode\": \"markers\", \"name\": \"average_precision_score_micro\", \"stepped\": false, \"type\": \"scatter\", \"data\": [0.999163654952362, 0.9991061357874612, 0.9935361389110567, 0.997298461093278, 0.9962365621039208, 0.99665665836517, 0.9954149192292044, 0.9986767317748249, 0.9958994117476611, 0.996511801463957, 0.9946314634545971, 0.9976750203106303, 0.9985529361264485, 0.9300293685122613, 0.9987698526791374, 0.9966584932063979, 0.995945364625675, 0.9980180064918525, 0.9961553620609228, 0.942185338881225, 0.9960578556835484, 0.996422001966205, 0.9990889199172767, 0.9939974570348928, 0.9945374445802732, 0.9984300229067081, 0.9961107340263449, 0.9992938957096748, 0.9959234204948549, 0.9959746481013271, 0.9946345222794631, 0.9991077738104224, 0.9945075303075575, 0.999126371260488, 0.9990681765683327, 0.9993398496256257, 0.9989472220316161]}, {\"categories\": [\"0\", \"1\", \"2\", \"3\", \"4\", \"5\", \"6\", \"7\", \"8\", \"9\", \"10\", \"11\", \"12\", \"13\", \"14\", \"15\", \"16\", \"17\", \"18\", \"19\", \"20\", \"21\", \"22\", \"23\", \"24\", \"25\", \"26\", \"27\", \"28\", \"29\", \"30\", \"31\", \"32\", \"33\", \"34\", \"36\", \"37\"], \"mode\": \"lines\", \"name\": \"average_precision_score_micro_max\", \"stepped\": true, \"type\": \"scatter\", \"data\": [0.999163654952362, 0.999163654952362, 0.999163654952362, 0.999163654952362, 0.999163654952362, 0.999163654952362, 0.999163654952362, 0.999163654952362, 0.999163654952362, 0.999163654952362, 0.999163654952362, 0.999163654952362, 0.999163654952362, 0.999163654952362, 0.999163654952362, 0.999163654952362, 0.999163654952362, 0.999163654952362, 0.999163654952362, 0.999163654952362, 0.999163654952362, 0.999163654952362, 0.999163654952362, 0.999163654952362, 0.999163654952362, 0.999163654952362, 0.999163654952362, 0.9992938957096748, 0.9992938957096748, 0.9992938957096748, 0.9992938957096748, 0.9992938957096748, 0.9992938957096748, 0.9992938957096748, 0.9992938957096748, 0.9993398496256257, 0.9993398496256257]}], \"precision_score_weighted\": [{\"categories\": [\"0\", \"1\", \"2\", \"3\", \"4\", \"5\", \"6\", \"7\", \"8\", \"9\", \"10\", \"11\", \"12\", \"13\", \"14\", \"15\", \"16\", \"17\", \"18\", \"19\", \"20\", \"21\", \"22\", \"23\", \"24\", \"25\", \"26\", \"27\", \"28\", \"29\", \"30\", \"31\", \"32\", \"33\", \"34\", \"36\", \"37\"], \"mode\": \"markers\", \"name\": \"precision_score_weighted\", \"stepped\": false, \"type\": \"scatter\", \"data\": [0.9949196280959217, 0.9944577903074178, 0.966929998610575, 0.9845907739347964, 0.9830386874380568, 0.9848051615682073, 0.9741622782643772, 0.992628733328479, 0.9830037499890443, 0.9783522074809339, 0.9752037665414949, 0.9889220244110035, 0.9920124408260275, 0.5684323033063011, 0.9946241438385859, 0.987392266898878, 0.9876862982728003, 0.9882419142114248, 0.988011590087048, 0.5684323033063011, 0.9909142876004435, 0.9877161344617492, 0.9952300162469253, 0.969760179717006, 0.9809324436822514, 0.991833601374779, 0.990148739041404, 0.995381794279858, 0.987742773214544, 0.9887502754817188, 0.9767641496173076, 0.9943037403675016, 0.9709514427379391, 0.9947715380290352, 0.9949229262535427, 0.995383551325269, 0.9950771982062045]}, {\"categories\": [\"0\", \"1\", \"2\", \"3\", \"4\", \"5\", \"6\", \"7\", \"8\", \"9\", \"10\", \"11\", \"12\", \"13\", \"14\", \"15\", \"16\", \"17\", \"18\", \"19\", \"20\", \"21\", \"22\", \"23\", \"24\", \"25\", \"26\", \"27\", \"28\", \"29\", \"30\", \"31\", \"32\", \"33\", \"34\", \"36\", \"37\"], \"mode\": \"lines\", \"name\": \"precision_score_weighted_max\", \"stepped\": true, \"type\": \"scatter\", \"data\": [0.9949196280959217, 0.9949196280959217, 0.9949196280959217, 0.9949196280959217, 0.9949196280959217, 0.9949196280959217, 0.9949196280959217, 0.9949196280959217, 0.9949196280959217, 0.9949196280959217, 0.9949196280959217, 0.9949196280959217, 0.9949196280959217, 0.9949196280959217, 0.9949196280959217, 0.9949196280959217, 0.9949196280959217, 0.9949196280959217, 0.9949196280959217, 0.9949196280959217, 0.9949196280959217, 0.9949196280959217, 0.9952300162469253, 0.9952300162469253, 0.9952300162469253, 0.9952300162469253, 0.9952300162469253, 0.995381794279858, 0.995381794279858, 0.995381794279858, 0.995381794279858, 0.995381794279858, 0.995381794279858, 0.995381794279858, 0.995381794279858, 0.995383551325269, 0.995383551325269]}], \"AUC_micro\": [{\"categories\": [\"0\", \"1\", \"2\", \"3\", \"4\", \"5\", \"6\", \"7\", \"8\", \"9\", \"10\", \"11\", \"12\", \"13\", \"14\", \"15\", \"16\", \"17\", \"18\", \"19\", \"20\", \"21\", \"22\", \"23\", \"24\", \"25\", \"26\", \"27\", \"28\", \"29\", \"30\", \"31\", \"32\", \"33\", \"34\", \"36\", \"37\"], \"mode\": \"markers\", \"name\": \"AUC_micro\", \"stepped\": false, \"type\": \"scatter\", \"data\": [0.9993004059207276, 0.9991667645968324, 0.9942651043280203, 0.9973563310015306, 0.9969748010357855, 0.9973137896520067, 0.9953176804366931, 0.9987730372193516, 0.9967003743301297, 0.9967708152901124, 0.9950699986413659, 0.9977976266090702, 0.9987087426352893, 0.9247362206780503, 0.9990480858924112, 0.9969262794867287, 0.9971087805388823, 0.9980562364748056, 0.9970490381043281, 0.9363888985705131, 0.9974083441419554, 0.9972574046860271, 0.9992480837168648, 0.994511227052477, 0.995765139046, 0.9984691734640087, 0.9973619330410891, 0.9993436530233737, 0.9971057069406064, 0.9973493830564176, 0.9952551543960207, 0.9991957705070419, 0.9948781238464793, 0.9992362133730622, 0.9991608262327016, 0.9993393893232274, 0.9989457121843542]}, {\"categories\": [\"0\", \"1\", \"2\", \"3\", \"4\", \"5\", \"6\", \"7\", \"8\", \"9\", \"10\", \"11\", \"12\", \"13\", \"14\", \"15\", \"16\", \"17\", \"18\", \"19\", \"20\", \"21\", \"22\", \"23\", \"24\", \"25\", \"26\", \"27\", \"28\", \"29\", \"30\", \"31\", \"32\", \"33\", \"34\", \"36\", \"37\"], \"mode\": \"lines\", \"name\": \"AUC_micro_max\", \"stepped\": true, \"type\": \"scatter\", \"data\": [0.9993004059207276, 0.9993004059207276, 0.9993004059207276, 0.9993004059207276, 0.9993004059207276, 0.9993004059207276, 0.9993004059207276, 0.9993004059207276, 0.9993004059207276, 0.9993004059207276, 0.9993004059207276, 0.9993004059207276, 0.9993004059207276, 0.9993004059207276, 0.9993004059207276, 0.9993004059207276, 0.9993004059207276, 0.9993004059207276, 0.9993004059207276, 0.9993004059207276, 0.9993004059207276, 0.9993004059207276, 0.9993004059207276, 0.9993004059207276, 0.9993004059207276, 0.9993004059207276, 0.9993004059207276, 0.9993436530233737, 0.9993436530233737, 0.9993436530233737, 0.9993436530233737, 0.9993436530233737, 0.9993436530233737, 0.9993436530233737, 0.9993436530233737, 0.9993436530233737, 0.9993436530233737]}], \"recall_score_micro\": [{\"categories\": [\"0\", \"1\", \"2\", \"3\", \"4\", \"5\", \"6\", \"7\", \"8\", \"9\", \"10\", \"11\", \"12\", \"13\", \"14\", \"15\", \"16\", \"17\", \"18\", \"19\", \"20\", \"21\", \"22\", \"23\", \"24\", \"25\", \"26\", \"27\", \"28\", \"29\", \"30\", \"31\", \"32\", \"33\", \"34\", \"36\", \"37\"], \"mode\": \"markers\", \"name\": \"recall_score_micro\", \"stepped\": false, \"type\": \"scatter\", \"data\": [0.9949209456524907, 0.9944589808056059, 0.9667540980809871, 0.9846085880395247, 0.982915332982186, 0.9847631923697254, 0.9733735802169011, 0.9926121165723757, 0.98291575947689, 0.9778364918820287, 0.975220231202779, 0.9887647078475736, 0.9919964714671489, 0.7538860420367396, 0.9946130875586517, 0.9872247776363237, 0.9875325646477119, 0.9881489916598961, 0.987994671659498, 0.7538860420367396, 0.9909187904325863, 0.9876866003183072, 0.9952287326638789, 0.9682931753028291, 0.980915214985318, 0.9918426490439054, 0.9901492518216655, 0.995382839416925, 0.9875327778950638, 0.9887639970230669, 0.9761427392475355, 0.9943051583823624, 0.9706019333004932, 0.9947669810643459, 0.9949208034875894, 0.995382626169573, 0.995074768075734]}, {\"categories\": [\"0\", \"1\", \"2\", \"3\", \"4\", \"5\", \"6\", \"7\", \"8\", \"9\", \"10\", \"11\", \"12\", \"13\", \"14\", \"15\", \"16\", \"17\", \"18\", \"19\", \"20\", \"21\", \"22\", \"23\", \"24\", \"25\", \"26\", \"27\", \"28\", \"29\", \"30\", \"31\", \"32\", \"33\", \"34\", \"36\", \"37\"], \"mode\": \"lines\", \"name\": \"recall_score_micro_max\", \"stepped\": true, \"type\": \"scatter\", \"data\": [0.9949209456524907, 0.9949209456524907, 0.9949209456524907, 0.9949209456524907, 0.9949209456524907, 0.9949209456524907, 0.9949209456524907, 0.9949209456524907, 0.9949209456524907, 0.9949209456524907, 0.9949209456524907, 0.9949209456524907, 0.9949209456524907, 0.9949209456524907, 0.9949209456524907, 0.9949209456524907, 0.9949209456524907, 0.9949209456524907, 0.9949209456524907, 0.9949209456524907, 0.9949209456524907, 0.9949209456524907, 0.9952287326638789, 0.9952287326638789, 0.9952287326638789, 0.9952287326638789, 0.9952287326638789, 0.995382839416925, 0.995382839416925, 0.995382839416925, 0.995382839416925, 0.995382839416925, 0.995382839416925, 0.995382839416925, 0.995382839416925, 0.995382839416925, 0.995382839416925]}], \"log_loss\": [{\"categories\": [\"0\", \"1\", \"2\", \"3\", \"4\", \"5\", \"6\", \"7\", \"8\", \"9\", \"10\", \"11\", \"12\", \"13\", \"14\", \"15\", \"16\", \"17\", \"18\", \"19\", \"20\", \"21\", \"22\", \"23\", \"24\", \"25\", \"26\", \"27\", \"28\", \"29\", \"30\", \"31\", \"32\", \"33\", \"34\", \"36\", \"37\"], \"mode\": \"markers\", \"name\": \"log_loss\", \"stepped\": false, \"type\": \"scatter\", \"data\": [0.023473957004933394, 0.022588862287946963, 0.14952053020888176, 0.09469420919701009, 0.10713804704309439, 0.22778449387971675, 0.09450044796667369, 0.2304616268272036, 0.2316476152838328, 0.19864081723767957, 0.10647131500527174, 0.25749052748061746, 0.07058360947689495, 0.49645549297358627, 0.046811487494890926, 0.1439758191957924, 0.051347929221575155, 0.1161988096352552, 0.22796477944989083, 0.4746196684679376, 0.04414517534258324, 0.22666252490171304, 0.023060265799842664, 0.19059435451479648, 0.23310456130219767, 0.03363452481042042, 0.04561520481536469, 0.019459407273686165, 0.05313011027767877, 0.04594323333930322, 0.16020102928511992, 0.022179177983484604, 0.17841983575827738, 0.023109348686214757, 0.023511504678924825, 0.041637180316188405, 0.044158098061099715]}, {\"categories\": [\"0\", \"1\", \"2\", \"3\", \"4\", \"5\", \"6\", \"7\", \"8\", \"9\", \"10\", \"11\", \"12\", \"13\", \"14\", \"15\", \"16\", \"17\", \"18\", \"19\", \"20\", \"21\", \"22\", \"23\", \"24\", \"25\", \"26\", \"27\", \"28\", \"29\", \"30\", \"31\", \"32\", \"33\", \"34\", \"36\", \"37\"], \"mode\": \"lines\", \"name\": \"log_loss_min\", \"stepped\": true, \"type\": \"scatter\", \"data\": [0.023473957004933394, 0.022588862287946963, 0.022588862287946963, 0.022588862287946963, 0.022588862287946963, 0.022588862287946963, 0.022588862287946963, 0.022588862287946963, 0.022588862287946963, 0.022588862287946963, 0.022588862287946963, 0.022588862287946963, 0.022588862287946963, 0.022588862287946963, 0.022588862287946963, 0.022588862287946963, 0.022588862287946963, 0.022588862287946963, 0.022588862287946963, 0.022588862287946963, 0.022588862287946963, 0.022588862287946963, 0.022588862287946963, 0.022588862287946963, 0.022588862287946963, 0.022588862287946963, 0.022588862287946963, 0.019459407273686165, 0.019459407273686165, 0.019459407273686165, 0.019459407273686165, 0.019459407273686165, 0.019459407273686165, 0.019459407273686165, 0.019459407273686165, 0.019459407273686165, 0.019459407273686165]}], \"AUC_weighted\": [{\"categories\": [\"0\", \"1\", \"2\", \"3\", \"4\", \"5\", \"6\", \"7\", \"8\", \"9\", \"10\", \"11\", \"12\", \"13\", \"14\", \"15\", \"16\", \"17\", \"18\", \"19\", \"20\", \"21\", \"22\", \"23\", \"24\", \"25\", \"26\", \"27\", \"28\", \"29\", \"30\", \"31\", \"32\", \"33\", \"34\", \"36\", \"37\"], \"mode\": \"markers\", \"name\": \"AUC_weighted\", \"stepped\": false, \"type\": \"scatter\", \"data\": [0.9988413863768829, 0.9984868552752948, 0.9923350699318084, 0.9960618281460967, 0.9956491674221954, 0.99571774507108, 0.9945132895145976, 0.9978616770739825, 0.9946953131660692, 0.9954446422639252, 0.9931525349637139, 0.9960517798507368, 0.9976820484567921, 0.9605032367992595, 0.9982991602674662, 0.9962994254369676, 0.9951164504247648, 0.9965293831001566, 0.9947361503576596, 0.992036729696252, 0.9951854292303061, 0.995122049322282, 0.998659697173473, 0.9931484808711203, 0.9930036707964192, 0.9973697063139992, 0.9951642533716196, 0.9987795932362714, 0.9951025861500281, 0.9950936429143367, 0.9947746610354761, 0.9985152473825806, 0.9935444972228477, 0.998609119662991, 0.9984554971352142, 0.9988869093259961, 0.9988009364834826]}, {\"categories\": [\"0\", \"1\", \"2\", \"3\", \"4\", \"5\", \"6\", \"7\", \"8\", \"9\", \"10\", \"11\", \"12\", \"13\", \"14\", \"15\", \"16\", \"17\", \"18\", \"19\", \"20\", \"21\", \"22\", \"23\", \"24\", \"25\", \"26\", \"27\", \"28\", \"29\", \"30\", \"31\", \"32\", \"33\", \"34\", \"36\", \"37\"], \"mode\": \"lines\", \"name\": \"AUC_weighted_max\", \"stepped\": true, \"type\": \"scatter\", \"data\": [0.9988413863768829, 0.9988413863768829, 0.9988413863768829, 0.9988413863768829, 0.9988413863768829, 0.9988413863768829, 0.9988413863768829, 0.9988413863768829, 0.9988413863768829, 0.9988413863768829, 0.9988413863768829, 0.9988413863768829, 0.9988413863768829, 0.9988413863768829, 0.9988413863768829, 0.9988413863768829, 0.9988413863768829, 0.9988413863768829, 0.9988413863768829, 0.9988413863768829, 0.9988413863768829, 0.9988413863768829, 0.9988413863768829, 0.9988413863768829, 0.9988413863768829, 0.9988413863768829, 0.9988413863768829, 0.9988413863768829, 0.9988413863768829, 0.9988413863768829, 0.9988413863768829, 0.9988413863768829, 0.9988413863768829, 0.9988413863768829, 0.9988413863768829, 0.9988869093259961, 0.9988869093259961]}], \"average_precision_score_macro\": [{\"categories\": [\"0\", \"1\", \"2\", \"3\", \"4\", \"5\", \"6\", \"7\", \"8\", \"9\", \"10\", \"11\", \"12\", \"13\", \"14\", \"15\", \"16\", \"17\", \"18\", \"19\", \"20\", \"21\", \"22\", \"23\", \"24\", \"25\", \"26\", \"27\", \"28\", \"29\", \"30\", \"31\", \"32\", \"33\", \"34\", \"36\", \"37\"], \"mode\": \"markers\", \"name\": \"average_precision_score_macro\", \"stepped\": false, \"type\": \"scatter\", \"data\": [0.9987583346371428, 0.9984122481950752, 0.9902995348470389, 0.9955316525811296, 0.9955764138826421, 0.9943310265666735, 0.9925000406307434, 0.9977994637424211, 0.9917742274335373, 0.9948658379795234, 0.9912123082728669, 0.996389846193534, 0.99742810544554, 0.9494348705765984, 0.9982028820029333, 0.9966206948371134, 0.9945756119181507, 0.9966092902196616, 0.9938709612453546, 0.9905180948288517, 0.9946434768903325, 0.9943729682371748, 0.9984883726023632, 0.992321935502329, 0.9894380937457546, 0.9973565553620363, 0.994569524458443, 0.9987168806921908, 0.9945670273473125, 0.9945389149334852, 0.9948017281506356, 0.9984180014350313, 0.992737795529114, 0.9985181251573639, 0.9983409716123154, 0.9988140745990054, 0.9987625159096648]}, {\"categories\": [\"0\", \"1\", \"2\", \"3\", \"4\", \"5\", \"6\", \"7\", \"8\", \"9\", \"10\", \"11\", \"12\", \"13\", \"14\", \"15\", \"16\", \"17\", \"18\", \"19\", \"20\", \"21\", \"22\", \"23\", \"24\", \"25\", \"26\", \"27\", \"28\", \"29\", \"30\", \"31\", \"32\", \"33\", \"34\", \"36\", \"37\"], \"mode\": \"lines\", \"name\": \"average_precision_score_macro_max\", \"stepped\": true, \"type\": \"scatter\", \"data\": [0.9987583346371428, 0.9987583346371428, 0.9987583346371428, 0.9987583346371428, 0.9987583346371428, 0.9987583346371428, 0.9987583346371428, 0.9987583346371428, 0.9987583346371428, 0.9987583346371428, 0.9987583346371428, 0.9987583346371428, 0.9987583346371428, 0.9987583346371428, 0.9987583346371428, 0.9987583346371428, 0.9987583346371428, 0.9987583346371428, 0.9987583346371428, 0.9987583346371428, 0.9987583346371428, 0.9987583346371428, 0.9987583346371428, 0.9987583346371428, 0.9987583346371428, 0.9987583346371428, 0.9987583346371428, 0.9987583346371428, 0.9987583346371428, 0.9987583346371428, 0.9987583346371428, 0.9987583346371428, 0.9987583346371428, 0.9987583346371428, 0.9987583346371428, 0.9988140745990054, 0.9988140745990054]}], \"matthews_correlation\": [{\"categories\": [\"0\", \"1\", \"2\", \"3\", \"4\", \"5\", \"6\", \"7\", \"8\", \"9\", \"10\", \"11\", \"12\", \"13\", \"14\", \"15\", \"16\", \"17\", \"18\", \"19\", \"20\", \"21\", \"22\", \"23\", \"24\", \"25\", \"26\", \"27\", \"28\", \"29\", \"30\", \"31\", \"32\", \"33\", \"34\", \"36\", \"37\"], \"mode\": \"markers\", \"name\": \"matthews_correlation\", \"stepped\": false, \"type\": \"scatter\", \"data\": [0.9863057794830973, 0.9850798637474476, 0.9098456581321018, 0.9583435043548673, 0.9536641484360956, 0.9587878709001613, 0.9297565849827345, 0.9799860040329027, 0.9538239495966963, 0.9412361002425736, 0.9328097905247903, 0.9700119720936291, 0.9783251645360561, 0.0, 0.9854060602480238, 0.9654803077213883, 0.9667223277451882, 0.9681259787278093, 0.9674743231725218, 0.0, 0.9754576916003893, 0.9666655712900708, 0.9870817503977537, 0.9176920732422654, 0.9482218674837465, 0.9779335512325854, 0.9734420271387637, 0.9874865688963713, 0.9668497639634289, 0.9696124184458674, 0.9355812590302776, 0.9846002103041256, 0.9203785740313944, 0.9858905902733289, 0.9862577747698141, 0.987513557842402, 0.9866956031109301]}, {\"categories\": [\"0\", \"1\", \"2\", \"3\", \"4\", \"5\", \"6\", \"7\", \"8\", \"9\", \"10\", \"11\", \"12\", \"13\", \"14\", \"15\", \"16\", \"17\", \"18\", \"19\", \"20\", \"21\", \"22\", \"23\", \"24\", \"25\", \"26\", \"27\", \"28\", \"29\", \"30\", \"31\", \"32\", \"33\", \"34\", \"36\", \"37\"], \"mode\": \"lines\", \"name\": \"matthews_correlation_max\", \"stepped\": true, \"type\": \"scatter\", \"data\": [0.9863057794830973, 0.9863057794830973, 0.9863057794830973, 0.9863057794830973, 0.9863057794830973, 0.9863057794830973, 0.9863057794830973, 0.9863057794830973, 0.9863057794830973, 0.9863057794830973, 0.9863057794830973, 0.9863057794830973, 0.9863057794830973, 0.9863057794830973, 0.9863057794830973, 0.9863057794830973, 0.9863057794830973, 0.9863057794830973, 0.9863057794830973, 0.9863057794830973, 0.9863057794830973, 0.9863057794830973, 0.9870817503977537, 0.9870817503977537, 0.9870817503977537, 0.9870817503977537, 0.9870817503977537, 0.9874865688963713, 0.9874865688963713, 0.9874865688963713, 0.9874865688963713, 0.9874865688963713, 0.9874865688963713, 0.9874865688963713, 0.9874865688963713, 0.987513557842402, 0.987513557842402]}], \"balanced_accuracy\": [{\"categories\": [\"0\", \"1\", \"2\", \"3\", \"4\", \"5\", \"6\", \"7\", \"8\", \"9\", \"10\", \"11\", \"12\", \"13\", \"14\", \"15\", \"16\", \"17\", \"18\", \"19\", \"20\", \"21\", \"22\", \"23\", \"24\", \"25\", \"26\", \"27\", \"28\", \"29\", \"30\", \"31\", \"32\", \"33\", \"34\", \"36\", \"37\"], \"mode\": \"markers\", \"name\": \"balanced_accuracy\", \"stepped\": false, \"type\": \"scatter\", \"data\": [0.9919986299307224, 0.9910455976429273, 0.9412382353322858, 0.9754723122448915, 0.9684281186149107, 0.9795221316036239, 0.9721802903764069, 0.986610958984596, 0.9759734429432302, 0.9764831534918464, 0.9602115033320587, 0.9880378510131963, 0.9855785395948374, 0.5, 0.9902422994826944, 0.9746478956709014, 0.9866605581005468, 0.9863100989136306, 0.9796691247384269, 0.5, 0.9870241493610505, 0.9784122978492237, 0.9917506362409751, 0.9690730549256168, 0.9726899648594837, 0.987155120166043, 0.9863431790717568, 0.9922687959353196, 0.9875085390558705, 0.9837172139181233, 0.9524323466660833, 0.9905244622120432, 0.9458428787594286, 0.9910556652219039, 0.9913600367122196, 0.9920800170051386, 0.9914699273615916]}, {\"categories\": [\"0\", \"1\", \"2\", \"3\", \"4\", \"5\", \"6\", \"7\", \"8\", \"9\", \"10\", \"11\", \"12\", \"13\", \"14\", \"15\", \"16\", \"17\", \"18\", \"19\", \"20\", \"21\", \"22\", \"23\", \"24\", \"25\", \"26\", \"27\", \"28\", \"29\", \"30\", \"31\", \"32\", \"33\", \"34\", \"36\", \"37\"], \"mode\": \"lines\", \"name\": \"balanced_accuracy_max\", \"stepped\": true, \"type\": \"scatter\", \"data\": [0.9919986299307224, 0.9919986299307224, 0.9919986299307224, 0.9919986299307224, 0.9919986299307224, 0.9919986299307224, 0.9919986299307224, 0.9919986299307224, 0.9919986299307224, 0.9919986299307224, 0.9919986299307224, 0.9919986299307224, 0.9919986299307224, 0.9919986299307224, 0.9919986299307224, 0.9919986299307224, 0.9919986299307224, 0.9919986299307224, 0.9919986299307224, 0.9919986299307224, 0.9919986299307224, 0.9919986299307224, 0.9919986299307224, 0.9919986299307224, 0.9919986299307224, 0.9919986299307224, 0.9919986299307224, 0.9922687959353196, 0.9922687959353196, 0.9922687959353196, 0.9922687959353196, 0.9922687959353196, 0.9922687959353196, 0.9922687959353196, 0.9922687959353196, 0.9922687959353196, 0.9922687959353196]}], \"accuracy\": [{\"categories\": [\"0\", \"1\", \"2\", \"3\", \"4\", \"5\", \"6\", \"7\", \"8\", \"9\", \"10\", \"11\", \"12\", \"13\", \"14\", \"15\", \"16\", \"17\", \"18\", \"19\", \"20\", \"21\", \"22\", \"23\", \"24\", \"25\", \"26\", \"27\", \"28\", \"29\", \"30\", \"31\", \"32\", \"33\", \"34\", \"36\", \"37\"], \"mode\": \"markers\", \"name\": \"accuracy\", \"stepped\": false, \"type\": \"scatter\", \"data\": [0.9949209456524907, 0.9944589808056059, 0.9667540980809871, 0.9846085880395247, 0.982915332982186, 0.9847631923697254, 0.9733735802169011, 0.9926121165723757, 0.98291575947689, 0.9778364918820287, 0.975220231202779, 0.9887647078475736, 0.9919964714671489, 0.7538860420367396, 0.9946130875586517, 0.9872247776363237, 0.9875325646477119, 0.9881489916598961, 0.987994671659498, 0.7538860420367396, 0.9909187904325863, 0.9876866003183072, 0.9952287326638789, 0.9682931753028291, 0.980915214985318, 0.9918426490439054, 0.9901492518216655, 0.995382839416925, 0.9875327778950638, 0.9887639970230669, 0.9761427392475355, 0.9943051583823624, 0.9706019333004932, 0.9947669810643459, 0.9949208034875894, 0.995382626169573, 0.995074768075734]}, {\"categories\": [\"0\", \"1\", \"2\", \"3\", \"4\", \"5\", \"6\", \"7\", \"8\", \"9\", \"10\", \"11\", \"12\", \"13\", \"14\", \"15\", \"16\", \"17\", \"18\", \"19\", \"20\", \"21\", \"22\", \"23\", \"24\", \"25\", \"26\", \"27\", \"28\", \"29\", \"30\", \"31\", \"32\", \"33\", \"34\", \"36\", \"37\"], \"mode\": \"lines\", \"name\": \"accuracy_max\", \"stepped\": true, \"type\": \"scatter\", \"data\": [0.9949209456524907, 0.9949209456524907, 0.9949209456524907, 0.9949209456524907, 0.9949209456524907, 0.9949209456524907, 0.9949209456524907, 0.9949209456524907, 0.9949209456524907, 0.9949209456524907, 0.9949209456524907, 0.9949209456524907, 0.9949209456524907, 0.9949209456524907, 0.9949209456524907, 0.9949209456524907, 0.9949209456524907, 0.9949209456524907, 0.9949209456524907, 0.9949209456524907, 0.9949209456524907, 0.9949209456524907, 0.9952287326638789, 0.9952287326638789, 0.9952287326638789, 0.9952287326638789, 0.9952287326638789, 0.995382839416925, 0.995382839416925, 0.995382839416925, 0.995382839416925, 0.995382839416925, 0.995382839416925, 0.995382839416925, 0.995382839416925, 0.995382839416925, 0.995382839416925]}], \"norm_macro_recall\": [{\"categories\": [\"0\", \"1\", \"2\", \"3\", \"4\", \"5\", \"6\", \"7\", \"8\", \"9\", \"10\", \"11\", \"12\", \"13\", \"14\", \"15\", \"16\", \"17\", \"18\", \"19\", \"20\", \"21\", \"22\", \"23\", \"24\", \"25\", \"26\", \"27\", \"28\", \"29\", \"30\", \"31\", \"32\", \"33\", \"34\", \"36\", \"37\"], \"mode\": \"markers\", \"name\": \"norm_macro_recall\", \"stepped\": false, \"type\": \"scatter\", \"data\": [0.9839972598614445, 0.9820911952858546, 0.8824764706645717, 0.9509446244897831, 0.9368562372298216, 0.9590442632072479, 0.9443605807528138, 0.9732219179691923, 0.9519468858864603, 0.952966306983693, 0.9204230066641174, 0.9760757020263927, 0.9711570791896748, 0.0, 0.980484598965389, 0.9492957913418026, 0.9733211162010936, 0.9726201978272613, 0.9593382494768538, 0.0, 0.9740482987221011, 0.9568245956984475, 0.9835012724819503, 0.9381461098512336, 0.9453799297189672, 0.9743102403320862, 0.9726863581435135, 0.9845375918706392, 0.9750170781117408, 0.9674344278362469, 0.9048646933321666, 0.9810489244240862, 0.8916857575188573, 0.9821113304438079, 0.9827200734244393, 0.9841600340102771, 0.9829398547231832]}, {\"categories\": [\"0\", \"1\", \"2\", \"3\", \"4\", \"5\", \"6\", \"7\", \"8\", \"9\", \"10\", \"11\", \"12\", \"13\", \"14\", \"15\", \"16\", \"17\", \"18\", \"19\", \"20\", \"21\", \"22\", \"23\", \"24\", \"25\", \"26\", \"27\", \"28\", \"29\", \"30\", \"31\", \"32\", \"33\", \"34\", \"36\", \"37\"], \"mode\": \"lines\", \"name\": \"norm_macro_recall_max\", \"stepped\": true, \"type\": \"scatter\", \"data\": [0.9839972598614445, 0.9839972598614445, 0.9839972598614445, 0.9839972598614445, 0.9839972598614445, 0.9839972598614445, 0.9839972598614445, 0.9839972598614445, 0.9839972598614445, 0.9839972598614445, 0.9839972598614445, 0.9839972598614445, 0.9839972598614445, 0.9839972598614445, 0.9839972598614445, 0.9839972598614445, 0.9839972598614445, 0.9839972598614445, 0.9839972598614445, 0.9839972598614445, 0.9839972598614445, 0.9839972598614445, 0.9839972598614445, 0.9839972598614445, 0.9839972598614445, 0.9839972598614445, 0.9839972598614445, 0.9845375918706392, 0.9845375918706392, 0.9845375918706392, 0.9845375918706392, 0.9845375918706392, 0.9845375918706392, 0.9845375918706392, 0.9845375918706392, 0.9845375918706392, 0.9845375918706392]}], \"recall_score_weighted\": [{\"categories\": [\"0\", \"1\", \"2\", \"3\", \"4\", \"5\", \"6\", \"7\", \"8\", \"9\", \"10\", \"11\", \"12\", \"13\", \"14\", \"15\", \"16\", \"17\", \"18\", \"19\", \"20\", \"21\", \"22\", \"23\", \"24\", \"25\", \"26\", \"27\", \"28\", \"29\", \"30\", \"31\", \"32\", \"33\", \"34\", \"36\", \"37\"], \"mode\": \"markers\", \"name\": \"recall_score_weighted\", \"stepped\": false, \"type\": \"scatter\", \"data\": [0.9949209456524907, 0.9944589808056059, 0.9667540980809871, 0.9846085880395247, 0.982915332982186, 0.9847631923697254, 0.9733735802169011, 0.9926121165723757, 0.98291575947689, 0.9778364918820287, 0.975220231202779, 0.9887647078475736, 0.9919964714671489, 0.7538860420367396, 0.9946130875586517, 0.9872247776363237, 0.9875325646477119, 0.9881489916598961, 0.987994671659498, 0.7538860420367396, 0.9909187904325863, 0.9876866003183072, 0.9952287326638789, 0.9682931753028291, 0.980915214985318, 0.9918426490439054, 0.9901492518216655, 0.995382839416925, 0.9875327778950638, 0.9887639970230669, 0.9761427392475355, 0.9943051583823624, 0.9706019333004932, 0.9947669810643459, 0.9949208034875894, 0.995382626169573, 0.995074768075734]}, {\"categories\": [\"0\", \"1\", \"2\", \"3\", \"4\", \"5\", \"6\", \"7\", \"8\", \"9\", \"10\", \"11\", \"12\", \"13\", \"14\", \"15\", \"16\", \"17\", \"18\", \"19\", \"20\", \"21\", \"22\", \"23\", \"24\", \"25\", \"26\", \"27\", \"28\", \"29\", \"30\", \"31\", \"32\", \"33\", \"34\", \"36\", \"37\"], \"mode\": \"lines\", \"name\": \"recall_score_weighted_max\", \"stepped\": true, \"type\": \"scatter\", \"data\": [0.9949209456524907, 0.9949209456524907, 0.9949209456524907, 0.9949209456524907, 0.9949209456524907, 0.9949209456524907, 0.9949209456524907, 0.9949209456524907, 0.9949209456524907, 0.9949209456524907, 0.9949209456524907, 0.9949209456524907, 0.9949209456524907, 0.9949209456524907, 0.9949209456524907, 0.9949209456524907, 0.9949209456524907, 0.9949209456524907, 0.9949209456524907, 0.9949209456524907, 0.9949209456524907, 0.9949209456524907, 0.9952287326638789, 0.9952287326638789, 0.9952287326638789, 0.9952287326638789, 0.9952287326638789, 0.995382839416925, 0.995382839416925, 0.995382839416925, 0.995382839416925, 0.995382839416925, 0.995382839416925, 0.995382839416925, 0.995382839416925, 0.995382839416925, 0.995382839416925]}], \"f1_score_micro\": [{\"categories\": [\"0\", \"1\", \"2\", \"3\", \"4\", \"5\", \"6\", \"7\", \"8\", \"9\", \"10\", \"11\", \"12\", \"13\", \"14\", \"15\", \"16\", \"17\", \"18\", \"19\", \"20\", \"21\", \"22\", \"23\", \"24\", \"25\", \"26\", \"27\", \"28\", \"29\", \"30\", \"31\", \"32\", \"33\", \"34\", \"36\", \"37\"], \"mode\": \"markers\", \"name\": \"f1_score_micro\", \"stepped\": false, \"type\": \"scatter\", \"data\": [0.9949209456524907, 0.9944589808056059, 0.9667540980809871, 0.9846085880395247, 0.982915332982186, 0.9847631923697254, 0.9733735802169011, 0.9926121165723757, 0.98291575947689, 0.9778364918820287, 0.975220231202779, 0.9887647078475736, 0.9919964714671489, 0.7538860420367396, 0.9946130875586517, 0.9872247776363237, 0.9875325646477119, 0.9881489916598961, 0.987994671659498, 0.7538860420367396, 0.9909187904325863, 0.9876866003183072, 0.9952287326638789, 0.9682931753028291, 0.980915214985318, 0.9918426490439054, 0.9901492518216655, 0.995382839416925, 0.9875327778950638, 0.9887639970230669, 0.9761427392475355, 0.9943051583823624, 0.9706019333004932, 0.9947669810643459, 0.9949208034875894, 0.995382626169573, 0.995074768075734]}, {\"categories\": [\"0\", \"1\", \"2\", \"3\", \"4\", \"5\", \"6\", \"7\", \"8\", \"9\", \"10\", \"11\", \"12\", \"13\", \"14\", \"15\", \"16\", \"17\", \"18\", \"19\", \"20\", \"21\", \"22\", \"23\", \"24\", \"25\", \"26\", \"27\", \"28\", \"29\", \"30\", \"31\", \"32\", \"33\", \"34\", \"36\", \"37\"], \"mode\": \"lines\", \"name\": \"f1_score_micro_max\", \"stepped\": true, \"type\": \"scatter\", \"data\": [0.9949209456524907, 0.9949209456524907, 0.9949209456524907, 0.9949209456524907, 0.9949209456524907, 0.9949209456524907, 0.9949209456524907, 0.9949209456524907, 0.9949209456524907, 0.9949209456524907, 0.9949209456524907, 0.9949209456524907, 0.9949209456524907, 0.9949209456524907, 0.9949209456524907, 0.9949209456524907, 0.9949209456524907, 0.9949209456524907, 0.9949209456524907, 0.9949209456524907, 0.9949209456524907, 0.9949209456524907, 0.9952287326638789, 0.9952287326638789, 0.9952287326638789, 0.9952287326638789, 0.9952287326638789, 0.995382839416925, 0.995382839416925, 0.995382839416925, 0.995382839416925, 0.995382839416925, 0.995382839416925, 0.995382839416925, 0.995382839416925, 0.995382839416925, 0.995382839416925]}], \"average_precision_score_weighted\": [{\"categories\": [\"0\", \"1\", \"2\", \"3\", \"4\", \"5\", \"6\", \"7\", \"8\", \"9\", \"10\", \"11\", \"12\", \"13\", \"14\", \"15\", \"16\", \"17\", \"18\", \"19\", \"20\", \"21\", \"22\", \"23\", \"24\", \"25\", \"26\", \"27\", \"28\", \"29\", \"30\", \"31\", \"32\", \"33\", \"34\", \"36\", \"37\"], \"mode\": \"markers\", \"name\": \"average_precision_score_weighted\", \"stepped\": false, \"type\": \"scatter\", \"data\": [0.9990716716487956, 0.9988718400566214, 0.9932555186678139, 0.9970308545011628, 0.9964997845050584, 0.9960781363437423, 0.9953389982951947, 0.998391201930625, 0.9946088437978299, 0.996382681403401, 0.9941336739322444, 0.9972961802768426, 0.9981259802956433, 0.9673388021103917, 0.9986147250817323, 0.9974416583399589, 0.9951774264250849, 0.9975841435393603, 0.99546131626747, 0.9934153905892241, 0.9951647999051385, 0.9958202885476712, 0.9988728337961909, 0.9944441072017782, 0.9928974279400178, 0.9981599242762389, 0.9952033268834937, 0.9990812059230025, 0.9951599493267658, 0.9950704752599622, 0.9960105472648504, 0.9988512582981692, 0.9949423612398839, 0.9989140998313326, 0.998777307164261, 0.9992015302944618, 0.9991514385913454]}, {\"categories\": [\"0\", \"1\", \"2\", \"3\", \"4\", \"5\", \"6\", \"7\", \"8\", \"9\", \"10\", \"11\", \"12\", \"13\", \"14\", \"15\", \"16\", \"17\", \"18\", \"19\", \"20\", \"21\", \"22\", \"23\", \"24\", \"25\", \"26\", \"27\", \"28\", \"29\", \"30\", \"31\", \"32\", \"33\", \"34\", \"36\", \"37\"], \"mode\": \"lines\", \"name\": \"average_precision_score_weighted_max\", \"stepped\": true, \"type\": \"scatter\", \"data\": [0.9990716716487956, 0.9990716716487956, 0.9990716716487956, 0.9990716716487956, 0.9990716716487956, 0.9990716716487956, 0.9990716716487956, 0.9990716716487956, 0.9990716716487956, 0.9990716716487956, 0.9990716716487956, 0.9990716716487956, 0.9990716716487956, 0.9990716716487956, 0.9990716716487956, 0.9990716716487956, 0.9990716716487956, 0.9990716716487956, 0.9990716716487956, 0.9990716716487956, 0.9990716716487956, 0.9990716716487956, 0.9990716716487956, 0.9990716716487956, 0.9990716716487956, 0.9990716716487956, 0.9990716716487956, 0.9990812059230025, 0.9990812059230025, 0.9990812059230025, 0.9990812059230025, 0.9990812059230025, 0.9990812059230025, 0.9990812059230025, 0.9990812059230025, 0.9992015302944618, 0.9992015302944618]}], \"weighted_accuracy\": [{\"categories\": [\"0\", \"1\", \"2\", \"3\", \"4\", \"5\", \"6\", \"7\", \"8\", \"9\", \"10\", \"11\", \"12\", \"13\", \"14\", \"15\", \"16\", \"17\", \"18\", \"19\", \"20\", \"21\", \"22\", \"23\", \"24\", \"25\", \"26\", \"27\", \"28\", \"29\", \"30\", \"31\", \"32\", \"33\", \"34\", \"36\", \"37\"], \"mode\": \"markers\", \"name\": \"weighted_accuracy\", \"stepped\": false, \"type\": \"scatter\", \"data\": [0.9966413622326487, 0.9964613182317289, 0.9818834994475742, 0.989990111769678, 0.9914443025997436, 0.9878443925964913, 0.9740606444201497, 0.9961256802413191, 0.9869987147215977, 0.9786492633816124, 0.9841456498907005, 0.9891580479843697, 0.9957575536808273, 0.9034420245704599, 0.997161263444006, 0.9946238579798904, 0.9880376597757964, 0.9891824006088094, 0.9929248137053364, 0.9034420245704599, 0.9932137741589356, 0.9931733544168885, 0.9972679610757268, 0.9678115724774781, 0.9857344601604056, 0.9945799316720049, 0.9924040077647298, 0.9972060904852514, 0.9875382626867566, 0.9917452162937869, 0.9901273756993104, 0.9965287304432483, 0.9852764454144692, 0.9969528730304344, 0.9970180964288723, 0.9973239660732318, 0.9971991775718193]}, {\"categories\": [\"0\", \"1\", \"2\", \"3\", \"4\", \"5\", \"6\", \"7\", \"8\", \"9\", \"10\", \"11\", \"12\", \"13\", \"14\", \"15\", \"16\", \"17\", \"18\", \"19\", \"20\", \"21\", \"22\", \"23\", \"24\", \"25\", \"26\", \"27\", \"28\", \"29\", \"30\", \"31\", \"32\", \"33\", \"34\", \"36\", \"37\"], \"mode\": \"lines\", \"name\": \"weighted_accuracy_max\", \"stepped\": true, \"type\": \"scatter\", \"data\": [0.9966413622326487, 0.9966413622326487, 0.9966413622326487, 0.9966413622326487, 0.9966413622326487, 0.9966413622326487, 0.9966413622326487, 0.9966413622326487, 0.9966413622326487, 0.9966413622326487, 0.9966413622326487, 0.9966413622326487, 0.9966413622326487, 0.9966413622326487, 0.997161263444006, 0.997161263444006, 0.997161263444006, 0.997161263444006, 0.997161263444006, 0.997161263444006, 0.997161263444006, 0.997161263444006, 0.9972679610757268, 0.9972679610757268, 0.9972679610757268, 0.9972679610757268, 0.9972679610757268, 0.9972679610757268, 0.9972679610757268, 0.9972679610757268, 0.9972679610757268, 0.9972679610757268, 0.9972679610757268, 0.9972679610757268, 0.9972679610757268, 0.9973239660732318, 0.9973239660732318]}], \"f1_score_macro\": [{\"categories\": [\"0\", \"1\", \"2\", \"3\", \"4\", \"5\", \"6\", \"7\", \"8\", \"9\", \"10\", \"11\", \"12\", \"13\", \"14\", \"15\", \"16\", \"17\", \"18\", \"19\", \"20\", \"21\", \"22\", \"23\", \"24\", \"25\", \"26\", \"27\", \"28\", \"29\", \"30\", \"31\", \"32\", \"33\", \"34\", \"36\", \"37\"], \"mode\": \"markers\", \"name\": \"f1_score_macro\", \"stepped\": false, \"type\": \"scatter\", \"data\": [0.9931465701781029, 0.9925298803176373, 0.9541132918057019, 0.9791069733111462, 0.9765454423598507, 0.9793811346212781, 0.9646363323502213, 0.9899467897776892, 0.9768461436459567, 0.9704594079896127, 0.9661927723303507, 0.984954086961784, 0.9891114633138253, 0.429821223274147, 0.9926768319046341, 0.9824813870241386, 0.9833152647032616, 0.9840353734391888, 0.9836599710963326, 0.429821223274147, 0.9877238012488961, 0.9832286806047933, 0.9935282533286941, 0.9583340722269168, 0.9740778446030482, 0.9889516304860956, 0.9867161541775605, 0.9937346932608966, 0.9833542892625221, 0.9847990081461804, 0.9668375035810625, 0.9922873647678663, 0.9593153963672396, 0.992929527420678, 0.9931154566816648, 0.9937456801546872, 0.9933336973123227]}, {\"categories\": [\"0\", \"1\", \"2\", \"3\", \"4\", \"5\", \"6\", \"7\", \"8\", \"9\", \"10\", \"11\", \"12\", \"13\", \"14\", \"15\", \"16\", \"17\", \"18\", \"19\", \"20\", \"21\", \"22\", \"23\", \"24\", \"25\", \"26\", \"27\", \"28\", \"29\", \"30\", \"31\", \"32\", \"33\", \"34\", \"36\", \"37\"], \"mode\": \"lines\", \"name\": \"f1_score_macro_max\", \"stepped\": true, \"type\": \"scatter\", \"data\": [0.9931465701781029, 0.9931465701781029, 0.9931465701781029, 0.9931465701781029, 0.9931465701781029, 0.9931465701781029, 0.9931465701781029, 0.9931465701781029, 0.9931465701781029, 0.9931465701781029, 0.9931465701781029, 0.9931465701781029, 0.9931465701781029, 0.9931465701781029, 0.9931465701781029, 0.9931465701781029, 0.9931465701781029, 0.9931465701781029, 0.9931465701781029, 0.9931465701781029, 0.9931465701781029, 0.9931465701781029, 0.9935282533286941, 0.9935282533286941, 0.9935282533286941, 0.9935282533286941, 0.9935282533286941, 0.9937346932608966, 0.9937346932608966, 0.9937346932608966, 0.9937346932608966, 0.9937346932608966, 0.9937346932608966, 0.9937346932608966, 0.9937346932608966, 0.9937456801546872, 0.9937456801546872]}], \"recall_score_macro\": [{\"categories\": [\"0\", \"1\", \"2\", \"3\", \"4\", \"5\", \"6\", \"7\", \"8\", \"9\", \"10\", \"11\", \"12\", \"13\", \"14\", \"15\", \"16\", \"17\", \"18\", \"19\", \"20\", \"21\", \"22\", \"23\", \"24\", \"25\", \"26\", \"27\", \"28\", \"29\", \"30\", \"31\", \"32\", \"33\", \"34\", \"36\", \"37\"], \"mode\": \"markers\", \"name\": \"recall_score_macro\", \"stepped\": false, \"type\": \"scatter\", \"data\": [0.9919986299307224, 0.9910455976429273, 0.9412382353322858, 0.9754723122448915, 0.9684281186149107, 0.9795221316036239, 0.9721802903764069, 0.986610958984596, 0.9759734429432302, 0.9764831534918464, 0.9602115033320587, 0.9880378510131963, 0.9855785395948374, 0.5, 0.9902422994826944, 0.9746478956709014, 0.9866605581005468, 0.9863100989136306, 0.9796691247384269, 0.5, 0.9870241493610505, 0.9784122978492237, 0.9917506362409751, 0.9690730549256168, 0.9726899648594837, 0.987155120166043, 0.9863431790717568, 0.9922687959353196, 0.9875085390558705, 0.9837172139181233, 0.9524323466660833, 0.9905244622120432, 0.9458428787594286, 0.9910556652219039, 0.9913600367122196, 0.9920800170051386, 0.9914699273615916]}, {\"categories\": [\"0\", \"1\", \"2\", \"3\", \"4\", \"5\", \"6\", \"7\", \"8\", \"9\", \"10\", \"11\", \"12\", \"13\", \"14\", \"15\", \"16\", \"17\", \"18\", \"19\", \"20\", \"21\", \"22\", \"23\", \"24\", \"25\", \"26\", \"27\", \"28\", \"29\", \"30\", \"31\", \"32\", \"33\", \"34\", \"36\", \"37\"], \"mode\": \"lines\", \"name\": \"recall_score_macro_max\", \"stepped\": true, \"type\": \"scatter\", \"data\": [0.9919986299307224, 0.9919986299307224, 0.9919986299307224, 0.9919986299307224, 0.9919986299307224, 0.9919986299307224, 0.9919986299307224, 0.9919986299307224, 0.9919986299307224, 0.9919986299307224, 0.9919986299307224, 0.9919986299307224, 0.9919986299307224, 0.9919986299307224, 0.9919986299307224, 0.9919986299307224, 0.9919986299307224, 0.9919986299307224, 0.9919986299307224, 0.9919986299307224, 0.9919986299307224, 0.9919986299307224, 0.9919986299307224, 0.9919986299307224, 0.9919986299307224, 0.9919986299307224, 0.9919986299307224, 0.9922687959353196, 0.9922687959353196, 0.9922687959353196, 0.9922687959353196, 0.9922687959353196, 0.9922687959353196, 0.9922687959353196, 0.9922687959353196, 0.9922687959353196, 0.9922687959353196]}], \"f1_score_weighted\": [{\"categories\": [\"0\", \"1\", \"2\", \"3\", \"4\", \"5\", \"6\", \"7\", \"8\", \"9\", \"10\", \"11\", \"12\", \"13\", \"14\", \"15\", \"16\", \"17\", \"18\", \"19\", \"20\", \"21\", \"22\", \"23\", \"24\", \"25\", \"26\", \"27\", \"28\", \"29\", \"30\", \"31\", \"32\", \"33\", \"34\", \"36\", \"37\"], \"mode\": \"markers\", \"name\": \"f1_score_weighted\", \"stepped\": false, \"type\": \"scatter\", \"data\": [0.994915597040256, 0.9944510235061425, 0.9662381603301711, 0.9845515133469348, 0.9827640620598507, 0.9847748124552882, 0.9735887005724839, 0.9925864007463062, 0.9829107297931426, 0.9779780400442002, 0.975051861950969, 0.9888041473707062, 0.9919668065749282, 0.6481296375251855, 0.9945994439266711, 0.9871167178161583, 0.987575257596728, 0.9881745785870771, 0.9879450781041177, 0.6481296375251855, 0.9909127206567462, 0.9876233439324261, 0.9952200528531777, 0.9686441818976176, 0.9808991275729375, 0.9918271271516012, 0.990145298741523, 0.9953759758692149, 0.9875851823229483, 0.9887516703951406, 0.9757447460741823, 0.9942949921633507, 0.9701236291834535, 0.9947575578672767, 0.994911853542776, 0.9953748579184967, 0.995065486640319]}, {\"categories\": [\"0\", \"1\", \"2\", \"3\", \"4\", \"5\", \"6\", \"7\", \"8\", \"9\", \"10\", \"11\", \"12\", \"13\", \"14\", \"15\", \"16\", \"17\", \"18\", \"19\", \"20\", \"21\", \"22\", \"23\", \"24\", \"25\", \"26\", \"27\", \"28\", \"29\", \"30\", \"31\", \"32\", \"33\", \"34\", \"36\", \"37\"], \"mode\": \"lines\", \"name\": \"f1_score_weighted_max\", \"stepped\": true, \"type\": \"scatter\", \"data\": [0.994915597040256, 0.994915597040256, 0.994915597040256, 0.994915597040256, 0.994915597040256, 0.994915597040256, 0.994915597040256, 0.994915597040256, 0.994915597040256, 0.994915597040256, 0.994915597040256, 0.994915597040256, 0.994915597040256, 0.994915597040256, 0.994915597040256, 0.994915597040256, 0.994915597040256, 0.994915597040256, 0.994915597040256, 0.994915597040256, 0.994915597040256, 0.994915597040256, 0.9952200528531777, 0.9952200528531777, 0.9952200528531777, 0.9952200528531777, 0.9952200528531777, 0.9953759758692149, 0.9953759758692149, 0.9953759758692149, 0.9953759758692149, 0.9953759758692149, 0.9953759758692149, 0.9953759758692149, 0.9953759758692149, 0.9953759758692149, 0.9953759758692149]}], \"precision_score_micro\": [{\"categories\": [\"0\", \"1\", \"2\", \"3\", \"4\", \"5\", \"6\", \"7\", \"8\", \"9\", \"10\", \"11\", \"12\", \"13\", \"14\", \"15\", \"16\", \"17\", \"18\", \"19\", \"20\", \"21\", \"22\", \"23\", \"24\", \"25\", \"26\", \"27\", \"28\", \"29\", \"30\", \"31\", \"32\", \"33\", \"34\", \"36\", \"37\"], \"mode\": \"markers\", \"name\": \"precision_score_micro\", \"stepped\": false, \"type\": \"scatter\", \"data\": [0.9949209456524907, 0.9944589808056059, 0.9667540980809871, 0.9846085880395247, 0.982915332982186, 0.9847631923697254, 0.9733735802169011, 0.9926121165723757, 0.98291575947689, 0.9778364918820287, 0.975220231202779, 0.9887647078475736, 0.9919964714671489, 0.7538860420367396, 0.9946130875586517, 0.9872247776363237, 0.9875325646477119, 0.9881489916598961, 0.987994671659498, 0.7538860420367396, 0.9909187904325863, 0.9876866003183072, 0.9952287326638789, 0.9682931753028291, 0.980915214985318, 0.9918426490439054, 0.9901492518216655, 0.995382839416925, 0.9875327778950638, 0.9887639970230669, 0.9761427392475355, 0.9943051583823624, 0.9706019333004932, 0.9947669810643459, 0.9949208034875894, 0.995382626169573, 0.995074768075734]}, {\"categories\": [\"0\", \"1\", \"2\", \"3\", \"4\", \"5\", \"6\", \"7\", \"8\", \"9\", \"10\", \"11\", \"12\", \"13\", \"14\", \"15\", \"16\", \"17\", \"18\", \"19\", \"20\", \"21\", \"22\", \"23\", \"24\", \"25\", \"26\", \"27\", \"28\", \"29\", \"30\", \"31\", \"32\", \"33\", \"34\", \"36\", \"37\"], \"mode\": \"lines\", \"name\": \"precision_score_micro_max\", \"stepped\": true, \"type\": \"scatter\", \"data\": [0.9949209456524907, 0.9949209456524907, 0.9949209456524907, 0.9949209456524907, 0.9949209456524907, 0.9949209456524907, 0.9949209456524907, 0.9949209456524907, 0.9949209456524907, 0.9949209456524907, 0.9949209456524907, 0.9949209456524907, 0.9949209456524907, 0.9949209456524907, 0.9949209456524907, 0.9949209456524907, 0.9949209456524907, 0.9949209456524907, 0.9949209456524907, 0.9949209456524907, 0.9949209456524907, 0.9949209456524907, 0.9952287326638789, 0.9952287326638789, 0.9952287326638789, 0.9952287326638789, 0.9952287326638789, 0.995382839416925, 0.995382839416925, 0.995382839416925, 0.995382839416925, 0.995382839416925, 0.995382839416925, 0.995382839416925, 0.995382839416925, 0.995382839416925, 0.995382839416925]}], \"precision_score_macro\": [{\"categories\": [\"0\", \"1\", \"2\", \"3\", \"4\", \"5\", \"6\", \"7\", \"8\", \"9\", \"10\", \"11\", \"12\", \"13\", \"14\", \"15\", \"16\", \"17\", \"18\", \"19\", \"20\", \"21\", \"22\", \"23\", \"24\", \"25\", \"26\", \"27\", \"28\", \"29\", \"30\", \"31\", \"32\", \"33\", \"34\", \"36\", \"37\"], \"mode\": \"markers\", \"name\": \"precision_score_macro\", \"stepped\": false, \"type\": \"scatter\", \"data\": [0.9943104254991658, 0.9940396734404615, 0.9690404663714484, 0.9829049048587201, 0.9853883745675261, 0.9792725012677496, 0.9576924585073131, 0.993399738390146, 0.9778846833123415, 0.9648323110728197, 0.9727051219910879, 0.981998386692835, 0.9927739135441115, 0.3769430210183698, 0.9951779670328155, 0.9909709854843758, 0.9800844477229819, 0.981828951441293, 0.987844186174191, 0.3769430210183698, 0.9884359980767865, 0.9883065018314942, 0.9953377517139446, 0.9488517502704031, 0.9755489378842386, 0.9907867669373432, 0.9871011719553998, 0.995222291444347, 0.9793758733264656, 0.9858986773080766, 0.983671724193686, 0.9940823490293241, 0.9750040166834727, 0.9948431305279858, 0.9949046266815706, 0.9954393070651854, 0.995232937942729]}, {\"categories\": [\"0\", \"1\", \"2\", \"3\", \"4\", \"5\", \"6\", \"7\", \"8\", \"9\", \"10\", \"11\", \"12\", \"13\", \"14\", \"15\", \"16\", \"17\", \"18\", \"19\", \"20\", \"21\", \"22\", \"23\", \"24\", \"25\", \"26\", \"27\", \"28\", \"29\", \"30\", \"31\", \"32\", \"33\", \"34\", \"36\", \"37\"], \"mode\": \"lines\", \"name\": \"precision_score_macro_max\", \"stepped\": true, \"type\": \"scatter\", \"data\": [0.9943104254991658, 0.9943104254991658, 0.9943104254991658, 0.9943104254991658, 0.9943104254991658, 0.9943104254991658, 0.9943104254991658, 0.9943104254991658, 0.9943104254991658, 0.9943104254991658, 0.9943104254991658, 0.9943104254991658, 0.9943104254991658, 0.9943104254991658, 0.9951779670328155, 0.9951779670328155, 0.9951779670328155, 0.9951779670328155, 0.9951779670328155, 0.9951779670328155, 0.9951779670328155, 0.9951779670328155, 0.9953377517139446, 0.9953377517139446, 0.9953377517139446, 0.9953377517139446, 0.9953377517139446, 0.9953377517139446, 0.9953377517139446, 0.9953377517139446, 0.9953377517139446, 0.9953377517139446, 0.9953377517139446, 0.9953377517139446, 0.9953377517139446, 0.9954393070651854, 0.9954393070651854]}]}, \"metricName\": null, \"primaryMetricName\": \"AUC_weighted\", \"showLegend\": false}, \"run_metrics\": [{\"name\": \"experiment_status\", \"run_id\": \"AutoML_1324cd9d-077c-4c97-a240-7ea26e06e70a\", \"categories\": [0, 1, 2, 3, 4, 5, 6, 7, 8, 9, 10, 11, 12, 13], \"series\": [{\"data\": [\"DatasetEvaluation\", \"FeaturesGeneration\", \"DatasetFeaturization\", \"DatasetFeaturizationCompleted\", \"DatasetCrossValidationSplit\", \"ModelSelection\", \"BestRunExplainModel\", \"ModelExplanationDataSetSetup\", \"PickSurrogateModel\", \"EngineeredFeatureExplanations\", \"EngineeredFeatureExplanations\", \"RawFeaturesExplanations\", \"RawFeaturesExplanations\", \"BestRunExplainModel\"]}]}, {\"name\": \"experiment_status_description\", \"run_id\": \"AutoML_1324cd9d-077c-4c97-a240-7ea26e06e70a\", \"categories\": [0, 1, 2, 3, 4, 5, 6, 7, 8, 9, 10, 11, 12, 13], \"series\": [{\"data\": [\"Gathering dataset statistics.\", \"Generating features for the dataset.\", \"Beginning to fit featurizers and featurize the dataset.\", \"Completed fit featurizers and featurizing the dataset.\", \"Generating individually featurized CV splits.\", \"Beginning model selection.\", \"Best run model explanations started\", \"Model explanations data setup completed\", \"Choosing LightGBM as the surrogate model for explanations\", \"Computation of engineered features started\", \"Computation of engineered features completed\", \"Computation of raw features started\", \"Computation of raw features completed\", \"Best run model explanations completed\"]}]}, {\"name\": \"average_precision_score_micro\", \"run_id\": \"AutoML_1324cd9d-077c-4c97-a240-7ea26e06e70a\", \"categories\": [0], \"series\": [{\"data\": [0.9993398496256257]}]}, {\"name\": \"f1_score_micro\", \"run_id\": \"AutoML_1324cd9d-077c-4c97-a240-7ea26e06e70a\", \"categories\": [0], \"series\": [{\"data\": [0.995382626169573]}]}, {\"name\": \"precision_score_micro\", \"run_id\": \"AutoML_1324cd9d-077c-4c97-a240-7ea26e06e70a\", \"categories\": [0], \"series\": [{\"data\": [0.995382626169573]}]}, {\"name\": \"AUC_weighted\", \"run_id\": \"AutoML_1324cd9d-077c-4c97-a240-7ea26e06e70a\", \"categories\": [0], \"series\": [{\"data\": [0.9988869093259961]}]}, {\"name\": \"norm_macro_recall\", \"run_id\": \"AutoML_1324cd9d-077c-4c97-a240-7ea26e06e70a\", \"categories\": [0], \"series\": [{\"data\": [0.9841600340102771]}]}, {\"name\": \"log_loss\", \"run_id\": \"AutoML_1324cd9d-077c-4c97-a240-7ea26e06e70a\", \"categories\": [0], \"series\": [{\"data\": [0.041637180316188405]}]}, {\"name\": \"matthews_correlation\", \"run_id\": \"AutoML_1324cd9d-077c-4c97-a240-7ea26e06e70a\", \"categories\": [0], \"series\": [{\"data\": [0.987513557842402]}]}, {\"name\": \"recall_score_micro\", \"run_id\": \"AutoML_1324cd9d-077c-4c97-a240-7ea26e06e70a\", \"categories\": [0], \"series\": [{\"data\": [0.995382626169573]}]}, {\"name\": \"precision_score_weighted\", \"run_id\": \"AutoML_1324cd9d-077c-4c97-a240-7ea26e06e70a\", \"categories\": [0], \"series\": [{\"data\": [0.995383551325269]}]}, {\"name\": \"recall_score_weighted\", \"run_id\": \"AutoML_1324cd9d-077c-4c97-a240-7ea26e06e70a\", \"categories\": [0], \"series\": [{\"data\": [0.995382626169573]}]}, {\"name\": \"weighted_accuracy\", \"run_id\": \"AutoML_1324cd9d-077c-4c97-a240-7ea26e06e70a\", \"categories\": [0], \"series\": [{\"data\": [0.9973239660732318]}]}, {\"name\": \"precision_score_macro\", \"run_id\": \"AutoML_1324cd9d-077c-4c97-a240-7ea26e06e70a\", \"categories\": [0], \"series\": [{\"data\": [0.9954393070651854]}]}, {\"name\": \"average_precision_score_macro\", \"run_id\": \"AutoML_1324cd9d-077c-4c97-a240-7ea26e06e70a\", \"categories\": [0], \"series\": [{\"data\": [0.9988140745990054]}]}, {\"name\": \"f1_score_macro\", \"run_id\": \"AutoML_1324cd9d-077c-4c97-a240-7ea26e06e70a\", \"categories\": [0], \"series\": [{\"data\": [0.9937456801546872]}]}, {\"name\": \"AUC_micro\", \"run_id\": \"AutoML_1324cd9d-077c-4c97-a240-7ea26e06e70a\", \"categories\": [0], \"series\": [{\"data\": [0.9993393893232274]}]}, {\"name\": \"AUC_macro\", \"run_id\": \"AutoML_1324cd9d-077c-4c97-a240-7ea26e06e70a\", \"categories\": [0], \"series\": [{\"data\": [0.9988869093259961]}]}, {\"name\": \"f1_score_weighted\", \"run_id\": \"AutoML_1324cd9d-077c-4c97-a240-7ea26e06e70a\", \"categories\": [0], \"series\": [{\"data\": [0.9953748579184967]}]}, {\"name\": \"accuracy\", \"run_id\": \"AutoML_1324cd9d-077c-4c97-a240-7ea26e06e70a\", \"categories\": [0], \"series\": [{\"data\": [0.995382626169573]}]}, {\"name\": \"balanced_accuracy\", \"run_id\": \"AutoML_1324cd9d-077c-4c97-a240-7ea26e06e70a\", \"categories\": [0], \"series\": [{\"data\": [0.9920800170051386]}]}, {\"name\": \"recall_score_macro\", \"run_id\": \"AutoML_1324cd9d-077c-4c97-a240-7ea26e06e70a\", \"categories\": [0], \"series\": [{\"data\": [0.9920800170051386]}]}, {\"name\": \"average_precision_score_weighted\", \"run_id\": \"AutoML_1324cd9d-077c-4c97-a240-7ea26e06e70a\", \"categories\": [0], \"series\": [{\"data\": [0.9992015302944618]}]}], \"run_logs\": \"\\nRun is completed.\", \"graph\": {}, \"widget_settings\": {\"childWidgetDisplay\": \"popup\", \"send_telemetry\": false, \"log_level\": \"INFO\", \"sdk_version\": \"1.34.0\"}, \"loading\": false}"
     },
     "metadata": {},
     "output_type": "display_data"
    }
   ],
   "source": [
    "RunDetails(automl_run).show()"
   ]
  },
  {
   "cell_type": "markdown",
   "metadata": {},
   "source": [
    "## Best Model\n",
    "\n",
    "TODO: In the cell below, get the best model from the automl experiments and display all the properties of the model.\n",
    "\n"
   ]
  },
  {
   "cell_type": "code",
   "execution_count": 25,
   "metadata": {
    "gather": {
     "logged": 1598431425670
    },
    "jupyter": {
     "outputs_hidden": false,
     "source_hidden": false
    },
    "nteract": {
     "transient": {
      "deleting": false
     }
    }
   },
   "outputs": [
    {
     "name": "stdout",
     "output_type": "stream",
     "text": [
      "Run(Experiment: classification-automl,\n",
      "Id: AutoML_1324cd9d-077c-4c97-a240-7ea26e06e70a_36,\n",
      "Type: azureml.scriptrun,\n",
      "Status: Completed)\n",
      "Pipeline(memory=None,\n",
      "         steps=[('datatransformer',\n",
      "                 DataTransformer(enable_dnn=False, enable_feature_sweeping=True, feature_sweeping_config={}, feature_sweeping_timeout=86400, featurization_config=None, force_text_dnn=False, is_cross_validation=True, is_onnx_compatible=False, observer=None, task='classification', working_dir='/mnt/batch/tasks/shared/LS_root/mount...\n",
      ")), ('xgboostclassifier', XGBoostClassifier(booster='gbtree', colsample_bytree=0.5, eta=0.3, gamma=0, max_depth=10, max_leaves=255, n_estimators=10, n_jobs=1, objective='reg:logistic', problem_info=ProblemInfo(\n",
      "    gpu_training_param_dict={'processing_unit_type': 'cpu'}\n",
      "), random_state=0, reg_alpha=0, reg_lambda=0.10416666666666667, subsample=0.7, tree_method='auto'))], verbose=False))], flatten_transform=None, weights=[0.4, 0.13333333333333333, 0.2, 0.06666666666666667, 0.06666666666666667, 0.13333333333333333]))],\n",
      "         verbose=False)\n"
     ]
    }
   ],
   "source": [
    "best_automl_run, best_automl_model = automl_run.get_output()\n",
    "print(best_automl_run)\n",
    "print(best_automl_model)"
   ]
  },
  {
   "cell_type": "code",
   "execution_count": 29,
   "metadata": {
    "gather": {
     "logged": 1598431426111
    },
    "jupyter": {
     "outputs_hidden": false,
     "source_hidden": false
    },
    "nteract": {
     "transient": {
      "deleting": false
     }
    }
   },
   "outputs": [],
   "source": [
    "#TODO: Save the best model\n",
    "best_automl_run.download_file('outputs/model.pkl', 'Automl_model.pkl')"
   ]
  },
  {
   "cell_type": "markdown",
   "metadata": {},
   "source": [
    "## Model Deployment\n",
    "\n",
    "Remember you have to deploy only one of the two models you trained.. Perform the steps in the rest of this notebook only if you wish to deploy this model.\n",
    "\n",
    "TODO: In the cell below, register the model, create an inference config and deploy the model as a web service."
   ]
  },
  {
   "cell_type": "code",
   "execution_count": 41,
   "metadata": {
    "gather": {
     "logged": 1598431435189
    },
    "jupyter": {
     "outputs_hidden": false,
     "source_hidden": false
    },
    "nteract": {
     "transient": {
      "deleting": false
     }
    }
   },
   "outputs": [],
   "source": [
    "automl_model = best_automl_run.register_model(model_name = 'automl_VotingEnsemble', model_path='./outputs/')"
   ]
  },
  {
   "cell_type": "code",
   "execution_count": null,
   "metadata": {},
   "outputs": [
    {
     "name": "stdout",
     "output_type": "stream",
     "text": [
      "Tips: You can try get_logs(): https://aka.ms/debugimage#dockerlog or local deployment: https://aka.ms/debugimage#debug-locally to debug if deployment takes longer than 10 minutes.\n",
      "Running\n",
      "2021-10-27 19:48:15+00:00 Creating Container Registry if not exists."
     ]
    }
   ],
   "source": [
    "environment = best_automl_run.get_environment()\n",
    "entry_script = 'source_dir/score.py'\n",
    "\n",
    "inference_config = InferenceConfig(entry_script = entry_script, environment=environment)\n",
    "deployment_config = AciWebservice.deploy_configuration(cpu_cores = 1,\n",
    "                                                     memory_gb = 1,\n",
    "                                                     auth_enabled = True,\n",
    "                                                     enable_app_insights = True)\n",
    "\n",
    "service = Model.deploy(ws, 'aciservice', [automl_model], inference_config, deployment_config)\n",
    "service.wait_for_deployment(show_output =True)"
   ]
  },
  {
   "cell_type": "code",
   "execution_count": null,
   "metadata": {},
   "outputs": [],
   "source": [
    "# Check Model status\n",
    "primary, secondary = service.get_keys()\n",
    "\n",
    "print('Service state: ' + service.state)\n",
    "print('Service scoring URI: ' + service.scoring_uri)\n",
    "print('Service primary authentication key: '+ primary)"
   ]
  },
  {
   "cell_type": "markdown",
   "metadata": {
    "collapsed": true,
    "gather": {
     "logged": 1598431657736
    },
    "jupyter": {
     "outputs_hidden": false,
     "source_hidden": false
    },
    "nteract": {
     "transient": {
      "deleting": false
     }
    }
   },
   "source": [
    "TODO: In the cell below, send a request to the web service you deployed to test it."
   ]
  },
  {
   "cell_type": "code",
   "execution_count": null,
   "metadata": {
    "gather": {
     "logged": 1598432707604
    },
    "jupyter": {
     "outputs_hidden": false,
     "source_hidden": false
    },
    "nteract": {
     "transient": {
      "deleting": false
     }
    }
   },
   "outputs": [],
   "source": []
  },
  {
   "cell_type": "markdown",
   "metadata": {
    "collapsed": true,
    "gather": {
     "logged": 1598432765711
    },
    "jupyter": {
     "outputs_hidden": false,
     "source_hidden": false
    },
    "nteract": {
     "transient": {
      "deleting": false
     }
    }
   },
   "source": [
    "TODO: In the cell below, print the logs of the web service and delete the service"
   ]
  },
  {
   "cell_type": "code",
   "execution_count": null,
   "metadata": {},
   "outputs": [],
   "source": [
    "service.get_logs()"
   ]
  },
  {
   "cell_type": "code",
   "execution_count": null,
   "metadata": {
    "jupyter": {
     "outputs_hidden": false,
     "source_hidden": false
    },
    "nteract": {
     "transient": {
      "deleting": false
     }
    }
   },
   "outputs": [],
   "source": [
    "service.get_logs()"
   ]
  }
 ],
 "metadata": {
  "kernel_info": {
   "name": "python3"
  },
  "kernelspec": {
   "display_name": "Python 3",
   "language": "python",
   "name": "python3"
  },
  "language_info": {
   "codemirror_mode": {
    "name": "ipython",
    "version": 3
   },
   "file_extension": ".py",
   "mimetype": "text/x-python",
   "name": "python",
   "nbconvert_exporter": "python",
   "pygments_lexer": "ipython3",
   "version": "3.6.9"
  },
  "microsoft": {
   "host": {
    "AzureML": {
     "notebookHasBeenCompleted": true
    }
   }
  },
  "nteract": {
   "version": "nteract-front-end@1.0.0"
  }
 },
 "nbformat": 4,
 "nbformat_minor": 2
}
