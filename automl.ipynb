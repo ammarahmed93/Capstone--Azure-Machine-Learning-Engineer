{
 "cells": [
  {
   "cell_type": "markdown",
   "metadata": {},
   "source": [
    "# Automated ML\n",
    "\n",
    "TODO: Import Dependencies. In the cell below, import all the dependencies that you will need to complete the project."
   ]
  },
  {
   "cell_type": "code",
   "execution_count": 1,
   "metadata": {
    "gather": {
     "logged": 1598423888013
    },
    "jupyter": {
     "outputs_hidden": false,
     "source_hidden": false
    },
    "nteract": {
     "transient": {
      "deleting": false
     }
    }
   },
   "outputs": [],
   "source": [
    "import logging\n",
    "import os\n",
    "import csv\n",
    "\n",
    "from matplotlib import pyplot as plt\n",
    "import numpy as np\n",
    "import pandas as pd\n",
    "from sklearn import datasets\n",
    "import pkg_resources\n",
    "\n",
    "import azureml.core\n",
    "from azureml.core.experiment import Experiment\n",
    "from azureml.core.workspace import Workspace\n",
    "from azureml.train.automl import AutoMLConfig\n",
    "from azureml.core.dataset import Dataset\n",
    "from azureml.widgets import RunDetails\n",
    "\n",
    "from azureml.core.compute import AmlCompute\n",
    "from azureml.core.compute import ComputeTarget\n",
    "from azureml.core.compute_target import ComputeTargetException"
   ]
  },
  {
   "cell_type": "markdown",
   "metadata": {},
   "source": [
    "## Dataset\n",
    "\n",
    "### Overview\n",
    "TODO: In this markdown cell, give an overview of the dataset you are using. Also mention the task you will be performing.\n",
    "\n",
    "\n",
    "TODO: Get data. In the cell below, write code to access the data you will be using in this project. Remember that the dataset needs to be external."
   ]
  },
  {
   "cell_type": "code",
   "execution_count": 2,
   "metadata": {
    "gather": {
     "logged": 1598423890461
    },
    "jupyter": {
     "outputs_hidden": false,
     "source_hidden": false
    },
    "nteract": {
     "transient": {
      "deleting": false
     }
    }
   },
   "outputs": [],
   "source": [
    "ws = Workspace.from_config()\n",
    "\n",
    "# choose a name for experiment\n",
    "experiment_name = 'automl'\n",
    "\n",
    "experiment=Experiment(ws, experiment_name)"
   ]
  },
  {
   "cell_type": "markdown",
   "metadata": {},
   "source": [
    "# Create or Attach an AmlCompute cluster"
   ]
  },
  {
   "cell_type": "code",
   "execution_count": 3,
   "metadata": {},
   "outputs": [
    {
     "name": "stdout",
     "output_type": "stream",
     "text": [
      "Found existing cluster, use it.\n",
      "Succeeded\n",
      "AmlCompute wait for completion finished\n",
      "\n",
      "Minimum number of nodes requested have been provisioned\n"
     ]
    }
   ],
   "source": [
    "# NOTE: update the cluster name to match the existing cluster\n",
    "# Choose a name for your CPU cluster\n",
    "amlcompute_cluster_name = \"aml-compute\"\n",
    "\n",
    "# Verify that cluster does not exist already\n",
    "try:\n",
    "    compute_target = ComputeTarget(workspace=ws, name=amlcompute_cluster_name)\n",
    "    print('Found existing cluster, use it.')\n",
    "except ComputeTargetException:\n",
    "    compute_config = AmlCompute.provisioning_configuration(vm_size='Standard_D16_v3',# for GPU, use \"STANDARD_NC6\"\n",
    "                                                           #vm_priority = 'lowpriority', # optional\n",
    "                                                           max_nodes=6)\n",
    "    compute_target = ComputeTarget.create(ws, amlcompute_cluster_name, compute_config)\n",
    "\n",
    "compute_target.wait_for_completion(show_output=True, min_node_count = 1, timeout_in_minutes = 1)\n",
    "# For a more detailed view of current AmlCompute status, use get_status()."
   ]
  },
  {
   "cell_type": "markdown",
   "metadata": {},
   "source": [
    "# Data"
   ]
  },
  {
   "cell_type": "code",
   "execution_count": 4,
   "metadata": {},
   "outputs": [
    {
     "data": {
      "text/html": [
       "<div>\n",
       "<style scoped>\n",
       "    .dataframe tbody tr th:only-of-type {\n",
       "        vertical-align: middle;\n",
       "    }\n",
       "\n",
       "    .dataframe tbody tr th {\n",
       "        vertical-align: top;\n",
       "    }\n",
       "\n",
       "    .dataframe thead th {\n",
       "        text-align: right;\n",
       "    }\n",
       "</style>\n",
       "<table border=\"1\" class=\"dataframe\">\n",
       "  <thead>\n",
       "    <tr style=\"text-align: right;\">\n",
       "      <th></th>\n",
       "      <th>fixed acidity</th>\n",
       "      <th>volatile acidity</th>\n",
       "      <th>citric acid</th>\n",
       "      <th>residual sugar</th>\n",
       "      <th>chlorides</th>\n",
       "      <th>free sulfur dioxide</th>\n",
       "      <th>total sulfur dioxide</th>\n",
       "      <th>density</th>\n",
       "      <th>pH</th>\n",
       "      <th>sulphates</th>\n",
       "      <th>alcohol</th>\n",
       "      <th>quality</th>\n",
       "    </tr>\n",
       "  </thead>\n",
       "  <tbody>\n",
       "    <tr>\n",
       "      <th>count</th>\n",
       "      <td>4898.000000</td>\n",
       "      <td>4898.000000</td>\n",
       "      <td>4898.000000</td>\n",
       "      <td>4898.000000</td>\n",
       "      <td>4898.000000</td>\n",
       "      <td>4898.000000</td>\n",
       "      <td>4898.000000</td>\n",
       "      <td>4898.000000</td>\n",
       "      <td>4898.000000</td>\n",
       "      <td>4898.000000</td>\n",
       "      <td>4898.000000</td>\n",
       "      <td>4898.000000</td>\n",
       "    </tr>\n",
       "    <tr>\n",
       "      <th>mean</th>\n",
       "      <td>6.854788</td>\n",
       "      <td>0.278241</td>\n",
       "      <td>0.334192</td>\n",
       "      <td>6.391415</td>\n",
       "      <td>0.045772</td>\n",
       "      <td>35.308085</td>\n",
       "      <td>138.360657</td>\n",
       "      <td>0.994027</td>\n",
       "      <td>3.188267</td>\n",
       "      <td>0.489847</td>\n",
       "      <td>10.514267</td>\n",
       "      <td>5.877909</td>\n",
       "    </tr>\n",
       "    <tr>\n",
       "      <th>std</th>\n",
       "      <td>0.843868</td>\n",
       "      <td>0.100795</td>\n",
       "      <td>0.121020</td>\n",
       "      <td>5.072058</td>\n",
       "      <td>0.021848</td>\n",
       "      <td>17.007137</td>\n",
       "      <td>42.498065</td>\n",
       "      <td>0.002991</td>\n",
       "      <td>0.151001</td>\n",
       "      <td>0.114126</td>\n",
       "      <td>1.230621</td>\n",
       "      <td>0.885639</td>\n",
       "    </tr>\n",
       "    <tr>\n",
       "      <th>min</th>\n",
       "      <td>3.800000</td>\n",
       "      <td>0.080000</td>\n",
       "      <td>0.000000</td>\n",
       "      <td>0.600000</td>\n",
       "      <td>0.009000</td>\n",
       "      <td>2.000000</td>\n",
       "      <td>9.000000</td>\n",
       "      <td>0.987110</td>\n",
       "      <td>2.720000</td>\n",
       "      <td>0.220000</td>\n",
       "      <td>8.000000</td>\n",
       "      <td>3.000000</td>\n",
       "    </tr>\n",
       "    <tr>\n",
       "      <th>25%</th>\n",
       "      <td>6.300000</td>\n",
       "      <td>0.210000</td>\n",
       "      <td>0.270000</td>\n",
       "      <td>1.700000</td>\n",
       "      <td>0.036000</td>\n",
       "      <td>23.000000</td>\n",
       "      <td>108.000000</td>\n",
       "      <td>0.991723</td>\n",
       "      <td>3.090000</td>\n",
       "      <td>0.410000</td>\n",
       "      <td>9.500000</td>\n",
       "      <td>5.000000</td>\n",
       "    </tr>\n",
       "    <tr>\n",
       "      <th>50%</th>\n",
       "      <td>6.800000</td>\n",
       "      <td>0.260000</td>\n",
       "      <td>0.320000</td>\n",
       "      <td>5.200000</td>\n",
       "      <td>0.043000</td>\n",
       "      <td>34.000000</td>\n",
       "      <td>134.000000</td>\n",
       "      <td>0.993740</td>\n",
       "      <td>3.180000</td>\n",
       "      <td>0.470000</td>\n",
       "      <td>10.400000</td>\n",
       "      <td>6.000000</td>\n",
       "    </tr>\n",
       "    <tr>\n",
       "      <th>75%</th>\n",
       "      <td>7.300000</td>\n",
       "      <td>0.320000</td>\n",
       "      <td>0.390000</td>\n",
       "      <td>9.900000</td>\n",
       "      <td>0.050000</td>\n",
       "      <td>46.000000</td>\n",
       "      <td>167.000000</td>\n",
       "      <td>0.996100</td>\n",
       "      <td>3.280000</td>\n",
       "      <td>0.550000</td>\n",
       "      <td>11.400000</td>\n",
       "      <td>6.000000</td>\n",
       "    </tr>\n",
       "    <tr>\n",
       "      <th>max</th>\n",
       "      <td>14.200000</td>\n",
       "      <td>1.100000</td>\n",
       "      <td>1.660000</td>\n",
       "      <td>65.800000</td>\n",
       "      <td>0.346000</td>\n",
       "      <td>289.000000</td>\n",
       "      <td>440.000000</td>\n",
       "      <td>1.038980</td>\n",
       "      <td>3.820000</td>\n",
       "      <td>1.080000</td>\n",
       "      <td>14.200000</td>\n",
       "      <td>9.000000</td>\n",
       "    </tr>\n",
       "  </tbody>\n",
       "</table>\n",
       "</div>"
      ],
      "text/plain": [
       "       fixed acidity  volatile acidity  citric acid  residual sugar  \\\n",
       "count    4898.000000       4898.000000  4898.000000     4898.000000   \n",
       "mean        6.854788          0.278241     0.334192        6.391415   \n",
       "std         0.843868          0.100795     0.121020        5.072058   \n",
       "min         3.800000          0.080000     0.000000        0.600000   \n",
       "25%         6.300000          0.210000     0.270000        1.700000   \n",
       "50%         6.800000          0.260000     0.320000        5.200000   \n",
       "75%         7.300000          0.320000     0.390000        9.900000   \n",
       "max        14.200000          1.100000     1.660000       65.800000   \n",
       "\n",
       "         chlorides  free sulfur dioxide  total sulfur dioxide      density  \\\n",
       "count  4898.000000          4898.000000           4898.000000  4898.000000   \n",
       "mean      0.045772            35.308085            138.360657     0.994027   \n",
       "std       0.021848            17.007137             42.498065     0.002991   \n",
       "min       0.009000             2.000000              9.000000     0.987110   \n",
       "25%       0.036000            23.000000            108.000000     0.991723   \n",
       "50%       0.043000            34.000000            134.000000     0.993740   \n",
       "75%       0.050000            46.000000            167.000000     0.996100   \n",
       "max       0.346000           289.000000            440.000000     1.038980   \n",
       "\n",
       "                pH    sulphates      alcohol      quality  \n",
       "count  4898.000000  4898.000000  4898.000000  4898.000000  \n",
       "mean      3.188267     0.489847    10.514267     5.877909  \n",
       "std       0.151001     0.114126     1.230621     0.885639  \n",
       "min       2.720000     0.220000     8.000000     3.000000  \n",
       "25%       3.090000     0.410000     9.500000     5.000000  \n",
       "50%       3.180000     0.470000    10.400000     6.000000  \n",
       "75%       3.280000     0.550000    11.400000     6.000000  \n",
       "max       3.820000     1.080000    14.200000     9.000000  "
      ]
     },
     "execution_count": 4,
     "metadata": {},
     "output_type": "execute_result"
    }
   ],
   "source": [
    "# Try to load the dataset from the Workspace. Otherwise, create it from the file\n",
    "# NOTE: update the key to match the dataset name\n",
    "found = False\n",
    "key = \"Wine Quality Dataset\"\n",
    "description_text = \"Wine Quality DataSet for Udacity Capstone Project\"\n",
    "\n",
    "if key in ws.datasets.keys(): \n",
    "        found = True\n",
    "        dataset = ws.datasets[key] \n",
    "\n",
    "if not found:\n",
    "        # Create AML Dataset and register it into Workspace\n",
    "        example_data = 'https://archive.ics.uci.edu/ml/machine-learning-databases/wine-quality/winequality-white.csv'\n",
    "        dataset = Dataset.Tabular.from_delimited_files(example_data)        \n",
    "        #Register Dataset in Workspace\n",
    "        dataset = dataset.register(workspace=ws,\n",
    "                                   name=key,\n",
    "                                   description=description_text)\n",
    "\n",
    "\n",
    "df = dataset.to_pandas_dataframe()\n",
    "df.describe()"
   ]
  },
  {
   "cell_type": "markdown",
   "metadata": {},
   "source": [
    "## AutoML Configuration\n",
    "\n",
    "TODO: Explain why you chose the automl settings and cofiguration you used below."
   ]
  },
  {
   "cell_type": "code",
   "execution_count": 9,
   "metadata": {},
   "outputs": [],
   "source": [
    "# automl settings\n",
    "automl_settings = {\n",
    "    \"experiment_timeout_minutes\": 20,\n",
    "    \"max_concurrent_iterations\": 5,\n",
    "    \"primary_metric\" : 'normalized_root_mean_squared_error'\n",
    "}\n",
    "\n",
    "#automl config \n",
    "automl_config = AutoMLConfig(compute_target=compute_target,\n",
    "                             task = \"regression\",\n",
    "                             training_data=dataset,\n",
    "                             label_column_name=\"quality\",   \n",
    "                             enable_early_stopping= True,\n",
    "                             featurization= 'auto',\n",
    "                             debug_log = \"automl_errors.log\",\n",
    "                             **automl_settings\n",
    "                            )\n"
   ]
  },
  {
   "cell_type": "code",
   "execution_count": 10,
   "metadata": {
    "gather": {
     "logged": 1598431107951
    },
    "jupyter": {
     "outputs_hidden": false,
     "source_hidden": false
    },
    "nteract": {
     "transient": {
      "deleting": false
     }
    }
   },
   "outputs": [
    {
     "name": "stdout",
     "output_type": "stream",
     "text": [
      "Submitting remote run.\n"
     ]
    },
    {
     "data": {
      "text/html": [
       "<table style=\"width:100%\"><tr><th>Experiment</th><th>Id</th><th>Type</th><th>Status</th><th>Details Page</th><th>Docs Page</th></tr><tr><td>automl</td><td>AutoML_ca658985-7c02-4253-9354-8cc0dad625bb</td><td>automl</td><td>NotStarted</td><td><a href=\"https://ml.azure.com/runs/AutoML_ca658985-7c02-4253-9354-8cc0dad625bb?wsid=/subscriptions/b968fb36-f06a-4c76-a15f-afab68ae7667/resourcegroups/aml-quickstarts-161597/workspaces/quick-starts-ws-161597&amp;tid=660b3398-b80e-49d2-bc5b-ac1dc93b5254\" target=\"_blank\" rel=\"noopener\">Link to Azure Machine Learning studio</a></td><td><a href=\"https://docs.microsoft.com/en-us/python/api/overview/azure/ml/intro?view=azure-ml-py\" target=\"_blank\" rel=\"noopener\">Link to Documentation</a></td></tr></table>"
      ],
      "text/plain": [
       "<IPython.core.display.HTML object>"
      ]
     },
     "metadata": {},
     "output_type": "display_data"
    }
   ],
   "source": [
    "# TODO: Submit your experiment\n",
    "automl_run = experiment.submit(automl_config)"
   ]
  },
  {
   "cell_type": "markdown",
   "metadata": {},
   "source": [
    "## Run Details\n",
    "\n",
    "OPTIONAL: Write about the different models trained and their performance. Why do you think some models did better than others?\n",
    "\n",
    "TODO: In the cell below, use the `RunDetails` widget to show the different experiments."
   ]
  },
  {
   "cell_type": "code",
   "execution_count": 11,
   "metadata": {
    "gather": {
     "logged": 1598431121770
    },
    "jupyter": {
     "outputs_hidden": false,
     "source_hidden": false
    },
    "nteract": {
     "transient": {
      "deleting": false
     }
    }
   },
   "outputs": [
    {
     "data": {
      "application/vnd.jupyter.widget-view+json": {
       "model_id": "57781ad1614a4b21956a01a562fc6991",
       "version_major": 2,
       "version_minor": 0
      },
      "text/plain": [
       "_AutoMLWidget(widget_settings={'childWidgetDisplay': 'popup', 'send_telemetry': False, 'log_level': 'INFO', 's…"
      ]
     },
     "metadata": {},
     "output_type": "display_data"
    },
    {
     "data": {
      "application/aml.mini.widget.v1": "{\"status\": \"Running\", \"workbench_run_details_uri\": \"https://ml.azure.com/runs/AutoML_ca658985-7c02-4253-9354-8cc0dad625bb?wsid=/subscriptions/b968fb36-f06a-4c76-a15f-afab68ae7667/resourcegroups/aml-quickstarts-161597/workspaces/quick-starts-ws-161597&tid=660b3398-b80e-49d2-bc5b-ac1dc93b5254\", \"run_id\": \"AutoML_ca658985-7c02-4253-9354-8cc0dad625bb\", \"run_properties\": {\"run_id\": \"AutoML_ca658985-7c02-4253-9354-8cc0dad625bb\", \"created_utc\": \"2021-10-20T19:14:51.811043Z\", \"properties\": {\"num_iterations\": \"1000\", \"training_type\": \"TrainFull\", \"acquisition_function\": \"EI\", \"primary_metric\": \"normalized_root_mean_squared_error\", \"train_split\": \"0\", \"acquisition_parameter\": \"0\", \"num_cross_validation\": null, \"target\": \"aml-compute\", \"AMLSettingsJsonString\": \"{\\\"path\\\":null,\\\"name\\\":\\\"automl\\\",\\\"subscription_id\\\":\\\"b968fb36-f06a-4c76-a15f-afab68ae7667\\\",\\\"resource_group\\\":\\\"aml-quickstarts-161597\\\",\\\"workspace_name\\\":\\\"quick-starts-ws-161597\\\",\\\"region\\\":\\\"southcentralus\\\",\\\"compute_target\\\":\\\"aml-compute\\\",\\\"spark_service\\\":null,\\\"azure_service\\\":\\\"remote\\\",\\\"many_models\\\":false,\\\"pipeline_fetch_max_batch_size\\\":1,\\\"enable_batch_run\\\":false,\\\"enable_run_restructure\\\":false,\\\"start_auxiliary_runs_before_parent_complete\\\":false,\\\"enable_code_generation\\\":false,\\\"iterations\\\":1000,\\\"primary_metric\\\":\\\"normalized_root_mean_squared_error\\\",\\\"task_type\\\":\\\"regression\\\",\\\"data_script\\\":null,\\\"test_size\\\":0.0,\\\"test_include_predictions_only\\\":false,\\\"validation_size\\\":0.0,\\\"n_cross_validations\\\":null,\\\"y_min\\\":null,\\\"y_max\\\":null,\\\"num_classes\\\":null,\\\"featurization\\\":\\\"auto\\\",\\\"_ignore_package_version_incompatibilities\\\":false,\\\"is_timeseries\\\":false,\\\"max_cores_per_iteration\\\":1,\\\"max_concurrent_iterations\\\":5,\\\"iteration_timeout_minutes\\\":null,\\\"mem_in_mb\\\":null,\\\"enforce_time_on_windows\\\":false,\\\"experiment_timeout_minutes\\\":20,\\\"experiment_exit_score\\\":null,\\\"whitelist_models\\\":null,\\\"blacklist_algos\\\":[\\\"TensorFlowDNN\\\",\\\"TensorFlowLinearRegressor\\\"],\\\"supported_models\\\":[\\\"TensorFlowDNN\\\",\\\"KNN\\\",\\\"LassoLars\\\",\\\"DecisionTree\\\",\\\"ElasticNet\\\",\\\"GradientBoosting\\\",\\\"ExtremeRandomTrees\\\",\\\"TensorFlowLinearRegressor\\\",\\\"XGBoostRegressor\\\",\\\"FastLinearRegressor\\\",\\\"OnlineGradientDescentRegressor\\\",\\\"SGD\\\",\\\"LightGBM\\\",\\\"RandomForest\\\"],\\\"private_models\\\":[],\\\"auto_blacklist\\\":true,\\\"blacklist_samples_reached\\\":false,\\\"exclude_nan_labels\\\":true,\\\"verbosity\\\":20,\\\"_debug_log\\\":\\\"azureml_automl.log\\\",\\\"show_warnings\\\":false,\\\"model_explainability\\\":true,\\\"service_url\\\":null,\\\"sdk_url\\\":null,\\\"sdk_packages\\\":null,\\\"enable_onnx_compatible_models\\\":false,\\\"enable_split_onnx_featurizer_estimator_models\\\":false,\\\"vm_type\\\":\\\"STANDARD_D16_V3\\\",\\\"telemetry_verbosity\\\":20,\\\"send_telemetry\\\":true,\\\"enable_dnn\\\":false,\\\"scenario\\\":\\\"SDK-1.13.0\\\",\\\"environment_label\\\":null,\\\"save_mlflow\\\":false,\\\"force_text_dnn\\\":false,\\\"enable_feature_sweeping\\\":true,\\\"enable_early_stopping\\\":true,\\\"early_stopping_n_iters\\\":10,\\\"metrics\\\":null,\\\"enable_metric_confidence\\\":false,\\\"enable_ensembling\\\":true,\\\"enable_stack_ensembling\\\":true,\\\"ensemble_iterations\\\":15,\\\"enable_tf\\\":false,\\\"enable_subsampling\\\":null,\\\"subsample_seed\\\":null,\\\"enable_nimbusml\\\":false,\\\"enable_streaming\\\":false,\\\"force_streaming\\\":false,\\\"track_child_runs\\\":true,\\\"allowed_private_models\\\":[],\\\"label_column_name\\\":\\\"quality\\\",\\\"weight_column_name\\\":null,\\\"cv_split_column_names\\\":null,\\\"positive_label\\\":null,\\\"enable_local_managed\\\":false,\\\"_local_managed_run_id\\\":null,\\\"cost_mode\\\":1,\\\"lag_length\\\":0,\\\"metric_operation\\\":\\\"minimize\\\",\\\"preprocess\\\":true}\", \"DataPrepJsonString\": \"{\\\\\\\"training_data\\\\\\\": {\\\\\\\"datasetId\\\\\\\": \\\\\\\"f5c3d989-0f44-4b33-aff5-1bb09f210184\\\\\\\"}, \\\\\\\"datasets\\\\\\\": 0}\", \"EnableSubsampling\": null, \"runTemplate\": \"AutoML\", \"azureml.runsource\": \"automl\", \"display_task_type\": \"regression\", \"dependencies_versions\": \"{\\\"azureml-widgets\\\": \\\"1.34.0\\\", \\\"azureml-train\\\": \\\"1.34.0\\\", \\\"azureml-train-restclients-hyperdrive\\\": \\\"1.34.0\\\", \\\"azureml-train-core\\\": \\\"1.34.0\\\", \\\"azureml-train-automl\\\": \\\"1.34.0\\\", \\\"azureml-train-automl-runtime\\\": \\\"1.34.0\\\", \\\"azureml-train-automl-client\\\": \\\"1.34.0\\\", \\\"azureml-tensorboard\\\": \\\"1.34.0\\\", \\\"azureml-telemetry\\\": \\\"1.34.0\\\", \\\"azureml-sdk\\\": \\\"1.34.0\\\", \\\"azureml-samples\\\": \\\"0+unknown\\\", \\\"azureml-responsibleai\\\": \\\"1.34.0\\\", \\\"azureml-pipeline\\\": \\\"1.34.0\\\", \\\"azureml-pipeline-steps\\\": \\\"1.34.0\\\", \\\"azureml-pipeline-core\\\": \\\"1.34.0\\\", \\\"azureml-opendatasets\\\": \\\"1.34.0\\\", \\\"azureml-mlflow\\\": \\\"1.34.0\\\", \\\"azureml-interpret\\\": \\\"1.34.0\\\", \\\"azureml-inference-server-http\\\": \\\"0.3.1\\\", \\\"azureml-explain-model\\\": \\\"1.34.0\\\", \\\"azureml-defaults\\\": \\\"1.34.0\\\", \\\"azureml-dataset-runtime\\\": \\\"1.34.0\\\", \\\"azureml-dataprep\\\": \\\"2.22.2\\\", \\\"azureml-dataprep-rslex\\\": \\\"1.20.1\\\", \\\"azureml-dataprep-native\\\": \\\"38.0.0\\\", \\\"azureml-datadrift\\\": \\\"1.34.0\\\", \\\"azureml-core\\\": \\\"1.34.0\\\", \\\"azureml-contrib-services\\\": \\\"1.34.0\\\", \\\"azureml-contrib-server\\\": \\\"1.34.0\\\", \\\"azureml-contrib-reinforcementlearning\\\": \\\"1.34.0\\\", \\\"azureml-contrib-pipeline-steps\\\": \\\"1.34.0\\\", \\\"azureml-contrib-notebook\\\": \\\"1.34.0\\\", \\\"azureml-contrib-fairness\\\": \\\"1.34.0\\\", \\\"azureml-contrib-dataset\\\": \\\"1.34.0\\\", \\\"azureml-contrib-automl-pipeline-steps\\\": \\\"1.34.0\\\", \\\"azureml-cli-common\\\": \\\"1.34.0\\\", \\\"azureml-automl-runtime\\\": \\\"1.34.0\\\", \\\"azureml-automl-dnn-nlp\\\": \\\"1.34.0\\\", \\\"azureml-automl-core\\\": \\\"1.34.0\\\", \\\"azureml-accel-models\\\": \\\"1.34.0\\\"}\", \"_aml_system_scenario_identification\": \"Remote.Parent\", \"ClientType\": \"SDK\", \"environment_cpu_name\": \"AzureML-AutoML\", \"environment_cpu_label\": \"prod\", \"environment_gpu_name\": \"AzureML-AutoML-GPU\", \"environment_gpu_label\": \"prod\", \"root_attribution\": \"automl\", \"attribution\": \"AutoML\", \"Orchestrator\": \"AutoML\", \"CancelUri\": \"https://southcentralus.api.azureml.ms/jasmine/v1.0/subscriptions/b968fb36-f06a-4c76-a15f-afab68ae7667/resourceGroups/aml-quickstarts-161597/providers/Microsoft.MachineLearningServices/workspaces/quick-starts-ws-161597/experimentids/e174f563-0f4b-432e-bf1c-0d1f63c9974d/cancel/AutoML_ca658985-7c02-4253-9354-8cc0dad625bb\", \"ClientSdkVersion\": \"1.34.1\", \"snapshotId\": \"00000000-0000-0000-0000-000000000000\", \"SetupRunId\": \"AutoML_ca658985-7c02-4253-9354-8cc0dad625bb_setup\", \"SetupRunContainerId\": \"dcid.AutoML_ca658985-7c02-4253-9354-8cc0dad625bb_setup\", \"FeaturizationRunJsonPath\": \"featurizer_container.json\", \"FeaturizationRunId\": \"AutoML_ca658985-7c02-4253-9354-8cc0dad625bb_featurize\", \"ProblemInfoJsonString\": \"{\\\"dataset_num_categorical\\\": 0, \\\"is_sparse\\\": false, \\\"subsampling\\\": false, \\\"has_extra_col\\\": true, \\\"dataset_classes\\\": 7, \\\"dataset_features\\\": 11, \\\"dataset_samples\\\": 4898, \\\"single_frequency_class_detected\\\": false}\"}, \"tags\": {\"model_explain_run\": \"best_run\", \"_aml_system_azureml.automlComponent\": \"AutoML\", \"pipeline_id\": \"<1ee8bbdda30f414fb76bee47d543cd5e109dcdf8>;<2dc95d8bafd84221b8de309021c722b4fa570e77>;<4bc4ec47eb8df2d5d68b361cd60120e65196f757>;<faf12f74cf9bbd358ca5525682c5030d36f7be7c>;<25f83b241b8941c8c1f896a8338015dbab159f71>;<6ea29a0b9fd1f634678397a456aaf8d4d853f689>;<7839ca66a0ff9be386363c852f0384a7b2a1c93f>;<ae729f09378486945c70eb2a2306f8aa8f4e30a7>;<4379608887dc335ce8c4ec4afbec7da03177d166>;<86f7c6ce026522eff88f32e647e3e27450da2679>;<13907c2227a8ccd337dcfb9775a6091b777331e0>;<7b7eb05148aedbc9f680e7533de408ae512d737a>;<b5f35f573ce4f6e8526176d4e0932b5193598307>;<480f8271b09711d8daebb36454a153b84ef1254e>;<e647a57da02d25aba6061b72d5df7283520175ad>;<65d7c43a91915b98bea837d39e652767814c8983>;<3840ebb82b060782c0c1aaabbe352751ed0cb999>;<1f8577810e0ef1b58bfcf0cc67c0115f13247d60>;\", \"score\": \"<0.12632771212817015>;<0.12654643891674755>;<0.11560199583337379>;<0.10881301256574478>;<0.12636404559769443>;<0.11396130797978611>;<0.12653253065714853>;<0.1265420378616985>;<0.12636555539086813>;<0.1259197889153348>;<0.1263654526404803>;<0.1183893757577178>;<0.1145390731497594>;<0.12006338691199941>;<0.12991769164771552>;<0.11225099462426646>;<0.12564286982078918>;<0.12288239282162672>;\", \"predicted_cost\": \"<0.5>;<0.5>;<0>;<0>;<0.5>;<0.005350550127720827>;<0.005262384688050491>;<0.005558052629832943>;<0.005370678169459884>;<0.005442137233780569>;<0.0025728096068376926>;<0.1104150562017786>;<0.03617104028938241>;<0.062229130090720286>;<0.08569350309825212>;<0.011755119243857684>;<0.0067345887342593795>;<0.08812454830425274>;\", \"fit_time\": \"<0.0058003333333333336>;<0.005136333333333334>;<0.18753899999999998>;<0.14003933333333332>;<0.006379>;<0.12304333333333334>;<0.005085999999999999>;<0.004752>;<0.005084666666666667>;<0.010784>;<0.007349333333333334>;<0.07857933333333333>;<0.039037666666666665>;<0.12737833333333334>;<0.041636>;<0.3240136666666667>;<0.012674999999999999>;<0.028615>;\", \"training_percent\": \"<100>;<100>;<100>;<100>;<100>;<100>;<100>;<100>;<100>;<100>;<100>;<100>;<100>;<100>;<100>;<100>;<100>;<100>;\", \"iteration\": \"<4>;<2>;<1>;<0>;<3>;<6>;<7>;<9>;<8>;<5>;<10>;<11>;<15>;<13>;<14>;<12>;<16>;<17>;\", \"run_preprocessor\": \"<MinMaxScaler>;<MaxAbsScaler>;<MaxAbsScaler>;<MaxAbsScaler>;<RobustScaler>;<MinMaxScaler>;<MaxAbsScaler>;<MaxAbsScaler>;<StandardScalerWrapper>;<StandardScalerWrapper>;<StandardScalerWrapper>;<MinMaxScaler>;<MaxAbsScaler>;<MinMaxScaler>;<MinMaxScaler>;<MinMaxScaler>;<MinMaxScaler>;<RobustScaler>;\", \"run_algorithm\": \"<ElasticNet>;<ElasticNet>;<XGBoostRegressor>;<LightGBM>;<ElasticNet>;<RandomForest>;<ElasticNet>;<ElasticNet>;<ElasticNet>;<ElasticNet>;<ElasticNet>;<ExtremeRandomTrees>;<ExtremeRandomTrees>;<ExtremeRandomTrees>;<ExtremeRandomTrees>;<RandomForest>;<DecisionTree>;<ExtremeRandomTrees>;\"}, \"end_time_utc\": null, \"status\": \"Running\", \"log_files\": {}, \"log_groups\": [], \"run_duration\": \"0:07:52\", \"run_number\": \"46\", \"run_queued_details\": {\"status\": \"Running\", \"details\": null}}, \"child_runs\": [{\"run_id\": \"AutoML_ca658985-7c02-4253-9354-8cc0dad625bb_setup\", \"run_number\": 47, \"metric\": null, \"status\": \"Completed\", \"run_type\": \"azureml.scriptrun\", \"training_percent\": null, \"start_time\": \"2021-10-20T19:15:04.03347Z\", \"end_time\": \"2021-10-20T19:15:45.731377Z\", \"created_time\": \"2021-10-20T19:15:04.03347Z\", \"created_time_dt\": \"2021-10-20T19:15:04.03347Z\", \"duration\": \"0:00:41\", \"iteration\": null, \"goal\": null, \"run_name\": \"Completed\", \"run_properties\": null}, {\"run_id\": \"AutoML_ca658985-7c02-4253-9354-8cc0dad625bb_featurize\", \"run_number\": 48, \"metric\": null, \"status\": \"Completed\", \"run_type\": \"automl.featurization\", \"training_percent\": null, \"start_time\": \"2021-10-20T19:15:46.685783Z\", \"end_time\": \"2021-10-20T19:16:37.747439Z\", \"created_time\": \"2021-10-20T19:15:46.175051Z\", \"created_time_dt\": \"2021-10-20T19:15:46.175051Z\", \"duration\": \"0:00:51\", \"iteration\": null, \"goal\": null, \"run_name\": \"Completed\", \"run_properties\": null}, {\"run_id\": \"AutoML_ca658985-7c02-4253-9354-8cc0dad625bb_0\", \"run_number\": 50, \"metric\": null, \"status\": \"Completed\", \"run_type\": \"azureml.scriptrun\", \"training_percent\": \"100\", \"start_time\": \"2021-10-20T19:16:38.832051Z\", \"end_time\": \"2021-10-20T19:17:10.456162Z\", \"created_time\": \"2021-10-20T19:16:38.832051Z\", \"created_time_dt\": \"2021-10-20T19:16:38.832051Z\", \"duration\": \"0:00:31\", \"iteration\": \"0\", \"goal\": \"normalized_root_mean_squared_error_min\", \"run_name\": \"MaxAbsScaler, LightGBM\", \"run_properties\": \"copy=True\", \"primary_metric\": 0.10881301, \"best_metric\": 0.10881301}, {\"run_id\": \"AutoML_ca658985-7c02-4253-9354-8cc0dad625bb_4\", \"run_number\": 51, \"metric\": null, \"status\": \"Completed\", \"run_type\": \"azureml.scriptrun\", \"training_percent\": \"100\", \"start_time\": \"2021-10-20T19:16:38.848603Z\", \"end_time\": \"2021-10-20T19:17:09.341098Z\", \"created_time\": \"2021-10-20T19:16:38.848603Z\", \"created_time_dt\": \"2021-10-20T19:16:38.848603Z\", \"duration\": \"0:00:30\", \"iteration\": \"4\", \"goal\": \"normalized_root_mean_squared_error_min\", \"run_name\": \"MinMaxScaler, ElasticNet\", \"run_properties\": \"copy=True, feature_range=(0, 1\", \"primary_metric\": 0.12632771, \"best_metric\": 0.10881301}, {\"run_id\": \"AutoML_ca658985-7c02-4253-9354-8cc0dad625bb_2\", \"run_number\": 52, \"metric\": null, \"status\": \"Completed\", \"run_type\": \"azureml.scriptrun\", \"training_percent\": \"100\", \"start_time\": \"2021-10-20T19:16:38.858192Z\", \"end_time\": \"2021-10-20T19:17:09.488602Z\", \"created_time\": \"2021-10-20T19:16:38.858192Z\", \"created_time_dt\": \"2021-10-20T19:16:38.858192Z\", \"duration\": \"0:00:30\", \"iteration\": \"2\", \"goal\": \"normalized_root_mean_squared_error_min\", \"run_name\": \"MaxAbsScaler, ElasticNet\", \"run_properties\": \"copy=True\", \"primary_metric\": 0.12654644, \"best_metric\": 0.10881301}, {\"run_id\": \"AutoML_ca658985-7c02-4253-9354-8cc0dad625bb_3\", \"run_number\": 53, \"metric\": null, \"status\": \"Completed\", \"run_type\": \"azureml.scriptrun\", \"training_percent\": \"100\", \"start_time\": \"2021-10-20T19:16:38.883953Z\", \"end_time\": \"2021-10-20T19:17:36.521569Z\", \"created_time\": \"2021-10-20T19:16:38.883953Z\", \"created_time_dt\": \"2021-10-20T19:16:38.883953Z\", \"duration\": \"0:00:57\", \"iteration\": \"3\", \"goal\": \"normalized_root_mean_squared_error_min\", \"run_name\": \"RobustScaler, ElasticNet\", \"run_properties\": \"copy=True, quantile_range=[10, 90], with_centering=True,\\n             with_scaling=False\", \"primary_metric\": 0.12636405, \"best_metric\": 0.10881301}, {\"run_id\": \"AutoML_ca658985-7c02-4253-9354-8cc0dad625bb_1\", \"run_number\": 54, \"metric\": null, \"status\": \"Completed\", \"run_type\": \"azureml.scriptrun\", \"training_percent\": \"100\", \"start_time\": \"2021-10-20T19:16:38.858186Z\", \"end_time\": \"2021-10-20T19:17:10.859499Z\", \"created_time\": \"2021-10-20T19:16:38.858186Z\", \"created_time_dt\": \"2021-10-20T19:16:38.858186Z\", \"duration\": \"0:00:32\", \"iteration\": \"1\", \"goal\": \"normalized_root_mean_squared_error_min\", \"run_name\": \"MaxAbsScaler, XGBoostRegressor\", \"run_properties\": \"copy=True\", \"primary_metric\": 0.115602, \"best_metric\": 0.10881301}, {\"run_id\": \"AutoML_ca658985-7c02-4253-9354-8cc0dad625bb_5\", \"run_number\": 55, \"metric\": null, \"status\": \"Completed\", \"run_type\": \"azureml.scriptrun\", \"training_percent\": \"100\", \"start_time\": \"2021-10-20T19:17:12.876468Z\", \"end_time\": \"2021-10-20T19:19:06.406Z\", \"created_time\": \"2021-10-20T19:17:12.876468Z\", \"created_time_dt\": \"2021-10-20T19:17:12.876468Z\", \"duration\": \"0:01:53\", \"iteration\": \"5\", \"goal\": \"normalized_root_mean_squared_error_min\", \"run_name\": \"StandardScalerWrapper, ElasticNet\", \"run_properties\": \"\\n    copy=True,\\n    with_mean=False,\\n    with_std=True\\n\", \"primary_metric\": 0.12591979, \"best_metric\": 0.10881301}, {\"run_id\": \"AutoML_ca658985-7c02-4253-9354-8cc0dad625bb_6\", \"run_number\": 56, \"metric\": null, \"status\": \"Completed\", \"run_type\": \"azureml.scriptrun\", \"training_percent\": \"100\", \"start_time\": \"2021-10-20T19:17:12.891092Z\", \"end_time\": \"2021-10-20T19:18:14.668435Z\", \"created_time\": \"2021-10-20T19:17:12.891092Z\", \"created_time_dt\": \"2021-10-20T19:17:12.891092Z\", \"duration\": \"0:01:01\", \"iteration\": \"6\", \"goal\": \"normalized_root_mean_squared_error_min\", \"run_name\": \"MinMaxScaler, RandomForest\", \"run_properties\": \"copy=True, feature_range=(0, 1\", \"primary_metric\": 0.11396131, \"best_metric\": 0.10881301}, {\"run_id\": \"AutoML_ca658985-7c02-4253-9354-8cc0dad625bb_8\", \"run_number\": 57, \"metric\": null, \"status\": \"Completed\", \"run_type\": \"azureml.scriptrun\", \"training_percent\": \"100\", \"start_time\": \"2021-10-20T19:17:17.193308Z\", \"end_time\": \"2021-10-20T19:19:06.2895Z\", \"created_time\": \"2021-10-20T19:17:17.193308Z\", \"created_time_dt\": \"2021-10-20T19:17:17.193308Z\", \"duration\": \"0:01:49\", \"iteration\": \"8\", \"goal\": \"normalized_root_mean_squared_error_min\", \"run_name\": \"StandardScalerWrapper, ElasticNet\", \"run_properties\": \"\\n    copy=True,\\n    with_mean=True,\\n    with_std=False\\n\", \"primary_metric\": 0.12636556, \"best_metric\": 0.10881301}, {\"run_id\": \"AutoML_ca658985-7c02-4253-9354-8cc0dad625bb_7\", \"run_number\": 58, \"metric\": null, \"status\": \"Completed\", \"run_type\": \"azureml.scriptrun\", \"training_percent\": \"100\", \"start_time\": \"2021-10-20T19:17:17.20297Z\", \"end_time\": \"2021-10-20T19:19:05.882306Z\", \"created_time\": \"2021-10-20T19:17:17.20297Z\", \"created_time_dt\": \"2021-10-20T19:17:17.20297Z\", \"duration\": \"0:01:48\", \"iteration\": \"7\", \"goal\": \"normalized_root_mean_squared_error_min\", \"run_name\": \"MaxAbsScaler, ElasticNet\", \"run_properties\": \"copy=True\", \"primary_metric\": 0.12653253, \"best_metric\": 0.10881301}, {\"run_id\": \"AutoML_ca658985-7c02-4253-9354-8cc0dad625bb_9\", \"run_number\": 59, \"metric\": null, \"status\": \"Completed\", \"run_type\": \"azureml.scriptrun\", \"training_percent\": \"100\", \"start_time\": \"2021-10-20T19:17:39.492048Z\", \"end_time\": \"2021-10-20T19:19:05.817294Z\", \"created_time\": \"2021-10-20T19:17:39.492048Z\", \"created_time_dt\": \"2021-10-20T19:17:39.492048Z\", \"duration\": \"0:01:26\", \"iteration\": \"9\", \"goal\": \"normalized_root_mean_squared_error_min\", \"run_name\": \"MaxAbsScaler, ElasticNet\", \"run_properties\": \"copy=True\", \"primary_metric\": 0.12654204, \"best_metric\": 0.10881301}, {\"run_id\": \"AutoML_ca658985-7c02-4253-9354-8cc0dad625bb_10\", \"run_number\": 60, \"metric\": null, \"status\": \"Completed\", \"run_type\": \"azureml.scriptrun\", \"training_percent\": \"100\", \"start_time\": \"2021-10-20T19:18:18.037654Z\", \"end_time\": \"2021-10-20T19:19:36.335197Z\", \"created_time\": \"2021-10-20T19:18:18.037654Z\", \"created_time_dt\": \"2021-10-20T19:18:18.037654Z\", \"duration\": \"0:01:18\", \"iteration\": \"10\", \"goal\": \"normalized_root_mean_squared_error_min\", \"run_name\": \"StandardScalerWrapper, ElasticNet\", \"run_properties\": \"\\n    copy=True,\\n    with_mean=True,\\n    with_std=False\\n\", \"primary_metric\": 0.12636545, \"best_metric\": 0.10881301}, {\"run_id\": \"AutoML_ca658985-7c02-4253-9354-8cc0dad625bb_11\", \"run_number\": 61, \"metric\": null, \"status\": \"Completed\", \"run_type\": \"azureml.scriptrun\", \"training_percent\": \"100\", \"start_time\": \"2021-10-20T19:19:09.087689Z\", \"end_time\": \"2021-10-20T19:20:15.737244Z\", \"created_time\": \"2021-10-20T19:19:09.087689Z\", \"created_time_dt\": \"2021-10-20T19:19:09.087689Z\", \"duration\": \"0:01:06\", \"iteration\": \"11\", \"goal\": \"normalized_root_mean_squared_error_min\", \"run_name\": \"MinMaxScaler, ExtremeRandomTrees\", \"run_properties\": \"copy=True, feature_range=(0, 1\", \"primary_metric\": 0.11838938, \"best_metric\": 0.10881301}, {\"run_id\": \"AutoML_ca658985-7c02-4253-9354-8cc0dad625bb_12\", \"run_number\": 62, \"metric\": null, \"status\": \"Completed\", \"run_type\": \"azureml.scriptrun\", \"training_percent\": \"100\", \"start_time\": \"2021-10-20T19:19:09.117308Z\", \"end_time\": \"2021-10-20T19:21:08.062809Z\", \"created_time\": \"2021-10-20T19:19:09.117308Z\", \"created_time_dt\": \"2021-10-20T19:19:09.117308Z\", \"duration\": \"0:01:58\", \"iteration\": \"12\", \"goal\": \"normalized_root_mean_squared_error_min\", \"run_name\": \"MinMaxScaler, RandomForest\", \"run_properties\": \"copy=True, feature_range=(0, 1\", \"primary_metric\": 0.11225099, \"best_metric\": 0.10881301}, {\"run_id\": \"AutoML_ca658985-7c02-4253-9354-8cc0dad625bb_13\", \"run_number\": 63, \"metric\": null, \"status\": \"Completed\", \"run_type\": \"azureml.scriptrun\", \"training_percent\": \"100\", \"start_time\": \"2021-10-20T19:19:13.680737Z\", \"end_time\": \"2021-10-20T19:21:07.119679Z\", \"created_time\": \"2021-10-20T19:19:13.680737Z\", \"created_time_dt\": \"2021-10-20T19:19:13.680737Z\", \"duration\": \"0:01:53\", \"iteration\": \"13\", \"goal\": \"normalized_root_mean_squared_error_min\", \"run_name\": \"MinMaxScaler, ExtremeRandomTrees\", \"run_properties\": \"copy=True, feature_range=(0, 1\", \"primary_metric\": 0.12006339, \"best_metric\": 0.10881301}, {\"run_id\": \"AutoML_ca658985-7c02-4253-9354-8cc0dad625bb_14\", \"run_number\": 64, \"metric\": null, \"status\": \"Completed\", \"run_type\": \"azureml.scriptrun\", \"training_percent\": \"100\", \"start_time\": \"2021-10-20T19:19:13.686455Z\", \"end_time\": \"2021-10-20T19:21:07.006076Z\", \"created_time\": \"2021-10-20T19:19:13.686455Z\", \"created_time_dt\": \"2021-10-20T19:19:13.686455Z\", \"duration\": \"0:01:53\", \"iteration\": \"14\", \"goal\": \"normalized_root_mean_squared_error_min\", \"run_name\": \"MinMaxScaler, ExtremeRandomTrees\", \"run_properties\": \"copy=True, feature_range=(0, 1\", \"primary_metric\": 0.12991769, \"best_metric\": 0.10881301}, {\"run_id\": \"AutoML_ca658985-7c02-4253-9354-8cc0dad625bb_15\", \"run_number\": 65, \"metric\": null, \"status\": \"Completed\", \"run_type\": \"azureml.scriptrun\", \"training_percent\": \"100\", \"start_time\": \"2021-10-20T19:19:39.531824Z\", \"end_time\": \"2021-10-20T19:21:06.585189Z\", \"created_time\": \"2021-10-20T19:19:39.531824Z\", \"created_time_dt\": \"2021-10-20T19:19:39.531824Z\", \"duration\": \"0:01:27\", \"iteration\": \"15\", \"goal\": \"normalized_root_mean_squared_error_min\", \"run_name\": \"MaxAbsScaler, ExtremeRandomTrees\", \"run_properties\": \"copy=True\", \"primary_metric\": 0.11453907, \"best_metric\": 0.10881301}, {\"run_id\": \"AutoML_ca658985-7c02-4253-9354-8cc0dad625bb_16\", \"run_number\": 66, \"metric\": null, \"status\": \"Completed\", \"run_type\": \"azureml.scriptrun\", \"training_percent\": \"100\", \"start_time\": \"2021-10-20T19:20:19.001053Z\", \"end_time\": \"2021-10-20T19:21:36.621333Z\", \"created_time\": \"2021-10-20T19:20:19.001053Z\", \"created_time_dt\": \"2021-10-20T19:20:19.001053Z\", \"duration\": \"0:01:17\", \"iteration\": \"16\", \"goal\": \"normalized_root_mean_squared_error_min\", \"run_name\": \"MinMaxScaler, DecisionTree\", \"run_properties\": \"copy=True, feature_range=(0, 1\", \"primary_metric\": 0.12564287, \"best_metric\": 0.10881301}, {\"run_id\": \"AutoML_ca658985-7c02-4253-9354-8cc0dad625bb_17\", \"run_number\": 67, \"metric\": null, \"status\": \"Completed\", \"run_type\": \"azureml.scriptrun\", \"training_percent\": \"100\", \"start_time\": \"2021-10-20T19:21:11.350227Z\", \"end_time\": \"2021-10-20T19:22:17.771476Z\", \"created_time\": \"2021-10-20T19:21:11.350227Z\", \"created_time_dt\": \"2021-10-20T19:21:11.350227Z\", \"duration\": \"0:01:06\", \"iteration\": \"17\", \"goal\": \"normalized_root_mean_squared_error_min\", \"run_name\": \"RobustScaler, ExtremeRandomTrees\", \"run_properties\": \"copy=True, quantile_range=[10, 90], with_centering=False,\\n             with_scaling=False\", \"primary_metric\": 0.12288239, \"best_metric\": 0.10881301}, {\"run_id\": \"AutoML_ca658985-7c02-4253-9354-8cc0dad625bb_18\", \"run_number\": 68, \"metric\": null, \"status\": \"Queued\", \"run_type\": \"azureml.scriptrun\", \"training_percent\": \"100\", \"start_time\": \"\", \"end_time\": \"\", \"created_time\": \"2021-10-20T19:21:16.538758Z\", \"created_time_dt\": \"2021-10-20T19:21:16.538758Z\", \"duration\": \"0:01:27\", \"iteration\": \"18\", \"goal\": null, \"run_name\": \"Queued\", \"run_properties\": null}, {\"run_id\": \"AutoML_ca658985-7c02-4253-9354-8cc0dad625bb_19\", \"run_number\": 69, \"metric\": null, \"status\": \"Queued\", \"run_type\": \"azureml.scriptrun\", \"training_percent\": \"100\", \"start_time\": \"\", \"end_time\": \"\", \"created_time\": \"2021-10-20T19:21:16.56632Z\", \"created_time_dt\": \"2021-10-20T19:21:16.56632Z\", \"duration\": \"0:01:27\", \"iteration\": \"19\", \"goal\": null, \"run_name\": \"Queued\", \"run_properties\": null}, {\"run_id\": \"AutoML_ca658985-7c02-4253-9354-8cc0dad625bb_20\", \"run_number\": 70, \"metric\": null, \"status\": \"Queued\", \"run_type\": \"azureml.scriptrun\", \"training_percent\": \"100\", \"start_time\": \"\", \"end_time\": \"\", \"created_time\": \"2021-10-20T19:21:16.585342Z\", \"created_time_dt\": \"2021-10-20T19:21:16.585342Z\", \"duration\": \"0:01:27\", \"iteration\": \"20\", \"goal\": null, \"run_name\": \"Queued\", \"run_properties\": null}, {\"run_id\": \"AutoML_ca658985-7c02-4253-9354-8cc0dad625bb_21\", \"run_number\": 71, \"metric\": null, \"status\": \"Queued\", \"run_type\": \"azureml.scriptrun\", \"training_percent\": \"100\", \"start_time\": \"\", \"end_time\": \"\", \"created_time\": \"2021-10-20T19:21:39.56941Z\", \"created_time_dt\": \"2021-10-20T19:21:39.56941Z\", \"duration\": \"0:01:04\", \"iteration\": \"21\", \"goal\": null, \"run_name\": \"Queued\", \"run_properties\": null}, {\"run_id\": \"AutoML_ca658985-7c02-4253-9354-8cc0dad625bb_22\", \"run_number\": 72, \"metric\": null, \"status\": \"Queued\", \"run_type\": \"azureml.scriptrun\", \"training_percent\": \"100\", \"start_time\": \"\", \"end_time\": \"\", \"created_time\": \"2021-10-20T19:22:20.564767Z\", \"created_time_dt\": \"2021-10-20T19:22:20.564767Z\", \"duration\": \"0:00:23\", \"iteration\": \"22\", \"goal\": null, \"run_name\": \"Queued\", \"run_properties\": null}], \"children_metrics\": {\"categories\": [0], \"series\": {\"root_mean_squared_log_error\": [{\"categories\": [\"0\", \"1\", \"2\", \"3\", \"4\", \"5\", \"6\", \"7\", \"8\", \"9\", \"10\", \"11\", \"12\", \"13\", \"14\", \"15\", \"16\", \"17\"], \"mode\": \"markers\", \"name\": \"root_mean_squared_log_error\", \"stepped\": false, \"type\": \"scatter\", \"data\": [0.09765119811923362, 0.10313949487159146, 0.11237487401103889, 0.11221304867469833, 0.11220691647012566, 0.1123777206769037, 0.10204236372953679, 0.11235066199125708, 0.1121928764922268, 0.1123468438532113, 0.11220003576848486, 0.10584915112144233, 0.10048401803012659, 0.10723615105476585, 0.11570738806157214, 0.10260163569280785, 0.11181122826846346, 0.10971689025007764]}, {\"categories\": [\"0\", \"1\", \"2\", \"3\", \"4\", \"5\", \"6\", \"7\", \"8\", \"9\", \"10\", \"11\", \"12\", \"13\", \"14\", \"15\", \"16\", \"17\"], \"mode\": \"lines\", \"name\": \"root_mean_squared_log_error_min\", \"stepped\": true, \"type\": \"scatter\", \"data\": [0.09765119811923362, 0.09765119811923362, 0.09765119811923362, 0.09765119811923362, 0.09765119811923362, 0.09765119811923362, 0.09765119811923362, 0.09765119811923362, 0.09765119811923362, 0.09765119811923362, 0.09765119811923362, 0.09765119811923362, 0.09765119811923362, 0.09765119811923362, 0.09765119811923362, 0.09765119811923362, 0.09765119811923362, 0.09765119811923362]}], \"root_mean_squared_error\": [{\"categories\": [\"0\", \"1\", \"2\", \"3\", \"4\", \"5\", \"6\", \"7\", \"8\", \"9\", \"10\", \"11\", \"12\", \"13\", \"14\", \"15\", \"16\", \"17\"], \"mode\": \"markers\", \"name\": \"root_mean_squared_error\", \"stepped\": false, \"type\": \"scatter\", \"data\": [0.6528780753944687, 0.6936119750002429, 0.7592786335004852, 0.7581842735861665, 0.7579662727690208, 0.7555187334920088, 0.6837678478787167, 0.7591951839428912, 0.7581933323452089, 0.759252227170191, 0.7581927158428817, 0.7103362545463069, 0.6735059677455987, 0.7203803214719965, 0.7795061498862932, 0.6872344388985564, 0.7538572189247351, 0.7372943569297602]}, {\"categories\": [\"0\", \"1\", \"2\", \"3\", \"4\", \"5\", \"6\", \"7\", \"8\", \"9\", \"10\", \"11\", \"12\", \"13\", \"14\", \"15\", \"16\", \"17\"], \"mode\": \"lines\", \"name\": \"root_mean_squared_error_min\", \"stepped\": true, \"type\": \"scatter\", \"data\": [0.6528780753944687, 0.6528780753944687, 0.6528780753944687, 0.6528780753944687, 0.6528780753944687, 0.6528780753944687, 0.6528780753944687, 0.6528780753944687, 0.6528780753944687, 0.6528780753944687, 0.6528780753944687, 0.6528780753944687, 0.6528780753944687, 0.6528780753944687, 0.6528780753944687, 0.6528780753944687, 0.6528780753944687, 0.6528780753944687]}], \"normalized_median_absolute_error\": [{\"categories\": [\"0\", \"1\", \"2\", \"3\", \"4\", \"5\", \"6\", \"7\", \"8\", \"9\", \"10\", \"11\", \"12\", \"13\", \"14\", \"15\", \"16\", \"17\"], \"mode\": \"markers\", \"name\": \"normalized_median_absolute_error\", \"stepped\": false, \"type\": \"scatter\", \"data\": [0.06335148202302425, 0.07267902957068549, 0.07984167521408285, 0.08066183210420004, 0.08014293101491865, 0.08025901617454345, 0.0712341400800816, 0.07988606842985074, 0.08037185360964151, 0.0800162407395885, 0.08038716712455547, 0.0745358172363458, 0.06805928881733157, 0.07643461379610485, 0.09045714559048829, 0.0709839690636792, 0.07955628896222959, 0.07806103055735542]}, {\"categories\": [\"0\", \"1\", \"2\", \"3\", \"4\", \"5\", \"6\", \"7\", \"8\", \"9\", \"10\", \"11\", \"12\", \"13\", \"14\", \"15\", \"16\", \"17\"], \"mode\": \"lines\", \"name\": \"normalized_median_absolute_error_min\", \"stepped\": true, \"type\": \"scatter\", \"data\": [0.06335148202302425, 0.06335148202302425, 0.06335148202302425, 0.06335148202302425, 0.06335148202302425, 0.06335148202302425, 0.06335148202302425, 0.06335148202302425, 0.06335148202302425, 0.06335148202302425, 0.06335148202302425, 0.06335148202302425, 0.06335148202302425, 0.06335148202302425, 0.06335148202302425, 0.06335148202302425, 0.06335148202302425, 0.06335148202302425]}], \"normalized_root_mean_squared_error\": [{\"categories\": [\"0\", \"1\", \"2\", \"3\", \"4\", \"5\", \"6\", \"7\", \"8\", \"9\", \"10\", \"11\", \"12\", \"13\", \"14\", \"15\", \"16\", \"17\"], \"mode\": \"markers\", \"name\": \"normalized_root_mean_squared_error\", \"stepped\": false, \"type\": \"scatter\", \"data\": [0.10881301256574478, 0.11560199583337379, 0.12654643891674755, 0.12636404559769443, 0.12632771212817015, 0.1259197889153348, 0.11396130797978611, 0.12653253065714853, 0.12636555539086813, 0.1265420378616985, 0.1263654526404803, 0.1183893757577178, 0.11225099462426646, 0.12006338691199941, 0.12991769164771552, 0.1145390731497594, 0.12564286982078918, 0.12288239282162672]}, {\"categories\": [\"0\", \"1\", \"2\", \"3\", \"4\", \"5\", \"6\", \"7\", \"8\", \"9\", \"10\", \"11\", \"12\", \"13\", \"14\", \"15\", \"16\", \"17\"], \"mode\": \"lines\", \"name\": \"normalized_root_mean_squared_error_min\", \"stepped\": true, \"type\": \"scatter\", \"data\": [0.10881301256574478, 0.10881301256574478, 0.10881301256574478, 0.10881301256574478, 0.10881301256574478, 0.10881301256574478, 0.10881301256574478, 0.10881301256574478, 0.10881301256574478, 0.10881301256574478, 0.10881301256574478, 0.10881301256574478, 0.10881301256574478, 0.10881301256574478, 0.10881301256574478, 0.10881301256574478, 0.10881301256574478, 0.10881301256574478]}], \"spearman_correlation\": [{\"categories\": [\"0\", \"1\", \"2\", \"3\", \"4\", \"5\", \"6\", \"7\", \"8\", \"9\", \"10\", \"11\", \"12\", \"13\", \"14\", \"15\", \"16\", \"17\"], \"mode\": \"markers\", \"name\": \"spearman_correlation\", \"stepped\": false, \"type\": \"scatter\", \"data\": [0.684628918275274, 0.6343391735265183, 0.5337663238794675, 0.5342149675047314, 0.5349297814533843, 0.5420485728334928, 0.6569778504844827, 0.5333725713694095, 0.5345098738732048, 0.5326430954586393, 0.5344484962784452, 0.6255757224360518, 0.6626784156510176, 0.6255315534456495, 0.5638126379126689, 0.6537713709216927, 0.5494518694973158, 0.5822138862312352]}, {\"categories\": [\"0\", \"1\", \"2\", \"3\", \"4\", \"5\", \"6\", \"7\", \"8\", \"9\", \"10\", \"11\", \"12\", \"13\", \"14\", \"15\", \"16\", \"17\"], \"mode\": \"lines\", \"name\": \"spearman_correlation_max\", \"stepped\": true, \"type\": \"scatter\", \"data\": [0.684628918275274, 0.684628918275274, 0.684628918275274, 0.684628918275274, 0.684628918275274, 0.684628918275274, 0.684628918275274, 0.684628918275274, 0.684628918275274, 0.684628918275274, 0.684628918275274, 0.684628918275274, 0.684628918275274, 0.684628918275274, 0.684628918275274, 0.684628918275274, 0.684628918275274, 0.684628918275274]}], \"normalized_mean_absolute_error\": [{\"categories\": [\"0\", \"1\", \"2\", \"3\", \"4\", \"5\", \"6\", \"7\", \"8\", \"9\", \"10\", \"11\", \"12\", \"13\", \"14\", \"15\", \"16\", \"17\"], \"mode\": \"markers\", \"name\": \"normalized_mean_absolute_error\", \"stepped\": false, \"type\": \"scatter\", \"data\": [0.08222920024817854, 0.09000954724067763, 0.09848861513348928, 0.09826178992459901, 0.09831993248056198, 0.09783146883574334, 0.08821665376414324, 0.09853758550707124, 0.09828897832071391, 0.09860447320247713, 0.09827951817573344, 0.09298275653754447, 0.08584497627964778, 0.09445355032942367, 0.10094566058676326, 0.08878258240629851, 0.09768102970467583, 0.09701364765867455]}, {\"categories\": [\"0\", \"1\", \"2\", \"3\", \"4\", \"5\", \"6\", \"7\", \"8\", \"9\", \"10\", \"11\", \"12\", \"13\", \"14\", \"15\", \"16\", \"17\"], \"mode\": \"lines\", \"name\": \"normalized_mean_absolute_error_min\", \"stepped\": true, \"type\": \"scatter\", \"data\": [0.08222920024817854, 0.08222920024817854, 0.08222920024817854, 0.08222920024817854, 0.08222920024817854, 0.08222920024817854, 0.08222920024817854, 0.08222920024817854, 0.08222920024817854, 0.08222920024817854, 0.08222920024817854, 0.08222920024817854, 0.08222920024817854, 0.08222920024817854, 0.08222920024817854, 0.08222920024817854, 0.08222920024817854, 0.08222920024817854]}], \"median_absolute_error\": [{\"categories\": [\"0\", \"1\", \"2\", \"3\", \"4\", \"5\", \"6\", \"7\", \"8\", \"9\", \"10\", \"11\", \"12\", \"13\", \"14\", \"15\", \"16\", \"17\"], \"mode\": \"markers\", \"name\": \"median_absolute_error\", \"stepped\": false, \"type\": \"scatter\", \"data\": [0.38010889213814547, 0.436074177424113, 0.47905005128449707, 0.4839709926252002, 0.4808575860895119, 0.48155409704726065, 0.4274048404804895, 0.4793164105791045, 0.48223112165784904, 0.480097444437531, 0.4823230027473329, 0.4472149034180748, 0.40835573290398947, 0.45860768277662906, 0.5427428735429297, 0.4259038143820752, 0.4773377337733775, 0.46836618334413255]}, {\"categories\": [\"0\", \"1\", \"2\", \"3\", \"4\", \"5\", \"6\", \"7\", \"8\", \"9\", \"10\", \"11\", \"12\", \"13\", \"14\", \"15\", \"16\", \"17\"], \"mode\": \"lines\", \"name\": \"median_absolute_error_min\", \"stepped\": true, \"type\": \"scatter\", \"data\": [0.38010889213814547, 0.38010889213814547, 0.38010889213814547, 0.38010889213814547, 0.38010889213814547, 0.38010889213814547, 0.38010889213814547, 0.38010889213814547, 0.38010889213814547, 0.38010889213814547, 0.38010889213814547, 0.38010889213814547, 0.38010889213814547, 0.38010889213814547, 0.38010889213814547, 0.38010889213814547, 0.38010889213814547, 0.38010889213814547]}], \"mean_absolute_percentage_error\": [{\"categories\": [\"0\", \"1\", \"2\", \"3\", \"4\", \"5\", \"6\", \"7\", \"8\", \"9\", \"10\", \"11\", \"12\", \"13\", \"14\", \"15\", \"16\", \"17\"], \"mode\": \"markers\", \"name\": \"mean_absolute_percentage_error\", \"stepped\": false, \"type\": \"scatter\", \"data\": [8.745683573539443, 9.533843754189904, 10.436599754935877, 10.405423304087279, 10.414900727258766, 10.357268349778662, 9.385481071744332, 10.4393869696734, 10.406061204079899, 10.44387540757087, 10.40579785196121, 9.893907324685856, 9.11514371898492, 10.056617970977177, 10.776823627496434, 9.448916952411189, 10.332631821409192, 10.322789429280895]}, {\"categories\": [\"0\", \"1\", \"2\", \"3\", \"4\", \"5\", \"6\", \"7\", \"8\", \"9\", \"10\", \"11\", \"12\", \"13\", \"14\", \"15\", \"16\", \"17\"], \"mode\": \"lines\", \"name\": \"mean_absolute_percentage_error_min\", \"stepped\": true, \"type\": \"scatter\", \"data\": [8.745683573539443, 8.745683573539443, 8.745683573539443, 8.745683573539443, 8.745683573539443, 8.745683573539443, 8.745683573539443, 8.745683573539443, 8.745683573539443, 8.745683573539443, 8.745683573539443, 8.745683573539443, 8.745683573539443, 8.745683573539443, 8.745683573539443, 8.745683573539443, 8.745683573539443, 8.745683573539443]}], \"r2_score\": [{\"categories\": [\"0\", \"1\", \"2\", \"3\", \"4\", \"5\", \"6\", \"7\", \"8\", \"9\", \"10\", \"11\", \"12\", \"13\", \"14\", \"15\", \"16\", \"17\"], \"mode\": \"markers\", \"name\": \"r2_score\", \"stepped\": false, \"type\": \"scatter\", \"data\": [0.4556712418772256, 0.38574669803616296, 0.2646582413265441, 0.2667290921787738, 0.267171985871041, 0.2718855027435925, 0.4035751013562927, 0.26481766041431576, 0.2667210962389604, 0.2647034618604988, 0.26671927787710176, 0.35636632780772065, 0.42090659285089976, 0.338084143048464, 0.2248029501332366, 0.3975596191437218, 0.27500828751469086, 0.30649512421385233]}, {\"categories\": [\"0\", \"1\", \"2\", \"3\", \"4\", \"5\", \"6\", \"7\", \"8\", \"9\", \"10\", \"11\", \"12\", \"13\", \"14\", \"15\", \"16\", \"17\"], \"mode\": \"lines\", \"name\": \"r2_score_max\", \"stepped\": true, \"type\": \"scatter\", \"data\": [0.4556712418772256, 0.4556712418772256, 0.4556712418772256, 0.4556712418772256, 0.4556712418772256, 0.4556712418772256, 0.4556712418772256, 0.4556712418772256, 0.4556712418772256, 0.4556712418772256, 0.4556712418772256, 0.4556712418772256, 0.4556712418772256, 0.4556712418772256, 0.4556712418772256, 0.4556712418772256, 0.4556712418772256, 0.4556712418772256]}], \"normalized_root_mean_squared_log_error\": [{\"categories\": [\"0\", \"1\", \"2\", \"3\", \"4\", \"5\", \"6\", \"7\", \"8\", \"9\", \"10\", \"11\", \"12\", \"13\", \"14\", \"15\", \"16\", \"17\"], \"mode\": \"markers\", \"name\": \"normalized_root_mean_squared_log_error\", \"stepped\": false, \"type\": \"scatter\", \"data\": [0.10657228619949106, 0.1125619754557954, 0.1226410680605603, 0.12246445890070383, 0.12245776647835431, 0.12264417478833324, 0.11136461406831237, 0.1226146441113272, 0.1224424438548567, 0.12261047716091182, 0.12245025717873852, 0.11551917687188808, 0.10966390309830965, 0.11703288849754927, 0.12627802949060446, 0.11197497925461859, 0.12202592952104613, 0.1197402597597662]}, {\"categories\": [\"0\", \"1\", \"2\", \"3\", \"4\", \"5\", \"6\", \"7\", \"8\", \"9\", \"10\", \"11\", \"12\", \"13\", \"14\", \"15\", \"16\", \"17\"], \"mode\": \"lines\", \"name\": \"normalized_root_mean_squared_log_error_min\", \"stepped\": true, \"type\": \"scatter\", \"data\": [0.10657228619949106, 0.10657228619949106, 0.10657228619949106, 0.10657228619949106, 0.10657228619949106, 0.10657228619949106, 0.10657228619949106, 0.10657228619949106, 0.10657228619949106, 0.10657228619949106, 0.10657228619949106, 0.10657228619949106, 0.10657228619949106, 0.10657228619949106, 0.10657228619949106, 0.10657228619949106, 0.10657228619949106, 0.10657228619949106]}], \"mean_absolute_error\": [{\"categories\": [\"0\", \"1\", \"2\", \"3\", \"4\", \"5\", \"6\", \"7\", \"8\", \"9\", \"10\", \"11\", \"12\", \"13\", \"14\", \"15\", \"16\", \"17\"], \"mode\": \"markers\", \"name\": \"mean_absolute_error\", \"stepped\": false, \"type\": \"scatter\", \"data\": [0.49337520148907127, 0.5400572834440659, 0.5909316908009358, 0.5895707395475941, 0.5899195948833719, 0.58698881301446, 0.5292999225848595, 0.5912255130424273, 0.5897338699242834, 0.5916268392148627, 0.5896771090544006, 0.5578965392252669, 0.5150698576778868, 0.5667213019765421, 0.6056739635205795, 0.5326954944377912, 0.5860861782280549, 0.5820818859520474]}, {\"categories\": [\"0\", \"1\", \"2\", \"3\", \"4\", \"5\", \"6\", \"7\", \"8\", \"9\", \"10\", \"11\", \"12\", \"13\", \"14\", \"15\", \"16\", \"17\"], \"mode\": \"lines\", \"name\": \"mean_absolute_error_min\", \"stepped\": true, \"type\": \"scatter\", \"data\": [0.49337520148907127, 0.49337520148907127, 0.49337520148907127, 0.49337520148907127, 0.49337520148907127, 0.49337520148907127, 0.49337520148907127, 0.49337520148907127, 0.49337520148907127, 0.49337520148907127, 0.49337520148907127, 0.49337520148907127, 0.49337520148907127, 0.49337520148907127, 0.49337520148907127, 0.49337520148907127, 0.49337520148907127, 0.49337520148907127]}], \"explained_variance\": [{\"categories\": [\"0\", \"1\", \"2\", \"3\", \"4\", \"5\", \"6\", \"7\", \"8\", \"9\", \"10\", \"11\", \"12\", \"13\", \"14\", \"15\", \"16\", \"17\"], \"mode\": \"markers\", \"name\": \"explained_variance\", \"stepped\": false, \"type\": \"scatter\", \"data\": [0.45572398047697377, 0.38576939705220975, 0.2650212305085572, 0.2671307460023861, 0.2675874178444992, 0.27227614569301645, 0.4036038098980603, 0.2651994074930062, 0.2671110531374156, 0.2651075341983998, 0.2671123853320207, 0.35639422538768867, 0.4209157321676056, 0.3381047311729241, 0.22483718487271317, 0.3976131992551493, 0.2750898298872408, 0.306623357511129]}, {\"categories\": [\"0\", \"1\", \"2\", \"3\", \"4\", \"5\", \"6\", \"7\", \"8\", \"9\", \"10\", \"11\", \"12\", \"13\", \"14\", \"15\", \"16\", \"17\"], \"mode\": \"lines\", \"name\": \"explained_variance_max\", \"stepped\": true, \"type\": \"scatter\", \"data\": [0.45572398047697377, 0.45572398047697377, 0.45572398047697377, 0.45572398047697377, 0.45572398047697377, 0.45572398047697377, 0.45572398047697377, 0.45572398047697377, 0.45572398047697377, 0.45572398047697377, 0.45572398047697377, 0.45572398047697377, 0.45572398047697377, 0.45572398047697377, 0.45572398047697377, 0.45572398047697377, 0.45572398047697377, 0.45572398047697377]}]}, \"metricName\": null, \"primaryMetricName\": \"normalized_root_mean_squared_error\", \"showLegend\": false}, \"run_metrics\": [{\"name\": \"experiment_status\", \"run_id\": \"AutoML_ca658985-7c02-4253-9354-8cc0dad625bb\", \"categories\": [0, 1, 2, 3, 4, 5], \"series\": [{\"data\": [\"DatasetEvaluation\", \"FeaturesGeneration\", \"DatasetFeaturization\", \"DatasetFeaturizationCompleted\", \"DatasetCrossValidationSplit\", \"ModelSelection\"]}]}, {\"name\": \"experiment_status_description\", \"run_id\": \"AutoML_ca658985-7c02-4253-9354-8cc0dad625bb\", \"categories\": [0, 1, 2, 3, 4, 5], \"series\": [{\"data\": [\"Gathering dataset statistics.\", \"Generating features for the dataset.\", \"Beginning to fit featurizers and featurize the dataset.\", \"Completed fit featurizers and featurizing the dataset.\", \"Generating individually featurized CV splits.\", \"Beginning model selection.\"]}]}], \"run_logs\": \"Your job is submitted in Azure cloud and we are monitoring to get logs...\", \"graph\": {}, \"widget_settings\": {\"childWidgetDisplay\": \"popup\", \"send_telemetry\": false, \"log_level\": \"INFO\", \"sdk_version\": \"1.34.0\"}, \"loading\": false}"
     },
     "metadata": {},
     "output_type": "display_data"
    }
   ],
   "source": [
    "RunDetails(automl_run).show()"
   ]
  },
  {
   "cell_type": "markdown",
   "metadata": {},
   "source": [
    "## Best Model\n",
    "\n",
    "TODO: In the cell below, get the best model from the automl experiments and display all the properties of the model.\n",
    "\n"
   ]
  },
  {
   "cell_type": "code",
   "execution_count": null,
   "metadata": {
    "gather": {
     "logged": 1598431425670
    },
    "jupyter": {
     "outputs_hidden": false,
     "source_hidden": false
    },
    "nteract": {
     "transient": {
      "deleting": false
     }
    }
   },
   "outputs": [],
   "source": [
    "best_automl_run, best_automl_model = automl.get_output()\n",
    "print(best_automl_run)\n",
    "print(best_automl_model)"
   ]
  },
  {
   "cell_type": "code",
   "execution_count": null,
   "metadata": {
    "gather": {
     "logged": 1598431426111
    },
    "jupyter": {
     "outputs_hidden": false,
     "source_hidden": false
    },
    "nteract": {
     "transient": {
      "deleting": false
     }
    }
   },
   "outputs": [],
   "source": [
    "#TODO: Save the best model\n",
    "best_automl_run.register_model(model_name = 'automl_model.pkl', model_path='./outputs/')"
   ]
  },
  {
   "cell_type": "code",
   "execution_count": null,
   "metadata": {},
   "outputs": [],
   "source": [
    "## Download and save best run in model in local folder\n",
    "best_automl_run.download_file(best_automl_run.get_file_names()[-3], output_file_path='./outputs/')"
   ]
  },
  {
   "cell_type": "markdown",
   "metadata": {},
   "source": [
    "## Model Deployment\n",
    "\n",
    "Remember you have to deploy only one of the two models you trained.. Perform the steps in the rest of this notebook only if you wish to deploy this model.\n",
    "\n",
    "TODO: In the cell below, register the model, create an inference config and deploy the model as a web service."
   ]
  },
  {
   "cell_type": "code",
   "execution_count": null,
   "metadata": {
    "gather": {
     "logged": 1598431435189
    },
    "jupyter": {
     "outputs_hidden": false,
     "source_hidden": false
    },
    "nteract": {
     "transient": {
      "deleting": false
     }
    }
   },
   "outputs": [],
   "source": []
  },
  {
   "cell_type": "markdown",
   "metadata": {
    "collapsed": true,
    "gather": {
     "logged": 1598431657736
    },
    "jupyter": {
     "outputs_hidden": false,
     "source_hidden": false
    },
    "nteract": {
     "transient": {
      "deleting": false
     }
    }
   },
   "source": [
    "TODO: In the cell below, send a request to the web service you deployed to test it."
   ]
  },
  {
   "cell_type": "code",
   "execution_count": null,
   "metadata": {
    "gather": {
     "logged": 1598432707604
    },
    "jupyter": {
     "outputs_hidden": false,
     "source_hidden": false
    },
    "nteract": {
     "transient": {
      "deleting": false
     }
    }
   },
   "outputs": [],
   "source": []
  },
  {
   "cell_type": "markdown",
   "metadata": {
    "collapsed": true,
    "gather": {
     "logged": 1598432765711
    },
    "jupyter": {
     "outputs_hidden": false,
     "source_hidden": false
    },
    "nteract": {
     "transient": {
      "deleting": false
     }
    }
   },
   "source": [
    "TODO: In the cell below, print the logs of the web service and delete the service"
   ]
  },
  {
   "cell_type": "code",
   "execution_count": null,
   "metadata": {
    "jupyter": {
     "outputs_hidden": false,
     "source_hidden": false
    },
    "nteract": {
     "transient": {
      "deleting": false
     }
    }
   },
   "outputs": [],
   "source": []
  }
 ],
 "metadata": {
  "kernel_info": {
   "name": "python3-azureml"
  },
  "kernelspec": {
   "display_name": "Python 3",
   "language": "python",
   "name": "python3"
  },
  "language_info": {
   "codemirror_mode": {
    "name": "ipython",
    "version": 3
   },
   "file_extension": ".py",
   "mimetype": "text/x-python",
   "name": "python",
   "nbconvert_exporter": "python",
   "pygments_lexer": "ipython3",
   "version": "3.6.9"
  },
  "microsoft": {
   "host": {
    "AzureML": {
     "notebookHasBeenCompleted": true
    }
   }
  },
  "nteract": {
   "version": "nteract-front-end@1.0.0"
  }
 },
 "nbformat": 4,
 "nbformat_minor": 2
}
