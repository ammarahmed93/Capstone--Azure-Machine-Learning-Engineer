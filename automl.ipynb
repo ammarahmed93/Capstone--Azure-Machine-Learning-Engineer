{
 "cells": [
  {
   "cell_type": "markdown",
   "metadata": {},
   "source": [
    "# Automated ML\n",
    "\n",
    "TODO: Import Dependencies. In the cell below, import all the dependencies that you will need to complete the project."
   ]
  },
  {
   "cell_type": "code",
   "execution_count": 1,
   "metadata": {
    "gather": {
     "logged": 1598423888013
    },
    "jupyter": {
     "outputs_hidden": false,
     "source_hidden": false
    },
    "nteract": {
     "transient": {
      "deleting": false
     }
    }
   },
   "outputs": [],
   "source": [
    "import logging\n",
    "import os\n",
    "import csv\n",
    "\n",
    "from matplotlib import pyplot as plt\n",
    "import numpy as np\n",
    "import pandas as pd\n",
    "from sklearn import datasets\n",
    "import pkg_resources\n",
    "\n",
    "import azureml.core\n",
    "from azureml.core.experiment import Experiment\n",
    "from azureml.core.workspace import Workspace\n",
    "from azureml.train.automl import AutoMLConfig\n",
    "from azureml.core.dataset import Dataset\n",
    "from azureml.widgets import RunDetails\n",
    "\n",
    "from azureml.core.compute import AmlCompute\n",
    "from azureml.core.compute import ComputeTarget\n",
    "from azureml.core.compute_target import ComputeTargetException\n",
    "\n",
    "from azureml.core.webservice import AciWebservice, Webservice\n",
    "from azureml.core.model import InferenceConfig, Model"
   ]
  },
  {
   "cell_type": "markdown",
   "metadata": {},
   "source": [
    "## Dataset\n",
    "\n",
    "### Overview\n",
    "\n",
    "The dataset used for this project can be obtained from the [Wine Quality- UCI Repo](https://archive.ics.uci.edu/ml/machine-learning-databases/wine-quality/). The dataset contains two seprate csv files for each the white and red wine qualities. Both dataset were combined and the red wine was assigned a value of 1 and white wine as 0 in the target column \"y\". The final merged csv file was upploaded to github and can be accessed [here](https://github.com/ammarahmed93/Capstone--Azure-Machine-Learning-Engineer/blob/main/wine-classification.csv). The data contains 6,598 rows and 13 columns including the target column. The goal is to predict the wine type (red or white wine) based on the other given properties such as pH, alchohol ...etc. Therefore this is a binary classification task.\n",
    "\n",
    "TODO: Get data. In the cell below, write code to access the data you will be using in this project. Remember that the dataset needs to be external."
   ]
  },
  {
   "cell_type": "code",
   "execution_count": 2,
   "metadata": {
    "gather": {
     "logged": 1598423890461
    },
    "jupyter": {
     "outputs_hidden": false,
     "source_hidden": false
    },
    "nteract": {
     "transient": {
      "deleting": false
     }
    }
   },
   "outputs": [],
   "source": [
    "ws = Workspace.from_config()\n",
    "\n",
    "# choose a name for experiment\n",
    "experiment_name = 'classification-automl'\n",
    "project_folder = './capstoneProject'\n",
    "experiment=Experiment(ws, experiment_name)"
   ]
  },
  {
   "cell_type": "code",
   "execution_count": 7,
   "metadata": {},
   "outputs": [
    {
     "data": {
      "text/html": [
       "<div>\n",
       "<style scoped>\n",
       "    .dataframe tbody tr th:only-of-type {\n",
       "        vertical-align: middle;\n",
       "    }\n",
       "\n",
       "    .dataframe tbody tr th {\n",
       "        vertical-align: top;\n",
       "    }\n",
       "\n",
       "    .dataframe thead th {\n",
       "        text-align: right;\n",
       "    }\n",
       "</style>\n",
       "<table border=\"1\" class=\"dataframe\">\n",
       "  <thead>\n",
       "    <tr style=\"text-align: right;\">\n",
       "      <th></th>\n",
       "      <th>Column1</th>\n",
       "      <th>fixed acidity</th>\n",
       "      <th>volatile acidity</th>\n",
       "      <th>citric acid</th>\n",
       "      <th>residual sugar</th>\n",
       "      <th>chlorides</th>\n",
       "      <th>free sulfur dioxide</th>\n",
       "      <th>total sulfur dioxide</th>\n",
       "      <th>density</th>\n",
       "      <th>pH</th>\n",
       "      <th>sulphates</th>\n",
       "      <th>alcohol</th>\n",
       "      <th>quality</th>\n",
       "      <th>y</th>\n",
       "    </tr>\n",
       "  </thead>\n",
       "  <tbody>\n",
       "    <tr>\n",
       "      <th>count</th>\n",
       "      <td>6497.000000</td>\n",
       "      <td>6497.000000</td>\n",
       "      <td>6497.000000</td>\n",
       "      <td>6497.000000</td>\n",
       "      <td>6497.000000</td>\n",
       "      <td>6497.000000</td>\n",
       "      <td>6493.000000</td>\n",
       "      <td>6495.000000</td>\n",
       "      <td>6497.000000</td>\n",
       "      <td>6497.000000</td>\n",
       "      <td>6497.000000</td>\n",
       "      <td>6497.000000</td>\n",
       "      <td>6497.000000</td>\n",
       "      <td>6497.000000</td>\n",
       "    </tr>\n",
       "    <tr>\n",
       "      <th>mean</th>\n",
       "      <td>2042.535632</td>\n",
       "      <td>7.215307</td>\n",
       "      <td>0.339666</td>\n",
       "      <td>0.318633</td>\n",
       "      <td>5.443235</td>\n",
       "      <td>0.056034</td>\n",
       "      <td>30.525489</td>\n",
       "      <td>115.756351</td>\n",
       "      <td>0.994697</td>\n",
       "      <td>3.218501</td>\n",
       "      <td>0.531268</td>\n",
       "      <td>10.491801</td>\n",
       "      <td>5.818378</td>\n",
       "      <td>0.753886</td>\n",
       "    </tr>\n",
       "    <tr>\n",
       "      <th>std</th>\n",
       "      <td>1436.926393</td>\n",
       "      <td>1.296434</td>\n",
       "      <td>0.164636</td>\n",
       "      <td>0.145318</td>\n",
       "      <td>4.757804</td>\n",
       "      <td>0.035034</td>\n",
       "      <td>17.751296</td>\n",
       "      <td>56.526572</td>\n",
       "      <td>0.002999</td>\n",
       "      <td>0.160787</td>\n",
       "      <td>0.148806</td>\n",
       "      <td>1.192712</td>\n",
       "      <td>0.873255</td>\n",
       "      <td>0.430779</td>\n",
       "    </tr>\n",
       "    <tr>\n",
       "      <th>min</th>\n",
       "      <td>0.000000</td>\n",
       "      <td>3.800000</td>\n",
       "      <td>0.080000</td>\n",
       "      <td>0.000000</td>\n",
       "      <td>0.600000</td>\n",
       "      <td>0.009000</td>\n",
       "      <td>1.000000</td>\n",
       "      <td>6.000000</td>\n",
       "      <td>0.987110</td>\n",
       "      <td>2.720000</td>\n",
       "      <td>0.220000</td>\n",
       "      <td>8.000000</td>\n",
       "      <td>3.000000</td>\n",
       "      <td>0.000000</td>\n",
       "    </tr>\n",
       "    <tr>\n",
       "      <th>25%</th>\n",
       "      <td>812.000000</td>\n",
       "      <td>6.400000</td>\n",
       "      <td>0.230000</td>\n",
       "      <td>0.250000</td>\n",
       "      <td>1.800000</td>\n",
       "      <td>0.038000</td>\n",
       "      <td>17.000000</td>\n",
       "      <td>77.000000</td>\n",
       "      <td>0.992340</td>\n",
       "      <td>3.110000</td>\n",
       "      <td>0.430000</td>\n",
       "      <td>9.500000</td>\n",
       "      <td>5.000000</td>\n",
       "      <td>1.000000</td>\n",
       "    </tr>\n",
       "    <tr>\n",
       "      <th>50%</th>\n",
       "      <td>1649.000000</td>\n",
       "      <td>7.000000</td>\n",
       "      <td>0.290000</td>\n",
       "      <td>0.310000</td>\n",
       "      <td>3.000000</td>\n",
       "      <td>0.047000</td>\n",
       "      <td>29.000000</td>\n",
       "      <td>118.000000</td>\n",
       "      <td>0.994890</td>\n",
       "      <td>3.210000</td>\n",
       "      <td>0.510000</td>\n",
       "      <td>10.300000</td>\n",
       "      <td>6.000000</td>\n",
       "      <td>1.000000</td>\n",
       "    </tr>\n",
       "    <tr>\n",
       "      <th>75%</th>\n",
       "      <td>3273.000000</td>\n",
       "      <td>7.700000</td>\n",
       "      <td>0.400000</td>\n",
       "      <td>0.390000</td>\n",
       "      <td>8.100000</td>\n",
       "      <td>0.065000</td>\n",
       "      <td>41.000000</td>\n",
       "      <td>156.000000</td>\n",
       "      <td>0.996990</td>\n",
       "      <td>3.320000</td>\n",
       "      <td>0.600000</td>\n",
       "      <td>11.300000</td>\n",
       "      <td>6.000000</td>\n",
       "      <td>1.000000</td>\n",
       "    </tr>\n",
       "    <tr>\n",
       "      <th>max</th>\n",
       "      <td>4897.000000</td>\n",
       "      <td>15.900000</td>\n",
       "      <td>1.580000</td>\n",
       "      <td>1.660000</td>\n",
       "      <td>65.800000</td>\n",
       "      <td>0.611000</td>\n",
       "      <td>289.000000</td>\n",
       "      <td>440.000000</td>\n",
       "      <td>1.038980</td>\n",
       "      <td>4.010000</td>\n",
       "      <td>2.000000</td>\n",
       "      <td>14.900000</td>\n",
       "      <td>9.000000</td>\n",
       "      <td>1.000000</td>\n",
       "    </tr>\n",
       "  </tbody>\n",
       "</table>\n",
       "</div>"
      ],
      "text/plain": [
       "           Column1  fixed acidity  volatile acidity  citric acid  \\\n",
       "count  6497.000000    6497.000000       6497.000000  6497.000000   \n",
       "mean   2042.535632       7.215307          0.339666     0.318633   \n",
       "std    1436.926393       1.296434          0.164636     0.145318   \n",
       "min       0.000000       3.800000          0.080000     0.000000   \n",
       "25%     812.000000       6.400000          0.230000     0.250000   \n",
       "50%    1649.000000       7.000000          0.290000     0.310000   \n",
       "75%    3273.000000       7.700000          0.400000     0.390000   \n",
       "max    4897.000000      15.900000          1.580000     1.660000   \n",
       "\n",
       "       residual sugar    chlorides  free sulfur dioxide  total sulfur dioxide  \\\n",
       "count     6497.000000  6497.000000          6493.000000           6495.000000   \n",
       "mean         5.443235     0.056034            30.525489            115.756351   \n",
       "std          4.757804     0.035034            17.751296             56.526572   \n",
       "min          0.600000     0.009000             1.000000              6.000000   \n",
       "25%          1.800000     0.038000            17.000000             77.000000   \n",
       "50%          3.000000     0.047000            29.000000            118.000000   \n",
       "75%          8.100000     0.065000            41.000000            156.000000   \n",
       "max         65.800000     0.611000           289.000000            440.000000   \n",
       "\n",
       "           density           pH    sulphates      alcohol      quality  \\\n",
       "count  6497.000000  6497.000000  6497.000000  6497.000000  6497.000000   \n",
       "mean      0.994697     3.218501     0.531268    10.491801     5.818378   \n",
       "std       0.002999     0.160787     0.148806     1.192712     0.873255   \n",
       "min       0.987110     2.720000     0.220000     8.000000     3.000000   \n",
       "25%       0.992340     3.110000     0.430000     9.500000     5.000000   \n",
       "50%       0.994890     3.210000     0.510000    10.300000     6.000000   \n",
       "75%       0.996990     3.320000     0.600000    11.300000     6.000000   \n",
       "max       1.038980     4.010000     2.000000    14.900000     9.000000   \n",
       "\n",
       "                 y  \n",
       "count  6497.000000  \n",
       "mean      0.753886  \n",
       "std       0.430779  \n",
       "min       0.000000  \n",
       "25%       1.000000  \n",
       "50%       1.000000  \n",
       "75%       1.000000  \n",
       "max       1.000000  "
      ]
     },
     "execution_count": 7,
     "metadata": {},
     "output_type": "execute_result"
    }
   ],
   "source": [
    "found = False\n",
    "description_text = \"Wine Quality DataSet for Udacity Capstone Project\"\n",
    "key = 'wine-classification'\n",
    "\n",
    "if key in ws.datasets.keys(): \n",
    "    found = True\n",
    "    dataset = ws.datasets[key] \n",
    "\n",
    "if not found:\n",
    "    # Create AML Dataset and register it into Workspace\n",
    "    wine_data = 'https://github.com/ammarahmed93/Capstone--Azure-Machine-Learning-Engineer/blob/main/wine-classification.csv?raw=true'\n",
    "    dataset = Dataset.Tabular.from_delimited_files(wine_data, separator=',')        \n",
    "      \n",
    "    #Register Dataset in Workspace\n",
    "    dataset = dataset.register(workspace=ws,\n",
    "                                   name=key,\n",
    "                                   description=description_text)\n",
    "\n",
    "\n",
    "df = dataset.to_pandas_dataframe()\n",
    "df.describe()"
   ]
  },
  {
   "cell_type": "markdown",
   "metadata": {},
   "source": [
    "# Create or Attach an AmlCompute cluster"
   ]
  },
  {
   "cell_type": "code",
   "execution_count": 8,
   "metadata": {},
   "outputs": [
    {
     "name": "stdout",
     "output_type": "stream",
     "text": [
      "InProgress....\n",
      "SucceededProvisioning operation finished, operation \"Succeeded\"\n",
      "Succeeded\n",
      "AmlCompute wait for completion finished\n",
      "\n",
      "Wait timeout has been reached\n",
      "Current provisioning state of AmlCompute is \"Succeeded\" and current node count is \"0\"\n"
     ]
    }
   ],
   "source": [
    "# NOTE: update the cluster name to match the existing cluster\n",
    "# Choose a name for your CPU cluster\n",
    "amlcompute_cluster_name = \"aml-compute\"\n",
    "\n",
    "# Verify that cluster does not exist already\n",
    "try:\n",
    "    compute_target = ComputeTarget(workspace=ws, name=amlcompute_cluster_name)\n",
    "    print('Found existing cluster, use it.')\n",
    "except ComputeTargetException:\n",
    "    compute_config = AmlCompute.provisioning_configuration(vm_size='Standard_D16_v3',# for GPU, use \"STANDARD_NC6\"\n",
    "                                                           #vm_priority = 'lowpriority', # optional\n",
    "                                                           max_nodes=6)\n",
    "    compute_target = ComputeTarget.create(ws, amlcompute_cluster_name, compute_config)\n",
    "\n",
    "compute_target.wait_for_completion(show_output=True, min_node_count = 1, timeout_in_minutes = 0)\n",
    "# For a more detailed view of current AmlCompute status, use get_status()."
   ]
  },
  {
   "cell_type": "markdown",
   "metadata": {},
   "source": [
    "## AutoML Configuration\n",
    "\n",
    "TODO: Explain why you chose the automl settings and cofiguration you used below.\n",
    "\n",
    "ref: https://docs.microsoft.com/en-us/azure/machine-learning/how-to-configure-cross-validation-data-splits\n",
    "\n",
    "The following cell was used to assign the automl settings and configuration. For the automl settings the following was chosen:\n",
    "- _n_cross_validations_ : The cross validation was provided to perform k-fold cross-validation. This parameter sets how many cross validations to perfotm, based on the same number of folds. In this case, 3 folds are used for cross-validation. Therefore 3 different trainings are performed with each training using 2/3 of the data and each validation using 1/3 of the data with a different holdout fold each time. The metrics are calculated with the average of the five validation metrics.\n",
    "<br>\n",
    "- _experiment_timeout_minutes_: In this case the maximum time that each iteration can run for is 20 minutes. if the iteration reaches the time limit then it will terminate.\n",
    "<br>\n",
    "- _enable_early_stopping_: When enabling early termination, if the score is not improving in the short term after the first 20 iterations then the experiment will terminate. \n",
    "<br>\n",
    "- _max_concurrent_iterations_: The maximum number of iterations that would be execute in parallel, in this case 4 parallel iterations at max. This is dependent on the number of nodes provisioned and has to be one less than the provisioned nodes. \n",
    "<br>\n",
    "- _primary_metric_: The metric that the AutoML will optimize for the model selection. The \"AUC_weighted\" was chosen in this case as its better metric for imblanced data.\n",
    "<br>\n",
    "- _task_: \"classification\" since its a binary classification task. \n",
    "\n"
   ]
  },
  {
   "cell_type": "code",
   "execution_count": 9,
   "metadata": {},
   "outputs": [],
   "source": [
    "# automl settings\n",
    "automl_settings = {\n",
    "    \"n_cross_validations\": 3,\n",
    "    \"experiment_timeout_minutes\": 20,\n",
    "    \"enable_early_stopping\": True,\n",
    "    \"max_concurrent_iterations\": 5,\n",
    "    \"primary_metric\" : 'AUC_weighted'\n",
    "}\n",
    "\n",
    "#automl config \n",
    "automl_config = AutoMLConfig(compute_target=compute_target,\n",
    "                             path = project_folder,\n",
    "                             task = \"classification\",\n",
    "                             training_data=dataset,\n",
    "                             label_column_name=\"y\",   \n",
    "                             featurization= 'auto',\n",
    "                             debug_log = \"automl_errors.log\",\n",
    "                             **automl_settings\n",
    "                            )\n"
   ]
  },
  {
   "cell_type": "code",
   "execution_count": 10,
   "metadata": {
    "gather": {
     "logged": 1598431107951
    },
    "jupyter": {
     "outputs_hidden": false,
     "source_hidden": false
    },
    "nteract": {
     "transient": {
      "deleting": false
     }
    }
   },
   "outputs": [
    {
     "name": "stdout",
     "output_type": "stream",
     "text": [
      "Submitting remote run.\n"
     ]
    },
    {
     "data": {
      "text/html": [
       "<table style=\"width:100%\"><tr><th>Experiment</th><th>Id</th><th>Type</th><th>Status</th><th>Details Page</th><th>Docs Page</th></tr><tr><td>classification-automl</td><td>AutoML_e8722b76-f503-450c-bcb8-96dc40196e5a</td><td>automl</td><td>NotStarted</td><td><a href=\"https://ml.azure.com/runs/AutoML_e8722b76-f503-450c-bcb8-96dc40196e5a?wsid=/subscriptions/d7f39349-a66b-446e-aba6-0053c2cf1c11/resourcegroups/aml-quickstarts-162891/workspaces/quick-starts-ws-162891&amp;tid=660b3398-b80e-49d2-bc5b-ac1dc93b5254\" target=\"_blank\" rel=\"noopener\">Link to Azure Machine Learning studio</a></td><td><a href=\"https://docs.microsoft.com/en-us/python/api/overview/azure/ml/intro?view=azure-ml-py\" target=\"_blank\" rel=\"noopener\">Link to Documentation</a></td></tr></table>"
      ],
      "text/plain": [
       "<IPython.core.display.HTML object>"
      ]
     },
     "metadata": {},
     "output_type": "display_data"
    }
   ],
   "source": [
    "# TODO: Submit your experiment\n",
    "automl_run = experiment.submit(automl_config)"
   ]
  },
  {
   "cell_type": "markdown",
   "metadata": {},
   "source": [
    "## Run Details\n",
    "\n",
    "OPTIONAL: Write about the different models trained and their performance. Why do you think some models did better than others?\n",
    "\n",
    "TODO: In the cell below, use the `RunDetails` widget to show the different experiments."
   ]
  },
  {
   "cell_type": "code",
   "execution_count": 11,
   "metadata": {
    "gather": {
     "logged": 1598431121770
    },
    "jupyter": {
     "outputs_hidden": false,
     "source_hidden": false
    },
    "nteract": {
     "transient": {
      "deleting": false
     }
    },
    "scrolled": false
   },
   "outputs": [
    {
     "data": {
      "application/vnd.jupyter.widget-view+json": {
       "model_id": "cdf8b4cee6ea4366a93a33b14b9f6571",
       "version_major": 2,
       "version_minor": 0
      },
      "text/plain": [
       "_AutoMLWidget(widget_settings={'childWidgetDisplay': 'popup', 'send_telemetry': False, 'log_level': 'INFO', 's…"
      ]
     },
     "metadata": {},
     "output_type": "display_data"
    },
    {
     "data": {
      "application/aml.mini.widget.v1": "{\"status\": \"Completed\", \"workbench_run_details_uri\": \"https://ml.azure.com/runs/AutoML_e8722b76-f503-450c-bcb8-96dc40196e5a?wsid=/subscriptions/d7f39349-a66b-446e-aba6-0053c2cf1c11/resourcegroups/aml-quickstarts-162891/workspaces/quick-starts-ws-162891&tid=660b3398-b80e-49d2-bc5b-ac1dc93b5254\", \"run_id\": \"AutoML_e8722b76-f503-450c-bcb8-96dc40196e5a\", \"run_properties\": {\"run_id\": \"AutoML_e8722b76-f503-450c-bcb8-96dc40196e5a\", \"created_utc\": \"2021-11-06T16:45:23.721107Z\", \"properties\": {\"num_iterations\": \"1000\", \"training_type\": \"TrainFull\", \"acquisition_function\": \"EI\", \"primary_metric\": \"AUC_weighted\", \"train_split\": \"0\", \"acquisition_parameter\": \"0\", \"num_cross_validation\": \"3\", \"target\": \"aml-compute\", \"AMLSettingsJsonString\": \"{\\\"path\\\":null,\\\"name\\\":\\\"classification-automl\\\",\\\"subscription_id\\\":\\\"d7f39349-a66b-446e-aba6-0053c2cf1c11\\\",\\\"resource_group\\\":\\\"aml-quickstarts-162891\\\",\\\"workspace_name\\\":\\\"quick-starts-ws-162891\\\",\\\"region\\\":\\\"southcentralus\\\",\\\"compute_target\\\":\\\"aml-compute\\\",\\\"spark_service\\\":null,\\\"azure_service\\\":\\\"remote\\\",\\\"many_models\\\":false,\\\"pipeline_fetch_max_batch_size\\\":1,\\\"enable_batch_run\\\":false,\\\"enable_run_restructure\\\":false,\\\"start_auxiliary_runs_before_parent_complete\\\":false,\\\"enable_code_generation\\\":false,\\\"iterations\\\":1000,\\\"primary_metric\\\":\\\"AUC_weighted\\\",\\\"task_type\\\":\\\"classification\\\",\\\"data_script\\\":null,\\\"test_size\\\":0.0,\\\"test_include_predictions_only\\\":false,\\\"validation_size\\\":0.0,\\\"n_cross_validations\\\":3,\\\"y_min\\\":null,\\\"y_max\\\":null,\\\"num_classes\\\":null,\\\"featurization\\\":\\\"auto\\\",\\\"_ignore_package_version_incompatibilities\\\":false,\\\"is_timeseries\\\":false,\\\"max_cores_per_iteration\\\":1,\\\"max_concurrent_iterations\\\":5,\\\"iteration_timeout_minutes\\\":null,\\\"mem_in_mb\\\":null,\\\"enforce_time_on_windows\\\":false,\\\"experiment_timeout_minutes\\\":20,\\\"experiment_exit_score\\\":null,\\\"whitelist_models\\\":null,\\\"blacklist_algos\\\":[\\\"TensorFlowLinearClassifier\\\",\\\"TensorFlowDNN\\\"],\\\"supported_models\\\":[\\\"TensorFlowDNN\\\",\\\"LinearSVM\\\",\\\"TensorFlowLinearClassifier\\\",\\\"MultinomialNaiveBayes\\\",\\\"KNN\\\",\\\"LightGBM\\\",\\\"ExtremeRandomTrees\\\",\\\"AveragedPerceptronClassifier\\\",\\\"XGBoostClassifier\\\",\\\"RandomForest\\\",\\\"BernoulliNaiveBayes\\\",\\\"SGD\\\",\\\"LogisticRegression\\\",\\\"SVM\\\",\\\"DecisionTree\\\",\\\"GradientBoosting\\\"],\\\"private_models\\\":[],\\\"auto_blacklist\\\":true,\\\"blacklist_samples_reached\\\":false,\\\"exclude_nan_labels\\\":true,\\\"verbosity\\\":20,\\\"_debug_log\\\":\\\"azureml_automl.log\\\",\\\"show_warnings\\\":false,\\\"model_explainability\\\":true,\\\"service_url\\\":null,\\\"sdk_url\\\":null,\\\"sdk_packages\\\":null,\\\"enable_onnx_compatible_models\\\":false,\\\"enable_split_onnx_featurizer_estimator_models\\\":false,\\\"vm_type\\\":\\\"STANDARD_D16_V3\\\",\\\"telemetry_verbosity\\\":20,\\\"send_telemetry\\\":true,\\\"enable_dnn\\\":false,\\\"scenario\\\":\\\"SDK-1.13.0\\\",\\\"environment_label\\\":null,\\\"save_mlflow\\\":false,\\\"force_text_dnn\\\":false,\\\"enable_feature_sweeping\\\":true,\\\"enable_early_stopping\\\":true,\\\"early_stopping_n_iters\\\":10,\\\"metrics\\\":null,\\\"enable_metric_confidence\\\":false,\\\"enable_ensembling\\\":true,\\\"enable_stack_ensembling\\\":true,\\\"ensemble_iterations\\\":15,\\\"enable_tf\\\":false,\\\"enable_subsampling\\\":null,\\\"subsample_seed\\\":null,\\\"enable_nimbusml\\\":false,\\\"enable_streaming\\\":false,\\\"force_streaming\\\":false,\\\"track_child_runs\\\":true,\\\"allowed_private_models\\\":[],\\\"label_column_name\\\":\\\"y\\\",\\\"weight_column_name\\\":null,\\\"cv_split_column_names\\\":null,\\\"positive_label\\\":null,\\\"enable_local_managed\\\":false,\\\"_local_managed_run_id\\\":null,\\\"cost_mode\\\":1,\\\"lag_length\\\":0,\\\"metric_operation\\\":\\\"maximize\\\",\\\"preprocess\\\":true}\", \"DataPrepJsonString\": \"{\\\\\\\"training_data\\\\\\\": {\\\\\\\"datasetId\\\\\\\": \\\\\\\"7719835d-1dab-427a-b0ff-d7c17e90b02b\\\\\\\"}, \\\\\\\"datasets\\\\\\\": 0}\", \"EnableSubsampling\": null, \"runTemplate\": \"AutoML\", \"azureml.runsource\": \"automl\", \"display_task_type\": \"classification\", \"dependencies_versions\": \"{\\\"azureml-widgets\\\": \\\"1.34.0\\\", \\\"azureml-train\\\": \\\"1.34.0\\\", \\\"azureml-train-restclients-hyperdrive\\\": \\\"1.34.0\\\", \\\"azureml-train-core\\\": \\\"1.34.0\\\", \\\"azureml-train-automl\\\": \\\"1.34.0\\\", \\\"azureml-train-automl-runtime\\\": \\\"1.34.0\\\", \\\"azureml-train-automl-client\\\": \\\"1.34.0\\\", \\\"azureml-tensorboard\\\": \\\"1.34.0\\\", \\\"azureml-telemetry\\\": \\\"1.34.0\\\", \\\"azureml-sdk\\\": \\\"1.34.0\\\", \\\"azureml-samples\\\": \\\"0+unknown\\\", \\\"azureml-responsibleai\\\": \\\"1.34.0\\\", \\\"azureml-pipeline\\\": \\\"1.34.0\\\", \\\"azureml-pipeline-steps\\\": \\\"1.34.0\\\", \\\"azureml-pipeline-core\\\": \\\"1.34.0\\\", \\\"azureml-opendatasets\\\": \\\"1.34.0\\\", \\\"azureml-mlflow\\\": \\\"1.34.0\\\", \\\"azureml-interpret\\\": \\\"1.34.0\\\", \\\"azureml-inference-server-http\\\": \\\"0.3.1\\\", \\\"azureml-explain-model\\\": \\\"1.34.0\\\", \\\"azureml-defaults\\\": \\\"1.34.0\\\", \\\"azureml-dataset-runtime\\\": \\\"1.34.0\\\", \\\"azureml-dataprep\\\": \\\"2.22.2\\\", \\\"azureml-dataprep-rslex\\\": \\\"1.20.1\\\", \\\"azureml-dataprep-native\\\": \\\"38.0.0\\\", \\\"azureml-datadrift\\\": \\\"1.34.0\\\", \\\"azureml-core\\\": \\\"1.34.0\\\", \\\"azureml-contrib-services\\\": \\\"1.34.0\\\", \\\"azureml-contrib-server\\\": \\\"1.34.0\\\", \\\"azureml-contrib-reinforcementlearning\\\": \\\"1.34.0\\\", \\\"azureml-contrib-pipeline-steps\\\": \\\"1.34.0\\\", \\\"azureml-contrib-notebook\\\": \\\"1.34.0\\\", \\\"azureml-contrib-fairness\\\": \\\"1.34.0\\\", \\\"azureml-contrib-dataset\\\": \\\"1.34.0\\\", \\\"azureml-contrib-automl-pipeline-steps\\\": \\\"1.34.0\\\", \\\"azureml-cli-common\\\": \\\"1.34.0\\\", \\\"azureml-automl-runtime\\\": \\\"1.34.0\\\", \\\"azureml-automl-dnn-nlp\\\": \\\"1.34.0\\\", \\\"azureml-automl-core\\\": \\\"1.34.0\\\", \\\"azureml-accel-models\\\": \\\"1.34.0\\\"}\", \"_aml_system_scenario_identification\": \"Remote.Parent\", \"ClientType\": \"SDK\", \"environment_cpu_name\": \"AzureML-AutoML\", \"environment_cpu_label\": \"prod\", \"environment_gpu_name\": \"AzureML-AutoML-GPU\", \"environment_gpu_label\": \"prod\", \"root_attribution\": \"automl\", \"attribution\": \"AutoML\", \"Orchestrator\": \"AutoML\", \"CancelUri\": \"https://southcentralus.api.azureml.ms/jasmine/v1.0/subscriptions/d7f39349-a66b-446e-aba6-0053c2cf1c11/resourceGroups/aml-quickstarts-162891/providers/Microsoft.MachineLearningServices/workspaces/quick-starts-ws-162891/experimentids/95cda253-6f12-4305-bf38-8ac91288bc40/cancel/AutoML_e8722b76-f503-450c-bcb8-96dc40196e5a\", \"ClientSdkVersion\": \"1.35.1\", \"snapshotId\": \"00000000-0000-0000-0000-000000000000\", \"SetupRunId\": \"AutoML_e8722b76-f503-450c-bcb8-96dc40196e5a_setup\", \"SetupRunContainerId\": \"dcid.AutoML_e8722b76-f503-450c-bcb8-96dc40196e5a_setup\", \"FeaturizationRunJsonPath\": \"featurizer_container.json\", \"FeaturizationRunId\": \"AutoML_e8722b76-f503-450c-bcb8-96dc40196e5a_featurize\", \"ProblemInfoJsonString\": \"{\\\"dataset_num_categorical\\\": 0, \\\"is_sparse\\\": true, \\\"subsampling\\\": false, \\\"has_extra_col\\\": true, \\\"dataset_classes\\\": 2, \\\"dataset_features\\\": 19, \\\"dataset_samples\\\": 6497, \\\"single_frequency_class_detected\\\": false}\", \"ModelExplainRunId\": \"AutoML_e8722b76-f503-450c-bcb8-96dc40196e5a_ModelExplain\"}, \"tags\": {\"model_explain_run\": \"best_run\", \"_aml_system_azureml.automlComponent\": \"AutoML\", \"pipeline_id\": \"\", \"score\": \"\", \"predicted_cost\": \"\", \"fit_time\": \"\", \"training_percent\": \"\", \"iteration\": \"\", \"run_preprocessor\": \"\", \"run_algorithm\": \"\", \"dynamic_whitelisting_iterations\": \"<25>;<30>;<35>;\", \"_aml_system_azureml.automl_early_exit_message\": \"No scores improved over last 20 iterations, so experiment stopped early. This early stopping behavior can be disabled by setting enable_early_stopping = False in AutoMLConfig for notebook/python SDK runs.\", \"automl_best_child_run_id\": \"AutoML_e8722b76-f503-450c-bcb8-96dc40196e5a_38\", \"model_explain_best_run_child_id\": \"AutoML_e8722b76-f503-450c-bcb8-96dc40196e5a_38\"}, \"end_time_utc\": \"2021-11-06T17:05:10.791934Z\", \"status\": \"Completed\", \"log_files\": {}, \"log_groups\": [], \"run_duration\": \"0:19:47\", \"run_number\": \"1\", \"run_queued_details\": {\"status\": \"Completed\", \"details\": null}}, \"child_runs\": [{\"run_id\": \"AutoML_e8722b76-f503-450c-bcb8-96dc40196e5a_setup\", \"run_number\": 2, \"metric\": null, \"status\": \"Completed\", \"run_type\": \"azureml.scriptrun\", \"training_percent\": null, \"start_time\": \"2021-11-06T16:50:04.055392Z\", \"end_time\": \"2021-11-06T16:52:47.123417Z\", \"created_time\": \"2021-11-06T16:45:37.26513Z\", \"created_time_dt\": \"2021-11-06T16:45:37.26513Z\", \"duration\": \"0:07:09\", \"iteration\": null, \"goal\": null, \"run_name\": \"Completed\", \"run_properties\": null}, {\"run_id\": \"AutoML_e8722b76-f503-450c-bcb8-96dc40196e5a_featurize\", \"run_number\": 3, \"metric\": null, \"status\": \"Completed\", \"run_type\": \"automl.featurization\", \"training_percent\": null, \"start_time\": \"2021-11-06T16:52:47.915591Z\", \"end_time\": \"2021-11-06T16:54:37.025219Z\", \"created_time\": \"2021-11-06T16:52:47.519373Z\", \"created_time_dt\": \"2021-11-06T16:52:47.519373Z\", \"duration\": \"0:01:49\", \"iteration\": null, \"goal\": null, \"run_name\": \"Completed\", \"run_properties\": null}, {\"run_id\": \"AutoML_e8722b76-f503-450c-bcb8-96dc40196e5a_0\", \"run_number\": 5, \"metric\": null, \"status\": \"Completed\", \"run_type\": \"azureml.scriptrun\", \"training_percent\": \"100\", \"start_time\": \"2021-11-06T16:56:20.893417Z\", \"end_time\": \"2021-11-06T16:57:05.574997Z\", \"created_time\": \"2021-11-06T16:54:38.150244Z\", \"created_time_dt\": \"2021-11-06T16:54:38.150244Z\", \"duration\": \"0:02:27\", \"iteration\": \"0\", \"goal\": \"AUC_weighted_max\", \"run_name\": \"MaxAbsScaler, LightGBM\", \"run_properties\": \"copy=True\", \"primary_metric\": 0.99949178, \"best_metric\": 0.99949178}, {\"run_id\": \"AutoML_e8722b76-f503-450c-bcb8-96dc40196e5a_4\", \"run_number\": 6, \"metric\": null, \"status\": \"Completed\", \"run_type\": \"azureml.scriptrun\", \"training_percent\": \"100\", \"start_time\": \"2021-11-06T16:55:32.43781Z\", \"end_time\": \"2021-11-06T16:56:15.152684Z\", \"created_time\": \"2021-11-06T16:54:38.177594Z\", \"created_time_dt\": \"2021-11-06T16:54:38.177594Z\", \"duration\": \"0:01:36\", \"iteration\": \"4\", \"goal\": \"AUC_weighted_max\", \"run_name\": \"StandardScalerWrapper, LightGBM\", \"run_properties\": \"\\n    copy=True,\\n    with_mean=False,\\n    with_std=True\\n\", \"primary_metric\": 0.99779351, \"best_metric\": 0.99949178}, {\"run_id\": \"AutoML_e8722b76-f503-450c-bcb8-96dc40196e5a_1\", \"run_number\": 7, \"metric\": null, \"status\": \"Completed\", \"run_type\": \"azureml.scriptrun\", \"training_percent\": \"100\", \"start_time\": \"2021-11-06T16:56:32.27642Z\", \"end_time\": \"2021-11-06T16:57:59.107683Z\", \"created_time\": \"2021-11-06T16:54:38.213903Z\", \"created_time_dt\": \"2021-11-06T16:54:38.213903Z\", \"duration\": \"0:03:20\", \"iteration\": \"1\", \"goal\": \"AUC_weighted_max\", \"run_name\": \"MaxAbsScaler, XGBoostClassifier\", \"run_properties\": \"copy=True\", \"primary_metric\": 0.9993741, \"best_metric\": 0.99949178}, {\"run_id\": \"AutoML_e8722b76-f503-450c-bcb8-96dc40196e5a_3\", \"run_number\": 8, \"metric\": null, \"status\": \"Completed\", \"run_type\": \"azureml.scriptrun\", \"training_percent\": \"100\", \"start_time\": \"2021-11-06T16:54:44.061139Z\", \"end_time\": \"2021-11-06T16:55:27.69467Z\", \"created_time\": \"2021-11-06T16:54:38.244716Z\", \"created_time_dt\": \"2021-11-06T16:54:38.244716Z\", \"duration\": \"0:00:49\", \"iteration\": \"3\", \"goal\": \"AUC_weighted_max\", \"run_name\": \"MaxAbsScaler, RandomForest\", \"run_properties\": \"copy=True\", \"primary_metric\": 0.99737112, \"best_metric\": 0.99949178}, {\"run_id\": \"AutoML_e8722b76-f503-450c-bcb8-96dc40196e5a_2\", \"run_number\": 9, \"metric\": null, \"status\": \"Completed\", \"run_type\": \"azureml.scriptrun\", \"training_percent\": \"100\", \"start_time\": \"2021-11-06T16:56:30.976383Z\", \"end_time\": \"2021-11-06T16:57:59.051896Z\", \"created_time\": \"2021-11-06T16:54:38.218534Z\", \"created_time_dt\": \"2021-11-06T16:54:38.218534Z\", \"duration\": \"0:03:20\", \"iteration\": \"2\", \"goal\": \"AUC_weighted_max\", \"run_name\": \"MaxAbsScaler, ExtremeRandomTrees\", \"run_properties\": \"copy=True\", \"primary_metric\": 0.99643642, \"best_metric\": 0.99949178}, {\"run_id\": \"AutoML_e8722b76-f503-450c-bcb8-96dc40196e5a_5\", \"run_number\": 10, \"metric\": null, \"status\": \"Completed\", \"run_type\": \"azureml.scriptrun\", \"training_percent\": \"100\", \"start_time\": \"2021-11-06T16:56:33.687654Z\", \"end_time\": \"2021-11-06T16:58:17.992485Z\", \"created_time\": \"2021-11-06T16:55:30.512316Z\", \"created_time_dt\": \"2021-11-06T16:55:30.512316Z\", \"duration\": \"0:02:47\", \"iteration\": \"5\", \"goal\": \"AUC_weighted_max\", \"run_name\": \"SparseNormalizer, XGBoostClassifier\", \"run_properties\": \"copy=True, norm='max'\", \"primary_metric\": 0.99758543, \"best_metric\": 0.99949178}, {\"run_id\": \"AutoML_e8722b76-f503-450c-bcb8-96dc40196e5a_6\", \"run_number\": 11, \"metric\": null, \"status\": \"Completed\", \"run_type\": \"azureml.scriptrun\", \"training_percent\": \"100\", \"start_time\": \"2021-11-06T16:57:09.319184Z\", \"end_time\": \"2021-11-06T16:57:56.785355Z\", \"created_time\": \"2021-11-06T16:56:18.153509Z\", \"created_time_dt\": \"2021-11-06T16:56:18.153509Z\", \"duration\": \"0:01:38\", \"iteration\": \"6\", \"goal\": \"AUC_weighted_max\", \"run_name\": \"SparseNormalizer, RandomForest\", \"run_properties\": \"copy=True, norm='l2'\", \"primary_metric\": 0.99664125, \"best_metric\": 0.99949178}, {\"run_id\": \"AutoML_e8722b76-f503-450c-bcb8-96dc40196e5a_7\", \"run_number\": 12, \"metric\": null, \"status\": \"Completed\", \"run_type\": \"azureml.scriptrun\", \"training_percent\": \"100\", \"start_time\": \"2021-11-06T16:58:00.79609Z\", \"end_time\": \"2021-11-06T16:58:40.808385Z\", \"created_time\": \"2021-11-06T16:57:08.511459Z\", \"created_time_dt\": \"2021-11-06T16:57:08.511459Z\", \"duration\": \"0:01:32\", \"iteration\": \"7\", \"goal\": \"AUC_weighted_max\", \"run_name\": \"StandardScalerWrapper, XGBoostClassifier\", \"run_properties\": \"\\n    copy=True,\\n    with_mean=False,\\n    with_std=False\\n\", \"primary_metric\": 0.99811437, \"best_metric\": 0.99949178}, {\"run_id\": \"AutoML_e8722b76-f503-450c-bcb8-96dc40196e5a_8\", \"run_number\": 13, \"metric\": null, \"status\": \"Completed\", \"run_type\": \"azureml.scriptrun\", \"training_percent\": \"100\", \"start_time\": \"2021-11-06T16:58:10.049726Z\", \"end_time\": \"2021-11-06T16:58:51.171841Z\", \"created_time\": \"2021-11-06T16:57:59.56863Z\", \"created_time_dt\": \"2021-11-06T16:57:59.56863Z\", \"duration\": \"0:00:51\", \"iteration\": \"8\", \"goal\": \"AUC_weighted_max\", \"run_name\": \"SparseNormalizer, XGBoostClassifier\", \"run_properties\": \"copy=True, norm='max'\", \"primary_metric\": 0.99779986, \"best_metric\": 0.99949178}, {\"run_id\": \"AutoML_e8722b76-f503-450c-bcb8-96dc40196e5a_9\", \"run_number\": 14, \"metric\": null, \"status\": \"Completed\", \"run_type\": \"azureml.scriptrun\", \"training_percent\": \"100\", \"start_time\": \"2021-11-06T16:58:11.128396Z\", \"end_time\": \"2021-11-06T16:58:53.819965Z\", \"created_time\": \"2021-11-06T16:58:05.638784Z\", \"created_time_dt\": \"2021-11-06T16:58:05.638784Z\", \"duration\": \"0:00:48\", \"iteration\": \"9\", \"goal\": \"AUC_weighted_max\", \"run_name\": \"MaxAbsScaler, RandomForest\", \"run_properties\": \"copy=True\", \"primary_metric\": 0.99568612, \"best_metric\": 0.99949178}, {\"run_id\": \"AutoML_e8722b76-f503-450c-bcb8-96dc40196e5a_10\", \"run_number\": 15, \"metric\": null, \"status\": \"Completed\", \"run_type\": \"azureml.scriptrun\", \"training_percent\": \"100\", \"start_time\": \"2021-11-06T16:58:20.060162Z\", \"end_time\": \"2021-11-06T16:58:59.309544Z\", \"created_time\": \"2021-11-06T16:58:05.665653Z\", \"created_time_dt\": \"2021-11-06T16:58:05.665653Z\", \"duration\": \"0:00:53\", \"iteration\": \"10\", \"goal\": \"AUC_weighted_max\", \"run_name\": \"SparseNormalizer, LightGBM\", \"run_properties\": \"copy=True, norm='l1'\", \"primary_metric\": 0.99543392, \"best_metric\": 0.99949178}, {\"run_id\": \"AutoML_e8722b76-f503-450c-bcb8-96dc40196e5a_11\", \"run_number\": 16, \"metric\": null, \"status\": \"Completed\", \"run_type\": \"azureml.scriptrun\", \"training_percent\": \"100\", \"start_time\": \"2021-11-06T16:58:44.561882Z\", \"end_time\": \"2021-11-06T16:59:29.434178Z\", \"created_time\": \"2021-11-06T16:58:21.058641Z\", \"created_time_dt\": \"2021-11-06T16:58:21.058641Z\", \"duration\": \"0:01:08\", \"iteration\": \"11\", \"goal\": \"AUC_weighted_max\", \"run_name\": \"MaxAbsScaler, ExtremeRandomTrees\", \"run_properties\": \"copy=True\", \"primary_metric\": 0.99795721, \"best_metric\": 0.99949178}, {\"run_id\": \"AutoML_e8722b76-f503-450c-bcb8-96dc40196e5a_12\", \"run_number\": 17, \"metric\": null, \"status\": \"Completed\", \"run_type\": \"azureml.scriptrun\", \"training_percent\": \"100\", \"start_time\": \"2021-11-06T16:58:53.524395Z\", \"end_time\": \"2021-11-06T16:59:34.142227Z\", \"created_time\": \"2021-11-06T16:58:43.484688Z\", \"created_time_dt\": \"2021-11-06T16:58:43.484688Z\", \"duration\": \"0:00:50\", \"iteration\": \"12\", \"goal\": \"AUC_weighted_max\", \"run_name\": \"StandardScalerWrapper, XGBoostClassifier\", \"run_properties\": \"\\n    copy=True,\\n    with_mean=False,\\n    with_std=False\\n\", \"primary_metric\": 0.99821372, \"best_metric\": 0.99949178}, {\"run_id\": \"AutoML_e8722b76-f503-450c-bcb8-96dc40196e5a_13\", \"run_number\": 18, \"metric\": null, \"status\": \"Completed\", \"run_type\": \"azureml.scriptrun\", \"training_percent\": \"100\", \"start_time\": \"2021-11-06T16:58:59.537668Z\", \"end_time\": \"2021-11-06T16:59:43.707111Z\", \"created_time\": \"2021-11-06T16:58:54.589977Z\", \"created_time_dt\": \"2021-11-06T16:58:54.589977Z\", \"duration\": \"0:00:49\", \"iteration\": \"13\", \"goal\": \"AUC_weighted_max\", \"run_name\": \"StandardScalerWrapper, ExtremeRandomTrees\", \"run_properties\": \"\\n    copy=True,\\n    with_mean=False,\\n    with_std=False\\n\", \"primary_metric\": 0.96972838, \"best_metric\": 0.99949178}, {\"run_id\": \"AutoML_e8722b76-f503-450c-bcb8-96dc40196e5a_14\", \"run_number\": 19, \"metric\": null, \"status\": \"Completed\", \"run_type\": \"azureml.scriptrun\", \"training_percent\": \"100\", \"start_time\": \"2021-11-06T16:59:04.606541Z\", \"end_time\": \"2021-11-06T16:59:47.989384Z\", \"created_time\": \"2021-11-06T16:58:59.158036Z\", \"created_time_dt\": \"2021-11-06T16:58:59.158036Z\", \"duration\": \"0:00:48\", \"iteration\": \"14\", \"goal\": \"AUC_weighted_max\", \"run_name\": \"StandardScalerWrapper, RandomForest\", \"run_properties\": \"\\n    copy=True,\\n    with_mean=False,\\n    with_std=False\\n\", \"primary_metric\": 0.99848752, \"best_metric\": 0.99949178}, {\"run_id\": \"AutoML_e8722b76-f503-450c-bcb8-96dc40196e5a_15\", \"run_number\": 20, \"metric\": null, \"status\": \"Completed\", \"run_type\": \"azureml.scriptrun\", \"training_percent\": \"100\", \"start_time\": \"2021-11-06T16:59:29.741904Z\", \"end_time\": \"2021-11-06T17:01:13.778741Z\", \"created_time\": \"2021-11-06T16:59:02.873238Z\", \"created_time_dt\": \"2021-11-06T16:59:02.873238Z\", \"duration\": \"0:02:10\", \"iteration\": \"15\", \"goal\": \"AUC_weighted_max\", \"run_name\": \"MaxAbsScaler, LightGBM\", \"run_properties\": \"copy=True\", \"primary_metric\": 0.99835181, \"best_metric\": 0.99949178}, {\"run_id\": \"AutoML_e8722b76-f503-450c-bcb8-96dc40196e5a_16\", \"run_number\": 21, \"metric\": null, \"status\": \"Completed\", \"run_type\": \"azureml.scriptrun\", \"training_percent\": \"100\", \"start_time\": \"2021-11-06T16:59:38.94621Z\", \"end_time\": \"2021-11-06T17:00:18.939432Z\", \"created_time\": \"2021-11-06T16:59:32.243142Z\", \"created_time_dt\": \"2021-11-06T16:59:32.243142Z\", \"duration\": \"0:00:46\", \"iteration\": \"16\", \"goal\": \"AUC_weighted_max\", \"run_name\": \"MaxAbsScaler, LogisticRegression\", \"run_properties\": \"copy=True\", \"primary_metric\": 0.99695347, \"best_metric\": 0.99949178}, {\"run_id\": \"AutoML_e8722b76-f503-450c-bcb8-96dc40196e5a_17\", \"run_number\": 22, \"metric\": null, \"status\": \"Completed\", \"run_type\": \"azureml.scriptrun\", \"training_percent\": \"100\", \"start_time\": \"2021-11-06T16:59:45.111271Z\", \"end_time\": \"2021-11-06T17:00:33.791058Z\", \"created_time\": \"2021-11-06T16:59:37.352209Z\", \"created_time_dt\": \"2021-11-06T16:59:37.352209Z\", \"duration\": \"0:00:56\", \"iteration\": \"17\", \"goal\": \"AUC_weighted_max\", \"run_name\": \"StandardScalerWrapper, ExtremeRandomTrees\", \"run_properties\": \"\\n    copy=True,\\n    with_mean=False,\\n    with_std=True\\n\", \"primary_metric\": 0.9984406, \"best_metric\": 0.99949178}, {\"run_id\": \"AutoML_e8722b76-f503-450c-bcb8-96dc40196e5a_18\", \"run_number\": 23, \"metric\": null, \"status\": \"Completed\", \"run_type\": \"azureml.scriptrun\", \"training_percent\": \"100\", \"start_time\": \"2021-11-06T16:59:50.972611Z\", \"end_time\": \"2021-11-06T17:00:28.94157Z\", \"created_time\": \"2021-11-06T16:59:46.548254Z\", \"created_time_dt\": \"2021-11-06T16:59:46.548254Z\", \"duration\": \"0:00:42\", \"iteration\": \"18\", \"goal\": \"AUC_weighted_max\", \"run_name\": \"StandardScalerWrapper, XGBoostClassifier\", \"run_properties\": \"\\n    copy=True,\\n    with_mean=False,\\n    with_std=False\\n\", \"primary_metric\": 0.99490933, \"best_metric\": 0.99949178}, {\"run_id\": \"AutoML_e8722b76-f503-450c-bcb8-96dc40196e5a_19\", \"run_number\": 24, \"metric\": null, \"status\": \"Completed\", \"run_type\": \"azureml.scriptrun\", \"training_percent\": \"100\", \"start_time\": \"2021-11-06T17:00:20.283273Z\", \"end_time\": \"2021-11-06T17:01:03.915302Z\", \"created_time\": \"2021-11-06T16:59:50.837088Z\", \"created_time_dt\": \"2021-11-06T16:59:50.837088Z\", \"duration\": \"0:01:13\", \"iteration\": \"19\", \"goal\": \"AUC_weighted_max\", \"run_name\": \"MaxAbsScaler, ExtremeRandomTrees\", \"run_properties\": \"copy=True\", \"primary_metric\": 0.99019391, \"best_metric\": 0.99949178}, {\"run_id\": \"AutoML_e8722b76-f503-450c-bcb8-96dc40196e5a_20\", \"run_number\": 25, \"metric\": null, \"status\": \"Completed\", \"run_type\": \"azureml.scriptrun\", \"training_percent\": \"100\", \"start_time\": \"2021-11-06T17:00:33.335379Z\", \"end_time\": \"2021-11-06T17:01:23.596299Z\", \"created_time\": \"2021-11-06T17:00:21.8255Z\", \"created_time_dt\": \"2021-11-06T17:00:21.8255Z\", \"duration\": \"0:01:01\", \"iteration\": \"20\", \"goal\": \"AUC_weighted_max\", \"run_name\": \"MaxAbsScaler, LogisticRegression\", \"run_properties\": \"copy=True\", \"primary_metric\": 0.99685892, \"best_metric\": 0.99949178}, {\"run_id\": \"AutoML_e8722b76-f503-450c-bcb8-96dc40196e5a_21\", \"run_number\": 26, \"metric\": null, \"status\": \"Completed\", \"run_type\": \"azureml.scriptrun\", \"training_percent\": \"100\", \"start_time\": \"2021-11-06T17:00:38.454139Z\", \"end_time\": \"2021-11-06T17:01:21.868943Z\", \"created_time\": \"2021-11-06T17:00:31.615336Z\", \"created_time_dt\": \"2021-11-06T17:00:31.615336Z\", \"duration\": \"0:00:50\", \"iteration\": \"21\", \"goal\": \"AUC_weighted_max\", \"run_name\": \"StandardScalerWrapper, XGBoostClassifier\", \"run_properties\": \"\\n    copy=True,\\n    with_mean=False,\\n    with_std=False\\n\", \"primary_metric\": 0.99531249, \"best_metric\": 0.99949178}, {\"run_id\": \"AutoML_e8722b76-f503-450c-bcb8-96dc40196e5a_22\", \"run_number\": 27, \"metric\": null, \"status\": \"Completed\", \"run_type\": \"azureml.scriptrun\", \"training_percent\": \"100\", \"start_time\": \"2021-11-06T17:01:01.525351Z\", \"end_time\": \"2021-11-06T17:01:42.37376Z\", \"created_time\": \"2021-11-06T17:00:36.614034Z\", \"created_time_dt\": \"2021-11-06T17:00:36.614034Z\", \"duration\": \"0:01:05\", \"iteration\": \"22\", \"goal\": \"AUC_weighted_max\", \"run_name\": \"StandardScalerWrapper, XGBoostClassifier\", \"run_properties\": \"\\n    copy=True,\\n    with_mean=False,\\n    with_std=False\\n\", \"primary_metric\": 0.99917268, \"best_metric\": 0.99949178}, {\"run_id\": \"AutoML_e8722b76-f503-450c-bcb8-96dc40196e5a_23\", \"run_number\": 28, \"metric\": null, \"status\": \"Completed\", \"run_type\": \"azureml.scriptrun\", \"training_percent\": \"100\", \"start_time\": \"2021-11-06T17:01:17.732651Z\", \"end_time\": \"2021-11-06T17:01:58.56038Z\", \"created_time\": \"2021-11-06T17:01:06.987622Z\", \"created_time_dt\": \"2021-11-06T17:01:06.987622Z\", \"duration\": \"0:00:51\", \"iteration\": \"23\", \"goal\": \"AUC_weighted_max\", \"run_name\": \"MaxAbsScaler, RandomForest\", \"run_properties\": \"copy=True\", \"primary_metric\": 0.99730491, \"best_metric\": 0.99949178}, {\"run_id\": \"AutoML_e8722b76-f503-450c-bcb8-96dc40196e5a_24\", \"run_number\": 29, \"metric\": null, \"status\": \"Completed\", \"run_type\": \"azureml.scriptrun\", \"training_percent\": \"100\", \"start_time\": \"2021-11-06T17:01:23.333221Z\", \"end_time\": \"2021-11-06T17:03:04.833216Z\", \"created_time\": \"2021-11-06T17:01:16.701508Z\", \"created_time_dt\": \"2021-11-06T17:01:16.701508Z\", \"duration\": \"0:01:48\", \"iteration\": \"24\", \"goal\": \"AUC_weighted_max\", \"run_name\": \"SparseNormalizer, XGBoostClassifier\", \"run_properties\": \"copy=True, norm='max'\", \"primary_metric\": 0.99735304, \"best_metric\": 0.99949178}, {\"run_id\": \"AutoML_e8722b76-f503-450c-bcb8-96dc40196e5a_25\", \"run_number\": 30, \"metric\": null, \"status\": \"Completed\", \"run_type\": \"azureml.scriptrun\", \"training_percent\": \"100\", \"start_time\": \"2021-11-06T17:01:32.800809Z\", \"end_time\": \"2021-11-06T17:02:15.416113Z\", \"created_time\": \"2021-11-06T17:01:26.110091Z\", \"created_time_dt\": \"2021-11-06T17:01:26.110091Z\", \"duration\": \"0:00:49\", \"iteration\": \"25\", \"goal\": \"AUC_weighted_max\", \"run_name\": \"MaxAbsScaler, LightGBM\", \"run_properties\": \"copy=True\", \"primary_metric\": 0.99922446, \"best_metric\": 0.99949178}, {\"run_id\": \"AutoML_e8722b76-f503-450c-bcb8-96dc40196e5a_26\", \"run_number\": 31, \"metric\": null, \"status\": \"Completed\", \"run_type\": \"azureml.scriptrun\", \"training_percent\": \"100\", \"start_time\": \"2021-11-06T17:01:44.777435Z\", \"end_time\": \"2021-11-06T17:02:30.377745Z\", \"created_time\": \"2021-11-06T17:01:28.903868Z\", \"created_time_dt\": \"2021-11-06T17:01:28.903868Z\", \"duration\": \"0:01:01\", \"iteration\": \"26\", \"goal\": \"AUC_weighted_max\", \"run_name\": \"StandardScalerWrapper, XGBoostClassifier\", \"run_properties\": \"\\n    copy=True,\\n    with_mean=False,\\n    with_std=False\\n\", \"primary_metric\": 0.99942458, \"best_metric\": 0.99949178}, {\"run_id\": \"AutoML_e8722b76-f503-450c-bcb8-96dc40196e5a_27\", \"run_number\": 32, \"metric\": null, \"status\": \"Completed\", \"run_type\": \"azureml.scriptrun\", \"training_percent\": \"100\", \"start_time\": \"2021-11-06T17:02:03.360145Z\", \"end_time\": \"2021-11-06T17:02:45.116631Z\", \"created_time\": \"2021-11-06T17:01:44.618773Z\", \"created_time_dt\": \"2021-11-06T17:01:44.618773Z\", \"duration\": \"0:01:00\", \"iteration\": \"27\", \"goal\": \"AUC_weighted_max\", \"run_name\": \"StandardScalerWrapper, LogisticRegression\", \"run_properties\": \"\\n    copy=True,\\n    with_mean=False,\\n    with_std=True\\n\", \"primary_metric\": 0.99691234, \"best_metric\": 0.99949178}, {\"run_id\": \"AutoML_e8722b76-f503-450c-bcb8-96dc40196e5a_28\", \"run_number\": 33, \"metric\": null, \"status\": \"Completed\", \"run_type\": \"azureml.scriptrun\", \"training_percent\": \"100\", \"start_time\": \"2021-11-06T17:02:17.353183Z\", \"end_time\": \"2021-11-06T17:03:02.591921Z\", \"created_time\": \"2021-11-06T17:02:00.513963Z\", \"created_time_dt\": \"2021-11-06T17:02:00.513963Z\", \"duration\": \"0:01:02\", \"iteration\": \"28\", \"goal\": \"AUC_weighted_max\", \"run_name\": \"StandardScalerWrapper, XGBoostClassifier\", \"run_properties\": \"\\n    copy=True,\\n    with_mean=False,\\n    with_std=False\\n\", \"primary_metric\": 0.99929861, \"best_metric\": 0.99949178}, {\"run_id\": \"AutoML_e8722b76-f503-450c-bcb8-96dc40196e5a_29\", \"run_number\": 34, \"metric\": null, \"status\": \"Completed\", \"run_type\": \"azureml.scriptrun\", \"training_percent\": \"100\", \"start_time\": \"2021-11-06T17:02:32.402434Z\", \"end_time\": \"2021-11-06T17:03:15.003463Z\", \"created_time\": \"2021-11-06T17:02:17.423828Z\", \"created_time_dt\": \"2021-11-06T17:02:17.423828Z\", \"duration\": \"0:00:57\", \"iteration\": \"29\", \"goal\": \"AUC_weighted_max\", \"run_name\": \"StandardScalerWrapper, XGBoostClassifier\", \"run_properties\": \"\\n    copy=True,\\n    with_mean=False,\\n    with_std=False\\n\", \"primary_metric\": 0.99948894, \"best_metric\": 0.99949178}, {\"run_id\": \"AutoML_e8722b76-f503-450c-bcb8-96dc40196e5a_30\", \"run_number\": 35, \"metric\": null, \"status\": \"Completed\", \"run_type\": \"azureml.scriptrun\", \"training_percent\": \"100\", \"start_time\": \"2021-11-06T17:02:48.509391Z\", \"end_time\": \"2021-11-06T17:03:30.850695Z\", \"created_time\": \"2021-11-06T17:02:34.456064Z\", \"created_time_dt\": \"2021-11-06T17:02:34.456064Z\", \"duration\": \"0:00:56\", \"iteration\": \"30\", \"goal\": \"AUC_weighted_max\", \"run_name\": \"StandardScalerWrapper, LightGBM\", \"run_properties\": \"\\n    copy=True,\\n    with_mean=False,\\n    with_std=False\\n\", \"primary_metric\": 0.99726374, \"best_metric\": 0.99949178}, {\"run_id\": \"AutoML_e8722b76-f503-450c-bcb8-96dc40196e5a_31\", \"run_number\": 36, \"metric\": null, \"status\": \"Completed\", \"run_type\": \"azureml.scriptrun\", \"training_percent\": \"100\", \"start_time\": \"2021-11-06T17:03:06.747143Z\", \"end_time\": \"2021-11-06T17:03:50.495907Z\", \"created_time\": \"2021-11-06T17:02:46.994884Z\", \"created_time_dt\": \"2021-11-06T17:02:46.994884Z\", \"duration\": \"0:01:03\", \"iteration\": \"31\", \"goal\": \"AUC_weighted_max\", \"run_name\": \"StandardScalerWrapper, XGBoostClassifier\", \"run_properties\": \"\\n    copy=True,\\n    with_mean=False,\\n    with_std=False\\n\", \"primary_metric\": 0.99879531, \"best_metric\": 0.99949178}, {\"run_id\": \"AutoML_e8722b76-f503-450c-bcb8-96dc40196e5a_32\", \"run_number\": 37, \"metric\": null, \"status\": \"Completed\", \"run_type\": \"azureml.scriptrun\", \"training_percent\": \"100\", \"start_time\": \"2021-11-06T17:03:09.81011Z\", \"end_time\": \"2021-11-06T17:03:50.264053Z\", \"created_time\": \"2021-11-06T17:03:04.491894Z\", \"created_time_dt\": \"2021-11-06T17:03:04.491894Z\", \"duration\": \"0:00:45\", \"iteration\": \"32\", \"goal\": \"AUC_weighted_max\", \"run_name\": \"StandardScalerWrapper, LightGBM\", \"run_properties\": \"\\n    copy=True,\\n    with_mean=False,\\n    with_std=False\\n\", \"primary_metric\": 0.9980643, \"best_metric\": 0.99949178}, {\"run_id\": \"AutoML_e8722b76-f503-450c-bcb8-96dc40196e5a_33\", \"run_number\": 38, \"metric\": null, \"status\": \"Completed\", \"run_type\": \"azureml.scriptrun\", \"training_percent\": \"100\", \"start_time\": \"2021-11-06T17:03:18.792076Z\", \"end_time\": \"2021-11-06T17:03:58.943268Z\", \"created_time\": \"2021-11-06T17:03:07.660582Z\", \"created_time_dt\": \"2021-11-06T17:03:07.660582Z\", \"duration\": \"0:00:51\", \"iteration\": \"33\", \"goal\": \"AUC_weighted_max\", \"run_name\": \"MaxAbsScaler, RandomForest\", \"run_properties\": \"copy=True\", \"primary_metric\": 0.99668722, \"best_metric\": 0.99949178}, {\"run_id\": \"AutoML_e8722b76-f503-450c-bcb8-96dc40196e5a_34\", \"run_number\": 39, \"metric\": null, \"status\": \"Canceled\", \"run_type\": \"azureml.scriptrun\", \"training_percent\": \"100\", \"start_time\": \"2021-11-06T17:03:32.941473Z\", \"end_time\": \"2021-11-06T17:04:00.163273Z\", \"created_time\": \"2021-11-06T17:03:16.895912Z\", \"created_time_dt\": \"2021-11-06T17:03:16.895912Z\", \"duration\": \"0:00:43\", \"iteration\": \"34\", \"goal\": \"AUC_weighted_max\", \"run_name\": \"MaxAbsScaler, RandomForest\", \"run_properties\": \"copy=True\", \"primary_metric\": 0.99619988, \"best_metric\": 0.99949178}, {\"run_id\": \"AutoML_e8722b76-f503-450c-bcb8-96dc40196e5a_35\", \"run_number\": 40, \"metric\": null, \"status\": \"Canceled\", \"run_type\": \"azureml.scriptrun\", \"training_percent\": \"100\", \"start_time\": \"2021-11-06T17:03:52.15118Z\", \"end_time\": \"2021-11-06T17:04:00.615946Z\", \"created_time\": \"2021-11-06T17:03:33.893954Z\", \"created_time_dt\": \"2021-11-06T17:03:33.893954Z\", \"duration\": \"0:00:26\", \"iteration\": \"35\", \"goal\": null, \"run_name\": \"Canceled\", \"run_properties\": null}, {\"run_id\": \"AutoML_e8722b76-f503-450c-bcb8-96dc40196e5a_36\", \"run_number\": 41, \"metric\": null, \"status\": \"Canceled\", \"run_type\": \"azureml.scriptrun\", \"training_percent\": \"100\", \"start_time\": \"2021-11-06T17:03:52.249076Z\", \"end_time\": \"2021-11-06T17:04:00.39048Z\", \"created_time\": \"2021-11-06T17:03:52.249076Z\", \"created_time_dt\": \"2021-11-06T17:03:52.249076Z\", \"duration\": \"0:00:08\", \"iteration\": \"36\", \"goal\": null, \"run_name\": \"Canceled\", \"run_properties\": null}, {\"run_id\": \"AutoML_e8722b76-f503-450c-bcb8-96dc40196e5a_37\", \"run_number\": 42, \"metric\": null, \"status\": \"Canceled\", \"run_type\": \"azureml.scriptrun\", \"training_percent\": \"100\", \"start_time\": \"2021-11-06T17:03:57.330029Z\", \"end_time\": \"2021-11-06T17:04:00.024323Z\", \"created_time\": \"2021-11-06T17:03:52.276655Z\", \"created_time_dt\": \"2021-11-06T17:03:52.276655Z\", \"duration\": \"0:00:07\", \"iteration\": \"37\", \"goal\": null, \"run_name\": \"Canceled\", \"run_properties\": null}, {\"run_id\": \"AutoML_e8722b76-f503-450c-bcb8-96dc40196e5a_38\", \"run_number\": 43, \"metric\": null, \"status\": \"Completed\", \"run_type\": \"azureml.scriptrun\", \"training_percent\": \"100\", \"start_time\": \"2021-11-06T17:04:08.425623Z\", \"end_time\": \"2021-11-06T17:05:07.567753Z\", \"created_time\": \"2021-11-06T17:04:02.277396Z\", \"created_time_dt\": \"2021-11-06T17:04:02.277396Z\", \"duration\": \"0:01:05\", \"iteration\": \"38\", \"goal\": \"AUC_weighted_max\", \"run_name\": \"VotingEnsemble\", \"run_properties\": \"\\n    estimators=[('0', Pipeline(\\n        memory=None,\\n        steps=[('maxabsscaler', MaxAbsScaler(\\n            copy=True\\n        \", \"primary_metric\": 0.99950833, \"best_metric\": 0.99950833}, {\"run_id\": \"AutoML_e8722b76-f503-450c-bcb8-96dc40196e5a_39\", \"run_number\": 44, \"metric\": null, \"status\": \"Completed\", \"run_type\": \"azureml.scriptrun\", \"training_percent\": \"100\", \"start_time\": \"2021-11-06T17:04:08.555828Z\", \"end_time\": \"2021-11-06T17:05:09.144216Z\", \"created_time\": \"2021-11-06T17:04:02.295191Z\", \"created_time_dt\": \"2021-11-06T17:04:02.295191Z\", \"duration\": \"0:01:06\", \"iteration\": \"39\", \"goal\": \"AUC_weighted_max\", \"run_name\": \"StackEnsemble\", \"run_properties\": \"\\n    base_learners=[('0', Pipeline(\\n        memory=None,\\n        steps=[('maxabsscaler', MaxAbsScaler(\\n            copy=True\\n        \", \"primary_metric\": 0.99947572, \"best_metric\": 0.99950833}], \"children_metrics\": {\"categories\": [0], \"series\": {\"average_precision_score_weighted\": [{\"categories\": [\"0\", \"1\", \"2\", \"3\", \"4\", \"5\", \"6\", \"7\", \"8\", \"9\", \"10\", \"11\", \"12\", \"13\", \"14\", \"15\", \"16\", \"17\", \"18\", \"19\", \"20\", \"21\", \"22\", \"23\", \"24\", \"25\", \"26\", \"27\", \"28\", \"29\", \"30\", \"31\", \"32\", \"33\", \"34\", \"38\", \"39\"], \"mode\": \"markers\", \"name\": \"average_precision_score_weighted\", \"stepped\": false, \"type\": \"scatter\", \"data\": [0.9996095808530779, 0.9994880173361188, 0.9973346821113042, 0.9978526310728378, 0.9983852705397874, 0.9978592508038308, 0.9967984119468888, 0.9986996456462925, 0.9980037104838888, 0.9966390811799868, 0.9953140350889799, 0.9985192833814608, 0.9985062637227284, 0.9730328604808757, 0.99877935795611, 0.998783433908892, 0.9971529759503664, 0.9988010096471897, 0.9956293216209208, 0.9915171581152261, 0.9969509095699899, 0.9959909796290204, 0.9993559067090646, 0.9977949383437377, 0.9975601431640525, 0.9993665856532142, 0.9995434143250078, 0.9969684345622665, 0.9994609833271939, 0.9995914554409118, 0.9979507710561492, 0.9990748830184759, 0.998629909965545, 0.9973432695269852, 0.9970650171883468, 0.9996102357650726, 0.9995874734424604]}, {\"categories\": [\"0\", \"1\", \"2\", \"3\", \"4\", \"5\", \"6\", \"7\", \"8\", \"9\", \"10\", \"11\", \"12\", \"13\", \"14\", \"15\", \"16\", \"17\", \"18\", \"19\", \"20\", \"21\", \"22\", \"23\", \"24\", \"25\", \"26\", \"27\", \"28\", \"29\", \"30\", \"31\", \"32\", \"33\", \"34\", \"38\", \"39\"], \"mode\": \"lines\", \"name\": \"average_precision_score_weighted_max\", \"stepped\": true, \"type\": \"scatter\", \"data\": [0.9996095808530779, 0.9996095808530779, 0.9996095808530779, 0.9996095808530779, 0.9996095808530779, 0.9996095808530779, 0.9996095808530779, 0.9996095808530779, 0.9996095808530779, 0.9996095808530779, 0.9996095808530779, 0.9996095808530779, 0.9996095808530779, 0.9996095808530779, 0.9996095808530779, 0.9996095808530779, 0.9996095808530779, 0.9996095808530779, 0.9996095808530779, 0.9996095808530779, 0.9996095808530779, 0.9996095808530779, 0.9996095808530779, 0.9996095808530779, 0.9996095808530779, 0.9996095808530779, 0.9996095808530779, 0.9996095808530779, 0.9996095808530779, 0.9996095808530779, 0.9996095808530779, 0.9996095808530779, 0.9996095808530779, 0.9996095808530779, 0.9996095808530779, 0.9996102357650726, 0.9996102357650726]}], \"recall_score_micro\": [{\"categories\": [\"0\", \"1\", \"2\", \"3\", \"4\", \"5\", \"6\", \"7\", \"8\", \"9\", \"10\", \"11\", \"12\", \"13\", \"14\", \"15\", \"16\", \"17\", \"18\", \"19\", \"20\", \"21\", \"22\", \"23\", \"24\", \"25\", \"26\", \"27\", \"28\", \"29\", \"30\", \"31\", \"32\", \"33\", \"34\", \"38\", \"39\"], \"mode\": \"markers\", \"name\": \"recall_score_micro\", \"stepped\": false, \"type\": \"scatter\", \"data\": [0.9961523069453952, 0.9949208034875894, 0.9813764690076962, 0.9855327309806463, 0.9896877845519354, 0.9826076170532486, 0.9661374578214509, 0.9941511937942177, 0.9826069062287419, 0.974451332333914, 0.9726032596990226, 0.9875327778950638, 0.9930740814192606, 0.7538860420367396, 0.9959982001923491, 0.9913808263619219, 0.9892253221278958, 0.9890723526940605, 0.9883024586708862, 0.7538860420367396, 0.992457725489527, 0.9896875002221327, 0.9959982712747998, 0.9798366809613475, 0.9804524682314758, 0.9946128743112999, 0.9958443777691057, 0.9921499384781388, 0.9950746969932834, 0.9952287326638789, 0.9575189950078795, 0.993535690853892, 0.9904571099155044, 0.9759897698137001, 0.9827617948887454, 0.9959983423572506, 0.9956904842634117]}, {\"categories\": [\"0\", \"1\", \"2\", \"3\", \"4\", \"5\", \"6\", \"7\", \"8\", \"9\", \"10\", \"11\", \"12\", \"13\", \"14\", \"15\", \"16\", \"17\", \"18\", \"19\", \"20\", \"21\", \"22\", \"23\", \"24\", \"25\", \"26\", \"27\", \"28\", \"29\", \"30\", \"31\", \"32\", \"33\", \"34\", \"38\", \"39\"], \"mode\": \"lines\", \"name\": \"recall_score_micro_max\", \"stepped\": true, \"type\": \"scatter\", \"data\": [0.9961523069453952, 0.9961523069453952, 0.9961523069453952, 0.9961523069453952, 0.9961523069453952, 0.9961523069453952, 0.9961523069453952, 0.9961523069453952, 0.9961523069453952, 0.9961523069453952, 0.9961523069453952, 0.9961523069453952, 0.9961523069453952, 0.9961523069453952, 0.9961523069453952, 0.9961523069453952, 0.9961523069453952, 0.9961523069453952, 0.9961523069453952, 0.9961523069453952, 0.9961523069453952, 0.9961523069453952, 0.9961523069453952, 0.9961523069453952, 0.9961523069453952, 0.9961523069453952, 0.9961523069453952, 0.9961523069453952, 0.9961523069453952, 0.9961523069453952, 0.9961523069453952, 0.9961523069453952, 0.9961523069453952, 0.9961523069453952, 0.9961523069453952, 0.9961523069453952, 0.9961523069453952]}], \"f1_score_micro\": [{\"categories\": [\"0\", \"1\", \"2\", \"3\", \"4\", \"5\", \"6\", \"7\", \"8\", \"9\", \"10\", \"11\", \"12\", \"13\", \"14\", \"15\", \"16\", \"17\", \"18\", \"19\", \"20\", \"21\", \"22\", \"23\", \"24\", \"25\", \"26\", \"27\", \"28\", \"29\", \"30\", \"31\", \"32\", \"33\", \"34\", \"38\", \"39\"], \"mode\": \"markers\", \"name\": \"f1_score_micro\", \"stepped\": false, \"type\": \"scatter\", \"data\": [0.9961523069453952, 0.9949208034875894, 0.9813764690076962, 0.9855327309806463, 0.9896877845519354, 0.9826076170532486, 0.9661374578214509, 0.9941511937942177, 0.9826069062287418, 0.974451332333914, 0.9726032596990226, 0.9875327778950638, 0.9930740814192606, 0.7538860420367396, 0.9959982001923491, 0.9913808263619219, 0.9892253221278958, 0.9890723526940605, 0.9883024586708862, 0.7538860420367396, 0.992457725489527, 0.9896875002221327, 0.9959982712747998, 0.9798366809613475, 0.9804524682314758, 0.9946128743112999, 0.9958443777691057, 0.9921499384781388, 0.9950746969932834, 0.9952287326638789, 0.9575189950078795, 0.993535690853892, 0.9904571099155044, 0.9759897698137001, 0.9827617948887454, 0.9959983423572506, 0.9956904842634117]}, {\"categories\": [\"0\", \"1\", \"2\", \"3\", \"4\", \"5\", \"6\", \"7\", \"8\", \"9\", \"10\", \"11\", \"12\", \"13\", \"14\", \"15\", \"16\", \"17\", \"18\", \"19\", \"20\", \"21\", \"22\", \"23\", \"24\", \"25\", \"26\", \"27\", \"28\", \"29\", \"30\", \"31\", \"32\", \"33\", \"34\", \"38\", \"39\"], \"mode\": \"lines\", \"name\": \"f1_score_micro_max\", \"stepped\": true, \"type\": \"scatter\", \"data\": [0.9961523069453952, 0.9961523069453952, 0.9961523069453952, 0.9961523069453952, 0.9961523069453952, 0.9961523069453952, 0.9961523069453952, 0.9961523069453952, 0.9961523069453952, 0.9961523069453952, 0.9961523069453952, 0.9961523069453952, 0.9961523069453952, 0.9961523069453952, 0.9961523069453952, 0.9961523069453952, 0.9961523069453952, 0.9961523069453952, 0.9961523069453952, 0.9961523069453952, 0.9961523069453952, 0.9961523069453952, 0.9961523069453952, 0.9961523069453952, 0.9961523069453952, 0.9961523069453952, 0.9961523069453952, 0.9961523069453952, 0.9961523069453952, 0.9961523069453952, 0.9961523069453952, 0.9961523069453952, 0.9961523069453952, 0.9961523069453952, 0.9961523069453952, 0.9961523069453952, 0.9961523069453952]}], \"f1_score_weighted\": [{\"categories\": [\"0\", \"1\", \"2\", \"3\", \"4\", \"5\", \"6\", \"7\", \"8\", \"9\", \"10\", \"11\", \"12\", \"13\", \"14\", \"15\", \"16\", \"17\", \"18\", \"19\", \"20\", \"21\", \"22\", \"23\", \"24\", \"25\", \"26\", \"27\", \"28\", \"29\", \"30\", \"31\", \"32\", \"33\", \"34\", \"38\", \"39\"], \"mode\": \"markers\", \"name\": \"f1_score_weighted\", \"stepped\": false, \"type\": \"scatter\", \"data\": [0.9961493839895791, 0.9949127864547763, 0.9811905278727499, 0.985454522190515, 0.9896406232418306, 0.9825647500039282, 0.9667214334325118, 0.9941336075142567, 0.9825540992909255, 0.9746469894898024, 0.9725941781423154, 0.9875899926180042, 0.9930573441888703, 0.6481296375251855, 0.9959901630294287, 0.9913351643410225, 0.9892685327932448, 0.9891131989054651, 0.9882509128884408, 0.6481296375251855, 0.9924544748565783, 0.9896405318436234, 0.9959911661320562, 0.9799441339824932, 0.9803715800681929, 0.9946082589243309, 0.9958383770634791, 0.9921465055265141, 0.9950643060138787, 0.9952211010962234, 0.9560948868302033, 0.9935126427495131, 0.990401241505665, 0.9761902582755803, 0.9826482728199247, 0.995994895080471, 0.9956833485858393]}, {\"categories\": [\"0\", \"1\", \"2\", \"3\", \"4\", \"5\", \"6\", \"7\", \"8\", \"9\", \"10\", \"11\", \"12\", \"13\", \"14\", \"15\", \"16\", \"17\", \"18\", \"19\", \"20\", \"21\", \"22\", \"23\", \"24\", \"25\", \"26\", \"27\", \"28\", \"29\", \"30\", \"31\", \"32\", \"33\", \"34\", \"38\", \"39\"], \"mode\": \"lines\", \"name\": \"f1_score_weighted_max\", \"stepped\": true, \"type\": \"scatter\", \"data\": [0.9961493839895791, 0.9961493839895791, 0.9961493839895791, 0.9961493839895791, 0.9961493839895791, 0.9961493839895791, 0.9961493839895791, 0.9961493839895791, 0.9961493839895791, 0.9961493839895791, 0.9961493839895791, 0.9961493839895791, 0.9961493839895791, 0.9961493839895791, 0.9961493839895791, 0.9961493839895791, 0.9961493839895791, 0.9961493839895791, 0.9961493839895791, 0.9961493839895791, 0.9961493839895791, 0.9961493839895791, 0.9961493839895791, 0.9961493839895791, 0.9961493839895791, 0.9961493839895791, 0.9961493839895791, 0.9961493839895791, 0.9961493839895791, 0.9961493839895791, 0.9961493839895791, 0.9961493839895791, 0.9961493839895791, 0.9961493839895791, 0.9961493839895791, 0.9961493839895791, 0.9961493839895791]}], \"f1_score_macro\": [{\"categories\": [\"0\", \"1\", \"2\", \"3\", \"4\", \"5\", \"6\", \"7\", \"8\", \"9\", \"10\", \"11\", \"12\", \"13\", \"14\", \"15\", \"16\", \"17\", \"18\", \"19\", \"20\", \"21\", \"22\", \"23\", \"24\", \"25\", \"26\", \"27\", \"28\", \"29\", \"30\", \"31\", \"32\", \"33\", \"34\", \"38\", \"39\"], \"mode\": \"markers\", \"name\": \"f1_score_macro\", \"stepped\": false, \"type\": \"scatter\", \"data\": [0.9947680259674211, 0.9931179958305596, 0.9744000825601162, 0.9802010498718358, 0.9859670627403337, 0.9764346656511571, 0.9558934002399418, 0.992087583460636, 0.9763529026877987, 0.9661649376212204, 0.9630279188101492, 0.9833287051451473, 0.9905413961093309, 0.429821223274147, 0.9945522970270798, 0.988204678942342, 0.9855852119057267, 0.985315593253496, 0.984084846778078, 0.429821223274147, 0.9898278867600077, 0.9859521772236235, 0.9945722066541233, 0.9731967297544846, 0.9734172116881429, 0.9927015389363866, 0.9943602412321336, 0.9894236531689802, 0.9933265798237104, 0.9935312533611999, 0.939109663192622, 0.9911779102386596, 0.9869716425446865, 0.9683305882078154, 0.9765058108373182, 0.9945473809913352, 0.994142413082721]}, {\"categories\": [\"0\", \"1\", \"2\", \"3\", \"4\", \"5\", \"6\", \"7\", \"8\", \"9\", \"10\", \"11\", \"12\", \"13\", \"14\", \"15\", \"16\", \"17\", \"18\", \"19\", \"20\", \"21\", \"22\", \"23\", \"24\", \"25\", \"26\", \"27\", \"28\", \"29\", \"30\", \"31\", \"32\", \"33\", \"34\", \"38\", \"39\"], \"mode\": \"lines\", \"name\": \"f1_score_macro_max\", \"stepped\": true, \"type\": \"scatter\", \"data\": [0.9947680259674211, 0.9947680259674211, 0.9947680259674211, 0.9947680259674211, 0.9947680259674211, 0.9947680259674211, 0.9947680259674211, 0.9947680259674211, 0.9947680259674211, 0.9947680259674211, 0.9947680259674211, 0.9947680259674211, 0.9947680259674211, 0.9947680259674211, 0.9947680259674211, 0.9947680259674211, 0.9947680259674211, 0.9947680259674211, 0.9947680259674211, 0.9947680259674211, 0.9947680259674211, 0.9947680259674211, 0.9947680259674211, 0.9947680259674211, 0.9947680259674211, 0.9947680259674211, 0.9947680259674211, 0.9947680259674211, 0.9947680259674211, 0.9947680259674211, 0.9947680259674211, 0.9947680259674211, 0.9947680259674211, 0.9947680259674211, 0.9947680259674211, 0.9947680259674211, 0.9947680259674211]}], \"weighted_accuracy\": [{\"categories\": [\"0\", \"1\", \"2\", \"3\", \"4\", \"5\", \"6\", \"7\", \"8\", \"9\", \"10\", \"11\", \"12\", \"13\", \"14\", \"15\", \"16\", \"17\", \"18\", \"19\", \"20\", \"21\", \"22\", \"23\", \"24\", \"25\", \"26\", \"27\", \"28\", \"29\", \"30\", \"31\", \"32\", \"33\", \"34\", \"38\", \"39\"], \"mode\": \"markers\", \"name\": \"weighted_accuracy\", \"stepped\": false, \"type\": \"scatter\", \"data\": [0.9975016249927523, 0.9968921088993196, 0.9907122130435145, 0.9912755008215385, 0.9943576284626623, 0.9875901548975011, 0.9621694518794323, 0.9970778916403558, 0.9879768589383467, 0.975318085774496, 0.9782160390779339, 0.9873035787697405, 0.9958214393183278, 0.9034420245704599, 0.9979490500729143, 0.9961447555357283, 0.9892052911762557, 0.9891596211159092, 0.9932857899379712, 0.9034420245704599, 0.9943155897308614, 0.9944617817236164, 0.9978150713417953, 0.9806323972871711, 0.9868675471063909, 0.9961667404216018, 0.9975101001066656, 0.9940669111372663, 0.9973206936117917, 0.9971378602110242, 0.9833076946583788, 0.9968637640209534, 0.9957667495794986, 0.9763562469339345, 0.9899839679249167, 0.9974482706622975, 0.9975712211991431]}, {\"categories\": [\"0\", \"1\", \"2\", \"3\", \"4\", \"5\", \"6\", \"7\", \"8\", \"9\", \"10\", \"11\", \"12\", \"13\", \"14\", \"15\", \"16\", \"17\", \"18\", \"19\", \"20\", \"21\", \"22\", \"23\", \"24\", \"25\", \"26\", \"27\", \"28\", \"29\", \"30\", \"31\", \"32\", \"33\", \"34\", \"38\", \"39\"], \"mode\": \"lines\", \"name\": \"weighted_accuracy_max\", \"stepped\": true, \"type\": \"scatter\", \"data\": [0.9975016249927523, 0.9975016249927523, 0.9975016249927523, 0.9975016249927523, 0.9975016249927523, 0.9975016249927523, 0.9975016249927523, 0.9975016249927523, 0.9975016249927523, 0.9975016249927523, 0.9975016249927523, 0.9975016249927523, 0.9975016249927523, 0.9975016249927523, 0.9979490500729143, 0.9979490500729143, 0.9979490500729143, 0.9979490500729143, 0.9979490500729143, 0.9979490500729143, 0.9979490500729143, 0.9979490500729143, 0.9979490500729143, 0.9979490500729143, 0.9979490500729143, 0.9979490500729143, 0.9979490500729143, 0.9979490500729143, 0.9979490500729143, 0.9979490500729143, 0.9979490500729143, 0.9979490500729143, 0.9979490500729143, 0.9979490500729143, 0.9979490500729143, 0.9979490500729143, 0.9979490500729143]}], \"precision_score_macro\": [{\"categories\": [\"0\", \"1\", \"2\", \"3\", \"4\", \"5\", \"6\", \"7\", \"8\", \"9\", \"10\", \"11\", \"12\", \"13\", \"14\", \"15\", \"16\", \"17\", \"18\", \"19\", \"20\", \"21\", \"22\", \"23\", \"24\", \"25\", \"26\", \"27\", \"28\", \"29\", \"30\", \"31\", \"32\", \"33\", \"34\", \"38\", \"39\"], \"mode\": \"markers\", \"name\": \"precision_score_macro\", \"stepped\": false, \"type\": \"scatter\", \"data\": [0.9956756983494084, 0.9946837165666652, 0.9841765572491893, 0.9849976596833839, 0.9904344846279042, 0.9787714014131191, 0.941892431479877, 0.9950692093048992, 0.9793065375117499, 0.9598760510724201, 0.9631014162057229, 0.9789799545359464, 0.99276466986726, 0.3769430210183698, 0.9964826203831221, 0.993407924503973, 0.9821027963649055, 0.9818728873595836, 0.9884832391561797, 0.3769430210183698, 0.9903772250039057, 0.9905028454778403, 0.9962705139202166, 0.9681611835524991, 0.9774170764119011, 0.9934787363874351, 0.9957388870031387, 0.9899725114928645, 0.9954240787396609, 0.9950980132268027, 0.9733128441285791, 0.9946194160006506, 0.9928295032803094, 0.9625899180105905, 0.9828527996564511, 0.9955725278263724, 0.995817057285891]}, {\"categories\": [\"0\", \"1\", \"2\", \"3\", \"4\", \"5\", \"6\", \"7\", \"8\", \"9\", \"10\", \"11\", \"12\", \"13\", \"14\", \"15\", \"16\", \"17\", \"18\", \"19\", \"20\", \"21\", \"22\", \"23\", \"24\", \"25\", \"26\", \"27\", \"28\", \"29\", \"30\", \"31\", \"32\", \"33\", \"34\", \"38\", \"39\"], \"mode\": \"lines\", \"name\": \"precision_score_macro_max\", \"stepped\": true, \"type\": \"scatter\", \"data\": [0.9956756983494084, 0.9956756983494084, 0.9956756983494084, 0.9956756983494084, 0.9956756983494084, 0.9956756983494084, 0.9956756983494084, 0.9956756983494084, 0.9956756983494084, 0.9956756983494084, 0.9956756983494084, 0.9956756983494084, 0.9956756983494084, 0.9956756983494084, 0.9964826203831221, 0.9964826203831221, 0.9964826203831221, 0.9964826203831221, 0.9964826203831221, 0.9964826203831221, 0.9964826203831221, 0.9964826203831221, 0.9964826203831221, 0.9964826203831221, 0.9964826203831221, 0.9964826203831221, 0.9964826203831221, 0.9964826203831221, 0.9964826203831221, 0.9964826203831221, 0.9964826203831221, 0.9964826203831221, 0.9964826203831221, 0.9964826203831221, 0.9964826203831221, 0.9964826203831221, 0.9964826203831221]}], \"accuracy\": [{\"categories\": [\"0\", \"1\", \"2\", \"3\", \"4\", \"5\", \"6\", \"7\", \"8\", \"9\", \"10\", \"11\", \"12\", \"13\", \"14\", \"15\", \"16\", \"17\", \"18\", \"19\", \"20\", \"21\", \"22\", \"23\", \"24\", \"25\", \"26\", \"27\", \"28\", \"29\", \"30\", \"31\", \"32\", \"33\", \"34\", \"38\", \"39\"], \"mode\": \"markers\", \"name\": \"accuracy\", \"stepped\": false, \"type\": \"scatter\", \"data\": [0.9961523069453952, 0.9949208034875894, 0.9813764690076962, 0.9855327309806463, 0.9896877845519354, 0.9826076170532486, 0.9661374578214509, 0.9941511937942177, 0.9826069062287419, 0.974451332333914, 0.9726032596990226, 0.9875327778950638, 0.9930740814192606, 0.7538860420367396, 0.9959982001923491, 0.9913808263619219, 0.9892253221278958, 0.9890723526940605, 0.9883024586708862, 0.7538860420367396, 0.992457725489527, 0.9896875002221327, 0.9959982712747998, 0.9798366809613475, 0.9804524682314758, 0.9946128743112999, 0.9958443777691057, 0.9921499384781388, 0.9950746969932834, 0.9952287326638789, 0.9575189950078795, 0.993535690853892, 0.9904571099155044, 0.9759897698137001, 0.9827617948887454, 0.9959983423572506, 0.9956904842634117]}, {\"categories\": [\"0\", \"1\", \"2\", \"3\", \"4\", \"5\", \"6\", \"7\", \"8\", \"9\", \"10\", \"11\", \"12\", \"13\", \"14\", \"15\", \"16\", \"17\", \"18\", \"19\", \"20\", \"21\", \"22\", \"23\", \"24\", \"25\", \"26\", \"27\", \"28\", \"29\", \"30\", \"31\", \"32\", \"33\", \"34\", \"38\", \"39\"], \"mode\": \"lines\", \"name\": \"accuracy_max\", \"stepped\": true, \"type\": \"scatter\", \"data\": [0.9961523069453952, 0.9961523069453952, 0.9961523069453952, 0.9961523069453952, 0.9961523069453952, 0.9961523069453952, 0.9961523069453952, 0.9961523069453952, 0.9961523069453952, 0.9961523069453952, 0.9961523069453952, 0.9961523069453952, 0.9961523069453952, 0.9961523069453952, 0.9961523069453952, 0.9961523069453952, 0.9961523069453952, 0.9961523069453952, 0.9961523069453952, 0.9961523069453952, 0.9961523069453952, 0.9961523069453952, 0.9961523069453952, 0.9961523069453952, 0.9961523069453952, 0.9961523069453952, 0.9961523069453952, 0.9961523069453952, 0.9961523069453952, 0.9961523069453952, 0.9961523069453952, 0.9961523069453952, 0.9961523069453952, 0.9961523069453952, 0.9961523069453952, 0.9961523069453952, 0.9961523069453952]}], \"recall_score_weighted\": [{\"categories\": [\"0\", \"1\", \"2\", \"3\", \"4\", \"5\", \"6\", \"7\", \"8\", \"9\", \"10\", \"11\", \"12\", \"13\", \"14\", \"15\", \"16\", \"17\", \"18\", \"19\", \"20\", \"21\", \"22\", \"23\", \"24\", \"25\", \"26\", \"27\", \"28\", \"29\", \"30\", \"31\", \"32\", \"33\", \"34\", \"38\", \"39\"], \"mode\": \"markers\", \"name\": \"recall_score_weighted\", \"stepped\": false, \"type\": \"scatter\", \"data\": [0.9961523069453952, 0.9949208034875894, 0.9813764690076962, 0.9855327309806463, 0.9896877845519354, 0.9826076170532486, 0.9661374578214509, 0.9941511937942177, 0.9826069062287419, 0.974451332333914, 0.9726032596990226, 0.9875327778950638, 0.9930740814192606, 0.7538860420367396, 0.9959982001923491, 0.9913808263619219, 0.9892253221278958, 0.9890723526940605, 0.9883024586708862, 0.7538860420367396, 0.992457725489527, 0.9896875002221327, 0.9959982712747998, 0.9798366809613475, 0.9804524682314758, 0.9946128743112999, 0.9958443777691057, 0.9921499384781388, 0.9950746969932834, 0.9952287326638789, 0.9575189950078795, 0.993535690853892, 0.9904571099155044, 0.9759897698137001, 0.9827617948887454, 0.9959983423572506, 0.9956904842634117]}, {\"categories\": [\"0\", \"1\", \"2\", \"3\", \"4\", \"5\", \"6\", \"7\", \"8\", \"9\", \"10\", \"11\", \"12\", \"13\", \"14\", \"15\", \"16\", \"17\", \"18\", \"19\", \"20\", \"21\", \"22\", \"23\", \"24\", \"25\", \"26\", \"27\", \"28\", \"29\", \"30\", \"31\", \"32\", \"33\", \"34\", \"38\", \"39\"], \"mode\": \"lines\", \"name\": \"recall_score_weighted_max\", \"stepped\": true, \"type\": \"scatter\", \"data\": [0.9961523069453952, 0.9961523069453952, 0.9961523069453952, 0.9961523069453952, 0.9961523069453952, 0.9961523069453952, 0.9961523069453952, 0.9961523069453952, 0.9961523069453952, 0.9961523069453952, 0.9961523069453952, 0.9961523069453952, 0.9961523069453952, 0.9961523069453952, 0.9961523069453952, 0.9961523069453952, 0.9961523069453952, 0.9961523069453952, 0.9961523069453952, 0.9961523069453952, 0.9961523069453952, 0.9961523069453952, 0.9961523069453952, 0.9961523069453952, 0.9961523069453952, 0.9961523069453952, 0.9961523069453952, 0.9961523069453952, 0.9961523069453952, 0.9961523069453952, 0.9961523069453952, 0.9961523069453952, 0.9961523069453952, 0.9961523069453952, 0.9961523069453952, 0.9961523069453952, 0.9961523069453952]}], \"matthews_correlation\": [{\"categories\": [\"0\", \"1\", \"2\", \"3\", \"4\", \"5\", \"6\", \"7\", \"8\", \"9\", \"10\", \"11\", \"12\", \"13\", \"14\", \"15\", \"16\", \"17\", \"18\", \"19\", \"20\", \"21\", \"22\", \"23\", \"24\", \"25\", \"26\", \"27\", \"28\", \"29\", \"30\", \"31\", \"32\", \"33\", \"34\", \"38\", \"39\"], \"mode\": \"markers\", \"name\": \"matthews_correlation\", \"stepped\": false, \"type\": \"scatter\", \"data\": [0.9895471582751907, 0.9862564536890602, 0.9495003023597065, 0.9606028823333431, 0.9720966117513993, 0.9529171201006005, 0.9141926356025358, 0.9842436462711402, 0.9527834432153468, 0.9327483440411095, 0.9261286553817496, 0.9668279564737086, 0.9811242842385258, 0.0, 0.9891334821808587, 0.9766111865433734, 0.971300207116412, 0.9707359496179984, 0.9683419068678581, 0.0, 0.979661399871966, 0.9720715303375353, 0.9891686775166783, 0.9466491264345899, 0.9469699778906157, 0.9854109898159179, 0.9887357915059277, 0.9788529312172637, 0.9866890983747515, 0.9870829751270876, 0.8851028396308082, 0.9824461666118828, 0.9741962816971809, 0.9375021049973252, 0.9533273927532684, 0.9891052333245578, 0.9883076169981365]}, {\"categories\": [\"0\", \"1\", \"2\", \"3\", \"4\", \"5\", \"6\", \"7\", \"8\", \"9\", \"10\", \"11\", \"12\", \"13\", \"14\", \"15\", \"16\", \"17\", \"18\", \"19\", \"20\", \"21\", \"22\", \"23\", \"24\", \"25\", \"26\", \"27\", \"28\", \"29\", \"30\", \"31\", \"32\", \"33\", \"34\", \"38\", \"39\"], \"mode\": \"lines\", \"name\": \"matthews_correlation_max\", \"stepped\": true, \"type\": \"scatter\", \"data\": [0.9895471582751907, 0.9895471582751907, 0.9895471582751907, 0.9895471582751907, 0.9895471582751907, 0.9895471582751907, 0.9895471582751907, 0.9895471582751907, 0.9895471582751907, 0.9895471582751907, 0.9895471582751907, 0.9895471582751907, 0.9895471582751907, 0.9895471582751907, 0.9895471582751907, 0.9895471582751907, 0.9895471582751907, 0.9895471582751907, 0.9895471582751907, 0.9895471582751907, 0.9895471582751907, 0.9895471582751907, 0.9895471582751907, 0.9895471582751907, 0.9895471582751907, 0.9895471582751907, 0.9895471582751907, 0.9895471582751907, 0.9895471582751907, 0.9895471582751907, 0.9895471582751907, 0.9895471582751907, 0.9895471582751907, 0.9895471582751907, 0.9895471582751907, 0.9895471582751907, 0.9895471582751907]}], \"norm_macro_recall\": [{\"categories\": [\"0\", \"1\", \"2\", \"3\", \"4\", \"5\", \"6\", \"7\", \"8\", \"9\", \"10\", \"11\", \"12\", \"13\", \"14\", \"15\", \"16\", \"17\", \"18\", \"19\", \"20\", \"21\", \"22\", \"23\", \"24\", \"25\", \"26\", \"27\", \"28\", \"29\", \"30\", \"31\", \"32\", \"33\", \"34\", \"38\", \"39\"], \"mode\": \"markers\", \"name\": \"norm_macro_recall\", \"stepped\": false, \"type\": \"scatter\", \"data\": [0.9877483057313284, 0.9831557889182815, 0.9310229178050892, 0.9513220526959726, 0.963413043278555, 0.9483152786043139, 0.9456725654720651, 0.97838441308829, 0.9469925617311562, 0.9459413478745828, 0.9260897496899165, 0.9757795248168516, 0.9767408473802389, 0.0, 0.985317098538875, 0.9665135932373131, 0.9784578751364768, 0.9777782667690539, 0.9598041244388673, 0.0, 0.9785714370325626, 0.9632227581226959, 0.985808940188997, 0.9571028570702408, 0.9391740024691136, 0.9838689452280698, 0.9860018267553103, 0.9777639256105259, 0.9825481997154647, 0.9839802436547643, 0.8275825276471793, 0.9757013864929798, 0.9628671525233882, 0.9501857507768392, 0.9411114415936218, 0.9870705661171092, 0.9849926311267909]}, {\"categories\": [\"0\", \"1\", \"2\", \"3\", \"4\", \"5\", \"6\", \"7\", \"8\", \"9\", \"10\", \"11\", \"12\", \"13\", \"14\", \"15\", \"16\", \"17\", \"18\", \"19\", \"20\", \"21\", \"22\", \"23\", \"24\", \"25\", \"26\", \"27\", \"28\", \"29\", \"30\", \"31\", \"32\", \"33\", \"34\", \"38\", \"39\"], \"mode\": \"lines\", \"name\": \"norm_macro_recall_max\", \"stepped\": true, \"type\": \"scatter\", \"data\": [0.9877483057313284, 0.9877483057313284, 0.9877483057313284, 0.9877483057313284, 0.9877483057313284, 0.9877483057313284, 0.9877483057313284, 0.9877483057313284, 0.9877483057313284, 0.9877483057313284, 0.9877483057313284, 0.9877483057313284, 0.9877483057313284, 0.9877483057313284, 0.9877483057313284, 0.9877483057313284, 0.9877483057313284, 0.9877483057313284, 0.9877483057313284, 0.9877483057313284, 0.9877483057313284, 0.9877483057313284, 0.9877483057313284, 0.9877483057313284, 0.9877483057313284, 0.9877483057313284, 0.9877483057313284, 0.9877483057313284, 0.9877483057313284, 0.9877483057313284, 0.9877483057313284, 0.9877483057313284, 0.9877483057313284, 0.9877483057313284, 0.9877483057313284, 0.9877483057313284, 0.9877483057313284]}], \"recall_score_macro\": [{\"categories\": [\"0\", \"1\", \"2\", \"3\", \"4\", \"5\", \"6\", \"7\", \"8\", \"9\", \"10\", \"11\", \"12\", \"13\", \"14\", \"15\", \"16\", \"17\", \"18\", \"19\", \"20\", \"21\", \"22\", \"23\", \"24\", \"25\", \"26\", \"27\", \"28\", \"29\", \"30\", \"31\", \"32\", \"33\", \"34\", \"38\", \"39\"], \"mode\": \"markers\", \"name\": \"recall_score_macro\", \"stepped\": false, \"type\": \"scatter\", \"data\": [0.9938741528656642, 0.9915778944591408, 0.9655114589025446, 0.9756610263479862, 0.9817065216392775, 0.9741576393021569, 0.9728362827360325, 0.9891922065441451, 0.9734962808655782, 0.9729706739372914, 0.9630448748449583, 0.9878897624084259, 0.9883704236901195, 0.5, 0.9926585492694375, 0.9832567966186566, 0.9892289375682385, 0.9888891333845269, 0.9799020622194337, 0.5, 0.9892857185162813, 0.981611379061348, 0.9929044700944986, 0.9785514285351203, 0.9695870012345568, 0.991934472614035, 0.9930009133776552, 0.9888819628052631, 0.9912740998577324, 0.9919901218273822, 0.9137912638235898, 0.9878506932464899, 0.981433576261694, 0.9750928753884196, 0.9705557207968109, 0.9935352830585545, 0.9924963155633953]}, {\"categories\": [\"0\", \"1\", \"2\", \"3\", \"4\", \"5\", \"6\", \"7\", \"8\", \"9\", \"10\", \"11\", \"12\", \"13\", \"14\", \"15\", \"16\", \"17\", \"18\", \"19\", \"20\", \"21\", \"22\", \"23\", \"24\", \"25\", \"26\", \"27\", \"28\", \"29\", \"30\", \"31\", \"32\", \"33\", \"34\", \"38\", \"39\"], \"mode\": \"lines\", \"name\": \"recall_score_macro_max\", \"stepped\": true, \"type\": \"scatter\", \"data\": [0.9938741528656642, 0.9938741528656642, 0.9938741528656642, 0.9938741528656642, 0.9938741528656642, 0.9938741528656642, 0.9938741528656642, 0.9938741528656642, 0.9938741528656642, 0.9938741528656642, 0.9938741528656642, 0.9938741528656642, 0.9938741528656642, 0.9938741528656642, 0.9938741528656642, 0.9938741528656642, 0.9938741528656642, 0.9938741528656642, 0.9938741528656642, 0.9938741528656642, 0.9938741528656642, 0.9938741528656642, 0.9938741528656642, 0.9938741528656642, 0.9938741528656642, 0.9938741528656642, 0.9938741528656642, 0.9938741528656642, 0.9938741528656642, 0.9938741528656642, 0.9938741528656642, 0.9938741528656642, 0.9938741528656642, 0.9938741528656642, 0.9938741528656642, 0.9938741528656642, 0.9938741528656642]}], \"precision_score_micro\": [{\"categories\": [\"0\", \"1\", \"2\", \"3\", \"4\", \"5\", \"6\", \"7\", \"8\", \"9\", \"10\", \"11\", \"12\", \"13\", \"14\", \"15\", \"16\", \"17\", \"18\", \"19\", \"20\", \"21\", \"22\", \"23\", \"24\", \"25\", \"26\", \"27\", \"28\", \"29\", \"30\", \"31\", \"32\", \"33\", \"34\", \"38\", \"39\"], \"mode\": \"markers\", \"name\": \"precision_score_micro\", \"stepped\": false, \"type\": \"scatter\", \"data\": [0.9961523069453952, 0.9949208034875894, 0.9813764690076962, 0.9855327309806463, 0.9896877845519354, 0.9826076170532486, 0.9661374578214509, 0.9941511937942177, 0.9826069062287419, 0.974451332333914, 0.9726032596990226, 0.9875327778950638, 0.9930740814192606, 0.7538860420367396, 0.9959982001923491, 0.9913808263619219, 0.9892253221278958, 0.9890723526940605, 0.9883024586708862, 0.7538860420367396, 0.992457725489527, 0.9896875002221327, 0.9959982712747998, 0.9798366809613475, 0.9804524682314758, 0.9946128743112999, 0.9958443777691057, 0.9921499384781388, 0.9950746969932834, 0.9952287326638789, 0.9575189950078795, 0.993535690853892, 0.9904571099155044, 0.9759897698137001, 0.9827617948887454, 0.9959983423572506, 0.9956904842634117]}, {\"categories\": [\"0\", \"1\", \"2\", \"3\", \"4\", \"5\", \"6\", \"7\", \"8\", \"9\", \"10\", \"11\", \"12\", \"13\", \"14\", \"15\", \"16\", \"17\", \"18\", \"19\", \"20\", \"21\", \"22\", \"23\", \"24\", \"25\", \"26\", \"27\", \"28\", \"29\", \"30\", \"31\", \"32\", \"33\", \"34\", \"38\", \"39\"], \"mode\": \"lines\", \"name\": \"precision_score_micro_max\", \"stepped\": true, \"type\": \"scatter\", \"data\": [0.9961523069453952, 0.9961523069453952, 0.9961523069453952, 0.9961523069453952, 0.9961523069453952, 0.9961523069453952, 0.9961523069453952, 0.9961523069453952, 0.9961523069453952, 0.9961523069453952, 0.9961523069453952, 0.9961523069453952, 0.9961523069453952, 0.9961523069453952, 0.9961523069453952, 0.9961523069453952, 0.9961523069453952, 0.9961523069453952, 0.9961523069453952, 0.9961523069453952, 0.9961523069453952, 0.9961523069453952, 0.9961523069453952, 0.9961523069453952, 0.9961523069453952, 0.9961523069453952, 0.9961523069453952, 0.9961523069453952, 0.9961523069453952, 0.9961523069453952, 0.9961523069453952, 0.9961523069453952, 0.9961523069453952, 0.9961523069453952, 0.9961523069453952, 0.9961523069453952, 0.9961523069453952]}], \"AUC_weighted\": [{\"categories\": [\"0\", \"1\", \"2\", \"3\", \"4\", \"5\", \"6\", \"7\", \"8\", \"9\", \"10\", \"11\", \"12\", \"13\", \"14\", \"15\", \"16\", \"17\", \"18\", \"19\", \"20\", \"21\", \"22\", \"23\", \"24\", \"25\", \"26\", \"27\", \"28\", \"29\", \"30\", \"31\", \"32\", \"33\", \"34\", \"38\", \"39\"], \"mode\": \"markers\", \"name\": \"AUC_weighted\", \"stepped\": false, \"type\": \"scatter\", \"data\": [0.9994917752695694, 0.9993740962413143, 0.9964364192854926, 0.9973711238662588, 0.9977935102984246, 0.997585430261784, 0.996641245799597, 0.998114367476147, 0.9977998611941543, 0.9956861205382536, 0.9954339193110117, 0.9979572098655213, 0.9982137200892086, 0.9697283786977063, 0.9984875199935405, 0.9983518072372369, 0.9969534662089942, 0.9984406016735908, 0.994909333062035, 0.9901939142218271, 0.9968589218967089, 0.9953124898065693, 0.9991726808754846, 0.9973049068832739, 0.9973530399881975, 0.9992244598848906, 0.9994245785122207, 0.9969123377349008, 0.9992986063209979, 0.9994889414681772, 0.997263742127933, 0.9987953063715204, 0.9980642963725413, 0.9966872176177443, 0.996199878024668, 0.999508327667115, 0.9994757212590869]}, {\"categories\": [\"0\", \"1\", \"2\", \"3\", \"4\", \"5\", \"6\", \"7\", \"8\", \"9\", \"10\", \"11\", \"12\", \"13\", \"14\", \"15\", \"16\", \"17\", \"18\", \"19\", \"20\", \"21\", \"22\", \"23\", \"24\", \"25\", \"26\", \"27\", \"28\", \"29\", \"30\", \"31\", \"32\", \"33\", \"34\", \"38\", \"39\"], \"mode\": \"lines\", \"name\": \"AUC_weighted_max\", \"stepped\": true, \"type\": \"scatter\", \"data\": [0.9994917752695694, 0.9994917752695694, 0.9994917752695694, 0.9994917752695694, 0.9994917752695694, 0.9994917752695694, 0.9994917752695694, 0.9994917752695694, 0.9994917752695694, 0.9994917752695694, 0.9994917752695694, 0.9994917752695694, 0.9994917752695694, 0.9994917752695694, 0.9994917752695694, 0.9994917752695694, 0.9994917752695694, 0.9994917752695694, 0.9994917752695694, 0.9994917752695694, 0.9994917752695694, 0.9994917752695694, 0.9994917752695694, 0.9994917752695694, 0.9994917752695694, 0.9994917752695694, 0.9994917752695694, 0.9994917752695694, 0.9994917752695694, 0.9994917752695694, 0.9994917752695694, 0.9994917752695694, 0.9994917752695694, 0.9994917752695694, 0.9994917752695694, 0.999508327667115, 0.999508327667115]}], \"log_loss\": [{\"categories\": [\"0\", \"1\", \"2\", \"3\", \"4\", \"5\", \"6\", \"7\", \"8\", \"9\", \"10\", \"11\", \"12\", \"13\", \"14\", \"15\", \"16\", \"17\", \"18\", \"19\", \"20\", \"21\", \"22\", \"23\", \"24\", \"25\", \"26\", \"27\", \"28\", \"29\", \"30\", \"31\", \"32\", \"33\", \"34\", \"38\", \"39\"], \"mode\": \"markers\", \"name\": \"log_loss\", \"stepped\": false, \"type\": \"scatter\", \"data\": [0.01773906111428546, 0.018847206363258606, 0.14542414667322448, 0.09054940442501942, 0.09782000783917012, 0.23848504983981192, 0.11967741844336884, 0.22882318004950605, 0.23718191750739348, 0.17997395894726656, 0.1216242186354915, 0.22093149515166047, 0.06665445320655358, 0.4894950567633676, 0.04169191577759574, 0.138410028519663, 0.04341367478803341, 0.09679425454567754, 0.2250096021187651, 0.4801700337055958, 0.03761912796063985, 0.22335106525948878, 0.018387468148359693, 0.1568716059819598, 0.24135892141562035, 0.0216877667363156, 0.016826577962439842, 0.03782390165163419, 0.017901001057432347, 0.01607319602528769, 0.23788686364876077, 0.08069864433081929, 0.10176043845101113, 0.15834403688965767, 0.16250179860592692, 0.014709536041593481, 0.022313870034020494]}, {\"categories\": [\"0\", \"1\", \"2\", \"3\", \"4\", \"5\", \"6\", \"7\", \"8\", \"9\", \"10\", \"11\", \"12\", \"13\", \"14\", \"15\", \"16\", \"17\", \"18\", \"19\", \"20\", \"21\", \"22\", \"23\", \"24\", \"25\", \"26\", \"27\", \"28\", \"29\", \"30\", \"31\", \"32\", \"33\", \"34\", \"38\", \"39\"], \"mode\": \"lines\", \"name\": \"log_loss_min\", \"stepped\": true, \"type\": \"scatter\", \"data\": [0.01773906111428546, 0.01773906111428546, 0.01773906111428546, 0.01773906111428546, 0.01773906111428546, 0.01773906111428546, 0.01773906111428546, 0.01773906111428546, 0.01773906111428546, 0.01773906111428546, 0.01773906111428546, 0.01773906111428546, 0.01773906111428546, 0.01773906111428546, 0.01773906111428546, 0.01773906111428546, 0.01773906111428546, 0.01773906111428546, 0.01773906111428546, 0.01773906111428546, 0.01773906111428546, 0.01773906111428546, 0.01773906111428546, 0.01773906111428546, 0.01773906111428546, 0.01773906111428546, 0.016826577962439842, 0.016826577962439842, 0.016826577962439842, 0.01607319602528769, 0.01607319602528769, 0.01607319602528769, 0.01607319602528769, 0.01607319602528769, 0.01607319602528769, 0.014709536041593481, 0.014709536041593481]}], \"AUC_macro\": [{\"categories\": [\"0\", \"1\", \"2\", \"3\", \"4\", \"5\", \"6\", \"7\", \"8\", \"9\", \"10\", \"11\", \"12\", \"13\", \"14\", \"15\", \"16\", \"17\", \"18\", \"19\", \"20\", \"21\", \"22\", \"23\", \"24\", \"25\", \"26\", \"27\", \"28\", \"29\", \"30\", \"31\", \"32\", \"33\", \"34\", \"38\", \"39\"], \"mode\": \"markers\", \"name\": \"AUC_macro\", \"stepped\": false, \"type\": \"scatter\", \"data\": [0.9994917752695694, 0.9993740962413143, 0.9964364192854926, 0.9973711238662588, 0.9977935102984246, 0.997585430261784, 0.996641245799597, 0.9981143674761471, 0.9977998611941543, 0.9956861205382537, 0.9954339193110116, 0.9979572098655214, 0.9982137200892088, 0.9697283786977063, 0.9984875199935406, 0.9983518072372369, 0.9969534662089942, 0.9984406016735908, 0.994909333062035, 0.9901939142218271, 0.9968589218967091, 0.9953124898065694, 0.9991726808754846, 0.9973049068832739, 0.9973530399881976, 0.9992244598848906, 0.9994245785122207, 0.9969123377349008, 0.999298606320998, 0.9994889414681772, 0.997263742127933, 0.9987953063715204, 0.9980642963725415, 0.996687217617744, 0.996199878024668, 0.999508327667115, 0.9994757212590869]}, {\"categories\": [\"0\", \"1\", \"2\", \"3\", \"4\", \"5\", \"6\", \"7\", \"8\", \"9\", \"10\", \"11\", \"12\", \"13\", \"14\", \"15\", \"16\", \"17\", \"18\", \"19\", \"20\", \"21\", \"22\", \"23\", \"24\", \"25\", \"26\", \"27\", \"28\", \"29\", \"30\", \"31\", \"32\", \"33\", \"34\", \"38\", \"39\"], \"mode\": \"lines\", \"name\": \"AUC_macro_max\", \"stepped\": true, \"type\": \"scatter\", \"data\": [0.9994917752695694, 0.9994917752695694, 0.9994917752695694, 0.9994917752695694, 0.9994917752695694, 0.9994917752695694, 0.9994917752695694, 0.9994917752695694, 0.9994917752695694, 0.9994917752695694, 0.9994917752695694, 0.9994917752695694, 0.9994917752695694, 0.9994917752695694, 0.9994917752695694, 0.9994917752695694, 0.9994917752695694, 0.9994917752695694, 0.9994917752695694, 0.9994917752695694, 0.9994917752695694, 0.9994917752695694, 0.9994917752695694, 0.9994917752695694, 0.9994917752695694, 0.9994917752695694, 0.9994917752695694, 0.9994917752695694, 0.9994917752695694, 0.9994917752695694, 0.9994917752695694, 0.9994917752695694, 0.9994917752695694, 0.9994917752695694, 0.9994917752695694, 0.999508327667115, 0.999508327667115]}], \"precision_score_weighted\": [{\"categories\": [\"0\", \"1\", \"2\", \"3\", \"4\", \"5\", \"6\", \"7\", \"8\", \"9\", \"10\", \"11\", \"12\", \"13\", \"14\", \"15\", \"16\", \"17\", \"18\", \"19\", \"20\", \"21\", \"22\", \"23\", \"24\", \"25\", \"26\", \"27\", \"28\", \"29\", \"30\", \"31\", \"32\", \"33\", \"34\", \"38\", \"39\"], \"mode\": \"markers\", \"name\": \"precision_score_weighted\", \"stepped\": false, \"type\": \"scatter\", \"data\": [0.996154892411872, 0.9949201018555422, 0.9815237494451768, 0.98552224242031, 0.9897123678232952, 0.9825577246328581, 0.9690928244185342, 0.9941669351115522, 0.9825596129863351, 0.9751547086064868, 0.9726395834764535, 0.9877742520206936, 0.9930713620820376, 0.5684323033063011, 0.996003379907047, 0.9914388852881979, 0.9894085968536057, 0.9892318386797406, 0.9883290675431088, 0.5684323033063011, 0.9924553060144724, 0.9897188481531664, 0.9960020624418583, 0.9802400593793656, 0.9803923616520921, 0.9946093408752761, 0.9958436924925712, 0.9921471532427081, 0.995080852189393, 0.9952288067290702, 0.959799487275971, 0.9935563061163192, 0.9905331094459152, 0.9770289371335202, 0.9827710622128493, 0.9959993550643896, 0.99569328525059]}, {\"categories\": [\"0\", \"1\", \"2\", \"3\", \"4\", \"5\", \"6\", \"7\", \"8\", \"9\", \"10\", \"11\", \"12\", \"13\", \"14\", \"15\", \"16\", \"17\", \"18\", \"19\", \"20\", \"21\", \"22\", \"23\", \"24\", \"25\", \"26\", \"27\", \"28\", \"29\", \"30\", \"31\", \"32\", \"33\", \"34\", \"38\", \"39\"], \"mode\": \"lines\", \"name\": \"precision_score_weighted_max\", \"stepped\": true, \"type\": \"scatter\", \"data\": [0.996154892411872, 0.996154892411872, 0.996154892411872, 0.996154892411872, 0.996154892411872, 0.996154892411872, 0.996154892411872, 0.996154892411872, 0.996154892411872, 0.996154892411872, 0.996154892411872, 0.996154892411872, 0.996154892411872, 0.996154892411872, 0.996154892411872, 0.996154892411872, 0.996154892411872, 0.996154892411872, 0.996154892411872, 0.996154892411872, 0.996154892411872, 0.996154892411872, 0.996154892411872, 0.996154892411872, 0.996154892411872, 0.996154892411872, 0.996154892411872, 0.996154892411872, 0.996154892411872, 0.996154892411872, 0.996154892411872, 0.996154892411872, 0.996154892411872, 0.996154892411872, 0.996154892411872, 0.996154892411872, 0.996154892411872]}], \"average_precision_score_micro\": [{\"categories\": [\"0\", \"1\", \"2\", \"3\", \"4\", \"5\", \"6\", \"7\", \"8\", \"9\", \"10\", \"11\", \"12\", \"13\", \"14\", \"15\", \"16\", \"17\", \"18\", \"19\", \"20\", \"21\", \"22\", \"23\", \"24\", \"25\", \"26\", \"27\", \"28\", \"29\", \"30\", \"31\", \"32\", \"33\", \"34\", \"38\", \"39\"], \"mode\": \"markers\", \"name\": \"average_precision_score_micro\", \"stepped\": false, \"type\": \"scatter\", \"data\": [0.9996467482344723, 0.9996050060201286, 0.9971425260528531, 0.9980325291180606, 0.9981809307675226, 0.99822851003553, 0.9957240259860841, 0.9988807534434695, 0.9984182205922166, 0.9966410325248134, 0.9963280695388593, 0.9987071576545045, 0.9988435051924044, 0.9340862386003278, 0.998909694154719, 0.9979963263518189, 0.997365795874901, 0.9990348630124996, 0.9964914928991524, 0.9419742902757604, 0.997358598830299, 0.9965529048697045, 0.9994840954943401, 0.9980228612965111, 0.99805852085029, 0.9995163098700474, 0.9996458135658634, 0.9973699968893622, 0.9995652114237581, 0.9996920429699628, 0.9922612247666045, 0.999170684003583, 0.9983604502166868, 0.9969486705955952, 0.9969736281712677, 0.9996945603687521, 0.9995182017467634]}, {\"categories\": [\"0\", \"1\", \"2\", \"3\", \"4\", \"5\", \"6\", \"7\", \"8\", \"9\", \"10\", \"11\", \"12\", \"13\", \"14\", \"15\", \"16\", \"17\", \"18\", \"19\", \"20\", \"21\", \"22\", \"23\", \"24\", \"25\", \"26\", \"27\", \"28\", \"29\", \"30\", \"31\", \"32\", \"33\", \"34\", \"38\", \"39\"], \"mode\": \"lines\", \"name\": \"average_precision_score_micro_max\", \"stepped\": true, \"type\": \"scatter\", \"data\": [0.9996467482344723, 0.9996467482344723, 0.9996467482344723, 0.9996467482344723, 0.9996467482344723, 0.9996467482344723, 0.9996467482344723, 0.9996467482344723, 0.9996467482344723, 0.9996467482344723, 0.9996467482344723, 0.9996467482344723, 0.9996467482344723, 0.9996467482344723, 0.9996467482344723, 0.9996467482344723, 0.9996467482344723, 0.9996467482344723, 0.9996467482344723, 0.9996467482344723, 0.9996467482344723, 0.9996467482344723, 0.9996467482344723, 0.9996467482344723, 0.9996467482344723, 0.9996467482344723, 0.9996467482344723, 0.9996467482344723, 0.9996467482344723, 0.9996920429699628, 0.9996920429699628, 0.9996920429699628, 0.9996920429699628, 0.9996920429699628, 0.9996920429699628, 0.9996945603687521, 0.9996945603687521]}], \"average_precision_score_macro\": [{\"categories\": [\"0\", \"1\", \"2\", \"3\", \"4\", \"5\", \"6\", \"7\", \"8\", \"9\", \"10\", \"11\", \"12\", \"13\", \"14\", \"15\", \"16\", \"17\", \"18\", \"19\", \"20\", \"21\", \"22\", \"23\", \"24\", \"25\", \"26\", \"27\", \"28\", \"29\", \"30\", \"31\", \"32\", \"33\", \"34\", \"38\", \"39\"], \"mode\": \"markers\", \"name\": \"average_precision_score_macro\", \"stepped\": false, \"type\": \"scatter\", \"data\": [0.9994282298656306, 0.9991902107778702, 0.9960872072314416, 0.9968435850636275, 0.9975791183687587, 0.9967119978733746, 0.9946076738417934, 0.9981346789851117, 0.9966936491435453, 0.9948886118331505, 0.99208549920592, 0.9977697082702198, 0.9979568355986924, 0.957404801301284, 0.9984580106255296, 0.9981512785688681, 0.9963211961006767, 0.9981283405114114, 0.9941621782762152, 0.986557801415402, 0.9962160506746475, 0.9946531139389886, 0.9990984660566893, 0.9965208400790155, 0.9959524214853689, 0.9989787918564864, 0.9992936296081112, 0.9962318263254559, 0.9992244848747106, 0.999366653987737, 0.9969123765533024, 0.9985767555868877, 0.9980304867149465, 0.9958494215237437, 0.9954839244986657, 0.999392197903988, 0.9993612037409765]}, {\"categories\": [\"0\", \"1\", \"2\", \"3\", \"4\", \"5\", \"6\", \"7\", \"8\", \"9\", \"10\", \"11\", \"12\", \"13\", \"14\", \"15\", \"16\", \"17\", \"18\", \"19\", \"20\", \"21\", \"22\", \"23\", \"24\", \"25\", \"26\", \"27\", \"28\", \"29\", \"30\", \"31\", \"32\", \"33\", \"34\", \"38\", \"39\"], \"mode\": \"lines\", \"name\": \"average_precision_score_macro_max\", \"stepped\": true, \"type\": \"scatter\", \"data\": [0.9994282298656306, 0.9994282298656306, 0.9994282298656306, 0.9994282298656306, 0.9994282298656306, 0.9994282298656306, 0.9994282298656306, 0.9994282298656306, 0.9994282298656306, 0.9994282298656306, 0.9994282298656306, 0.9994282298656306, 0.9994282298656306, 0.9994282298656306, 0.9994282298656306, 0.9994282298656306, 0.9994282298656306, 0.9994282298656306, 0.9994282298656306, 0.9994282298656306, 0.9994282298656306, 0.9994282298656306, 0.9994282298656306, 0.9994282298656306, 0.9994282298656306, 0.9994282298656306, 0.9994282298656306, 0.9994282298656306, 0.9994282298656306, 0.9994282298656306, 0.9994282298656306, 0.9994282298656306, 0.9994282298656306, 0.9994282298656306, 0.9994282298656306, 0.9994282298656306, 0.9994282298656306]}], \"balanced_accuracy\": [{\"categories\": [\"0\", \"1\", \"2\", \"3\", \"4\", \"5\", \"6\", \"7\", \"8\", \"9\", \"10\", \"11\", \"12\", \"13\", \"14\", \"15\", \"16\", \"17\", \"18\", \"19\", \"20\", \"21\", \"22\", \"23\", \"24\", \"25\", \"26\", \"27\", \"28\", \"29\", \"30\", \"31\", \"32\", \"33\", \"34\", \"38\", \"39\"], \"mode\": \"markers\", \"name\": \"balanced_accuracy\", \"stepped\": false, \"type\": \"scatter\", \"data\": [0.9938741528656642, 0.9915778944591408, 0.9655114589025446, 0.9756610263479862, 0.9817065216392775, 0.9741576393021569, 0.9728362827360325, 0.9891922065441451, 0.9734962808655782, 0.9729706739372914, 0.9630448748449583, 0.9878897624084259, 0.9883704236901195, 0.5, 0.9926585492694375, 0.9832567966186566, 0.9892289375682385, 0.9888891333845269, 0.9799020622194337, 0.5, 0.9892857185162813, 0.981611379061348, 0.9929044700944986, 0.9785514285351203, 0.9695870012345568, 0.991934472614035, 0.9930009133776552, 0.9888819628052631, 0.9912740998577324, 0.9919901218273822, 0.9137912638235898, 0.9878506932464899, 0.981433576261694, 0.9750928753884196, 0.9705557207968109, 0.9935352830585545, 0.9924963155633953]}, {\"categories\": [\"0\", \"1\", \"2\", \"3\", \"4\", \"5\", \"6\", \"7\", \"8\", \"9\", \"10\", \"11\", \"12\", \"13\", \"14\", \"15\", \"16\", \"17\", \"18\", \"19\", \"20\", \"21\", \"22\", \"23\", \"24\", \"25\", \"26\", \"27\", \"28\", \"29\", \"30\", \"31\", \"32\", \"33\", \"34\", \"38\", \"39\"], \"mode\": \"lines\", \"name\": \"balanced_accuracy_max\", \"stepped\": true, \"type\": \"scatter\", \"data\": [0.9938741528656642, 0.9938741528656642, 0.9938741528656642, 0.9938741528656642, 0.9938741528656642, 0.9938741528656642, 0.9938741528656642, 0.9938741528656642, 0.9938741528656642, 0.9938741528656642, 0.9938741528656642, 0.9938741528656642, 0.9938741528656642, 0.9938741528656642, 0.9938741528656642, 0.9938741528656642, 0.9938741528656642, 0.9938741528656642, 0.9938741528656642, 0.9938741528656642, 0.9938741528656642, 0.9938741528656642, 0.9938741528656642, 0.9938741528656642, 0.9938741528656642, 0.9938741528656642, 0.9938741528656642, 0.9938741528656642, 0.9938741528656642, 0.9938741528656642, 0.9938741528656642, 0.9938741528656642, 0.9938741528656642, 0.9938741528656642, 0.9938741528656642, 0.9938741528656642, 0.9938741528656642]}], \"AUC_micro\": [{\"categories\": [\"0\", \"1\", \"2\", \"3\", \"4\", \"5\", \"6\", \"7\", \"8\", \"9\", \"10\", \"11\", \"12\", \"13\", \"14\", \"15\", \"16\", \"17\", \"18\", \"19\", \"20\", \"21\", \"22\", \"23\", \"24\", \"25\", \"26\", \"27\", \"28\", \"29\", \"30\", \"31\", \"32\", \"33\", \"34\", \"38\", \"39\"], \"mode\": \"markers\", \"name\": \"AUC_micro\", \"stepped\": false, \"type\": \"scatter\", \"data\": [0.9996646996459009, 0.9996025676689008, 0.9972582206982029, 0.9981842409482818, 0.9982135353735031, 0.9983664271597893, 0.9956091404754392, 0.9988964703899436, 0.998399071290478, 0.9966324664561427, 0.9963332232739744, 0.9986824996679036, 0.9989905000415424, 0.9279644335556766, 0.9991796648895098, 0.9979877054681476, 0.9979871309656536, 0.9990147494504337, 0.9973314891841175, 0.9357032394924655, 0.9981402635722749, 0.997393739987494, 0.9995291957843416, 0.997989708677196, 0.9980348791749849, 0.9995062142560788, 0.9996440855360597, 0.9981550341493071, 0.9995900901125108, 0.9996905491732812, 0.9921061300029228, 0.9991649102818251, 0.9984265442748873, 0.9969010439174615, 0.9970084910518641, 0.9996911984674691, 0.9995194013076363]}, {\"categories\": [\"0\", \"1\", \"2\", \"3\", \"4\", \"5\", \"6\", \"7\", \"8\", \"9\", \"10\", \"11\", \"12\", \"13\", \"14\", \"15\", \"16\", \"17\", \"18\", \"19\", \"20\", \"21\", \"22\", \"23\", \"24\", \"25\", \"26\", \"27\", \"28\", \"29\", \"30\", \"31\", \"32\", \"33\", \"34\", \"38\", \"39\"], \"mode\": \"lines\", \"name\": \"AUC_micro_max\", \"stepped\": true, \"type\": \"scatter\", \"data\": [0.9996646996459009, 0.9996646996459009, 0.9996646996459009, 0.9996646996459009, 0.9996646996459009, 0.9996646996459009, 0.9996646996459009, 0.9996646996459009, 0.9996646996459009, 0.9996646996459009, 0.9996646996459009, 0.9996646996459009, 0.9996646996459009, 0.9996646996459009, 0.9996646996459009, 0.9996646996459009, 0.9996646996459009, 0.9996646996459009, 0.9996646996459009, 0.9996646996459009, 0.9996646996459009, 0.9996646996459009, 0.9996646996459009, 0.9996646996459009, 0.9996646996459009, 0.9996646996459009, 0.9996646996459009, 0.9996646996459009, 0.9996646996459009, 0.9996905491732812, 0.9996905491732812, 0.9996905491732812, 0.9996905491732812, 0.9996905491732812, 0.9996905491732812, 0.9996911984674691, 0.9996911984674691]}]}, \"metricName\": null, \"primaryMetricName\": \"AUC_weighted\", \"showLegend\": false}, \"run_metrics\": [{\"name\": \"experiment_status\", \"run_id\": \"AutoML_e8722b76-f503-450c-bcb8-96dc40196e5a\", \"categories\": [0, 1, 2, 3, 4, 5, 6, 7, 8, 9, 10, 11, 12, 13], \"series\": [{\"data\": [\"DatasetEvaluation\", \"FeaturesGeneration\", \"DatasetFeaturization\", \"DatasetFeaturizationCompleted\", \"DatasetCrossValidationSplit\", \"ModelSelection\", \"BestRunExplainModel\", \"ModelExplanationDataSetSetup\", \"PickSurrogateModel\", \"EngineeredFeatureExplanations\", \"EngineeredFeatureExplanations\", \"RawFeaturesExplanations\", \"RawFeaturesExplanations\", \"BestRunExplainModel\"]}]}, {\"name\": \"experiment_status_description\", \"run_id\": \"AutoML_e8722b76-f503-450c-bcb8-96dc40196e5a\", \"categories\": [0, 1, 2, 3, 4, 5, 6, 7, 8, 9, 10, 11, 12, 13], \"series\": [{\"data\": [\"Gathering dataset statistics.\", \"Generating features for the dataset.\", \"Beginning to fit featurizers and featurize the dataset.\", \"Completed fit featurizers and featurizing the dataset.\", \"Generating individually featurized CV splits.\", \"Beginning model selection.\", \"Best run model explanations started\", \"Model explanations data setup completed\", \"Choosing LightGBM as the surrogate model for explanations\", \"Computation of engineered features started\", \"Computation of engineered features completed\", \"Computation of raw features started\", \"Computation of raw features completed\", \"Best run model explanations completed\"]}]}, {\"name\": \"precision_score_micro\", \"run_id\": \"AutoML_e8722b76-f503-450c-bcb8-96dc40196e5a\", \"categories\": [0], \"series\": [{\"data\": [0.9959983423572506]}]}, {\"name\": \"log_loss\", \"run_id\": \"AutoML_e8722b76-f503-450c-bcb8-96dc40196e5a\", \"categories\": [0], \"series\": [{\"data\": [0.014709536041593481]}]}, {\"name\": \"average_precision_score_weighted\", \"run_id\": \"AutoML_e8722b76-f503-450c-bcb8-96dc40196e5a\", \"categories\": [0], \"series\": [{\"data\": [0.9996102357650726]}]}, {\"name\": \"AUC_micro\", \"run_id\": \"AutoML_e8722b76-f503-450c-bcb8-96dc40196e5a\", \"categories\": [0], \"series\": [{\"data\": [0.9996911984674691]}]}, {\"name\": \"recall_score_weighted\", \"run_id\": \"AutoML_e8722b76-f503-450c-bcb8-96dc40196e5a\", \"categories\": [0], \"series\": [{\"data\": [0.9959983423572506]}]}, {\"name\": \"matthews_correlation\", \"run_id\": \"AutoML_e8722b76-f503-450c-bcb8-96dc40196e5a\", \"categories\": [0], \"series\": [{\"data\": [0.9891052333245578]}]}, {\"name\": \"balanced_accuracy\", \"run_id\": \"AutoML_e8722b76-f503-450c-bcb8-96dc40196e5a\", \"categories\": [0], \"series\": [{\"data\": [0.9935352830585545]}]}, {\"name\": \"average_precision_score_micro\", \"run_id\": \"AutoML_e8722b76-f503-450c-bcb8-96dc40196e5a\", \"categories\": [0], \"series\": [{\"data\": [0.9996945603687521]}]}, {\"name\": \"f1_score_macro\", \"run_id\": \"AutoML_e8722b76-f503-450c-bcb8-96dc40196e5a\", \"categories\": [0], \"series\": [{\"data\": [0.9945473809913352]}]}, {\"name\": \"precision_score_weighted\", \"run_id\": \"AutoML_e8722b76-f503-450c-bcb8-96dc40196e5a\", \"categories\": [0], \"series\": [{\"data\": [0.9959993550643896]}]}, {\"name\": \"accuracy\", \"run_id\": \"AutoML_e8722b76-f503-450c-bcb8-96dc40196e5a\", \"categories\": [0], \"series\": [{\"data\": [0.9959983423572506]}]}, {\"name\": \"AUC_weighted\", \"run_id\": \"AutoML_e8722b76-f503-450c-bcb8-96dc40196e5a\", \"categories\": [0], \"series\": [{\"data\": [0.999508327667115]}]}, {\"name\": \"recall_score_micro\", \"run_id\": \"AutoML_e8722b76-f503-450c-bcb8-96dc40196e5a\", \"categories\": [0], \"series\": [{\"data\": [0.9959983423572506]}]}, {\"name\": \"recall_score_macro\", \"run_id\": \"AutoML_e8722b76-f503-450c-bcb8-96dc40196e5a\", \"categories\": [0], \"series\": [{\"data\": [0.9935352830585545]}]}, {\"name\": \"norm_macro_recall\", \"run_id\": \"AutoML_e8722b76-f503-450c-bcb8-96dc40196e5a\", \"categories\": [0], \"series\": [{\"data\": [0.9870705661171092]}]}, {\"name\": \"f1_score_micro\", \"run_id\": \"AutoML_e8722b76-f503-450c-bcb8-96dc40196e5a\", \"categories\": [0], \"series\": [{\"data\": [0.9959983423572506]}]}, {\"name\": \"f1_score_weighted\", \"run_id\": \"AutoML_e8722b76-f503-450c-bcb8-96dc40196e5a\", \"categories\": [0], \"series\": [{\"data\": [0.995994895080471]}]}, {\"name\": \"average_precision_score_macro\", \"run_id\": \"AutoML_e8722b76-f503-450c-bcb8-96dc40196e5a\", \"categories\": [0], \"series\": [{\"data\": [0.999392197903988]}]}, {\"name\": \"weighted_accuracy\", \"run_id\": \"AutoML_e8722b76-f503-450c-bcb8-96dc40196e5a\", \"categories\": [0], \"series\": [{\"data\": [0.9974482706622975]}]}, {\"name\": \"precision_score_macro\", \"run_id\": \"AutoML_e8722b76-f503-450c-bcb8-96dc40196e5a\", \"categories\": [0], \"series\": [{\"data\": [0.9955725278263724]}]}, {\"name\": \"AUC_macro\", \"run_id\": \"AutoML_e8722b76-f503-450c-bcb8-96dc40196e5a\", \"categories\": [0], \"series\": [{\"data\": [0.999508327667115]}]}], \"run_logs\": \"\\nRun is completed.\", \"graph\": {}, \"widget_settings\": {\"childWidgetDisplay\": \"popup\", \"send_telemetry\": false, \"log_level\": \"INFO\", \"sdk_version\": \"1.34.0\"}, \"loading\": false}"
     },
     "metadata": {},
     "output_type": "display_data"
    }
   ],
   "source": [
    "RunDetails(automl_run).show()"
   ]
  },
  {
   "cell_type": "markdown",
   "metadata": {},
   "source": [
    "## Best Model\n",
    "\n",
    "TODO: In the cell below, get the best model from the automl experiments and display all the properties of the model.\n",
    "\n"
   ]
  },
  {
   "cell_type": "code",
   "execution_count": 12,
   "metadata": {
    "gather": {
     "logged": 1598431425670
    },
    "jupyter": {
     "outputs_hidden": false,
     "source_hidden": false
    },
    "nteract": {
     "transient": {
      "deleting": false
     }
    }
   },
   "outputs": [
    {
     "name": "stderr",
     "output_type": "stream",
     "text": [
      "WARNING:root:The version of the SDK does not match the version the model was trained on.\n",
      "WARNING:root:The consistency in the result may not be guaranteed.\n",
      "WARNING:root:Package:azureml-automl-core, training version:1.35.1, current version:1.34.0\n",
      "Package:azureml-automl-runtime, training version:1.35.1, current version:1.34.0\n",
      "Package:azureml-core, training version:1.35.0.post1, current version:1.34.0\n",
      "Package:azureml-dataprep, training version:2.23.2, current version:2.22.2\n",
      "Package:azureml-dataprep-rslex, training version:1.21.2, current version:1.20.1\n",
      "Package:azureml-dataset-runtime, training version:1.35.0, current version:1.34.0\n",
      "Package:azureml-defaults, training version:1.35.0, current version:1.34.0\n",
      "Package:azureml-interpret, training version:1.35.0, current version:1.34.0\n",
      "Package:azureml-mlflow, training version:1.35.0, current version:1.34.0\n",
      "Package:azureml-pipeline-core, training version:1.35.0, current version:1.34.0\n",
      "Package:azureml-responsibleai, training version:1.35.0, current version:1.34.0\n",
      "Package:azureml-telemetry, training version:1.35.0, current version:1.34.0\n",
      "Package:azureml-train-automl-client, training version:1.35.0, current version:1.34.0\n",
      "Package:azureml-train-automl-runtime, training version:1.35.1, current version:1.34.0\n",
      "Package:azureml-train-core, training version:1.35.0, current version:1.34.0\n",
      "Package:azureml-train-restclients-hyperdrive, training version:1.35.0, current version:1.34.0\n",
      "WARNING:root:Please ensure the version of your local conda dependencies match the version on which your model was trained in order to properly retrieve your model.\n"
     ]
    },
    {
     "name": "stdout",
     "output_type": "stream",
     "text": [
      "Run(Experiment: classification-automl,\n",
      "Id: AutoML_e8722b76-f503-450c-bcb8-96dc40196e5a_38,\n",
      "Type: azureml.scriptrun,\n",
      "Status: Completed)\n",
      "Pipeline(memory=None,\n",
      "         steps=[('datatransformer',\n",
      "                 DataTransformer(enable_dnn=False, enable_feature_sweeping=True, feature_sweeping_config={}, feature_sweeping_timeout=86400, featurization_config=None, force_text_dnn=False, is_cross_validation=True, is_onnx_compatible=False, observer=None, task='classification', working_dir='/mnt/batch/tasks/shared/LS_root/mount...\n",
      "), random_state=0, reg_alpha=2.5, reg_lambda=1.0416666666666667, subsample=0.8, tree_method='auto'))], verbose=False)), ('25', Pipeline(memory=None, steps=[('maxabsscaler', MaxAbsScaler(copy=True)), ('lightgbmclassifier', LightGBMClassifier(boosting_type='goss', colsample_bytree=0.1, learning_rate=0.1, max_bin=220, max_depth=5, min_child_weight=8, min_data_in_leaf=0.05862482758620691, min_split_gain=0.894736842105263, n_estimators=800, n_jobs=1, num_leaves=119, problem_info=ProblemInfo(\n",
      "    gpu_training_param_dict={'processing_unit_type': 'cpu'}\n",
      "), random_state=None, reg_alpha=0.10526315789473684, reg_lambda=0.5789473684210527, subsample=1))], verbose=False))], flatten_transform=None, weights=[0.4666666666666667, 0.2, 0.06666666666666667, 0.06666666666666667, 0.06666666666666667, 0.13333333333333333]))],\n",
      "         verbose=False)\n"
     ]
    }
   ],
   "source": [
    "best_automl_run, best_automl_model = automl_run.get_output()\n",
    "print(best_automl_run)\n",
    "print(best_automl_model)"
   ]
  },
  {
   "cell_type": "code",
   "execution_count": 13,
   "metadata": {},
   "outputs": [],
   "source": [
    "best_automl_run.get_file_names()\n",
    "\n",
    "# Download the yaml file that includes the environment dependencies\n",
    "best_automl_run.download_file('outputs/conda_env_v_1_0_0.yml', 'env.yml')"
   ]
  },
  {
   "cell_type": "code",
   "execution_count": 14,
   "metadata": {
    "gather": {
     "logged": 1598431426111
    },
    "jupyter": {
     "outputs_hidden": false,
     "source_hidden": false
    },
    "nteract": {
     "transient": {
      "deleting": false
     }
    }
   },
   "outputs": [
    {
     "data": {
      "text/plain": [
       "Model(workspace=Workspace.create(name='quick-starts-ws-162891', subscription_id='d7f39349-a66b-446e-aba6-0053c2cf1c11', resource_group='aml-quickstarts-162891'), name=automl_VotingEnsemble.pkl, id=automl_VotingEnsemble.pkl:1, version=1, tags={}, properties={})"
      ]
     },
     "execution_count": 14,
     "metadata": {},
     "output_type": "execute_result"
    }
   ],
   "source": [
    "#TODO: Save the best model\n",
    "best_automl_run.download_file('outputs/model.pkl', 'Automl_model.pkl')\n"
   ]
  },
  {
   "cell_type": "markdown",
   "metadata": {},
   "source": [
    "## Model Deployment\n",
    "\n",
    "Remember you have to deploy only one of the two models you trained.. Perform the steps in the rest of this notebook only if you wish to deploy this model.\n",
    "\n",
    "TODO: In the cell below, register the model, create an inference config and deploy the model as a web service."
   ]
  },
  {
   "cell_type": "code",
   "execution_count": 15,
   "metadata": {
    "gather": {
     "logged": 1598431435189
    },
    "jupyter": {
     "outputs_hidden": false,
     "source_hidden": false
    },
    "nteract": {
     "transient": {
      "deleting": false
     }
    }
   },
   "outputs": [
    {
     "name": "stdout",
     "output_type": "stream",
     "text": [
      "automl_VotingEnsemble.pkl\n"
     ]
    }
   ],
   "source": [
    "# automl_model = best_automl_run.register_model(model_name = 'automl_VotingEnsemble', model_path='./outputs/')\n",
    "# model = Model.register(ws, model_name=\"bidaf_onnx\", model_path=\"./model.onnx\")\n",
    "automl_model = automl_run.register_model(model_name = 'automl_VotingEnsemble.pkl')\n",
    "print(automl_run.model_id)"
   ]
  },
  {
   "cell_type": "code",
   "execution_count": 16,
   "metadata": {},
   "outputs": [
    {
     "name": "stdout",
     "output_type": "stream",
     "text": [
      "automl_VotingEnsemble.pkl\tautoml_VotingEnsemble.pkl:2\t2\n"
     ]
    }
   ],
   "source": [
    "print(automl_model.name, automl_model.id, automl_model.version, sep='\\t')"
   ]
  },
  {
   "cell_type": "code",
   "execution_count": 36,
   "metadata": {},
   "outputs": [
    {
     "name": "stdout",
     "output_type": "stream",
     "text": [
      "Tips: You can try get_logs(): https://aka.ms/debugimage#dockerlog or local deployment: https://aka.ms/debugimage#debug-locally to debug if deployment takes longer than 10 minutes.\n",
      "Running\n",
      "2021-11-06 17:51:27+00:00 Creating Container Registry if not exists.\n",
      "2021-11-06 17:51:27+00:00 Registering the environment.\n",
      "2021-11-06 17:51:28+00:00 Use the existing image.\n",
      "2021-11-06 17:51:28+00:00 Generating deployment configuration.\n",
      "2021-11-06 17:51:29+00:00 Submitting deployment to compute.\n",
      "2021-11-06 17:51:32+00:00 Checking the status of deployment wine-classification-aciservice.\n",
      "Succeeded\n",
      "ACI service creation operation finished, operation \"Succeeded\"\n"
     ]
    }
   ],
   "source": [
    "environment = best_automl_run.get_environment()\n",
    "# entry_script = 'source_dir/score.py'\n",
    "\n",
    "inference_config = InferenceConfig(source_directory=\"./source_dir\", entry_script=\"./score.py\", environment=environment)\n",
    "deployment_config = AciWebservice.deploy_configuration(cpu_cores = 1,\n",
    "                                                     memory_gb = 1,\n",
    "                                                     auth_enabled = True,\n",
    "                                                     enable_app_insights = True)\n",
    "\n",
    "service = Model.deploy(ws, 'wine-classification-aciservice', [automl_model], inference_config, deployment_config, overwrite=True)\n",
    "service.wait_for_deployment(show_output =True)"
   ]
  },
  {
   "cell_type": "code",
   "execution_count": 44,
   "metadata": {},
   "outputs": [
    {
     "data": {
      "text/html": [
       "<div>\n",
       "<style scoped>\n",
       "    .dataframe tbody tr th:only-of-type {\n",
       "        vertical-align: middle;\n",
       "    }\n",
       "\n",
       "    .dataframe tbody tr th {\n",
       "        vertical-align: top;\n",
       "    }\n",
       "\n",
       "    .dataframe thead th {\n",
       "        text-align: right;\n",
       "    }\n",
       "</style>\n",
       "<table border=\"1\" class=\"dataframe\">\n",
       "  <thead>\n",
       "    <tr style=\"text-align: right;\">\n",
       "      <th></th>\n",
       "      <th>Column1</th>\n",
       "      <th>fixed acidity</th>\n",
       "      <th>volatile acidity</th>\n",
       "      <th>citric acid</th>\n",
       "      <th>residual sugar</th>\n",
       "      <th>chlorides</th>\n",
       "      <th>free sulfur dioxide</th>\n",
       "      <th>total sulfur dioxide</th>\n",
       "      <th>density</th>\n",
       "      <th>pH</th>\n",
       "      <th>sulphates</th>\n",
       "      <th>alcohol</th>\n",
       "      <th>quality</th>\n",
       "      <th>y</th>\n",
       "    </tr>\n",
       "  </thead>\n",
       "  <tbody>\n",
       "    <tr>\n",
       "      <th>4898</th>\n",
       "      <td>0</td>\n",
       "      <td>7.40</td>\n",
       "      <td>0.70</td>\n",
       "      <td>0.00</td>\n",
       "      <td>1.90</td>\n",
       "      <td>0.08</td>\n",
       "      <td>11.00</td>\n",
       "      <td>34.00</td>\n",
       "      <td>1.00</td>\n",
       "      <td>3.51</td>\n",
       "      <td>0.56</td>\n",
       "      <td>9.40</td>\n",
       "      <td>5</td>\n",
       "      <td>0</td>\n",
       "    </tr>\n",
       "    <tr>\n",
       "      <th>4899</th>\n",
       "      <td>1</td>\n",
       "      <td>7.80</td>\n",
       "      <td>0.88</td>\n",
       "      <td>0.00</td>\n",
       "      <td>2.60</td>\n",
       "      <td>0.10</td>\n",
       "      <td>25.00</td>\n",
       "      <td>67.00</td>\n",
       "      <td>1.00</td>\n",
       "      <td>3.20</td>\n",
       "      <td>0.68</td>\n",
       "      <td>9.80</td>\n",
       "      <td>5</td>\n",
       "      <td>0</td>\n",
       "    </tr>\n",
       "    <tr>\n",
       "      <th>4900</th>\n",
       "      <td>2</td>\n",
       "      <td>7.80</td>\n",
       "      <td>0.76</td>\n",
       "      <td>0.04</td>\n",
       "      <td>2.30</td>\n",
       "      <td>0.09</td>\n",
       "      <td>15.00</td>\n",
       "      <td>54.00</td>\n",
       "      <td>1.00</td>\n",
       "      <td>3.26</td>\n",
       "      <td>0.65</td>\n",
       "      <td>9.80</td>\n",
       "      <td>5</td>\n",
       "      <td>0</td>\n",
       "    </tr>\n",
       "    <tr>\n",
       "      <th>4901</th>\n",
       "      <td>3</td>\n",
       "      <td>11.20</td>\n",
       "      <td>0.28</td>\n",
       "      <td>0.56</td>\n",
       "      <td>1.90</td>\n",
       "      <td>0.07</td>\n",
       "      <td>17.00</td>\n",
       "      <td>60.00</td>\n",
       "      <td>1.00</td>\n",
       "      <td>3.16</td>\n",
       "      <td>0.58</td>\n",
       "      <td>9.80</td>\n",
       "      <td>6</td>\n",
       "      <td>0</td>\n",
       "    </tr>\n",
       "    <tr>\n",
       "      <th>4902</th>\n",
       "      <td>4</td>\n",
       "      <td>7.40</td>\n",
       "      <td>0.70</td>\n",
       "      <td>0.00</td>\n",
       "      <td>1.90</td>\n",
       "      <td>0.08</td>\n",
       "      <td>11.00</td>\n",
       "      <td>34.00</td>\n",
       "      <td>1.00</td>\n",
       "      <td>3.51</td>\n",
       "      <td>0.56</td>\n",
       "      <td>9.40</td>\n",
       "      <td>5</td>\n",
       "      <td>0</td>\n",
       "    </tr>\n",
       "    <tr>\n",
       "      <th>...</th>\n",
       "      <td>...</td>\n",
       "      <td>...</td>\n",
       "      <td>...</td>\n",
       "      <td>...</td>\n",
       "      <td>...</td>\n",
       "      <td>...</td>\n",
       "      <td>...</td>\n",
       "      <td>...</td>\n",
       "      <td>...</td>\n",
       "      <td>...</td>\n",
       "      <td>...</td>\n",
       "      <td>...</td>\n",
       "      <td>...</td>\n",
       "      <td>...</td>\n",
       "    </tr>\n",
       "    <tr>\n",
       "      <th>6492</th>\n",
       "      <td>1594</td>\n",
       "      <td>6.20</td>\n",
       "      <td>0.60</td>\n",
       "      <td>0.08</td>\n",
       "      <td>2.00</td>\n",
       "      <td>0.09</td>\n",
       "      <td>32.00</td>\n",
       "      <td>44.00</td>\n",
       "      <td>0.99</td>\n",
       "      <td>3.45</td>\n",
       "      <td>0.58</td>\n",
       "      <td>10.50</td>\n",
       "      <td>5</td>\n",
       "      <td>0</td>\n",
       "    </tr>\n",
       "    <tr>\n",
       "      <th>6493</th>\n",
       "      <td>1595</td>\n",
       "      <td>5.90</td>\n",
       "      <td>0.55</td>\n",
       "      <td>0.10</td>\n",
       "      <td>2.20</td>\n",
       "      <td>0.06</td>\n",
       "      <td>39.00</td>\n",
       "      <td>51.00</td>\n",
       "      <td>1.00</td>\n",
       "      <td>3.52</td>\n",
       "      <td>0.76</td>\n",
       "      <td>11.20</td>\n",
       "      <td>6</td>\n",
       "      <td>0</td>\n",
       "    </tr>\n",
       "    <tr>\n",
       "      <th>6494</th>\n",
       "      <td>1596</td>\n",
       "      <td>6.30</td>\n",
       "      <td>0.51</td>\n",
       "      <td>0.13</td>\n",
       "      <td>2.30</td>\n",
       "      <td>0.08</td>\n",
       "      <td>29.00</td>\n",
       "      <td>40.00</td>\n",
       "      <td>1.00</td>\n",
       "      <td>3.42</td>\n",
       "      <td>0.75</td>\n",
       "      <td>11.00</td>\n",
       "      <td>6</td>\n",
       "      <td>0</td>\n",
       "    </tr>\n",
       "    <tr>\n",
       "      <th>6495</th>\n",
       "      <td>1597</td>\n",
       "      <td>5.90</td>\n",
       "      <td>0.65</td>\n",
       "      <td>0.12</td>\n",
       "      <td>2.00</td>\n",
       "      <td>0.07</td>\n",
       "      <td>32.00</td>\n",
       "      <td>44.00</td>\n",
       "      <td>1.00</td>\n",
       "      <td>3.57</td>\n",
       "      <td>0.71</td>\n",
       "      <td>10.20</td>\n",
       "      <td>5</td>\n",
       "      <td>0</td>\n",
       "    </tr>\n",
       "    <tr>\n",
       "      <th>6496</th>\n",
       "      <td>1598</td>\n",
       "      <td>6.00</td>\n",
       "      <td>0.31</td>\n",
       "      <td>0.47</td>\n",
       "      <td>3.60</td>\n",
       "      <td>0.07</td>\n",
       "      <td>18.00</td>\n",
       "      <td>42.00</td>\n",
       "      <td>1.00</td>\n",
       "      <td>3.39</td>\n",
       "      <td>0.66</td>\n",
       "      <td>11.00</td>\n",
       "      <td>6</td>\n",
       "      <td>0</td>\n",
       "    </tr>\n",
       "  </tbody>\n",
       "</table>\n",
       "<p>1599 rows × 14 columns</p>\n",
       "</div>"
      ],
      "text/plain": [
       "      Column1  fixed acidity  volatile acidity  citric acid  residual sugar  \\\n",
       "4898        0           7.40              0.70         0.00            1.90   \n",
       "4899        1           7.80              0.88         0.00            2.60   \n",
       "4900        2           7.80              0.76         0.04            2.30   \n",
       "4901        3          11.20              0.28         0.56            1.90   \n",
       "4902        4           7.40              0.70         0.00            1.90   \n",
       "...       ...            ...               ...          ...             ...   \n",
       "6492     1594           6.20              0.60         0.08            2.00   \n",
       "6493     1595           5.90              0.55         0.10            2.20   \n",
       "6494     1596           6.30              0.51         0.13            2.30   \n",
       "6495     1597           5.90              0.65         0.12            2.00   \n",
       "6496     1598           6.00              0.31         0.47            3.60   \n",
       "\n",
       "      chlorides  free sulfur dioxide  total sulfur dioxide  density   pH  \\\n",
       "4898       0.08                11.00                 34.00     1.00 3.51   \n",
       "4899       0.10                25.00                 67.00     1.00 3.20   \n",
       "4900       0.09                15.00                 54.00     1.00 3.26   \n",
       "4901       0.07                17.00                 60.00     1.00 3.16   \n",
       "4902       0.08                11.00                 34.00     1.00 3.51   \n",
       "...         ...                  ...                   ...      ...  ...   \n",
       "6492       0.09                32.00                 44.00     0.99 3.45   \n",
       "6493       0.06                39.00                 51.00     1.00 3.52   \n",
       "6494       0.08                29.00                 40.00     1.00 3.42   \n",
       "6495       0.07                32.00                 44.00     1.00 3.57   \n",
       "6496       0.07                18.00                 42.00     1.00 3.39   \n",
       "\n",
       "      sulphates  alcohol  quality  y  \n",
       "4898       0.56     9.40        5  0  \n",
       "4899       0.68     9.80        5  0  \n",
       "4900       0.65     9.80        5  0  \n",
       "4901       0.58     9.80        6  0  \n",
       "4902       0.56     9.40        5  0  \n",
       "...         ...      ...      ... ..  \n",
       "6492       0.58    10.50        5  0  \n",
       "6493       0.76    11.20        6  0  \n",
       "6494       0.75    11.00        6  0  \n",
       "6495       0.71    10.20        5  0  \n",
       "6496       0.66    11.00        6  0  \n",
       "\n",
       "[1599 rows x 14 columns]"
      ]
     },
     "execution_count": 44,
     "metadata": {},
     "output_type": "execute_result"
    }
   ],
   "source": [
    "df[df['y']==0]"
   ]
  },
  {
   "cell_type": "markdown",
   "metadata": {
    "collapsed": true,
    "gather": {
     "logged": 1598431657736
    },
    "jupyter": {
     "outputs_hidden": false,
     "source_hidden": false
    },
    "nteract": {
     "transient": {
      "deleting": false
     }
    }
   },
   "source": [
    "TODO: In the cell below, send a request to the web service you deployed to test it."
   ]
  },
  {
   "cell_type": "code",
   "execution_count": 47,
   "metadata": {
    "gather": {
     "logged": 1598432707604
    },
    "jupyter": {
     "outputs_hidden": false,
     "source_hidden": false
    },
    "nteract": {
     "transient": {
      "deleting": false
     }
    }
   },
   "outputs": [
    {
     "name": "stdout",
     "output_type": "stream",
     "text": [
      "b'\"{\\\\\"result\\\\\": [0]}\"'\n"
     ]
    }
   ],
   "source": [
    "import urllib.request\n",
    "import json\n",
    "import os\n",
    "import ssl\n",
    "\n",
    "def allowSelfSignedHttps(allowed):\n",
    "    # bypass the server certificate verification on client side\n",
    "    if allowed and not os.environ.get('PYTHONHTTPSVERIFY', '') and getattr(ssl, '_create_unverified_context', None):\n",
    "        ssl._create_default_https_context = ssl._create_unverified_context\n",
    "\n",
    "allowSelfSignedHttps(True) # this line is needed if you use self-signed certificate in your scoring service.\n",
    "\n",
    "# Request data goes here\n",
    "data = { \n",
    "      \"data\": [ \n",
    "          {\n",
    "              \"Column1\": 0,\n",
    "              \"fixed acidity\": 7.4,\n",
    "              \"volatile acidity\": 0.7,\n",
    "              \"citric acid\": 0,\n",
    "              \"residual sugar\": 1.9,\n",
    "              \"chlorides\": 0.08,\n",
    "              \"free sulfur dioxide\": 11,\n",
    "              \"total sulfur dioxide\": 30,\n",
    "              \"density\": 1,\n",
    "              \"pH\": 2,\n",
    "              \"sulphates\": 0.56,\n",
    "              \"alcohol\": 9.4,\n",
    "              \"quality\": 5\n",
    "          }\n",
    "      ]\n",
    " \n",
    "}\n",
    "\n",
    "body = str.encode(json.dumps(data))\n",
    "\n",
    "url = 'http://6dca653a-15ff-4c19-a18b-92dc2b71d562.southcentralus.azurecontainer.io/score'\n",
    "api_key = 'w5lPNDJYYQ45d3SWkJnxGDAafKto6Kte' # Replace this with the API key for the web service\n",
    "headers = {'Content-Type':'application/json', 'Authorization':('Bearer '+ api_key)}\n",
    "\n",
    "req = urllib.request.Request(url, body, headers)\n",
    "\n",
    "try:\n",
    "    response = urllib.request.urlopen(req)\n",
    "\n",
    "    result = response.read()\n",
    "    print(result)\n",
    "except urllib.error.HTTPError as error:\n",
    "    print(\"The request failed with status code: \" + str(error.code))\n",
    "\n",
    "    # Print the headers - they include the requert ID and the timestamp, which are useful for debugging the failure\n",
    "    print(error.info())\n",
    "    print(json.loads(error.read().decode(\"utf8\", 'ignore')))\n"
   ]
  },
  {
   "cell_type": "markdown",
   "metadata": {
    "collapsed": true,
    "gather": {
     "logged": 1598432765711
    },
    "jupyter": {
     "outputs_hidden": false,
     "source_hidden": false
    },
    "nteract": {
     "transient": {
      "deleting": false
     }
    }
   },
   "source": [
    "TODO: In the cell below, print the logs of the web service and delete the service"
   ]
  },
  {
   "cell_type": "code",
   "execution_count": 48,
   "metadata": {},
   "outputs": [
    {
     "name": "stdout",
     "output_type": "stream",
     "text": [
      "Service state: Healthy\n",
      "Service scoring URI: http://6dca653a-15ff-4c19-a18b-92dc2b71d562.southcentralus.azurecontainer.io/score\n",
      "Service primary authentication key: w5lPNDJYYQ45d3SWkJnxGDAafKto6Kte\n"
     ]
    }
   ],
   "source": [
    "# Check Model status\n",
    "primary, secondary = service.get_keys()\n",
    "\n",
    "print('Service state: ' + service.state)\n",
    "print('Service scoring URI: ' + service.scoring_uri)\n",
    "print('Service primary authentication key: '+ primary)"
   ]
  },
  {
   "cell_type": "code",
   "execution_count": 49,
   "metadata": {},
   "outputs": [
    {
     "data": {
      "text/plain": [
       "'2021-11-06T17:55:40,782082600+00:00 - rsyslog/run \\n2021-11-06T17:55:40,785131100+00:00 - gunicorn/run \\nDynamic Python package installation is disabled.\\nStarting HTTP server\\n2021-11-06T17:55:40,787291800+00:00 - iot-server/run \\n2021-11-06T17:55:40,938034600+00:00 - nginx/run \\nrsyslogd: /azureml-envs/azureml_705720c76ff57b57c77d577152dabb18/lib/libuuid.so.1: no version information available (required by rsyslogd)\\nEdgeHubConnectionString and IOTEDGE_IOTHUBHOSTNAME are not set. Exiting...\\n2021-11-06T17:55:41,311424400+00:00 - iot-server/finish 1 0\\n2021-11-06T17:55:41,312640600+00:00 - Exit code 1 is normal. Not restarting iot-server.\\nStarting gunicorn 20.1.0\\nListening at: http://127.0.0.1:31311 (72)\\nUsing worker: sync\\nworker timeout is set to 300\\nBooting worker with pid: 99\\nSPARK_HOME not set. Skipping PySpark Initialization.\\nGenerating new fontManager, this may take some time...\\nInitializing logger\\n2021-11-06 17:55:44,364 | root | INFO | Starting up app insights client\\nlogging socket was found. logging is available.\\nlogging socket was found. logging is available.\\n2021-11-06 17:55:44,369 | root | INFO | Starting up request id generator\\n2021-11-06 17:55:44,369 | root | INFO | Starting up app insight hooks\\n2021-11-06 17:55:44,370 | root | INFO | Invoking user\\'s init function\\n2021-11-06 17:55:50,396 | root | INFO | Users\\'s init has completed successfully\\n2021-11-06 17:55:50,405 | root | INFO | Skipping middleware: dbg_model_info as it\\'s not enabled.\\n2021-11-06 17:55:50,405 | root | INFO | Skipping middleware: dbg_resource_usage as it\\'s not enabled.\\nGenerating swagger file: /tmp/tmpttx_6a0_\\n2021-11-06 17:55:50,413 | root | INFO | Scoring timeout is found from os.environ: 60000 ms\\n2021-11-06 17:55:53,680 | root | INFO | 200\\n127.0.0.1 - - [06/Nov/2021:17:55:53 +0000] \"GET /swagger.json HTTP/1.0\" 200 3221 \"-\" \"Go-http-client/1.1\"\\n2021-11-06 17:55:55,672 | root | INFO | 200\\n127.0.0.1 - - [06/Nov/2021:17:55:55 +0000] \"GET /swagger.json HTTP/1.0\" 200 3221 \"-\" \"Go-http-client/1.1\"\\n2021-11-06 17:56:17,579 | root | INFO | 200\\n127.0.0.1 - - [06/Nov/2021:17:56:17 +0000] \"GET /swagger.json HTTP/1.0\" 200 3221 \"-\" \"Go-http-client/1.1\"\\n2021-11-06 17:56:17,762 | root | INFO | 200\\n127.0.0.1 - - [06/Nov/2021:17:56:17 +0000] \"GET /swagger.json HTTP/1.0\" 200 3221 \"-\" \"Go-http-client/1.1\"\\n2021-11-06 17:56:21,204 | root | INFO | 200\\n127.0.0.1 - - [06/Nov/2021:17:56:21 +0000] \"GET /swagger.json HTTP/1.0\" 200 3221 \"-\" \"Go-http-client/1.1\"\\n2021-11-06 17:56:43,286 | root | INFO | Validation Request Content-Type\\n2021-11-06 17:56:43,287 | root | INFO | Scoring Timer is set to 60.0 seconds\\n2021-11-06 17:56:43,337 | root | ERROR | Encountered Exception: Traceback (most recent call last):\\n  File \"/var/azureml-server/synchronous/routes.py\", line 65, in run_scoring\\n    response, time_taken_ms = invoke_user_with_timer(service_input, request_headers)\\n  File \"/var/azureml-server/synchronous/routes.py\", line 110, in invoke_user_with_timer\\n    result, time_taken_ms = capture_time_taken(user_main.run)(**params)\\n  File \"/var/azureml-server/synchronous/routes.py\", line 92, in timer\\n    result = func(*args, **kwargs)\\n  File \"/var/azureml-app/main.py\", line 21, in run\\n    return_obj = driver_module.run(**arguments)\\n  File \"/azureml-envs/azureml_705720c76ff57b57c77d577152dabb18/lib/python3.6/site-packages/inference_schema/schema_decorators.py\", line 61, in decorator_input\\n    return user_run(*args, **kwargs)\\n  File \"/azureml-envs/azureml_705720c76ff57b57c77d577152dabb18/lib/python3.6/site-packages/inference_schema/schema_decorators.py\", line 57, in decorator_input\\n    kwargs[param_name] = _deserialize_input_argument(kwargs[param_name], param_type, param_name)\\n  File \"/azureml-envs/azureml_705720c76ff57b57c77d577152dabb18/lib/python3.6/site-packages/inference_schema/schema_decorators.py\", line 285, in _deserialize_input_argument\\n    input_data = param_type.deserialize_input(input_data)\\n  File \"/azureml-envs/azureml_705720c76ff57b57c77d577152dabb18/lib/python3.6/site-packages/inference_schema/parameter_types/pandas_parameter_type.py\", line 79, in deserialize_input\\n    data_frame = data_frame.astype(dtype=converted_types)\\n  File \"/azureml-envs/azureml_705720c76ff57b57c77d577152dabb18/lib/python3.6/site-packages/pandas/core/generic.py\", line 5865, in astype\\n    dtype=dtype[col_name], copy=copy, errors=errors, **kwargs\\n  File \"/azureml-envs/azureml_705720c76ff57b57c77d577152dabb18/lib/python3.6/site-packages/pandas/core/generic.py\", line 5882, in astype\\n    dtype=dtype, copy=copy, errors=errors, **kwargs\\n  File \"/azureml-envs/azureml_705720c76ff57b57c77d577152dabb18/lib/python3.6/site-packages/pandas/core/internals/managers.py\", line 581, in astype\\n    return self.apply(\"astype\", dtype=dtype, **kwargs)\\n  File \"/azureml-envs/azureml_705720c76ff57b57c77d577152dabb18/lib/python3.6/site-packages/pandas/core/internals/managers.py\", line 438, in apply\\n    applied = getattr(b, f)(**kwargs)\\n  File \"/azureml-envs/azureml_705720c76ff57b57c77d577152dabb18/lib/python3.6/site-packages/pandas/core/internals/blocks.py\", line 559, in astype\\n    return self._astype(dtype, copy=copy, errors=errors, values=values, **kwargs)\\n  File \"/azureml-envs/azureml_705720c76ff57b57c77d577152dabb18/lib/python3.6/site-packages/pandas/core/internals/blocks.py\", line 643, in _astype\\n    values = astype_nansafe(vals1d, dtype, copy=True, **kwargs)\\n  File \"/azureml-envs/azureml_705720c76ff57b57c77d577152dabb18/lib/python3.6/site-packages/pandas/core/dtypes/cast.py\", line 707, in astype_nansafe\\n    return lib.astype_intsafe(arr.ravel(), dtype).reshape(arr.shape)\\n  File \"pandas/_libs/lib.pyx\", line 547, in pandas._libs.lib.astype_intsafe\\nValueError: invalid literal for int() with base 10: \\'example_value\\'\\n\\nDuring handling of the above exception, another exception occurred:\\n\\nTraceback (most recent call last):\\n  File \"/azureml-envs/azureml_705720c76ff57b57c77d577152dabb18/lib/python3.6/site-packages/flask/app.py\", line 1832, in full_dispatch_request\\n    rv = self.dispatch_request()\\n  File \"/azureml-envs/azureml_705720c76ff57b57c77d577152dabb18/lib/python3.6/site-packages/flask/app.py\", line 1818, in dispatch_request\\n    return self.view_functions[rule.endpoint](**req.view_args)\\n  File \"/var/azureml-server/synchronous/routes.py\", line 44, in score_realtime\\n    return run_scoring(service_input, request.headers, request.environ.get(\\'REQUEST_ID\\', \\'00000000-0000-0000-0000-000000000000\\'))\\n  File \"/var/azureml-server/synchronous/routes.py\", line 74, in run_scoring\\n    raise RunFunctionException(str(exc))\\nrun_function_exception.RunFunctionException\\n\\n2021-11-06 17:56:43,342 | root | INFO | 500\\n127.0.0.1 - - [06/Nov/2021:17:56:43 +0000] \"POST /score HTTP/1.0\" 500 55 \"-\" \"Python-urllib/3.6\"\\n2021-11-06 17:56:58,188 | root | INFO | Validation Request Content-Type\\n2021-11-06 17:56:58,188 | root | INFO | Scoring Timer is set to 60.0 seconds\\n2021-11-06 17:56:58,339 | root | INFO | 200\\n127.0.0.1 - - [06/Nov/2021:17:56:58 +0000] \"POST /score HTTP/1.0\" 200 19 \"-\" \"Python-urllib/3.6\"\\n2021-11-06 17:58:09,953 | root | INFO | Validation Request Content-Type\\n2021-11-06 17:58:09,954 | root | INFO | Scoring Timer is set to 60.0 seconds\\n2021-11-06 17:58:10,069 | root | INFO | 200\\n127.0.0.1 - - [06/Nov/2021:17:58:10 +0000] \"POST /score HTTP/1.0\" 200 19 \"-\" \"Python-urllib/3.6\"\\n2021-11-06 17:58:43,176 | root | INFO | Validation Request Content-Type\\n2021-11-06 17:58:43,177 | root | INFO | Scoring Timer is set to 60.0 seconds\\n2021-11-06 17:58:43,290 | root | INFO | 200\\n127.0.0.1 - - [06/Nov/2021:17:58:43 +0000] \"POST /score HTTP/1.0\" 200 19 \"-\" \"Python-urllib/3.6\"\\n2021-11-06 17:58:47,869 | root | INFO | Validation Request Content-Type\\n2021-11-06 17:58:47,870 | root | INFO | Scoring Timer is set to 60.0 seconds\\n2021-11-06 17:58:48,027 | root | INFO | 200\\n127.0.0.1 - - [06/Nov/2021:17:58:48 +0000] \"POST /score HTTP/1.0\" 200 19 \"-\" \"Python-urllib/3.6\"\\n'"
      ]
     },
     "execution_count": 49,
     "metadata": {},
     "output_type": "execute_result"
    }
   ],
   "source": [
    "service.get_logs()"
   ]
  },
  {
   "cell_type": "markdown",
   "metadata": {},
   "source": [
    "# Resource clean-up"
   ]
  },
  {
   "cell_type": "code",
   "execution_count": 51,
   "metadata": {
    "jupyter": {
     "outputs_hidden": false,
     "source_hidden": false
    },
    "nteract": {
     "transient": {
      "deleting": false
     }
    }
   },
   "outputs": [],
   "source": [
    "service.delete()"
   ]
  },
  {
   "cell_type": "code",
   "execution_count": null,
   "metadata": {},
   "outputs": [],
   "source": []
  }
 ],
 "metadata": {
  "kernel_info": {
   "name": "python3"
  },
  "kernelspec": {
   "display_name": "Python 3",
   "language": "python",
   "name": "python3"
  },
  "language_info": {
   "codemirror_mode": {
    "name": "ipython",
    "version": 3
   },
   "file_extension": ".py",
   "mimetype": "text/x-python",
   "name": "python",
   "nbconvert_exporter": "python",
   "pygments_lexer": "ipython3",
   "version": "3.6.9"
  },
  "microsoft": {
   "host": {
    "AzureML": {
     "notebookHasBeenCompleted": true
    }
   }
  },
  "nteract": {
   "version": "nteract-front-end@1.0.0"
  },
  "toc": {
   "base_numbering": 1,
   "nav_menu": {},
   "number_sections": true,
   "sideBar": true,
   "skip_h1_title": false,
   "title_cell": "Table of Contents",
   "title_sidebar": "Contents",
   "toc_cell": false,
   "toc_position": {},
   "toc_section_display": true,
   "toc_window_display": false
  }
 },
 "nbformat": 4,
 "nbformat_minor": 2
}
