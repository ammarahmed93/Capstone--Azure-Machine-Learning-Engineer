{
 "cells": [
  {
   "cell_type": "markdown",
   "metadata": {},
   "source": [
    "# Automated ML\n",
    "\n",
    "TODO: Import Dependencies. In the cell below, import all the dependencies that you will need to complete the project."
   ]
  },
  {
   "cell_type": "code",
   "execution_count": 1,
   "metadata": {
    "gather": {
     "logged": 1598423888013
    },
    "jupyter": {
     "outputs_hidden": false,
     "source_hidden": false
    },
    "nteract": {
     "transient": {
      "deleting": false
     }
    }
   },
   "outputs": [],
   "source": [
    "import logging\n",
    "import os\n",
    "import csv\n",
    "\n",
    "from matplotlib import pyplot as plt\n",
    "import numpy as np\n",
    "import pandas as pd\n",
    "from sklearn import datasets\n",
    "import pkg_resources\n",
    "\n",
    "import azureml.core\n",
    "from azureml.core.experiment import Experiment\n",
    "from azureml.core.workspace import Workspace\n",
    "from azureml.train.automl import AutoMLConfig\n",
    "from azureml.core.dataset import Dataset\n",
    "from azureml.widgets import RunDetails\n",
    "\n",
    "from azureml.core.compute import AmlCompute\n",
    "from azureml.core.compute import ComputeTarget\n",
    "from azureml.core.compute_target import ComputeTargetException"
   ]
  },
  {
   "cell_type": "markdown",
   "metadata": {},
   "source": [
    "## Dataset\n",
    "\n",
    "### Overview\n",
    "TODO: In this markdown cell, give an overview of the dataset you are using. Also mention the task you will be performing.\n",
    "\n",
    "\n",
    "TODO: Get data. In the cell below, write code to access the data you will be using in this project. Remember that the dataset needs to be external."
   ]
  },
  {
   "cell_type": "code",
   "execution_count": 2,
   "metadata": {
    "gather": {
     "logged": 1598423890461
    },
    "jupyter": {
     "outputs_hidden": false,
     "source_hidden": false
    },
    "nteract": {
     "transient": {
      "deleting": false
     }
    }
   },
   "outputs": [],
   "source": [
    "ws = Workspace.from_config()\n",
    "\n",
    "# choose a name for experiment\n",
    "experiment_name = 'automl'\n",
    "\n",
    "experiment=Experiment(ws, experiment_name)"
   ]
  },
  {
   "cell_type": "markdown",
   "metadata": {},
   "source": [
    "# Create or Attach an AmlCompute cluster"
   ]
  },
  {
   "cell_type": "code",
   "execution_count": 3,
   "metadata": {},
   "outputs": [
    {
     "name": "stdout",
     "output_type": "stream",
     "text": [
      "InProgress....\n",
      "SucceededProvisioning operation finished, operation \"Succeeded\"\n",
      "Succeeded............\n",
      "AmlCompute wait for completion finished\n",
      "\n",
      "Wait timeout has been reached\n",
      "Current provisioning state of AmlCompute is \"Succeeded\" and current node count is \"0\"\n"
     ]
    }
   ],
   "source": [
    "# NOTE: update the cluster name to match the existing cluster\n",
    "# Choose a name for your CPU cluster\n",
    "amlcompute_cluster_name = \"aml-compute\"\n",
    "\n",
    "# Verify that cluster does not exist already\n",
    "try:\n",
    "    compute_target = ComputeTarget(workspace=ws, name=amlcompute_cluster_name)\n",
    "    print('Found existing cluster, use it.')\n",
    "except ComputeTargetException:\n",
    "    compute_config = AmlCompute.provisioning_configuration(vm_size='Standard_D16_v3',# for GPU, use \"STANDARD_NC6\"\n",
    "                                                           #vm_priority = 'lowpriority', # optional\n",
    "                                                           max_nodes=6)\n",
    "    compute_target = ComputeTarget.create(ws, amlcompute_cluster_name, compute_config)\n",
    "\n",
    "compute_target.wait_for_completion(show_output=True, min_node_count = 1, timeout_in_minutes = 1)\n",
    "# For a more detailed view of current AmlCompute status, use get_status()."
   ]
  },
  {
   "cell_type": "markdown",
   "metadata": {},
   "source": [
    "# Data"
   ]
  },
  {
   "cell_type": "code",
   "execution_count": 4,
   "metadata": {},
   "outputs": [
    {
     "data": {
      "text/html": [
       "<div>\n",
       "<style scoped>\n",
       "    .dataframe tbody tr th:only-of-type {\n",
       "        vertical-align: middle;\n",
       "    }\n",
       "\n",
       "    .dataframe tbody tr th {\n",
       "        vertical-align: top;\n",
       "    }\n",
       "\n",
       "    .dataframe thead th {\n",
       "        text-align: right;\n",
       "    }\n",
       "</style>\n",
       "<table border=\"1\" class=\"dataframe\">\n",
       "  <thead>\n",
       "    <tr style=\"text-align: right;\">\n",
       "      <th></th>\n",
       "      <th>fixed acidity</th>\n",
       "      <th>volatile acidity</th>\n",
       "      <th>citric acid</th>\n",
       "      <th>residual sugar</th>\n",
       "      <th>chlorides</th>\n",
       "      <th>free sulfur dioxide</th>\n",
       "      <th>total sulfur dioxide</th>\n",
       "      <th>density</th>\n",
       "      <th>pH</th>\n",
       "      <th>sulphates</th>\n",
       "      <th>alcohol</th>\n",
       "      <th>quality</th>\n",
       "    </tr>\n",
       "  </thead>\n",
       "  <tbody>\n",
       "    <tr>\n",
       "      <th>count</th>\n",
       "      <td>4898.000000</td>\n",
       "      <td>4898.000000</td>\n",
       "      <td>4898.000000</td>\n",
       "      <td>4898.000000</td>\n",
       "      <td>4898.000000</td>\n",
       "      <td>4898.000000</td>\n",
       "      <td>4898.000000</td>\n",
       "      <td>4898.000000</td>\n",
       "      <td>4898.000000</td>\n",
       "      <td>4898.000000</td>\n",
       "      <td>4898.000000</td>\n",
       "      <td>4898.000000</td>\n",
       "    </tr>\n",
       "    <tr>\n",
       "      <th>mean</th>\n",
       "      <td>6.854788</td>\n",
       "      <td>0.278241</td>\n",
       "      <td>0.334192</td>\n",
       "      <td>6.391415</td>\n",
       "      <td>0.045772</td>\n",
       "      <td>35.308085</td>\n",
       "      <td>138.360657</td>\n",
       "      <td>0.994027</td>\n",
       "      <td>3.188267</td>\n",
       "      <td>0.489847</td>\n",
       "      <td>10.514267</td>\n",
       "      <td>5.877909</td>\n",
       "    </tr>\n",
       "    <tr>\n",
       "      <th>std</th>\n",
       "      <td>0.843868</td>\n",
       "      <td>0.100795</td>\n",
       "      <td>0.121020</td>\n",
       "      <td>5.072058</td>\n",
       "      <td>0.021848</td>\n",
       "      <td>17.007137</td>\n",
       "      <td>42.498065</td>\n",
       "      <td>0.002991</td>\n",
       "      <td>0.151001</td>\n",
       "      <td>0.114126</td>\n",
       "      <td>1.230621</td>\n",
       "      <td>0.885639</td>\n",
       "    </tr>\n",
       "    <tr>\n",
       "      <th>min</th>\n",
       "      <td>3.800000</td>\n",
       "      <td>0.080000</td>\n",
       "      <td>0.000000</td>\n",
       "      <td>0.600000</td>\n",
       "      <td>0.009000</td>\n",
       "      <td>2.000000</td>\n",
       "      <td>9.000000</td>\n",
       "      <td>0.987110</td>\n",
       "      <td>2.720000</td>\n",
       "      <td>0.220000</td>\n",
       "      <td>8.000000</td>\n",
       "      <td>3.000000</td>\n",
       "    </tr>\n",
       "    <tr>\n",
       "      <th>25%</th>\n",
       "      <td>6.300000</td>\n",
       "      <td>0.210000</td>\n",
       "      <td>0.270000</td>\n",
       "      <td>1.700000</td>\n",
       "      <td>0.036000</td>\n",
       "      <td>23.000000</td>\n",
       "      <td>108.000000</td>\n",
       "      <td>0.991723</td>\n",
       "      <td>3.090000</td>\n",
       "      <td>0.410000</td>\n",
       "      <td>9.500000</td>\n",
       "      <td>5.000000</td>\n",
       "    </tr>\n",
       "    <tr>\n",
       "      <th>50%</th>\n",
       "      <td>6.800000</td>\n",
       "      <td>0.260000</td>\n",
       "      <td>0.320000</td>\n",
       "      <td>5.200000</td>\n",
       "      <td>0.043000</td>\n",
       "      <td>34.000000</td>\n",
       "      <td>134.000000</td>\n",
       "      <td>0.993740</td>\n",
       "      <td>3.180000</td>\n",
       "      <td>0.470000</td>\n",
       "      <td>10.400000</td>\n",
       "      <td>6.000000</td>\n",
       "    </tr>\n",
       "    <tr>\n",
       "      <th>75%</th>\n",
       "      <td>7.300000</td>\n",
       "      <td>0.320000</td>\n",
       "      <td>0.390000</td>\n",
       "      <td>9.900000</td>\n",
       "      <td>0.050000</td>\n",
       "      <td>46.000000</td>\n",
       "      <td>167.000000</td>\n",
       "      <td>0.996100</td>\n",
       "      <td>3.280000</td>\n",
       "      <td>0.550000</td>\n",
       "      <td>11.400000</td>\n",
       "      <td>6.000000</td>\n",
       "    </tr>\n",
       "    <tr>\n",
       "      <th>max</th>\n",
       "      <td>14.200000</td>\n",
       "      <td>1.100000</td>\n",
       "      <td>1.660000</td>\n",
       "      <td>65.800000</td>\n",
       "      <td>0.346000</td>\n",
       "      <td>289.000000</td>\n",
       "      <td>440.000000</td>\n",
       "      <td>1.038980</td>\n",
       "      <td>3.820000</td>\n",
       "      <td>1.080000</td>\n",
       "      <td>14.200000</td>\n",
       "      <td>9.000000</td>\n",
       "    </tr>\n",
       "  </tbody>\n",
       "</table>\n",
       "</div>"
      ],
      "text/plain": [
       "       fixed acidity  volatile acidity  citric acid  residual sugar  \\\n",
       "count    4898.000000       4898.000000  4898.000000     4898.000000   \n",
       "mean        6.854788          0.278241     0.334192        6.391415   \n",
       "std         0.843868          0.100795     0.121020        5.072058   \n",
       "min         3.800000          0.080000     0.000000        0.600000   \n",
       "25%         6.300000          0.210000     0.270000        1.700000   \n",
       "50%         6.800000          0.260000     0.320000        5.200000   \n",
       "75%         7.300000          0.320000     0.390000        9.900000   \n",
       "max        14.200000          1.100000     1.660000       65.800000   \n",
       "\n",
       "         chlorides  free sulfur dioxide  total sulfur dioxide      density  \\\n",
       "count  4898.000000          4898.000000           4898.000000  4898.000000   \n",
       "mean      0.045772            35.308085            138.360657     0.994027   \n",
       "std       0.021848            17.007137             42.498065     0.002991   \n",
       "min       0.009000             2.000000              9.000000     0.987110   \n",
       "25%       0.036000            23.000000            108.000000     0.991723   \n",
       "50%       0.043000            34.000000            134.000000     0.993740   \n",
       "75%       0.050000            46.000000            167.000000     0.996100   \n",
       "max       0.346000           289.000000            440.000000     1.038980   \n",
       "\n",
       "                pH    sulphates      alcohol      quality  \n",
       "count  4898.000000  4898.000000  4898.000000  4898.000000  \n",
       "mean      3.188267     0.489847    10.514267     5.877909  \n",
       "std       0.151001     0.114126     1.230621     0.885639  \n",
       "min       2.720000     0.220000     8.000000     3.000000  \n",
       "25%       3.090000     0.410000     9.500000     5.000000  \n",
       "50%       3.180000     0.470000    10.400000     6.000000  \n",
       "75%       3.280000     0.550000    11.400000     6.000000  \n",
       "max       3.820000     1.080000    14.200000     9.000000  "
      ]
     },
     "execution_count": 4,
     "metadata": {},
     "output_type": "execute_result"
    }
   ],
   "source": [
    "# Try to load the dataset from the Workspace. Otherwise, create it from the file\n",
    "# NOTE: update the key to match the dataset name\n",
    "found = False\n",
    "key_1 = \"winequality-white\"\n",
    "key_2 = \"winequality-red\"\n",
    "description_text = \"Wine Quality DataSet for Udacity Capstone Project\"\n",
    "\n",
    "if key_1 in ws.datasets.keys() and key_2 in ws.datasets.keys(): \n",
    "        found = True\n",
    "        dataset_1= ws.datasets[key_1] \n",
    "        dataset_2= ws.datasets[key_2] \n",
    "\n",
    "if not found:\n",
    "        # Create AML Dataset and register it into Workspace\n",
    "        whiteWine_data = 'https://archive.ics.uci.edu/ml/machine-learning-databases/wine-quality/winequality-white.csv'\n",
    "        redWine_data = 'https://archive.ics.uci.edu/ml/machine-learning-databases/wine-quality/winequality-white.csv'\n",
    "        \n",
    "        whiteWine_dataset = Dataset.Tabular.from_delimited_files(whiteWine_data)        \n",
    "        redWine_dataset = Dataset.Tabular.from_delimited_files(redWine_data)        \n",
    "        #Register Dataset in Workspace\n",
    "        dataset_1 = whiteWine_dataset.register(workspace=ws,\n",
    "                                   name=key_1,\n",
    "                                   description=description_text)\n",
    "        #Register Dataset in Workspace\n",
    "        dataset_2 = redWine_dataset.register(workspace=ws,\n",
    "                                   name=key_2,\n",
    "                                   description=description_text)\n",
    "\n",
    "\n",
    "whiteWine_df = dataset_1.to_pandas_dataframe()\n",
    "whiteWine_df.describe()"
   ]
  },
  {
   "cell_type": "code",
   "execution_count": 10,
   "metadata": {},
   "outputs": [],
   "source": [
    "whiteWine_df = dataset_1.to_pandas_dataframe()\n",
    "whiteWine_df['y'] = 1\n",
    "\n",
    "redWine_df = dataset_2.to_pandas_dataframe()\n",
    "redWine_df['y'] = 0"
   ]
  },
  {
   "cell_type": "code",
   "execution_count": 11,
   "metadata": {},
   "outputs": [
    {
     "data": {
      "text/html": [
       "<div>\n",
       "<style scoped>\n",
       "    .dataframe tbody tr th:only-of-type {\n",
       "        vertical-align: middle;\n",
       "    }\n",
       "\n",
       "    .dataframe tbody tr th {\n",
       "        vertical-align: top;\n",
       "    }\n",
       "\n",
       "    .dataframe thead th {\n",
       "        text-align: right;\n",
       "    }\n",
       "</style>\n",
       "<table border=\"1\" class=\"dataframe\">\n",
       "  <thead>\n",
       "    <tr style=\"text-align: right;\">\n",
       "      <th></th>\n",
       "      <th>fixed acidity</th>\n",
       "      <th>volatile acidity</th>\n",
       "      <th>citric acid</th>\n",
       "      <th>residual sugar</th>\n",
       "      <th>chlorides</th>\n",
       "      <th>free sulfur dioxide</th>\n",
       "      <th>total sulfur dioxide</th>\n",
       "      <th>density</th>\n",
       "      <th>pH</th>\n",
       "      <th>sulphates</th>\n",
       "      <th>alcohol</th>\n",
       "      <th>quality</th>\n",
       "      <th>y</th>\n",
       "    </tr>\n",
       "  </thead>\n",
       "  <tbody>\n",
       "    <tr>\n",
       "      <th>0</th>\n",
       "      <td>7.0</td>\n",
       "      <td>0.270</td>\n",
       "      <td>0.36</td>\n",
       "      <td>20.7</td>\n",
       "      <td>0.045</td>\n",
       "      <td>45.0</td>\n",
       "      <td>170.0</td>\n",
       "      <td>1.00100</td>\n",
       "      <td>3.00</td>\n",
       "      <td>0.45</td>\n",
       "      <td>8.8</td>\n",
       "      <td>6</td>\n",
       "      <td>1</td>\n",
       "    </tr>\n",
       "    <tr>\n",
       "      <th>1</th>\n",
       "      <td>6.3</td>\n",
       "      <td>0.300</td>\n",
       "      <td>0.34</td>\n",
       "      <td>1.6</td>\n",
       "      <td>0.049</td>\n",
       "      <td>14.0</td>\n",
       "      <td>132.0</td>\n",
       "      <td>0.99400</td>\n",
       "      <td>3.30</td>\n",
       "      <td>0.49</td>\n",
       "      <td>9.5</td>\n",
       "      <td>6</td>\n",
       "      <td>1</td>\n",
       "    </tr>\n",
       "    <tr>\n",
       "      <th>2</th>\n",
       "      <td>8.1</td>\n",
       "      <td>0.280</td>\n",
       "      <td>0.40</td>\n",
       "      <td>6.9</td>\n",
       "      <td>0.050</td>\n",
       "      <td>30.0</td>\n",
       "      <td>97.0</td>\n",
       "      <td>0.99510</td>\n",
       "      <td>3.26</td>\n",
       "      <td>0.44</td>\n",
       "      <td>10.1</td>\n",
       "      <td>6</td>\n",
       "      <td>1</td>\n",
       "    </tr>\n",
       "    <tr>\n",
       "      <th>3</th>\n",
       "      <td>7.2</td>\n",
       "      <td>0.230</td>\n",
       "      <td>0.32</td>\n",
       "      <td>8.5</td>\n",
       "      <td>0.058</td>\n",
       "      <td>47.0</td>\n",
       "      <td>186.0</td>\n",
       "      <td>0.99560</td>\n",
       "      <td>3.19</td>\n",
       "      <td>0.40</td>\n",
       "      <td>9.9</td>\n",
       "      <td>6</td>\n",
       "      <td>1</td>\n",
       "    </tr>\n",
       "    <tr>\n",
       "      <th>4</th>\n",
       "      <td>7.2</td>\n",
       "      <td>0.230</td>\n",
       "      <td>0.32</td>\n",
       "      <td>8.5</td>\n",
       "      <td>0.058</td>\n",
       "      <td>47.0</td>\n",
       "      <td>186.0</td>\n",
       "      <td>0.99560</td>\n",
       "      <td>3.19</td>\n",
       "      <td>0.40</td>\n",
       "      <td>9.9</td>\n",
       "      <td>6</td>\n",
       "      <td>1</td>\n",
       "    </tr>\n",
       "    <tr>\n",
       "      <th>...</th>\n",
       "      <td>...</td>\n",
       "      <td>...</td>\n",
       "      <td>...</td>\n",
       "      <td>...</td>\n",
       "      <td>...</td>\n",
       "      <td>...</td>\n",
       "      <td>...</td>\n",
       "      <td>...</td>\n",
       "      <td>...</td>\n",
       "      <td>...</td>\n",
       "      <td>...</td>\n",
       "      <td>...</td>\n",
       "      <td>...</td>\n",
       "    </tr>\n",
       "    <tr>\n",
       "      <th>1594</th>\n",
       "      <td>6.2</td>\n",
       "      <td>0.600</td>\n",
       "      <td>0.08</td>\n",
       "      <td>2.0</td>\n",
       "      <td>0.090</td>\n",
       "      <td>32.0</td>\n",
       "      <td>44.0</td>\n",
       "      <td>0.99490</td>\n",
       "      <td>3.45</td>\n",
       "      <td>0.58</td>\n",
       "      <td>10.5</td>\n",
       "      <td>5</td>\n",
       "      <td>0</td>\n",
       "    </tr>\n",
       "    <tr>\n",
       "      <th>1595</th>\n",
       "      <td>5.9</td>\n",
       "      <td>0.550</td>\n",
       "      <td>0.10</td>\n",
       "      <td>2.2</td>\n",
       "      <td>0.062</td>\n",
       "      <td>39.0</td>\n",
       "      <td>51.0</td>\n",
       "      <td>0.99512</td>\n",
       "      <td>3.52</td>\n",
       "      <td>0.76</td>\n",
       "      <td>11.2</td>\n",
       "      <td>6</td>\n",
       "      <td>0</td>\n",
       "    </tr>\n",
       "    <tr>\n",
       "      <th>1596</th>\n",
       "      <td>6.3</td>\n",
       "      <td>0.510</td>\n",
       "      <td>0.13</td>\n",
       "      <td>2.3</td>\n",
       "      <td>0.076</td>\n",
       "      <td>29.0</td>\n",
       "      <td>40.0</td>\n",
       "      <td>0.99574</td>\n",
       "      <td>3.42</td>\n",
       "      <td>0.75</td>\n",
       "      <td>11.0</td>\n",
       "      <td>6</td>\n",
       "      <td>0</td>\n",
       "    </tr>\n",
       "    <tr>\n",
       "      <th>1597</th>\n",
       "      <td>5.9</td>\n",
       "      <td>0.645</td>\n",
       "      <td>0.12</td>\n",
       "      <td>2.0</td>\n",
       "      <td>0.075</td>\n",
       "      <td>32.0</td>\n",
       "      <td>44.0</td>\n",
       "      <td>0.99547</td>\n",
       "      <td>3.57</td>\n",
       "      <td>0.71</td>\n",
       "      <td>10.2</td>\n",
       "      <td>5</td>\n",
       "      <td>0</td>\n",
       "    </tr>\n",
       "    <tr>\n",
       "      <th>1598</th>\n",
       "      <td>6.0</td>\n",
       "      <td>0.310</td>\n",
       "      <td>0.47</td>\n",
       "      <td>3.6</td>\n",
       "      <td>0.067</td>\n",
       "      <td>18.0</td>\n",
       "      <td>42.0</td>\n",
       "      <td>0.99549</td>\n",
       "      <td>3.39</td>\n",
       "      <td>0.66</td>\n",
       "      <td>11.0</td>\n",
       "      <td>6</td>\n",
       "      <td>0</td>\n",
       "    </tr>\n",
       "  </tbody>\n",
       "</table>\n",
       "<p>6497 rows × 13 columns</p>\n",
       "</div>"
      ],
      "text/plain": [
       "      fixed acidity  volatile acidity  citric acid  residual sugar  chlorides  \\\n",
       "0               7.0             0.270         0.36            20.7      0.045   \n",
       "1               6.3             0.300         0.34             1.6      0.049   \n",
       "2               8.1             0.280         0.40             6.9      0.050   \n",
       "3               7.2             0.230         0.32             8.5      0.058   \n",
       "4               7.2             0.230         0.32             8.5      0.058   \n",
       "...             ...               ...          ...             ...        ...   \n",
       "1594            6.2             0.600         0.08             2.0      0.090   \n",
       "1595            5.9             0.550         0.10             2.2      0.062   \n",
       "1596            6.3             0.510         0.13             2.3      0.076   \n",
       "1597            5.9             0.645         0.12             2.0      0.075   \n",
       "1598            6.0             0.310         0.47             3.6      0.067   \n",
       "\n",
       "      free sulfur dioxide  total sulfur dioxide  density    pH  sulphates  \\\n",
       "0                    45.0                 170.0  1.00100  3.00       0.45   \n",
       "1                    14.0                 132.0  0.99400  3.30       0.49   \n",
       "2                    30.0                  97.0  0.99510  3.26       0.44   \n",
       "3                    47.0                 186.0  0.99560  3.19       0.40   \n",
       "4                    47.0                 186.0  0.99560  3.19       0.40   \n",
       "...                   ...                   ...      ...   ...        ...   \n",
       "1594                 32.0                  44.0  0.99490  3.45       0.58   \n",
       "1595                 39.0                  51.0  0.99512  3.52       0.76   \n",
       "1596                 29.0                  40.0  0.99574  3.42       0.75   \n",
       "1597                 32.0                  44.0  0.99547  3.57       0.71   \n",
       "1598                 18.0                  42.0  0.99549  3.39       0.66   \n",
       "\n",
       "      alcohol  quality  y  \n",
       "0         8.8        6  1  \n",
       "1         9.5        6  1  \n",
       "2        10.1        6  1  \n",
       "3         9.9        6  1  \n",
       "4         9.9        6  1  \n",
       "...       ...      ... ..  \n",
       "1594     10.5        5  0  \n",
       "1595     11.2        6  0  \n",
       "1596     11.0        6  0  \n",
       "1597     10.2        5  0  \n",
       "1598     11.0        6  0  \n",
       "\n",
       "[6497 rows x 13 columns]"
      ]
     },
     "execution_count": 11,
     "metadata": {},
     "output_type": "execute_result"
    }
   ],
   "source": [
    "df = pd.concat([whiteWine_df,redWine_df])\n",
    "df"
   ]
  },
  {
   "cell_type": "code",
   "execution_count": 14,
   "metadata": {},
   "outputs": [
    {
     "name": "stderr",
     "output_type": "stream",
     "text": [
      "Method register_pandas_dataframe: This is an experimental method, and may change at any time. Please see https://aka.ms/azuremlexperimental for more information.\n"
     ]
    },
    {
     "name": "stdout",
     "output_type": "stream",
     "text": [
      "Validating arguments.\n",
      "Arguments validated.\n",
      "Successfully obtained datastore reference and path.\n",
      "Uploading file to managed-dataset/34ac27ff-6f55-402a-a6a2-142e012d7e9b/\n",
      "Successfully uploaded file to datastore.\n",
      "Creating and registering a new dataset.\n",
      "Successfully created and registered a new dataset.\n"
     ]
    }
   ],
   "source": [
    "#Register Dataset\n",
    "from azureml.core import Workspace, Datastore, Dataset\n",
    "import pandas as pd\n",
    "\n",
    "datastore = Datastore.get(ws, 'workspaceblobstore')\n",
    "dataset = Dataset.Tabular.register_pandas_dataframe(df, datastore, \"wine_classification\", show_progress=True)"
   ]
  },
  {
   "cell_type": "markdown",
   "metadata": {},
   "source": [
    "## AutoML Configuration\n",
    "\n",
    "TODO: Explain why you chose the automl settings and cofiguration you used below."
   ]
  },
  {
   "cell_type": "code",
   "execution_count": 17,
   "metadata": {},
   "outputs": [],
   "source": [
    "# automl settings\n",
    "automl_settings = {\n",
    "    \"experiment_timeout_minutes\": 20,\n",
    "    \"max_concurrent_iterations\": 5,\n",
    "    \"primary_metric\" : 'AUC_weighted'\n",
    "}\n",
    "\n",
    "#automl config \n",
    "automl_config = AutoMLConfig(compute_target=compute_target,\n",
    "                             task = \"classification\",\n",
    "                             training_data=dataset,\n",
    "                             label_column_name=\"y\",   \n",
    "                             enable_early_stopping= True,\n",
    "                             featurization= 'auto',\n",
    "                             debug_log = \"automl_errors.log\",\n",
    "                             **automl_settings\n",
    "                            )\n"
   ]
  },
  {
   "cell_type": "code",
   "execution_count": 18,
   "metadata": {
    "gather": {
     "logged": 1598431107951
    },
    "jupyter": {
     "outputs_hidden": false,
     "source_hidden": false
    },
    "nteract": {
     "transient": {
      "deleting": false
     }
    }
   },
   "outputs": [
    {
     "name": "stdout",
     "output_type": "stream",
     "text": [
      "Submitting remote run.\n"
     ]
    },
    {
     "data": {
      "text/html": [
       "<table style=\"width:100%\"><tr><th>Experiment</th><th>Id</th><th>Type</th><th>Status</th><th>Details Page</th><th>Docs Page</th></tr><tr><td>automl</td><td>AutoML_23ff9a2a-e797-4f67-a468-e9c037c671d9</td><td>automl</td><td>NotStarted</td><td><a href=\"https://ml.azure.com/runs/AutoML_23ff9a2a-e797-4f67-a468-e9c037c671d9?wsid=/subscriptions/3d1a56d2-7c81-4118-9790-f85d1acf0c77/resourcegroups/aml-quickstarts-161891/workspaces/quick-starts-ws-161891&amp;tid=660b3398-b80e-49d2-bc5b-ac1dc93b5254\" target=\"_blank\" rel=\"noopener\">Link to Azure Machine Learning studio</a></td><td><a href=\"https://docs.microsoft.com/en-us/python/api/overview/azure/ml/intro?view=azure-ml-py\" target=\"_blank\" rel=\"noopener\">Link to Documentation</a></td></tr></table>"
      ],
      "text/plain": [
       "<IPython.core.display.HTML object>"
      ]
     },
     "metadata": {},
     "output_type": "display_data"
    }
   ],
   "source": [
    "# TODO: Submit your experiment\n",
    "automl_run = experiment.submit(automl_config)"
   ]
  },
  {
   "cell_type": "markdown",
   "metadata": {},
   "source": [
    "## Run Details\n",
    "\n",
    "OPTIONAL: Write about the different models trained and their performance. Why do you think some models did better than others?\n",
    "\n",
    "TODO: In the cell below, use the `RunDetails` widget to show the different experiments."
   ]
  },
  {
   "cell_type": "code",
   "execution_count": 19,
   "metadata": {
    "gather": {
     "logged": 1598431121770
    },
    "jupyter": {
     "outputs_hidden": false,
     "source_hidden": false
    },
    "nteract": {
     "transient": {
      "deleting": false
     }
    }
   },
   "outputs": [
    {
     "data": {
      "application/vnd.jupyter.widget-view+json": {
       "model_id": "a9f3abd0199d4113bced8505c8772c65",
       "version_major": 2,
       "version_minor": 0
      },
      "text/plain": [
       "_AutoMLWidget(widget_settings={'childWidgetDisplay': 'popup', 'send_telemetry': False, 'log_level': 'INFO', 's…"
      ]
     },
     "metadata": {},
     "output_type": "display_data"
    },
    {
     "data": {
      "application/aml.mini.widget.v1": "{\"status\": \"Completed\", \"workbench_run_details_uri\": \"https://ml.azure.com/runs/AutoML_23ff9a2a-e797-4f67-a468-e9c037c671d9?wsid=/subscriptions/3d1a56d2-7c81-4118-9790-f85d1acf0c77/resourcegroups/aml-quickstarts-161891/workspaces/quick-starts-ws-161891&tid=660b3398-b80e-49d2-bc5b-ac1dc93b5254\", \"run_id\": \"AutoML_23ff9a2a-e797-4f67-a468-e9c037c671d9\", \"run_properties\": {\"run_id\": \"AutoML_23ff9a2a-e797-4f67-a468-e9c037c671d9\", \"created_utc\": \"2021-10-24T16:58:20.660701Z\", \"properties\": {\"num_iterations\": \"1000\", \"training_type\": \"TrainFull\", \"acquisition_function\": \"EI\", \"primary_metric\": \"AUC_weighted\", \"train_split\": \"0\", \"acquisition_parameter\": \"0\", \"num_cross_validation\": null, \"target\": \"aml-compute\", \"AMLSettingsJsonString\": \"{\\\"path\\\":null,\\\"name\\\":\\\"automl\\\",\\\"subscription_id\\\":\\\"3d1a56d2-7c81-4118-9790-f85d1acf0c77\\\",\\\"resource_group\\\":\\\"aml-quickstarts-161891\\\",\\\"workspace_name\\\":\\\"quick-starts-ws-161891\\\",\\\"region\\\":\\\"southcentralus\\\",\\\"compute_target\\\":\\\"aml-compute\\\",\\\"spark_service\\\":null,\\\"azure_service\\\":\\\"remote\\\",\\\"many_models\\\":false,\\\"pipeline_fetch_max_batch_size\\\":1,\\\"enable_batch_run\\\":false,\\\"enable_run_restructure\\\":false,\\\"start_auxiliary_runs_before_parent_complete\\\":false,\\\"enable_code_generation\\\":false,\\\"iterations\\\":1000,\\\"primary_metric\\\":\\\"AUC_weighted\\\",\\\"task_type\\\":\\\"classification\\\",\\\"data_script\\\":null,\\\"test_size\\\":0.0,\\\"test_include_predictions_only\\\":false,\\\"validation_size\\\":0.0,\\\"n_cross_validations\\\":null,\\\"y_min\\\":null,\\\"y_max\\\":null,\\\"num_classes\\\":null,\\\"featurization\\\":\\\"auto\\\",\\\"_ignore_package_version_incompatibilities\\\":false,\\\"is_timeseries\\\":false,\\\"max_cores_per_iteration\\\":1,\\\"max_concurrent_iterations\\\":5,\\\"iteration_timeout_minutes\\\":null,\\\"mem_in_mb\\\":null,\\\"enforce_time_on_windows\\\":false,\\\"experiment_timeout_minutes\\\":20,\\\"experiment_exit_score\\\":null,\\\"whitelist_models\\\":null,\\\"blacklist_algos\\\":[\\\"TensorFlowLinearClassifier\\\",\\\"TensorFlowDNN\\\"],\\\"supported_models\\\":[\\\"KNN\\\",\\\"TensorFlowDNN\\\",\\\"DecisionTree\\\",\\\"XGBoostClassifier\\\",\\\"LinearSVM\\\",\\\"AveragedPerceptronClassifier\\\",\\\"LogisticRegression\\\",\\\"LightGBM\\\",\\\"ExtremeRandomTrees\\\",\\\"BernoulliNaiveBayes\\\",\\\"RandomForest\\\",\\\"SVM\\\",\\\"GradientBoosting\\\",\\\"TensorFlowLinearClassifier\\\",\\\"SGD\\\",\\\"MultinomialNaiveBayes\\\"],\\\"private_models\\\":[],\\\"auto_blacklist\\\":true,\\\"blacklist_samples_reached\\\":false,\\\"exclude_nan_labels\\\":true,\\\"verbosity\\\":20,\\\"_debug_log\\\":\\\"azureml_automl.log\\\",\\\"show_warnings\\\":false,\\\"model_explainability\\\":true,\\\"service_url\\\":null,\\\"sdk_url\\\":null,\\\"sdk_packages\\\":null,\\\"enable_onnx_compatible_models\\\":false,\\\"enable_split_onnx_featurizer_estimator_models\\\":false,\\\"vm_type\\\":\\\"STANDARD_D16_V3\\\",\\\"telemetry_verbosity\\\":20,\\\"send_telemetry\\\":true,\\\"enable_dnn\\\":false,\\\"scenario\\\":\\\"SDK-1.13.0\\\",\\\"environment_label\\\":null,\\\"save_mlflow\\\":false,\\\"force_text_dnn\\\":false,\\\"enable_feature_sweeping\\\":true,\\\"enable_early_stopping\\\":true,\\\"early_stopping_n_iters\\\":10,\\\"metrics\\\":null,\\\"enable_metric_confidence\\\":false,\\\"enable_ensembling\\\":true,\\\"enable_stack_ensembling\\\":true,\\\"ensemble_iterations\\\":15,\\\"enable_tf\\\":false,\\\"enable_subsampling\\\":null,\\\"subsample_seed\\\":null,\\\"enable_nimbusml\\\":false,\\\"enable_streaming\\\":false,\\\"force_streaming\\\":false,\\\"track_child_runs\\\":true,\\\"allowed_private_models\\\":[],\\\"label_column_name\\\":\\\"y\\\",\\\"weight_column_name\\\":null,\\\"cv_split_column_names\\\":null,\\\"positive_label\\\":null,\\\"enable_local_managed\\\":false,\\\"_local_managed_run_id\\\":null,\\\"cost_mode\\\":1,\\\"lag_length\\\":0,\\\"metric_operation\\\":\\\"maximize\\\",\\\"preprocess\\\":true}\", \"DataPrepJsonString\": \"{\\\\\\\"training_data\\\\\\\": {\\\\\\\"datasetId\\\\\\\": \\\\\\\"56c48c44-e9b4-42e4-8e76-c2545b9057b7\\\\\\\"}, \\\\\\\"datasets\\\\\\\": 0}\", \"EnableSubsampling\": null, \"runTemplate\": \"AutoML\", \"azureml.runsource\": \"automl\", \"display_task_type\": \"classification\", \"dependencies_versions\": \"{\\\"azureml-widgets\\\": \\\"1.34.0\\\", \\\"azureml-train\\\": \\\"1.34.0\\\", \\\"azureml-train-restclients-hyperdrive\\\": \\\"1.34.0\\\", \\\"azureml-train-core\\\": \\\"1.34.0\\\", \\\"azureml-train-automl\\\": \\\"1.34.0\\\", \\\"azureml-train-automl-runtime\\\": \\\"1.34.0\\\", \\\"azureml-train-automl-client\\\": \\\"1.34.0\\\", \\\"azureml-tensorboard\\\": \\\"1.34.0\\\", \\\"azureml-telemetry\\\": \\\"1.34.0\\\", \\\"azureml-sdk\\\": \\\"1.34.0\\\", \\\"azureml-samples\\\": \\\"0+unknown\\\", \\\"azureml-responsibleai\\\": \\\"1.34.0\\\", \\\"azureml-pipeline\\\": \\\"1.34.0\\\", \\\"azureml-pipeline-steps\\\": \\\"1.34.0\\\", \\\"azureml-pipeline-core\\\": \\\"1.34.0\\\", \\\"azureml-opendatasets\\\": \\\"1.34.0\\\", \\\"azureml-mlflow\\\": \\\"1.34.0\\\", \\\"azureml-interpret\\\": \\\"1.34.0\\\", \\\"azureml-inference-server-http\\\": \\\"0.3.1\\\", \\\"azureml-explain-model\\\": \\\"1.34.0\\\", \\\"azureml-defaults\\\": \\\"1.34.0\\\", \\\"azureml-dataset-runtime\\\": \\\"1.34.0\\\", \\\"azureml-dataprep\\\": \\\"2.22.2\\\", \\\"azureml-dataprep-rslex\\\": \\\"1.20.1\\\", \\\"azureml-dataprep-native\\\": \\\"38.0.0\\\", \\\"azureml-datadrift\\\": \\\"1.34.0\\\", \\\"azureml-core\\\": \\\"1.34.0\\\", \\\"azureml-contrib-services\\\": \\\"1.34.0\\\", \\\"azureml-contrib-server\\\": \\\"1.34.0\\\", \\\"azureml-contrib-reinforcementlearning\\\": \\\"1.34.0\\\", \\\"azureml-contrib-pipeline-steps\\\": \\\"1.34.0\\\", \\\"azureml-contrib-notebook\\\": \\\"1.34.0\\\", \\\"azureml-contrib-fairness\\\": \\\"1.34.0\\\", \\\"azureml-contrib-dataset\\\": \\\"1.34.0\\\", \\\"azureml-contrib-automl-pipeline-steps\\\": \\\"1.34.0\\\", \\\"azureml-cli-common\\\": \\\"1.34.0\\\", \\\"azureml-automl-runtime\\\": \\\"1.34.0\\\", \\\"azureml-automl-dnn-nlp\\\": \\\"1.34.0\\\", \\\"azureml-automl-core\\\": \\\"1.34.0\\\", \\\"azureml-accel-models\\\": \\\"1.34.0\\\"}\", \"_aml_system_scenario_identification\": \"Remote.Parent\", \"ClientType\": \"SDK\", \"environment_cpu_name\": \"AzureML-AutoML\", \"environment_cpu_label\": \"prod\", \"environment_gpu_name\": \"AzureML-AutoML-GPU\", \"environment_gpu_label\": \"prod\", \"root_attribution\": \"automl\", \"attribution\": \"AutoML\", \"Orchestrator\": \"AutoML\", \"CancelUri\": \"https://southcentralus.api.azureml.ms/jasmine/v1.0/subscriptions/3d1a56d2-7c81-4118-9790-f85d1acf0c77/resourceGroups/aml-quickstarts-161891/providers/Microsoft.MachineLearningServices/workspaces/quick-starts-ws-161891/experimentids/0e307076-cc46-4d92-be70-fe190fb94517/cancel/AutoML_23ff9a2a-e797-4f67-a468-e9c037c671d9\", \"ClientSdkVersion\": \"1.34.1\", \"snapshotId\": \"00000000-0000-0000-0000-000000000000\", \"SetupRunId\": \"AutoML_23ff9a2a-e797-4f67-a468-e9c037c671d9_setup\", \"SetupRunContainerId\": \"dcid.AutoML_23ff9a2a-e797-4f67-a468-e9c037c671d9_setup\", \"FeaturizationRunJsonPath\": \"featurizer_container.json\", \"FeaturizationRunId\": \"AutoML_23ff9a2a-e797-4f67-a468-e9c037c671d9_featurize\", \"ProblemInfoJsonString\": \"{\\\"dataset_num_categorical\\\": 0, \\\"is_sparse\\\": true, \\\"subsampling\\\": false, \\\"has_extra_col\\\": true, \\\"dataset_classes\\\": 2, \\\"dataset_features\\\": 18, \\\"dataset_samples\\\": 6497, \\\"single_frequency_class_detected\\\": false}\", \"ModelExplainRunId\": \"AutoML_23ff9a2a-e797-4f67-a468-e9c037c671d9_ModelExplain\"}, \"tags\": {\"model_explain_run\": \"best_run\", \"_aml_system_azureml.automlComponent\": \"AutoML\", \"pipeline_id\": \"\", \"score\": \"\", \"predicted_cost\": \"\", \"fit_time\": \"\", \"training_percent\": \"\", \"iteration\": \"\", \"run_preprocessor\": \"\", \"run_algorithm\": \"\", \"dynamic_whitelisting_iterations\": \"<25>;<30>;<35>;<40>;<45>;<50>;\", \"_aml_system_azureml.automl_early_exit_message\": \"No scores improved over last 20 iterations, so experiment stopped early. This early stopping behavior can be disabled by setting enable_early_stopping = False in AutoMLConfig for notebook/python SDK runs.\", \"automl_best_child_run_id\": \"AutoML_23ff9a2a-e797-4f67-a468-e9c037c671d9_52\", \"model_explain_best_run_child_id\": \"AutoML_23ff9a2a-e797-4f67-a468-e9c037c671d9_52\"}, \"end_time_utc\": \"2021-10-24T17:21:16.778977Z\", \"status\": \"Completed\", \"log_files\": {}, \"log_groups\": [], \"run_duration\": \"0:22:56\", \"run_number\": \"1\", \"run_queued_details\": {\"status\": \"Completed\", \"details\": null}}, \"child_runs\": [{\"run_id\": \"AutoML_23ff9a2a-e797-4f67-a468-e9c037c671d9_setup\", \"run_number\": 2, \"metric\": null, \"status\": \"Completed\", \"run_type\": \"azureml.scriptrun\", \"training_percent\": null, \"start_time\": \"2021-10-24T17:00:48.680929Z\", \"end_time\": \"2021-10-24T17:02:30.988812Z\", \"created_time\": \"2021-10-24T16:58:33.973901Z\", \"created_time_dt\": \"2021-10-24T16:58:33.973901Z\", \"duration\": \"0:03:57\", \"iteration\": null, \"goal\": null, \"run_name\": \"Completed\", \"run_properties\": null}, {\"run_id\": \"AutoML_23ff9a2a-e797-4f67-a468-e9c037c671d9_featurize\", \"run_number\": 3, \"metric\": null, \"status\": \"Completed\", \"run_type\": \"automl.featurization\", \"training_percent\": null, \"start_time\": \"2021-10-24T17:02:31.77651Z\", \"end_time\": \"2021-10-24T17:05:03.409279Z\", \"created_time\": \"2021-10-24T17:02:31.376689Z\", \"created_time_dt\": \"2021-10-24T17:02:31.376689Z\", \"duration\": \"0:02:32\", \"iteration\": null, \"goal\": null, \"run_name\": \"Completed\", \"run_properties\": null}, {\"run_id\": \"AutoML_23ff9a2a-e797-4f67-a468-e9c037c671d9_0\", \"run_number\": 5, \"metric\": null, \"status\": \"Completed\", \"run_type\": \"azureml.scriptrun\", \"training_percent\": \"100\", \"start_time\": \"2021-10-24T17:08:30.152884Z\", \"end_time\": \"2021-10-24T17:10:10.948653Z\", \"created_time\": \"2021-10-24T17:05:04.468983Z\", \"created_time_dt\": \"2021-10-24T17:05:04.468983Z\", \"duration\": \"0:05:06\", \"iteration\": \"0\", \"goal\": \"AUC_weighted_max\", \"run_name\": \"MaxAbsScaler, LightGBM\", \"run_properties\": \"copy=True\", \"primary_metric\": 0.99884139, \"best_metric\": 0.99884139}, {\"run_id\": \"AutoML_23ff9a2a-e797-4f67-a468-e9c037c671d9_4\", \"run_number\": 6, \"metric\": null, \"status\": \"Completed\", \"run_type\": \"azureml.scriptrun\", \"training_percent\": \"100\", \"start_time\": \"2021-10-24T17:05:53.295903Z\", \"end_time\": \"2021-10-24T17:08:18.821776Z\", \"created_time\": \"2021-10-24T17:05:04.499308Z\", \"created_time_dt\": \"2021-10-24T17:05:04.499308Z\", \"duration\": \"0:03:14\", \"iteration\": \"4\", \"goal\": \"AUC_weighted_max\", \"run_name\": \"StandardScalerWrapper, LightGBM\", \"run_properties\": \"\\n    copy=True,\\n    with_mean=False,\\n    with_std=True\\n\", \"primary_metric\": 0.99564917, \"best_metric\": 0.99884139}, {\"run_id\": \"AutoML_23ff9a2a-e797-4f67-a468-e9c037c671d9_1\", \"run_number\": 7, \"metric\": null, \"status\": \"Completed\", \"run_type\": \"azureml.scriptrun\", \"training_percent\": \"100\", \"start_time\": \"2021-10-24T17:08:28.523532Z\", \"end_time\": \"2021-10-24T17:10:04.414329Z\", \"created_time\": \"2021-10-24T17:05:04.506023Z\", \"created_time_dt\": \"2021-10-24T17:05:04.506023Z\", \"duration\": \"0:04:59\", \"iteration\": \"1\", \"goal\": \"AUC_weighted_max\", \"run_name\": \"MaxAbsScaler, XGBoostClassifier\", \"run_properties\": \"copy=True\", \"primary_metric\": 0.99848686, \"best_metric\": 0.99884139}, {\"run_id\": \"AutoML_23ff9a2a-e797-4f67-a468-e9c037c671d9_2\", \"run_number\": 8, \"metric\": null, \"status\": \"Completed\", \"run_type\": \"azureml.scriptrun\", \"training_percent\": \"100\", \"start_time\": \"2021-10-24T17:08:26.173302Z\", \"end_time\": \"2021-10-24T17:10:11.595442Z\", \"created_time\": \"2021-10-24T17:05:04.502009Z\", \"created_time_dt\": \"2021-10-24T17:05:04.502009Z\", \"duration\": \"0:05:07\", \"iteration\": \"2\", \"goal\": \"AUC_weighted_max\", \"run_name\": \"MaxAbsScaler, ExtremeRandomTrees\", \"run_properties\": \"copy=True\", \"primary_metric\": 0.99314984, \"best_metric\": 0.99884139}, {\"run_id\": \"AutoML_23ff9a2a-e797-4f67-a468-e9c037c671d9_3\", \"run_number\": 9, \"metric\": null, \"status\": \"Completed\", \"run_type\": \"azureml.scriptrun\", \"training_percent\": \"100\", \"start_time\": \"2021-10-24T17:05:11.644649Z\", \"end_time\": \"2021-10-24T17:05:49.069852Z\", \"created_time\": \"2021-10-24T17:05:04.610339Z\", \"created_time_dt\": \"2021-10-24T17:05:04.610339Z\", \"duration\": \"0:00:44\", \"iteration\": \"3\", \"goal\": \"AUC_weighted_max\", \"run_name\": \"MaxAbsScaler, RandomForest\", \"run_properties\": \"copy=True\", \"primary_metric\": 0.99596139, \"best_metric\": 0.99884139}, {\"run_id\": \"AutoML_23ff9a2a-e797-4f67-a468-e9c037c671d9_5\", \"run_number\": 10, \"metric\": null, \"status\": \"Completed\", \"run_type\": \"azureml.scriptrun\", \"training_percent\": \"100\", \"start_time\": \"2021-10-24T17:08:28.09921Z\", \"end_time\": \"2021-10-24T17:09:57.866038Z\", \"created_time\": \"2021-10-24T17:05:51.992653Z\", \"created_time_dt\": \"2021-10-24T17:05:51.992653Z\", \"duration\": \"0:04:05\", \"iteration\": \"5\", \"goal\": \"AUC_weighted_max\", \"run_name\": \"SparseNormalizer, XGBoostClassifier\", \"run_properties\": \"copy=True, norm='max'\", \"primary_metric\": 0.99571775, \"best_metric\": 0.99884139}, {\"run_id\": \"AutoML_23ff9a2a-e797-4f67-a468-e9c037c671d9_6\", \"run_number\": 11, \"metric\": null, \"status\": \"Completed\", \"run_type\": \"azureml.scriptrun\", \"training_percent\": \"100\", \"start_time\": \"2021-10-24T17:08:29.535239Z\", \"end_time\": \"2021-10-24T17:09:11.509265Z\", \"created_time\": \"2021-10-24T17:08:21.919878Z\", \"created_time_dt\": \"2021-10-24T17:08:21.919878Z\", \"duration\": \"0:00:49\", \"iteration\": \"6\", \"goal\": \"AUC_weighted_max\", \"run_name\": \"SparseNormalizer, RandomForest\", \"run_properties\": \"copy=True, norm='l2'\", \"primary_metric\": 0.99433279, \"best_metric\": 0.99884139}, {\"run_id\": \"AutoML_23ff9a2a-e797-4f67-a468-e9c037c671d9_7\", \"run_number\": 12, \"metric\": null, \"status\": \"Completed\", \"run_type\": \"azureml.scriptrun\", \"training_percent\": \"100\", \"start_time\": \"2021-10-24T17:09:18.9942Z\", \"end_time\": \"2021-10-24T17:11:42.22766Z\", \"created_time\": \"2021-10-24T17:09:15.002288Z\", \"created_time_dt\": \"2021-10-24T17:09:15.002288Z\", \"duration\": \"0:02:27\", \"iteration\": \"7\", \"goal\": \"AUC_weighted_max\", \"run_name\": \"StandardScalerWrapper, XGBoostClassifier\", \"run_properties\": \"\\n    copy=True,\\n    with_mean=False,\\n    with_std=False\\n\", \"primary_metric\": 0.99786168, \"best_metric\": 0.99884139}, {\"run_id\": \"AutoML_23ff9a2a-e797-4f67-a468-e9c037c671d9_8\", \"run_number\": 13, \"metric\": null, \"status\": \"Completed\", \"run_type\": \"azureml.scriptrun\", \"training_percent\": \"100\", \"start_time\": \"2021-10-24T17:10:07.08667Z\", \"end_time\": \"2021-10-24T17:10:43.995656Z\", \"created_time\": \"2021-10-24T17:10:00.693061Z\", \"created_time_dt\": \"2021-10-24T17:10:00.693061Z\", \"duration\": \"0:00:43\", \"iteration\": \"8\", \"goal\": \"AUC_weighted_max\", \"run_name\": \"SparseNormalizer, XGBoostClassifier\", \"run_properties\": \"copy=True, norm='max'\", \"primary_metric\": 0.99469531, \"best_metric\": 0.99884139}, {\"run_id\": \"AutoML_23ff9a2a-e797-4f67-a468-e9c037c671d9_9\", \"run_number\": 14, \"metric\": null, \"status\": \"Completed\", \"run_type\": \"azureml.scriptrun\", \"training_percent\": \"100\", \"start_time\": \"2021-10-24T17:10:14.571556Z\", \"end_time\": \"2021-10-24T17:10:53.748314Z\", \"created_time\": \"2021-10-24T17:10:07.620886Z\", \"created_time_dt\": \"2021-10-24T17:10:07.620886Z\", \"duration\": \"0:00:46\", \"iteration\": \"9\", \"goal\": \"AUC_weighted_max\", \"run_name\": \"MaxAbsScaler, RandomForest\", \"run_properties\": \"copy=True\", \"primary_metric\": 0.99468876, \"best_metric\": 0.99884139}, {\"run_id\": \"AutoML_23ff9a2a-e797-4f67-a468-e9c037c671d9_10\", \"run_number\": 15, \"metric\": null, \"status\": \"Completed\", \"run_type\": \"azureml.scriptrun\", \"training_percent\": \"100\", \"start_time\": \"2021-10-24T17:10:19.49178Z\", \"end_time\": \"2021-10-24T17:10:57.909194Z\", \"created_time\": \"2021-10-24T17:10:14.216095Z\", \"created_time_dt\": \"2021-10-24T17:10:14.216095Z\", \"duration\": \"0:00:43\", \"iteration\": \"10\", \"goal\": \"AUC_weighted_max\", \"run_name\": \"SparseNormalizer, LightGBM\", \"run_properties\": \"copy=True, norm='l1'\", \"primary_metric\": 0.99315253, \"best_metric\": 0.99884139}, {\"run_id\": \"AutoML_23ff9a2a-e797-4f67-a468-e9c037c671d9_11\", \"run_number\": 16, \"metric\": null, \"status\": \"Completed\", \"run_type\": \"azureml.scriptrun\", \"training_percent\": \"100\", \"start_time\": \"2021-10-24T17:10:23.730377Z\", \"end_time\": \"2021-10-24T17:11:09.582916Z\", \"created_time\": \"2021-10-24T17:10:18.169689Z\", \"created_time_dt\": \"2021-10-24T17:10:18.169689Z\", \"duration\": \"0:00:51\", \"iteration\": \"11\", \"goal\": \"AUC_weighted_max\", \"run_name\": \"MaxAbsScaler, ExtremeRandomTrees\", \"run_properties\": \"copy=True\", \"primary_metric\": 0.99596354, \"best_metric\": 0.99884139}, {\"run_id\": \"AutoML_23ff9a2a-e797-4f67-a468-e9c037c671d9_12\", \"run_number\": 17, \"metric\": null, \"status\": \"Completed\", \"run_type\": \"azureml.scriptrun\", \"training_percent\": \"100\", \"start_time\": \"2021-10-24T17:10:52.111307Z\", \"end_time\": \"2021-10-24T17:11:31.54298Z\", \"created_time\": \"2021-10-24T17:10:46.792502Z\", \"created_time_dt\": \"2021-10-24T17:10:46.792502Z\", \"duration\": \"0:00:44\", \"iteration\": \"12\", \"goal\": \"AUC_weighted_max\", \"run_name\": \"StandardScalerWrapper, XGBoostClassifier\", \"run_properties\": \"\\n    copy=True,\\n    with_mean=False,\\n    with_std=False\\n\", \"primary_metric\": 0.99768205, \"best_metric\": 0.99884139}, {\"run_id\": \"AutoML_23ff9a2a-e797-4f67-a468-e9c037c671d9_13\", \"run_number\": 18, \"metric\": null, \"status\": \"Completed\", \"run_type\": \"azureml.scriptrun\", \"training_percent\": \"100\", \"start_time\": \"2021-10-24T17:11:02.271757Z\", \"end_time\": \"2021-10-24T17:11:41.922738Z\", \"created_time\": \"2021-10-24T17:10:56.488228Z\", \"created_time_dt\": \"2021-10-24T17:10:56.488228Z\", \"duration\": \"0:00:45\", \"iteration\": \"13\", \"goal\": \"AUC_weighted_max\", \"run_name\": \"StandardScalerWrapper, ExtremeRandomTrees\", \"run_properties\": \"\\n    copy=True,\\n    with_mean=False,\\n    with_std=False\\n\", \"primary_metric\": 0.97566846, \"best_metric\": 0.99884139}, {\"run_id\": \"AutoML_23ff9a2a-e797-4f67-a468-e9c037c671d9_14\", \"run_number\": 19, \"metric\": null, \"status\": \"Completed\", \"run_type\": \"azureml.scriptrun\", \"training_percent\": \"100\", \"start_time\": \"2021-10-24T17:11:07.929984Z\", \"end_time\": \"2021-10-24T17:11:49.684951Z\", \"created_time\": \"2021-10-24T17:11:00.669002Z\", \"created_time_dt\": \"2021-10-24T17:11:00.669002Z\", \"duration\": \"0:00:49\", \"iteration\": \"14\", \"goal\": \"AUC_weighted_max\", \"run_name\": \"StandardScalerWrapper, RandomForest\", \"run_properties\": \"\\n    copy=True,\\n    with_mean=False,\\n    with_std=False\\n\", \"primary_metric\": 0.99889981, \"best_metric\": 0.99889981}, {\"run_id\": \"AutoML_23ff9a2a-e797-4f67-a468-e9c037c671d9_15\", \"run_number\": 20, \"metric\": null, \"status\": \"Completed\", \"run_type\": \"azureml.scriptrun\", \"training_percent\": \"100\", \"start_time\": \"2021-10-24T17:11:18.222272Z\", \"end_time\": \"2021-10-24T17:11:55.396245Z\", \"created_time\": \"2021-10-24T17:11:12.378533Z\", \"created_time_dt\": \"2021-10-24T17:11:12.378533Z\", \"duration\": \"0:00:43\", \"iteration\": \"15\", \"goal\": \"AUC_weighted_max\", \"run_name\": \"MaxAbsScaler, LightGBM\", \"run_properties\": \"copy=True\", \"primary_metric\": 0.99629943, \"best_metric\": 0.99889981}, {\"run_id\": \"AutoML_23ff9a2a-e797-4f67-a468-e9c037c671d9_16\", \"run_number\": 21, \"metric\": null, \"status\": \"Completed\", \"run_type\": \"azureml.scriptrun\", \"training_percent\": \"100\", \"start_time\": \"2021-10-24T17:11:39.457332Z\", \"end_time\": \"2021-10-24T17:12:18.763512Z\", \"created_time\": \"2021-10-24T17:11:34.21298Z\", \"created_time_dt\": \"2021-10-24T17:11:34.21298Z\", \"duration\": \"0:00:44\", \"iteration\": \"16\", \"goal\": \"AUC_weighted_max\", \"run_name\": \"MaxAbsScaler, LogisticRegression\", \"run_properties\": \"copy=True\", \"primary_metric\": 0.99511447, \"best_metric\": 0.99889981}, {\"run_id\": \"AutoML_23ff9a2a-e797-4f67-a468-e9c037c671d9_17\", \"run_number\": 22, \"metric\": null, \"status\": \"Completed\", \"run_type\": \"azureml.scriptrun\", \"training_percent\": \"100\", \"start_time\": \"2021-10-24T17:11:50.575443Z\", \"end_time\": \"2021-10-24T17:14:15.032268Z\", \"created_time\": \"2021-10-24T17:11:45.192346Z\", \"created_time_dt\": \"2021-10-24T17:11:45.192346Z\", \"duration\": \"0:02:29\", \"iteration\": \"17\", \"goal\": \"AUC_weighted_max\", \"run_name\": \"StandardScalerWrapper, ExtremeRandomTrees\", \"run_properties\": \"\\n    copy=True,\\n    with_mean=False,\\n    with_std=True\\n\", \"primary_metric\": 0.99677544, \"best_metric\": 0.99889981}, {\"run_id\": \"AutoML_23ff9a2a-e797-4f67-a468-e9c037c671d9_18\", \"run_number\": 23, \"metric\": null, \"status\": \"Completed\", \"run_type\": \"azureml.scriptrun\", \"training_percent\": \"100\", \"start_time\": \"2021-10-24T17:11:51.339067Z\", \"end_time\": \"2021-10-24T17:12:27.299793Z\", \"created_time\": \"2021-10-24T17:11:45.217658Z\", \"created_time_dt\": \"2021-10-24T17:11:45.217658Z\", \"duration\": \"0:00:42\", \"iteration\": \"18\", \"goal\": \"AUC_weighted_max\", \"run_name\": \"StandardScalerWrapper, XGBoostClassifier\", \"run_properties\": \"\\n    copy=True,\\n    with_mean=False,\\n    with_std=False\\n\", \"primary_metric\": 0.99473615, \"best_metric\": 0.99889981}, {\"run_id\": \"AutoML_23ff9a2a-e797-4f67-a468-e9c037c671d9_19\", \"run_number\": 24, \"metric\": null, \"status\": \"Completed\", \"run_type\": \"azureml.scriptrun\", \"training_percent\": \"100\", \"start_time\": \"2021-10-24T17:11:57.637844Z\", \"end_time\": \"2021-10-24T17:12:36.153322Z\", \"created_time\": \"2021-10-24T17:11:52.280225Z\", \"created_time_dt\": \"2021-10-24T17:11:52.280225Z\", \"duration\": \"0:00:43\", \"iteration\": \"19\", \"goal\": \"AUC_weighted_max\", \"run_name\": \"MaxAbsScaler, ExtremeRandomTrees\", \"run_properties\": \"copy=True\", \"primary_metric\": 0.99057243, \"best_metric\": 0.99889981}, {\"run_id\": \"AutoML_23ff9a2a-e797-4f67-a468-e9c037c671d9_20\", \"run_number\": 25, \"metric\": null, \"status\": \"Completed\", \"run_type\": \"azureml.scriptrun\", \"training_percent\": \"100\", \"start_time\": \"2021-10-24T17:12:04.69304Z\", \"end_time\": \"2021-10-24T17:12:44.807661Z\", \"created_time\": \"2021-10-24T17:11:57.986525Z\", \"created_time_dt\": \"2021-10-24T17:11:57.986525Z\", \"duration\": \"0:00:46\", \"iteration\": \"20\", \"goal\": \"AUC_weighted_max\", \"run_name\": \"MaxAbsScaler, LogisticRegression\", \"run_properties\": \"copy=True\", \"primary_metric\": 0.99518444, \"best_metric\": 0.99889981}, {\"run_id\": \"AutoML_23ff9a2a-e797-4f67-a468-e9c037c671d9_21\", \"run_number\": 26, \"metric\": null, \"status\": \"Completed\", \"run_type\": \"azureml.scriptrun\", \"training_percent\": \"100\", \"start_time\": \"2021-10-24T17:12:25.95386Z\", \"end_time\": \"2021-10-24T17:14:50.98793Z\", \"created_time\": \"2021-10-24T17:12:21.547285Z\", \"created_time_dt\": \"2021-10-24T17:12:21.547285Z\", \"duration\": \"0:02:29\", \"iteration\": \"21\", \"goal\": \"AUC_weighted_max\", \"run_name\": \"StandardScalerWrapper, XGBoostClassifier\", \"run_properties\": \"\\n    copy=True,\\n    with_mean=False,\\n    with_std=False\\n\", \"primary_metric\": 0.99512205, \"best_metric\": 0.99889981}, {\"run_id\": \"AutoML_23ff9a2a-e797-4f67-a468-e9c037c671d9_22\", \"run_number\": 27, \"metric\": null, \"status\": \"Completed\", \"run_type\": \"azureml.scriptrun\", \"training_percent\": \"100\", \"start_time\": \"2021-10-24T17:12:35.23535Z\", \"end_time\": \"2021-10-24T17:14:59.11777Z\", \"created_time\": \"2021-10-24T17:12:30.089228Z\", \"created_time_dt\": \"2021-10-24T17:12:30.089228Z\", \"duration\": \"0:02:29\", \"iteration\": \"22\", \"goal\": \"AUC_weighted_max\", \"run_name\": \"StandardScalerWrapper, XGBoostClassifier\", \"run_properties\": \"\\n    copy=True,\\n    with_mean=False,\\n    with_std=False\\n\", \"primary_metric\": 0.9986597, \"best_metric\": 0.99889981}, {\"run_id\": \"AutoML_23ff9a2a-e797-4f67-a468-e9c037c671d9_23\", \"run_number\": 28, \"metric\": null, \"status\": \"Completed\", \"run_type\": \"azureml.scriptrun\", \"training_percent\": \"100\", \"start_time\": \"2021-10-24T17:12:45.275069Z\", \"end_time\": \"2021-10-24T17:13:23.684644Z\", \"created_time\": \"2021-10-24T17:12:39.137749Z\", \"created_time_dt\": \"2021-10-24T17:12:39.137749Z\", \"duration\": \"0:00:44\", \"iteration\": \"23\", \"goal\": \"AUC_weighted_max\", \"run_name\": \"MaxAbsScaler, RandomForest\", \"run_properties\": \"copy=True\", \"primary_metric\": 0.99289474, \"best_metric\": 0.99889981}, {\"run_id\": \"AutoML_23ff9a2a-e797-4f67-a468-e9c037c671d9_24\", \"run_number\": 29, \"metric\": null, \"status\": \"Completed\", \"run_type\": \"azureml.scriptrun\", \"training_percent\": \"100\", \"start_time\": \"2021-10-24T17:12:57.619646Z\", \"end_time\": \"2021-10-24T17:13:35.215531Z\", \"created_time\": \"2021-10-24T17:12:47.641928Z\", \"created_time_dt\": \"2021-10-24T17:12:47.641928Z\", \"duration\": \"0:00:47\", \"iteration\": \"24\", \"goal\": \"AUC_weighted_max\", \"run_name\": \"SparseNormalizer, XGBoostClassifier\", \"run_properties\": \"copy=True, norm='max'\", \"primary_metric\": 0.99300367, \"best_metric\": 0.99889981}, {\"run_id\": \"AutoML_23ff9a2a-e797-4f67-a468-e9c037c671d9_25\", \"run_number\": 30, \"metric\": null, \"status\": \"Completed\", \"run_type\": \"azureml.scriptrun\", \"training_percent\": \"100\", \"start_time\": \"2021-10-24T17:13:38.67836Z\", \"end_time\": \"2021-10-24T17:14:29.363896Z\", \"created_time\": \"2021-10-24T17:13:30.089402Z\", \"created_time_dt\": \"2021-10-24T17:13:30.089402Z\", \"duration\": \"0:00:59\", \"iteration\": \"25\", \"goal\": \"AUC_weighted_max\", \"run_name\": \"MaxAbsScaler, RandomForest\", \"run_properties\": \"copy=True\", \"primary_metric\": 0.98461344, \"best_metric\": 0.99889981}, {\"run_id\": \"AutoML_23ff9a2a-e797-4f67-a468-e9c037c671d9_26\", \"run_number\": 31, \"metric\": null, \"status\": \"Completed\", \"run_type\": \"azureml.scriptrun\", \"training_percent\": \"100\", \"start_time\": \"2021-10-24T17:13:40.612337Z\", \"end_time\": \"2021-10-24T17:14:20.944454Z\", \"created_time\": \"2021-10-24T17:13:37.136254Z\", \"created_time_dt\": \"2021-10-24T17:13:37.136254Z\", \"duration\": \"0:00:43\", \"iteration\": \"26\", \"goal\": \"AUC_weighted_max\", \"run_name\": \"MaxAbsScaler, LogisticRegression\", \"run_properties\": \"copy=True\", \"primary_metric\": 0.99509917, \"best_metric\": 0.99889981}, {\"run_id\": \"AutoML_23ff9a2a-e797-4f67-a468-e9c037c671d9_27\", \"run_number\": 32, \"metric\": null, \"status\": \"Completed\", \"run_type\": \"azureml.scriptrun\", \"training_percent\": \"100\", \"start_time\": \"2021-10-24T17:14:21.440375Z\", \"end_time\": \"2021-10-24T17:15:03.483504Z\", \"created_time\": \"2021-10-24T17:14:17.302405Z\", \"created_time_dt\": \"2021-10-24T17:14:17.302405Z\", \"duration\": \"0:00:46\", \"iteration\": \"27\", \"goal\": \"AUC_weighted_max\", \"run_name\": \"MaxAbsScaler, LogisticRegression\", \"run_properties\": \"copy=True\", \"primary_metric\": 0.99522086, \"best_metric\": 0.99889981}, {\"run_id\": \"AutoML_23ff9a2a-e797-4f67-a468-e9c037c671d9_28\", \"run_number\": 33, \"metric\": null, \"status\": \"Completed\", \"run_type\": \"azureml.scriptrun\", \"training_percent\": \"100\", \"start_time\": \"2021-10-24T17:14:28.327794Z\", \"end_time\": \"2021-10-24T17:15:05.961137Z\", \"created_time\": \"2021-10-24T17:14:22.827877Z\", \"created_time_dt\": \"2021-10-24T17:14:22.827877Z\", \"duration\": \"0:00:43\", \"iteration\": \"28\", \"goal\": \"AUC_weighted_max\", \"run_name\": \"MaxAbsScaler, LightGBM\", \"run_properties\": \"copy=True\", \"primary_metric\": 0.99834799, \"best_metric\": 0.99889981}, {\"run_id\": \"AutoML_23ff9a2a-e797-4f67-a468-e9c037c671d9_29\", \"run_number\": 34, \"metric\": null, \"status\": \"Completed\", \"run_type\": \"azureml.scriptrun\", \"training_percent\": \"100\", \"start_time\": \"2021-10-24T17:14:36.331467Z\", \"end_time\": \"2021-10-24T17:15:20.798527Z\", \"created_time\": \"2021-10-24T17:14:31.267911Z\", \"created_time_dt\": \"2021-10-24T17:14:31.267911Z\", \"duration\": \"0:00:49\", \"iteration\": \"29\", \"goal\": \"AUC_weighted_max\", \"run_name\": \"StandardScalerWrapper, LightGBM\", \"run_properties\": \"\\n    copy=True,\\n    with_mean=False,\\n    with_std=False\\n\", \"primary_metric\": 0.99662637, \"best_metric\": 0.99889981}, {\"run_id\": \"AutoML_23ff9a2a-e797-4f67-a468-e9c037c671d9_30\", \"run_number\": 35, \"metric\": null, \"status\": \"Completed\", \"run_type\": \"azureml.scriptrun\", \"training_percent\": \"100\", \"start_time\": \"2021-10-24T17:14:59.745517Z\", \"end_time\": \"2021-10-24T17:15:39.632542Z\", \"created_time\": \"2021-10-24T17:14:53.988612Z\", \"created_time_dt\": \"2021-10-24T17:14:53.988612Z\", \"duration\": \"0:00:45\", \"iteration\": \"30\", \"goal\": \"AUC_weighted_max\", \"run_name\": \"MaxAbsScaler, RandomForest\", \"run_properties\": \"copy=True\", \"primary_metric\": 0.97408597, \"best_metric\": 0.99889981}, {\"run_id\": \"AutoML_23ff9a2a-e797-4f67-a468-e9c037c671d9_31\", \"run_number\": 36, \"metric\": null, \"status\": \"Completed\", \"run_type\": \"azureml.scriptrun\", \"training_percent\": \"100\", \"start_time\": \"2021-10-24T17:15:27.847505Z\", \"end_time\": \"2021-10-24T17:16:08.782131Z\", \"created_time\": \"2021-10-24T17:15:22.204296Z\", \"created_time_dt\": \"2021-10-24T17:15:22.204296Z\", \"duration\": \"0:00:46\", \"iteration\": \"31\", \"goal\": \"AUC_weighted_max\", \"run_name\": \"StandardScalerWrapper, LightGBM\", \"run_properties\": \"\\n    copy=True,\\n    with_mean=False,\\n    with_std=True\\n\", \"primary_metric\": 0.99736162, \"best_metric\": 0.99889981}, {\"run_id\": \"AutoML_23ff9a2a-e797-4f67-a468-e9c037c671d9_33\", \"run_number\": 37, \"metric\": null, \"status\": \"Completed\", \"run_type\": \"azureml.scriptrun\", \"training_percent\": \"100\", \"start_time\": \"2021-10-24T17:15:27.696011Z\", \"end_time\": \"2021-10-24T17:18:00.550835Z\", \"created_time\": \"2021-10-24T17:15:22.227545Z\", \"created_time_dt\": \"2021-10-24T17:15:22.227545Z\", \"duration\": \"0:02:38\", \"iteration\": \"33\", \"goal\": \"AUC_weighted_max\", \"run_name\": \"StandardScalerWrapper, XGBoostClassifier\", \"run_properties\": \"\\n    copy=True,\\n    with_mean=False,\\n    with_std=False\\n\", \"primary_metric\": 0.99806489, \"best_metric\": 0.99892254}, {\"run_id\": \"AutoML_23ff9a2a-e797-4f67-a468-e9c037c671d9_32\", \"run_number\": 38, \"metric\": null, \"status\": \"Completed\", \"run_type\": \"azureml.scriptrun\", \"training_percent\": \"100\", \"start_time\": \"2021-10-24T17:15:28.662463Z\", \"end_time\": \"2021-10-24T17:16:12.026769Z\", \"created_time\": \"2021-10-24T17:15:22.228293Z\", \"created_time_dt\": \"2021-10-24T17:15:22.228293Z\", \"duration\": \"0:00:49\", \"iteration\": \"32\", \"goal\": \"AUC_weighted_max\", \"run_name\": \"StandardScalerWrapper, XGBoostClassifier\", \"run_properties\": \"\\n    copy=True,\\n    with_mean=False,\\n    with_std=False\\n\", \"primary_metric\": 0.99892254, \"best_metric\": 0.99892254}, {\"run_id\": \"AutoML_23ff9a2a-e797-4f67-a468-e9c037c671d9_34\", \"run_number\": 39, \"metric\": null, \"status\": \"Completed\", \"run_type\": \"azureml.scriptrun\", \"training_percent\": \"100\", \"start_time\": \"2021-10-24T17:15:29.661256Z\", \"end_time\": \"2021-10-24T17:16:08.309522Z\", \"created_time\": \"2021-10-24T17:15:25.289982Z\", \"created_time_dt\": \"2021-10-24T17:15:25.289982Z\", \"duration\": \"0:00:43\", \"iteration\": \"34\", \"goal\": \"AUC_weighted_max\", \"run_name\": \"StandardScalerWrapper, LogisticRegression\", \"run_properties\": \"\\n    copy=True,\\n    with_mean=False,\\n    with_std=True\\n\", \"primary_metric\": 0.99509544, \"best_metric\": 0.99892254}, {\"run_id\": \"AutoML_23ff9a2a-e797-4f67-a468-e9c037c671d9_35\", \"run_number\": 40, \"metric\": null, \"status\": \"Completed\", \"run_type\": \"azureml.scriptrun\", \"training_percent\": \"100\", \"start_time\": \"2021-10-24T17:15:50.807082Z\", \"end_time\": \"2021-10-24T17:16:29.238727Z\", \"created_time\": \"2021-10-24T17:15:42.524728Z\", \"created_time_dt\": \"2021-10-24T17:15:42.524728Z\", \"duration\": \"0:00:46\", \"iteration\": \"35\", \"goal\": \"AUC_weighted_max\", \"run_name\": \"TruncatedSVDWrapper, RandomForest\", \"run_properties\": \"n_components=0.15842105263157896, random_state=None\", \"primary_metric\": 0.91703323, \"best_metric\": 0.99892254}, {\"run_id\": \"AutoML_23ff9a2a-e797-4f67-a468-e9c037c671d9_36\", \"run_number\": 41, \"metric\": null, \"status\": \"Completed\", \"run_type\": \"azureml.scriptrun\", \"training_percent\": \"100\", \"start_time\": \"2021-10-24T17:16:15.310069Z\", \"end_time\": \"2021-10-24T17:16:57.462836Z\", \"created_time\": \"2021-10-24T17:16:10.172521Z\", \"created_time_dt\": \"2021-10-24T17:16:10.172521Z\", \"duration\": \"0:00:47\", \"iteration\": \"36\", \"goal\": \"AUC_weighted_max\", \"run_name\": \"StandardScalerWrapper, XGBoostClassifier\", \"run_properties\": \"\\n    copy=True,\\n    with_mean=False,\\n    with_std=False\\n\", \"primary_metric\": 0.99858773, \"best_metric\": 0.99892254}, {\"run_id\": \"AutoML_23ff9a2a-e797-4f67-a468-e9c037c671d9_37\", \"run_number\": 42, \"metric\": null, \"status\": \"Completed\", \"run_type\": \"azureml.scriptrun\", \"training_percent\": \"100\", \"start_time\": \"2021-10-24T17:16:18.202558Z\", \"end_time\": \"2021-10-24T17:17:02.944732Z\", \"created_time\": \"2021-10-24T17:16:13.380246Z\", \"created_time_dt\": \"2021-10-24T17:16:13.380246Z\", \"duration\": \"0:00:49\", \"iteration\": \"37\", \"goal\": \"AUC_weighted_max\", \"run_name\": \"StandardScalerWrapper, XGBoostClassifier\", \"run_properties\": \"\\n    copy=True,\\n    with_mean=False,\\n    with_std=False\\n\", \"primary_metric\": 0.99883482, \"best_metric\": 0.99892254}, {\"run_id\": \"AutoML_23ff9a2a-e797-4f67-a468-e9c037c671d9_38\", \"run_number\": 43, \"metric\": null, \"status\": \"Completed\", \"run_type\": \"azureml.scriptrun\", \"training_percent\": \"100\", \"start_time\": \"2021-10-24T17:16:30.247343Z\", \"end_time\": \"2021-10-24T17:17:21.579019Z\", \"created_time\": \"2021-10-24T17:16:18.776742Z\", \"created_time_dt\": \"2021-10-24T17:16:18.776742Z\", \"duration\": \"0:01:02\", \"iteration\": \"38\", \"goal\": \"AUC_weighted_max\", \"run_name\": \"StandardScalerWrapper, XGBoostClassifier\", \"run_properties\": \"\\n    copy=True,\\n    with_mean=False,\\n    with_std=False\\n\", \"primary_metric\": 0.99864324, \"best_metric\": 0.99892254}, {\"run_id\": \"AutoML_23ff9a2a-e797-4f67-a468-e9c037c671d9_39\", \"run_number\": 44, \"metric\": null, \"status\": \"Completed\", \"run_type\": \"azureml.scriptrun\", \"training_percent\": \"100\", \"start_time\": \"2021-10-24T17:16:36.270477Z\", \"end_time\": \"2021-10-24T17:19:01.303122Z\", \"created_time\": \"2021-10-24T17:16:31.442362Z\", \"created_time_dt\": \"2021-10-24T17:16:31.442362Z\", \"duration\": \"0:02:29\", \"iteration\": \"39\", \"goal\": \"AUC_weighted_max\", \"run_name\": \"StandardScalerWrapper, XGBoostClassifier\", \"run_properties\": \"\\n    copy=True,\\n    with_mean=False,\\n    with_std=False\\n\", \"primary_metric\": 0.9979709, \"best_metric\": 0.99892254}, {\"run_id\": \"AutoML_23ff9a2a-e797-4f67-a468-e9c037c671d9_40\", \"run_number\": 45, \"metric\": null, \"status\": \"Completed\", \"run_type\": \"azureml.scriptrun\", \"training_percent\": \"100\", \"start_time\": \"2021-10-24T17:17:04.877577Z\", \"end_time\": \"2021-10-24T17:19:30.599476Z\", \"created_time\": \"2021-10-24T17:17:00.430078Z\", \"created_time_dt\": \"2021-10-24T17:17:00.430078Z\", \"duration\": \"0:02:30\", \"iteration\": \"40\", \"goal\": \"AUC_weighted_max\", \"run_name\": \"StandardScalerWrapper, XGBoostClassifier\", \"run_properties\": \"\\n    copy=True,\\n    with_mean=False,\\n    with_std=False\\n\", \"primary_metric\": 0.99857108, \"best_metric\": 0.99892254}, {\"run_id\": \"AutoML_23ff9a2a-e797-4f67-a468-e9c037c671d9_41\", \"run_number\": 46, \"metric\": null, \"status\": \"Completed\", \"run_type\": \"azureml.scriptrun\", \"training_percent\": \"100\", \"start_time\": \"2021-10-24T17:17:10.582076Z\", \"end_time\": \"2021-10-24T17:17:47.410854Z\", \"created_time\": \"2021-10-24T17:17:04.773159Z\", \"created_time_dt\": \"2021-10-24T17:17:04.773159Z\", \"duration\": \"0:00:42\", \"iteration\": \"41\", \"goal\": \"AUC_weighted_max\", \"run_name\": \"MaxAbsScaler, LightGBM\", \"run_properties\": \"copy=True\", \"primary_metric\": 0.99728072, \"best_metric\": 0.99892254}, {\"run_id\": \"AutoML_23ff9a2a-e797-4f67-a468-e9c037c671d9_42\", \"run_number\": 47, \"metric\": null, \"status\": \"Completed\", \"run_type\": \"azureml.scriptrun\", \"training_percent\": \"100\", \"start_time\": \"2021-10-24T17:17:32.579242Z\", \"end_time\": \"2021-10-24T17:18:10.372116Z\", \"created_time\": \"2021-10-24T17:17:23.456059Z\", \"created_time_dt\": \"2021-10-24T17:17:23.456059Z\", \"duration\": \"0:00:46\", \"iteration\": \"42\", \"goal\": \"AUC_weighted_max\", \"run_name\": \"StandardScalerWrapper, LightGBM\", \"run_properties\": \"\\n    copy=True,\\n    with_mean=False,\\n    with_std=True\\n\", \"primary_metric\": 0.99808012, \"best_metric\": 0.99892254}, {\"run_id\": \"AutoML_23ff9a2a-e797-4f67-a468-e9c037c671d9_43\", \"run_number\": 48, \"metric\": null, \"status\": \"Completed\", \"run_type\": \"azureml.scriptrun\", \"training_percent\": \"100\", \"start_time\": \"2021-10-24T17:17:53.179447Z\", \"end_time\": \"2021-10-24T17:18:31.464486Z\", \"created_time\": \"2021-10-24T17:17:49.469241Z\", \"created_time_dt\": \"2021-10-24T17:17:49.469241Z\", \"duration\": \"0:00:41\", \"iteration\": \"43\", \"goal\": \"AUC_weighted_max\", \"run_name\": \"MaxAbsScaler, SGD\", \"run_properties\": \"copy=True\", \"primary_metric\": 0.9946758, \"best_metric\": 0.99892254}, {\"run_id\": \"AutoML_23ff9a2a-e797-4f67-a468-e9c037c671d9_44\", \"run_number\": 49, \"metric\": null, \"status\": \"Completed\", \"run_type\": \"azureml.scriptrun\", \"training_percent\": \"100\", \"start_time\": \"2021-10-24T17:18:08.369479Z\", \"end_time\": \"2021-10-24T17:18:52.81184Z\", \"created_time\": \"2021-10-24T17:18:02.47852Z\", \"created_time_dt\": \"2021-10-24T17:18:02.47852Z\", \"duration\": \"0:00:50\", \"iteration\": \"44\", \"goal\": \"AUC_weighted_max\", \"run_name\": \"StandardScalerWrapper, XGBoostClassifier\", \"run_properties\": \"\\n    copy=True,\\n    with_mean=False,\\n    with_std=False\\n\", \"primary_metric\": 0.99860132, \"best_metric\": 0.99892254}, {\"run_id\": \"AutoML_23ff9a2a-e797-4f67-a468-e9c037c671d9_45\", \"run_number\": 50, \"metric\": null, \"status\": \"Canceled\", \"run_type\": \"azureml.scriptrun\", \"training_percent\": \"100\", \"start_time\": \"2021-10-24T17:18:19.410109Z\", \"end_time\": \"2021-10-24T17:19:52.104976Z\", \"created_time\": \"2021-10-24T17:18:13.295823Z\", \"created_time_dt\": \"2021-10-24T17:18:13.295823Z\", \"duration\": \"0:01:38\", \"iteration\": \"45\", \"goal\": \"AUC_weighted_max\", \"run_name\": \"StandardScalerWrapper, XGBoostClassifier\", \"run_properties\": \"\\n    copy=True,\\n    with_mean=False,\\n    with_std=False\\n\", \"primary_metric\": 0.99867071, \"best_metric\": 0.99892254}, {\"run_id\": \"AutoML_23ff9a2a-e797-4f67-a468-e9c037c671d9_46\", \"run_number\": 51, \"metric\": null, \"status\": \"Completed\", \"run_type\": \"azureml.scriptrun\", \"training_percent\": \"100\", \"start_time\": \"2021-10-24T17:18:39.572956Z\", \"end_time\": \"2021-10-24T17:19:17.961284Z\", \"created_time\": \"2021-10-24T17:18:33.449705Z\", \"created_time_dt\": \"2021-10-24T17:18:33.449705Z\", \"duration\": \"0:00:44\", \"iteration\": \"46\", \"goal\": \"AUC_weighted_max\", \"run_name\": \"StandardScalerWrapper, XGBoostClassifier\", \"run_properties\": \"\\n    copy=True,\\n    with_mean=False,\\n    with_std=False\\n\", \"primary_metric\": 0.99882072, \"best_metric\": 0.99892254}, {\"run_id\": \"AutoML_23ff9a2a-e797-4f67-a468-e9c037c671d9_47\", \"run_number\": 52, \"metric\": null, \"status\": \"Completed\", \"run_type\": \"azureml.scriptrun\", \"training_percent\": \"100\", \"start_time\": \"2021-10-24T17:19:00.500913Z\", \"end_time\": \"2021-10-24T17:19:41.255739Z\", \"created_time\": \"2021-10-24T17:18:54.70749Z\", \"created_time_dt\": \"2021-10-24T17:18:54.70749Z\", \"duration\": \"0:00:46\", \"iteration\": \"47\", \"goal\": \"AUC_weighted_max\", \"run_name\": \"StandardScalerWrapper, XGBoostClassifier\", \"run_properties\": \"\\n    copy=True,\\n    with_mean=False,\\n    with_std=False\\n\", \"primary_metric\": 0.99854201, \"best_metric\": 0.99892254}, {\"run_id\": \"AutoML_23ff9a2a-e797-4f67-a468-e9c037c671d9_48\", \"run_number\": 53, \"metric\": null, \"status\": \"Completed\", \"run_type\": \"azureml.scriptrun\", \"training_percent\": \"100\", \"start_time\": \"2021-10-24T17:19:10.957291Z\", \"end_time\": \"2021-10-24T17:19:51.084185Z\", \"created_time\": \"2021-10-24T17:19:03.239635Z\", \"created_time_dt\": \"2021-10-24T17:19:03.239635Z\", \"duration\": \"0:00:47\", \"iteration\": \"48\", \"goal\": \"AUC_weighted_max\", \"run_name\": \"StandardScalerWrapper, XGBoostClassifier\", \"run_properties\": \"\\n    copy=True,\\n    with_mean=False,\\n    with_std=False\\n\", \"primary_metric\": 0.99879605, \"best_metric\": 0.99892254}, {\"run_id\": \"AutoML_23ff9a2a-e797-4f67-a468-e9c037c671d9_49\", \"run_number\": 54, \"metric\": null, \"status\": \"Canceled\", \"run_type\": \"azureml.scriptrun\", \"training_percent\": \"100\", \"start_time\": \"2021-10-24T17:19:25.16413Z\", \"end_time\": \"2021-10-24T17:19:52.022216Z\", \"created_time\": \"2021-10-24T17:19:19.939087Z\", \"created_time_dt\": \"2021-10-24T17:19:19.939087Z\", \"duration\": \"0:00:32\", \"iteration\": \"49\", \"goal\": \"AUC_weighted_max\", \"run_name\": \"MaxAbsScaler, LightGBM\", \"run_properties\": \"copy=True\", \"primary_metric\": 0.99844067, \"best_metric\": 0.99892254}, {\"run_id\": \"AutoML_23ff9a2a-e797-4f67-a468-e9c037c671d9_50\", \"run_number\": 55, \"metric\": null, \"status\": \"Canceled\", \"run_type\": \"azureml.scriptrun\", \"training_percent\": \"100\", \"start_time\": \"2021-10-24T17:19:37.433272Z\", \"end_time\": \"2021-10-24T17:19:52.125324Z\", \"created_time\": \"2021-10-24T17:19:33.697257Z\", \"created_time_dt\": \"2021-10-24T17:19:33.697257Z\", \"duration\": \"0:00:18\", \"iteration\": \"50\", \"goal\": null, \"run_name\": \"StandardScalerWrapper, XGBoostClassifier\", \"run_properties\": null}, {\"run_id\": \"AutoML_23ff9a2a-e797-4f67-a468-e9c037c671d9_51\", \"run_number\": 56, \"metric\": null, \"status\": \"Canceled\", \"run_type\": \"azureml.scriptrun\", \"training_percent\": \"100\", \"start_time\": \"2021-10-24T17:19:47.878631Z\", \"end_time\": \"2021-10-24T17:19:52.159755Z\", \"created_time\": \"2021-10-24T17:19:43.099715Z\", \"created_time_dt\": \"2021-10-24T17:19:43.099715Z\", \"duration\": \"0:00:09\", \"iteration\": \"51\", \"goal\": null, \"run_name\": \"Canceled\", \"run_properties\": null}, {\"run_id\": \"AutoML_23ff9a2a-e797-4f67-a468-e9c037c671d9_52\", \"run_number\": 57, \"metric\": null, \"status\": \"Completed\", \"run_type\": \"azureml.scriptrun\", \"training_percent\": \"100\", \"start_time\": \"2021-10-24T17:19:57.568575Z\", \"end_time\": \"2021-10-24T17:21:05.197766Z\", \"created_time\": \"2021-10-24T17:19:53.322553Z\", \"created_time_dt\": \"2021-10-24T17:19:53.322553Z\", \"duration\": \"0:01:11\", \"iteration\": \"52\", \"goal\": \"AUC_weighted_max\", \"run_name\": \"VotingEnsemble\", \"run_properties\": \"\\n    estimators=[('32', Pipeline(\\n        memory=None,\\n        steps=[('standardscalerwrapper', StandardScalerWrapper(\\n            copy=True,\\n            with_mean=False,\\n            with_std=False\\n        \", \"primary_metric\": 0.99906796, \"best_metric\": 0.99906796}, {\"run_id\": \"AutoML_23ff9a2a-e797-4f67-a468-e9c037c671d9_53\", \"run_number\": 58, \"metric\": null, \"status\": \"Completed\", \"run_type\": \"azureml.scriptrun\", \"training_percent\": \"100\", \"start_time\": \"2021-10-24T17:19:58.66024Z\", \"end_time\": \"2021-10-24T17:21:14.79574Z\", \"created_time\": \"2021-10-24T17:19:53.347352Z\", \"created_time_dt\": \"2021-10-24T17:19:53.347352Z\", \"duration\": \"0:01:21\", \"iteration\": \"53\", \"goal\": \"AUC_weighted_max\", \"run_name\": \"StackEnsemble\", \"run_properties\": \"\\n    base_learners=[('32', Pipeline(\\n        memory=None,\\n        steps=[('standardscalerwrapper', StandardScalerWrapper(\\n            copy=True,\\n            with_mean=False,\\n            with_std=False\\n        \", \"primary_metric\": 0.99905408, \"best_metric\": 0.99906796}], \"children_metrics\": {\"categories\": [0], \"series\": {\"norm_macro_recall\": [{\"categories\": [\"0\", \"1\", \"2\", \"3\", \"4\", \"5\", \"6\", \"7\", \"8\", \"9\", \"10\", \"11\", \"12\", \"13\", \"14\", \"15\", \"16\", \"17\", \"18\", \"19\", \"20\", \"21\", \"22\", \"23\", \"24\", \"25\", \"26\", \"27\", \"28\", \"29\", \"30\", \"31\", \"32\", \"33\", \"34\", \"35\", \"36\", \"37\", \"38\", \"39\", \"40\", \"41\", \"42\", \"43\", \"44\", \"45\", \"46\", \"47\", \"48\", \"49\", \"52\", \"53\"], \"mode\": \"markers\", \"name\": \"norm_macro_recall\", \"stepped\": false, \"type\": \"scatter\", \"data\": [0.9839972598614445, 0.9820911952858546, 0.8815866579360213, 0.9421737747211097, 0.9368562372298216, 0.9590442632072479, 0.9436706259214253, 0.9732219179691923, 0.9519468858864603, 0.9438650950467352, 0.9204230066641174, 0.9756745218330902, 0.9711570791896748, 0.0, 0.9823825178667019, 0.9492957913418026, 0.9733211162010936, 0.9738691537769734, 0.9593382494768538, 0.0, 0.9746678774085943, 0.9568245956984475, 0.9835012724819503, 0.9325725033459881, 0.9453799297189672, 0.8236309603479312, 0.9750170781117408, 0.9747111330875661, 0.9830862937670176, 0.9644719511652937, 0.0, 0.9766852155776915, 0.9842865443765998, 0.9796960656292448, 0.9740363092384244, 0.7552599186156098, 0.984108861684767, 0.9860518453030056, 0.9789460598747955, 0.9764282166105724, 0.9827329439017474, 0.9697401224761771, 0.9812175333973201, 0.9554304444419963, 0.9838689452280698, 0.9853229333632761, 0.9825008744936006, 0.9866194435625909, 0.9841508906936904, 0.9812546781734616, 0.9856391774379484, 0.9861635200185616]}, {\"categories\": [\"0\", \"1\", \"2\", \"3\", \"4\", \"5\", \"6\", \"7\", \"8\", \"9\", \"10\", \"11\", \"12\", \"13\", \"14\", \"15\", \"16\", \"17\", \"18\", \"19\", \"20\", \"21\", \"22\", \"23\", \"24\", \"25\", \"26\", \"27\", \"28\", \"29\", \"30\", \"31\", \"32\", \"33\", \"34\", \"35\", \"36\", \"37\", \"38\", \"39\", \"40\", \"41\", \"42\", \"43\", \"44\", \"45\", \"46\", \"47\", \"48\", \"49\", \"52\", \"53\"], \"mode\": \"lines\", \"name\": \"norm_macro_recall_max\", \"stepped\": true, \"type\": \"scatter\", \"data\": [0.9839972598614445, 0.9839972598614445, 0.9839972598614445, 0.9839972598614445, 0.9839972598614445, 0.9839972598614445, 0.9839972598614445, 0.9839972598614445, 0.9839972598614445, 0.9839972598614445, 0.9839972598614445, 0.9839972598614445, 0.9839972598614445, 0.9839972598614445, 0.9839972598614445, 0.9839972598614445, 0.9839972598614445, 0.9839972598614445, 0.9839972598614445, 0.9839972598614445, 0.9839972598614445, 0.9839972598614445, 0.9839972598614445, 0.9839972598614445, 0.9839972598614445, 0.9839972598614445, 0.9839972598614445, 0.9839972598614445, 0.9839972598614445, 0.9839972598614445, 0.9839972598614445, 0.9839972598614445, 0.9842865443765998, 0.9842865443765998, 0.9842865443765998, 0.9842865443765998, 0.9842865443765998, 0.9860518453030056, 0.9860518453030056, 0.9860518453030056, 0.9860518453030056, 0.9860518453030056, 0.9860518453030056, 0.9860518453030056, 0.9860518453030056, 0.9860518453030056, 0.9860518453030056, 0.9866194435625909, 0.9866194435625909, 0.9866194435625909, 0.9866194435625909, 0.9866194435625909]}], \"f1_score_macro\": [{\"categories\": [\"0\", \"1\", \"2\", \"3\", \"4\", \"5\", \"6\", \"7\", \"8\", \"9\", \"10\", \"11\", \"12\", \"13\", \"14\", \"15\", \"16\", \"17\", \"18\", \"19\", \"20\", \"21\", \"22\", \"23\", \"24\", \"25\", \"26\", \"27\", \"28\", \"29\", \"30\", \"31\", \"32\", \"33\", \"34\", \"35\", \"36\", \"37\", \"38\", \"39\", \"40\", \"41\", \"42\", \"43\", \"44\", \"45\", \"46\", \"47\", \"48\", \"49\", \"52\", \"53\"], \"mode\": \"markers\", \"name\": \"f1_score_macro\", \"stepped\": false, \"type\": \"scatter\", \"data\": [0.9931465701781029, 0.9925298803176373, 0.9555162285629594, 0.9775289480060513, 0.9765454423598507, 0.9793811346212781, 0.9644357093936726, 0.9899467897776892, 0.9768461436459567, 0.961051255403948, 0.9661927723303507, 0.9850093024388288, 0.9891114633138253, 0.429821223274147, 0.9933115606140271, 0.9824813870241386, 0.9833152647032616, 0.9849136285212721, 0.9836599710963326, 0.429821223274147, 0.9879323428340797, 0.9832286806047933, 0.9935282533286941, 0.9569596463282624, 0.9740778446030482, 0.8953473743349923, 0.9833542892625221, 0.987933143277607, 0.9927313989289086, 0.9865795390901823, 0.429821223274147, 0.9904365415399141, 0.9939318359306967, 0.9922762798824069, 0.987312888261231, 0.8583054031180365, 0.9933191322515071, 0.9943912455332077, 0.9918422070860204, 0.9905962321215824, 0.9931326676460718, 0.987247678969092, 0.9920797575417022, 0.9791781177374808, 0.9927015389363866, 0.9937431393014058, 0.9933342948107559, 0.9941785028452997, 0.9933185192433497, 0.9920939084681416, 0.9943847432349484, 0.9941703625881981]}, {\"categories\": [\"0\", \"1\", \"2\", \"3\", \"4\", \"5\", \"6\", \"7\", \"8\", \"9\", \"10\", \"11\", \"12\", \"13\", \"14\", \"15\", \"16\", \"17\", \"18\", \"19\", \"20\", \"21\", \"22\", \"23\", \"24\", \"25\", \"26\", \"27\", \"28\", \"29\", \"30\", \"31\", \"32\", \"33\", \"34\", \"35\", \"36\", \"37\", \"38\", \"39\", \"40\", \"41\", \"42\", \"43\", \"44\", \"45\", \"46\", \"47\", \"48\", \"49\", \"52\", \"53\"], \"mode\": \"lines\", \"name\": \"f1_score_macro_max\", \"stepped\": true, \"type\": \"scatter\", \"data\": [0.9931465701781029, 0.9931465701781029, 0.9931465701781029, 0.9931465701781029, 0.9931465701781029, 0.9931465701781029, 0.9931465701781029, 0.9931465701781029, 0.9931465701781029, 0.9931465701781029, 0.9931465701781029, 0.9931465701781029, 0.9931465701781029, 0.9931465701781029, 0.9933115606140271, 0.9933115606140271, 0.9933115606140271, 0.9933115606140271, 0.9933115606140271, 0.9933115606140271, 0.9933115606140271, 0.9933115606140271, 0.9935282533286941, 0.9935282533286941, 0.9935282533286941, 0.9935282533286941, 0.9935282533286941, 0.9935282533286941, 0.9935282533286941, 0.9935282533286941, 0.9935282533286941, 0.9935282533286941, 0.9939318359306967, 0.9939318359306967, 0.9939318359306967, 0.9939318359306967, 0.9939318359306967, 0.9943912455332077, 0.9943912455332077, 0.9943912455332077, 0.9943912455332077, 0.9943912455332077, 0.9943912455332077, 0.9943912455332077, 0.9943912455332077, 0.9943912455332077, 0.9943912455332077, 0.9943912455332077, 0.9943912455332077, 0.9943912455332077, 0.9943912455332077, 0.9943912455332077]}], \"precision_score_weighted\": [{\"categories\": [\"0\", \"1\", \"2\", \"3\", \"4\", \"5\", \"6\", \"7\", \"8\", \"9\", \"10\", \"11\", \"12\", \"13\", \"14\", \"15\", \"16\", \"17\", \"18\", \"19\", \"20\", \"21\", \"22\", \"23\", \"24\", \"25\", \"26\", \"27\", \"28\", \"29\", \"30\", \"31\", \"32\", \"33\", \"34\", \"35\", \"36\", \"37\", \"38\", \"39\", \"40\", \"41\", \"42\", \"43\", \"44\", \"45\", \"46\", \"47\", \"48\", \"49\", \"52\", \"53\"], \"mode\": \"markers\", \"name\": \"precision_score_weighted\", \"stepped\": false, \"type\": \"scatter\", \"data\": [0.9949196280959217, 0.9944577903074178, 0.9685629638582639, 0.9835752648928137, 0.9830386874380568, 0.9848051615682073, 0.9739994781530755, 0.992628733328479, 0.9830037499890443, 0.9719827718177995, 0.9752037665414949, 0.9889169241113236, 0.9920124408260275, 0.5684323033063011, 0.9950816626864124, 0.987392266898878, 0.9876862982728003, 0.9888618463768184, 0.988011590087048, 0.5684323033063011, 0.9910706241232918, 0.9877161344617492, 0.9952300162469253, 0.9688298823002919, 0.9809324436822514, 0.9243670065225403, 0.987742773214544, 0.9910695160443043, 0.994611538103305, 0.9901787256339905, 0.5684323033063011, 0.9929171046334329, 0.9955386893529586, 0.9943140176079411, 0.9906102244312974, 0.898060679758126, 0.995071470797415, 0.9958439273146512, 0.9940036121157291, 0.9930732658701542, 0.9949219003618346, 0.9906003069242244, 0.994146519216816, 0.984577468644327, 0.9946093408752761, 0.9953810192510927, 0.9950793215310516, 0.9956919637902022, 0.9950712100191356, 0.9941472101628713, 0.9958455391013294, 0.9956911126310996]}, {\"categories\": [\"0\", \"1\", \"2\", \"3\", \"4\", \"5\", \"6\", \"7\", \"8\", \"9\", \"10\", \"11\", \"12\", \"13\", \"14\", \"15\", \"16\", \"17\", \"18\", \"19\", \"20\", \"21\", \"22\", \"23\", \"24\", \"25\", \"26\", \"27\", \"28\", \"29\", \"30\", \"31\", \"32\", \"33\", \"34\", \"35\", \"36\", \"37\", \"38\", \"39\", \"40\", \"41\", \"42\", \"43\", \"44\", \"45\", \"46\", \"47\", \"48\", \"49\", \"52\", \"53\"], \"mode\": \"lines\", \"name\": \"precision_score_weighted_max\", \"stepped\": true, \"type\": \"scatter\", \"data\": [0.9949196280959217, 0.9949196280959217, 0.9949196280959217, 0.9949196280959217, 0.9949196280959217, 0.9949196280959217, 0.9949196280959217, 0.9949196280959217, 0.9949196280959217, 0.9949196280959217, 0.9949196280959217, 0.9949196280959217, 0.9949196280959217, 0.9949196280959217, 0.9950816626864124, 0.9950816626864124, 0.9950816626864124, 0.9950816626864124, 0.9950816626864124, 0.9950816626864124, 0.9950816626864124, 0.9950816626864124, 0.9952300162469253, 0.9952300162469253, 0.9952300162469253, 0.9952300162469253, 0.9952300162469253, 0.9952300162469253, 0.9952300162469253, 0.9952300162469253, 0.9952300162469253, 0.9952300162469253, 0.9955386893529586, 0.9955386893529586, 0.9955386893529586, 0.9955386893529586, 0.9955386893529586, 0.9958439273146512, 0.9958439273146512, 0.9958439273146512, 0.9958439273146512, 0.9958439273146512, 0.9958439273146512, 0.9958439273146512, 0.9958439273146512, 0.9958439273146512, 0.9958439273146512, 0.9958439273146512, 0.9958439273146512, 0.9958439273146512, 0.9958455391013294, 0.9958455391013294]}], \"AUC_macro\": [{\"categories\": [\"0\", \"1\", \"2\", \"3\", \"4\", \"5\", \"6\", \"7\", \"8\", \"9\", \"10\", \"11\", \"12\", \"13\", \"14\", \"15\", \"16\", \"17\", \"18\", \"19\", \"20\", \"21\", \"22\", \"23\", \"24\", \"25\", \"26\", \"27\", \"28\", \"29\", \"30\", \"31\", \"32\", \"33\", \"34\", \"35\", \"36\", \"37\", \"38\", \"39\", \"40\", \"41\", \"42\", \"43\", \"44\", \"45\", \"46\", \"47\", \"48\", \"49\", \"52\", \"53\"], \"mode\": \"markers\", \"name\": \"AUC_macro\", \"stepped\": false, \"type\": \"scatter\", \"data\": [0.9988413863768827, 0.9984868552752948, 0.9931498409534961, 0.9959613893370448, 0.9956491674221954, 0.99571774507108, 0.9943327884104951, 0.9978616770739827, 0.9946953131660692, 0.9946887590659088, 0.9931525349637139, 0.9959635389525138, 0.9976820484567921, 0.9756684648120122, 0.9988998075916627, 0.9962994254369676, 0.9951144662032938, 0.996775440199932, 0.9947361503576596, 0.9905724252719575, 0.9951844352501101, 0.995122049322282, 0.998659697173473, 0.992894738611705, 0.993003670796419, 0.9846134384923672, 0.9950991747771926, 0.9952208611639551, 0.9983479872101112, 0.9966263747254495, 0.9740859673398679, 0.9973616193210398, 0.9989225438759329, 0.9980648935798291, 0.9950954398089209, 0.9170332349500473, 0.9985877283113863, 0.9988348185204444, 0.9986432381439659, 0.9979709039713001, 0.9985710788196324, 0.9972807173191431, 0.9980801245888472, 0.9946758004453099, 0.9986013163959132, 0.9986707113407306, 0.9988207178809346, 0.9985420084097513, 0.9987960481261156, 0.9984406708049559, 0.9990679644052318, 0.9990540799335571]}, {\"categories\": [\"0\", \"1\", \"2\", \"3\", \"4\", \"5\", \"6\", \"7\", \"8\", \"9\", \"10\", \"11\", \"12\", \"13\", \"14\", \"15\", \"16\", \"17\", \"18\", \"19\", \"20\", \"21\", \"22\", \"23\", \"24\", \"25\", \"26\", \"27\", \"28\", \"29\", \"30\", \"31\", \"32\", \"33\", \"34\", \"35\", \"36\", \"37\", \"38\", \"39\", \"40\", \"41\", \"42\", \"43\", \"44\", \"45\", \"46\", \"47\", \"48\", \"49\", \"52\", \"53\"], \"mode\": \"lines\", \"name\": \"AUC_macro_max\", \"stepped\": true, \"type\": \"scatter\", \"data\": [0.9988413863768827, 0.9988413863768827, 0.9988413863768827, 0.9988413863768827, 0.9988413863768827, 0.9988413863768827, 0.9988413863768827, 0.9988413863768827, 0.9988413863768827, 0.9988413863768827, 0.9988413863768827, 0.9988413863768827, 0.9988413863768827, 0.9988413863768827, 0.9988998075916627, 0.9988998075916627, 0.9988998075916627, 0.9988998075916627, 0.9988998075916627, 0.9988998075916627, 0.9988998075916627, 0.9988998075916627, 0.9988998075916627, 0.9988998075916627, 0.9988998075916627, 0.9988998075916627, 0.9988998075916627, 0.9988998075916627, 0.9988998075916627, 0.9988998075916627, 0.9988998075916627, 0.9988998075916627, 0.9989225438759329, 0.9989225438759329, 0.9989225438759329, 0.9989225438759329, 0.9989225438759329, 0.9989225438759329, 0.9989225438759329, 0.9989225438759329, 0.9989225438759329, 0.9989225438759329, 0.9989225438759329, 0.9989225438759329, 0.9989225438759329, 0.9989225438759329, 0.9989225438759329, 0.9989225438759329, 0.9989225438759329, 0.9989225438759329, 0.9990679644052318, 0.9990679644052318]}], \"f1_score_weighted\": [{\"categories\": [\"0\", \"1\", \"2\", \"3\", \"4\", \"5\", \"6\", \"7\", \"8\", \"9\", \"10\", \"11\", \"12\", \"13\", \"14\", \"15\", \"16\", \"17\", \"18\", \"19\", \"20\", \"21\", \"22\", \"23\", \"24\", \"25\", \"26\", \"27\", \"28\", \"29\", \"30\", \"31\", \"32\", \"33\", \"34\", \"35\", \"36\", \"37\", \"38\", \"39\", \"40\", \"41\", \"42\", \"43\", \"44\", \"45\", \"46\", \"47\", \"48\", \"49\", \"52\", \"53\"], \"mode\": \"markers\", \"name\": \"f1_score_weighted\", \"stepped\": false, \"type\": \"scatter\", \"data\": [0.994915597040256, 0.9944510235061425, 0.967551998814733, 0.9834116267445391, 0.9827640620598507, 0.9847748124552882, 0.9734326023460159, 0.9925864007463062, 0.9829107297931426, 0.9708075786298996, 0.975051861950969, 0.9888023572048336, 0.9919668065749282, 0.6481296375251855, 0.9950640722683012, 0.9871167178161583, 0.987575257596728, 0.988787712695533, 0.9879450781041177, 0.6481296375251855, 0.9910675907568706, 0.9876233439324261, 0.9952200528531777, 0.9678663449586283, 0.9808991275729375, 0.9208490727419916, 0.9875851823229483, 0.9910678020476714, 0.9946066649781674, 0.9901047687038544, 0.6481296375251855, 0.9929052254474119, 0.9955281453417449, 0.9942913185160963, 0.9906086293132891, 0.8921625764967919, 0.9950683283047371, 0.9958387007443127, 0.9939833063952003, 0.993056771832256, 0.9949119187406912, 0.9905885455593068, 0.9941423666668286, 0.9845848960285933, 0.9946082589243309, 0.995377344948681, 0.9950642248987989, 0.9956871668329942, 0.9950683759106905, 0.9941424286771764, 0.9958377731369964, 0.9956856701461376]}, {\"categories\": [\"0\", \"1\", \"2\", \"3\", \"4\", \"5\", \"6\", \"7\", \"8\", \"9\", \"10\", \"11\", \"12\", \"13\", \"14\", \"15\", \"16\", \"17\", \"18\", \"19\", \"20\", \"21\", \"22\", \"23\", \"24\", \"25\", \"26\", \"27\", \"28\", \"29\", \"30\", \"31\", \"32\", \"33\", \"34\", \"35\", \"36\", \"37\", \"38\", \"39\", \"40\", \"41\", \"42\", \"43\", \"44\", \"45\", \"46\", \"47\", \"48\", \"49\", \"52\", \"53\"], \"mode\": \"lines\", \"name\": \"f1_score_weighted_max\", \"stepped\": true, \"type\": \"scatter\", \"data\": [0.994915597040256, 0.994915597040256, 0.994915597040256, 0.994915597040256, 0.994915597040256, 0.994915597040256, 0.994915597040256, 0.994915597040256, 0.994915597040256, 0.994915597040256, 0.994915597040256, 0.994915597040256, 0.994915597040256, 0.994915597040256, 0.9950640722683012, 0.9950640722683012, 0.9950640722683012, 0.9950640722683012, 0.9950640722683012, 0.9950640722683012, 0.9950640722683012, 0.9950640722683012, 0.9952200528531777, 0.9952200528531777, 0.9952200528531777, 0.9952200528531777, 0.9952200528531777, 0.9952200528531777, 0.9952200528531777, 0.9952200528531777, 0.9952200528531777, 0.9952200528531777, 0.9955281453417449, 0.9955281453417449, 0.9955281453417449, 0.9955281453417449, 0.9955281453417449, 0.9958387007443127, 0.9958387007443127, 0.9958387007443127, 0.9958387007443127, 0.9958387007443127, 0.9958387007443127, 0.9958387007443127, 0.9958387007443127, 0.9958387007443127, 0.9958387007443127, 0.9958387007443127, 0.9958387007443127, 0.9958387007443127, 0.9958387007443127, 0.9958387007443127]}], \"weighted_accuracy\": [{\"categories\": [\"0\", \"1\", \"2\", \"3\", \"4\", \"5\", \"6\", \"7\", \"8\", \"9\", \"10\", \"11\", \"12\", \"13\", \"14\", \"15\", \"16\", \"17\", \"18\", \"19\", \"20\", \"21\", \"22\", \"23\", \"24\", \"25\", \"26\", \"27\", \"28\", \"29\", \"30\", \"31\", \"32\", \"33\", \"34\", \"35\", \"36\", \"37\", \"38\", \"39\", \"40\", \"41\", \"42\", \"43\", \"44\", \"45\", \"46\", \"47\", \"48\", \"49\", \"52\", \"53\"], \"mode\": \"markers\", \"name\": \"weighted_accuracy\", \"stepped\": false, \"type\": \"scatter\", \"data\": [0.9966413622326487, 0.9964613182317289, 0.9841789533111038, 0.9909016812085882, 0.9914443025997436, 0.9878443925964913, 0.9740048356909622, 0.9961256802413191, 0.9869987147215977, 0.9695693588188719, 0.9841456498907005, 0.9892710539753002, 0.9957575536808273, 0.9034420245704599, 0.9973394062758736, 0.9946238579798904, 0.9880376597757964, 0.9897871466375743, 0.9929248137053364, 0.9034420245704599, 0.9932748430761168, 0.9931733544168885, 0.9972679610757268, 0.9682948840856533, 0.9857344601604056, 0.9238153352027426, 0.9875382626867566, 0.9932707297409672, 0.9964038375912434, 0.994787787499742, 0.9034420245704599, 0.9956086651657453, 0.9975187763071073, 0.9969099341833606, 0.9927241205292825, 0.896927846329088, 0.9968393763632545, 0.997500881705733, 0.9966598732681883, 0.9959268926086452, 0.9970142185624556, 0.9939754451160433, 0.9962252218762181, 0.9886413635419581, 0.9961667404216018, 0.9969629376653009, 0.9973242537172612, 0.9970773217125215, 0.9968350256136801, 0.996219483986856, 0.9976247717979155, 0.9972053251398538]}, {\"categories\": [\"0\", \"1\", \"2\", \"3\", \"4\", \"5\", \"6\", \"7\", \"8\", \"9\", \"10\", \"11\", \"12\", \"13\", \"14\", \"15\", \"16\", \"17\", \"18\", \"19\", \"20\", \"21\", \"22\", \"23\", \"24\", \"25\", \"26\", \"27\", \"28\", \"29\", \"30\", \"31\", \"32\", \"33\", \"34\", \"35\", \"36\", \"37\", \"38\", \"39\", \"40\", \"41\", \"42\", \"43\", \"44\", \"45\", \"46\", \"47\", \"48\", \"49\", \"52\", \"53\"], \"mode\": \"lines\", \"name\": \"weighted_accuracy_max\", \"stepped\": true, \"type\": \"scatter\", \"data\": [0.9966413622326487, 0.9966413622326487, 0.9966413622326487, 0.9966413622326487, 0.9966413622326487, 0.9966413622326487, 0.9966413622326487, 0.9966413622326487, 0.9966413622326487, 0.9966413622326487, 0.9966413622326487, 0.9966413622326487, 0.9966413622326487, 0.9966413622326487, 0.9973394062758736, 0.9973394062758736, 0.9973394062758736, 0.9973394062758736, 0.9973394062758736, 0.9973394062758736, 0.9973394062758736, 0.9973394062758736, 0.9973394062758736, 0.9973394062758736, 0.9973394062758736, 0.9973394062758736, 0.9973394062758736, 0.9973394062758736, 0.9973394062758736, 0.9973394062758736, 0.9973394062758736, 0.9973394062758736, 0.9975187763071073, 0.9975187763071073, 0.9975187763071073, 0.9975187763071073, 0.9975187763071073, 0.9975187763071073, 0.9975187763071073, 0.9975187763071073, 0.9975187763071073, 0.9975187763071073, 0.9975187763071073, 0.9975187763071073, 0.9975187763071073, 0.9975187763071073, 0.9975187763071073, 0.9975187763071073, 0.9975187763071073, 0.9975187763071073, 0.9976247717979155, 0.9976247717979155]}], \"average_precision_score_macro\": [{\"categories\": [\"0\", \"1\", \"2\", \"3\", \"4\", \"5\", \"6\", \"7\", \"8\", \"9\", \"10\", \"11\", \"12\", \"13\", \"14\", \"15\", \"16\", \"17\", \"18\", \"19\", \"20\", \"21\", \"22\", \"23\", \"24\", \"25\", \"26\", \"27\", \"28\", \"29\", \"30\", \"31\", \"32\", \"33\", \"34\", \"35\", \"36\", \"37\", \"38\", \"39\", \"40\", \"41\", \"42\", \"43\", \"44\", \"45\", \"46\", \"47\", \"48\", \"49\", \"52\", \"53\"], \"mode\": \"markers\", \"name\": \"average_precision_score_macro\", \"stepped\": false, \"type\": \"scatter\", \"data\": [0.9987583346371428, 0.9984122481950752, 0.9914622434888153, 0.9955034658284001, 0.9955764138826421, 0.9943310265666735, 0.9923725830017459, 0.9977994637424211, 0.9917742274335373, 0.9938601099664796, 0.9912123082728669, 0.9963346811466781, 0.99742810544554, 0.9657270252037495, 0.9986464664263325, 0.9966206948371134, 0.994574026304566, 0.9968108872752913, 0.9938709612453546, 0.9881699181840208, 0.9946460927995089, 0.9943729682371748, 0.9984883726023632, 0.9911823562217906, 0.9894380937457546, 0.9735324904776839, 0.9945642937829913, 0.9947386521898229, 0.998177063765472, 0.9968173276948701, 0.9619979963684954, 0.9974333047425264, 0.9988329998533875, 0.9980426176704226, 0.9945545346863787, 0.86537125364938, 0.9984880144605491, 0.9987526651171071, 0.9985555270026589, 0.9978650118300924, 0.9985304886713937, 0.997156445454483, 0.9979694735642788, 0.9939560820816832, 0.998503394866915, 0.998632904303964, 0.9987198101732485, 0.9985005514422444, 0.9986566571936061, 0.9982551083608143, 0.9989514872496343, 0.9989389079061568]}, {\"categories\": [\"0\", \"1\", \"2\", \"3\", \"4\", \"5\", \"6\", \"7\", \"8\", \"9\", \"10\", \"11\", \"12\", \"13\", \"14\", \"15\", \"16\", \"17\", \"18\", \"19\", \"20\", \"21\", \"22\", \"23\", \"24\", \"25\", \"26\", \"27\", \"28\", \"29\", \"30\", \"31\", \"32\", \"33\", \"34\", \"35\", \"36\", \"37\", \"38\", \"39\", \"40\", \"41\", \"42\", \"43\", \"44\", \"45\", \"46\", \"47\", \"48\", \"49\", \"52\", \"53\"], \"mode\": \"lines\", \"name\": \"average_precision_score_macro_max\", \"stepped\": true, \"type\": \"scatter\", \"data\": [0.9987583346371428, 0.9987583346371428, 0.9987583346371428, 0.9987583346371428, 0.9987583346371428, 0.9987583346371428, 0.9987583346371428, 0.9987583346371428, 0.9987583346371428, 0.9987583346371428, 0.9987583346371428, 0.9987583346371428, 0.9987583346371428, 0.9987583346371428, 0.9987583346371428, 0.9987583346371428, 0.9987583346371428, 0.9987583346371428, 0.9987583346371428, 0.9987583346371428, 0.9987583346371428, 0.9987583346371428, 0.9987583346371428, 0.9987583346371428, 0.9987583346371428, 0.9987583346371428, 0.9987583346371428, 0.9987583346371428, 0.9987583346371428, 0.9987583346371428, 0.9987583346371428, 0.9987583346371428, 0.9988329998533875, 0.9988329998533875, 0.9988329998533875, 0.9988329998533875, 0.9988329998533875, 0.9988329998533875, 0.9988329998533875, 0.9988329998533875, 0.9988329998533875, 0.9988329998533875, 0.9988329998533875, 0.9988329998533875, 0.9988329998533875, 0.9988329998533875, 0.9988329998533875, 0.9988329998533875, 0.9988329998533875, 0.9988329998533875, 0.9989514872496343, 0.9989514872496343]}], \"matthews_correlation\": [{\"categories\": [\"0\", \"1\", \"2\", \"3\", \"4\", \"5\", \"6\", \"7\", \"8\", \"9\", \"10\", \"11\", \"12\", \"13\", \"14\", \"15\", \"16\", \"17\", \"18\", \"19\", \"20\", \"21\", \"22\", \"23\", \"24\", \"25\", \"26\", \"27\", \"28\", \"29\", \"30\", \"31\", \"32\", \"33\", \"34\", \"35\", \"36\", \"37\", \"38\", \"39\", \"40\", \"41\", \"42\", \"43\", \"44\", \"45\", \"46\", \"47\", \"48\", \"49\", \"52\", \"53\"], \"mode\": \"markers\", \"name\": \"matthews_correlation\", \"stepped\": false, \"type\": \"scatter\", \"data\": [0.9863057794830973, 0.9850798637474476, 0.9132078126813891, 0.955436160507111, 0.9536641484360956, 0.9587878709001613, 0.9293467639723203, 0.9799860040329027, 0.9538239495966963, 0.9232073311502106, 0.9328097905247903, 0.9701197794115411, 0.9783251645360561, 0.0, 0.9866620262827593, 0.9654803077213883, 0.9667223277451882, 0.9698946054129073, 0.9674743231725218, 0.0, 0.9758755256601747, 0.9666655712900708, 0.9870817503977537, 0.9147694046446336, 0.9482218674837465, 0.7934265265918393, 0.9668497639634289, 0.9758750323166206, 0.985478365184569, 0.973319991695838, 0.0, 0.9809093379034503, 0.9878897181567382, 0.9846027812144064, 0.9746309267280805, 0.7212135416644746, 0.9866514274568406, 0.9887973888542837, 0.9837307053974653, 0.9812382219042791, 0.986290847329971, 0.9745422850028499, 0.9841774120449625, 0.9583786140131344, 0.9854109898159179, 0.9874987687032396, 0.9867033242170283, 0.9883680460134191, 0.9866498274288477, 0.9842061429215324, 0.9887888851842819, 0.9883547723723772]}, {\"categories\": [\"0\", \"1\", \"2\", \"3\", \"4\", \"5\", \"6\", \"7\", \"8\", \"9\", \"10\", \"11\", \"12\", \"13\", \"14\", \"15\", \"16\", \"17\", \"18\", \"19\", \"20\", \"21\", \"22\", \"23\", \"24\", \"25\", \"26\", \"27\", \"28\", \"29\", \"30\", \"31\", \"32\", \"33\", \"34\", \"35\", \"36\", \"37\", \"38\", \"39\", \"40\", \"41\", \"42\", \"43\", \"44\", \"45\", \"46\", \"47\", \"48\", \"49\", \"52\", \"53\"], \"mode\": \"lines\", \"name\": \"matthews_correlation_max\", \"stepped\": true, \"type\": \"scatter\", \"data\": [0.9863057794830973, 0.9863057794830973, 0.9863057794830973, 0.9863057794830973, 0.9863057794830973, 0.9863057794830973, 0.9863057794830973, 0.9863057794830973, 0.9863057794830973, 0.9863057794830973, 0.9863057794830973, 0.9863057794830973, 0.9863057794830973, 0.9863057794830973, 0.9866620262827593, 0.9866620262827593, 0.9866620262827593, 0.9866620262827593, 0.9866620262827593, 0.9866620262827593, 0.9866620262827593, 0.9866620262827593, 0.9870817503977537, 0.9870817503977537, 0.9870817503977537, 0.9870817503977537, 0.9870817503977537, 0.9870817503977537, 0.9870817503977537, 0.9870817503977537, 0.9870817503977537, 0.9870817503977537, 0.9878897181567382, 0.9878897181567382, 0.9878897181567382, 0.9878897181567382, 0.9878897181567382, 0.9887973888542837, 0.9887973888542837, 0.9887973888542837, 0.9887973888542837, 0.9887973888542837, 0.9887973888542837, 0.9887973888542837, 0.9887973888542837, 0.9887973888542837, 0.9887973888542837, 0.9887973888542837, 0.9887973888542837, 0.9887973888542837, 0.9887973888542837, 0.9887973888542837]}], \"precision_score_micro\": [{\"categories\": [\"0\", \"1\", \"2\", \"3\", \"4\", \"5\", \"6\", \"7\", \"8\", \"9\", \"10\", \"11\", \"12\", \"13\", \"14\", \"15\", \"16\", \"17\", \"18\", \"19\", \"20\", \"21\", \"22\", \"23\", \"24\", \"25\", \"26\", \"27\", \"28\", \"29\", \"30\", \"31\", \"32\", \"33\", \"34\", \"35\", \"36\", \"37\", \"38\", \"39\", \"40\", \"41\", \"42\", \"43\", \"44\", \"45\", \"46\", \"47\", \"48\", \"49\", \"52\", \"53\"], \"mode\": \"markers\", \"name\": \"precision_score_micro\", \"stepped\": false, \"type\": \"scatter\", \"data\": [0.9949209456524907, 0.9944589808056059, 0.9681411299408523, 0.9835315467470181, 0.982915332982186, 0.9847631923697254, 0.9732196156287563, 0.9926121165723757, 0.98291575947689, 0.9704494614438125, 0.975220231202779, 0.988764636765123, 0.9919964714671489, 0.7538860420367396, 0.9950749102406354, 0.9872247776363237, 0.9875325646477119, 0.9887645656826723, 0.987994671659498, 0.7538860420367396, 0.9910727550207312, 0.9876866003183072, 0.9952287326638789, 0.9675226415375987, 0.980915214985318, 0.9193486430715581, 0.9875327778950638, 0.9910727550207312, 0.9946130164762012, 0.9901494650690176, 0.7538860420367396, 0.9929199746662146, 0.995536732922619, 0.9943053716297144, 0.9906109323387476, 0.889642789360663, 0.9950748391581848, 0.9958444488515564, 0.9939975135358757, 0.9930741525017113, 0.99492087457004, 0.9906114299159023, 0.9941513359591191, 0.9846085169570741, 0.9946128743112999, 0.9953826972520236, 0.9950748391581848, 0.9956904842634117, 0.9950750524055367, 0.9941511227117671, 0.9958443777691057, 0.9956904131809611]}, {\"categories\": [\"0\", \"1\", \"2\", \"3\", \"4\", \"5\", \"6\", \"7\", \"8\", \"9\", \"10\", \"11\", \"12\", \"13\", \"14\", \"15\", \"16\", \"17\", \"18\", \"19\", \"20\", \"21\", \"22\", \"23\", \"24\", \"25\", \"26\", \"27\", \"28\", \"29\", \"30\", \"31\", \"32\", \"33\", \"34\", \"35\", \"36\", \"37\", \"38\", \"39\", \"40\", \"41\", \"42\", \"43\", \"44\", \"45\", \"46\", \"47\", \"48\", \"49\", \"52\", \"53\"], \"mode\": \"lines\", \"name\": \"precision_score_micro_max\", \"stepped\": true, \"type\": \"scatter\", \"data\": [0.9949209456524907, 0.9949209456524907, 0.9949209456524907, 0.9949209456524907, 0.9949209456524907, 0.9949209456524907, 0.9949209456524907, 0.9949209456524907, 0.9949209456524907, 0.9949209456524907, 0.9949209456524907, 0.9949209456524907, 0.9949209456524907, 0.9949209456524907, 0.9950749102406354, 0.9950749102406354, 0.9950749102406354, 0.9950749102406354, 0.9950749102406354, 0.9950749102406354, 0.9950749102406354, 0.9950749102406354, 0.9952287326638789, 0.9952287326638789, 0.9952287326638789, 0.9952287326638789, 0.9952287326638789, 0.9952287326638789, 0.9952287326638789, 0.9952287326638789, 0.9952287326638789, 0.9952287326638789, 0.995536732922619, 0.995536732922619, 0.995536732922619, 0.995536732922619, 0.995536732922619, 0.9958444488515564, 0.9958444488515564, 0.9958444488515564, 0.9958444488515564, 0.9958444488515564, 0.9958444488515564, 0.9958444488515564, 0.9958444488515564, 0.9958444488515564, 0.9958444488515564, 0.9958444488515564, 0.9958444488515564, 0.9958444488515564, 0.9958444488515564, 0.9958444488515564]}], \"precision_score_macro\": [{\"categories\": [\"0\", \"1\", \"2\", \"3\", \"4\", \"5\", \"6\", \"7\", \"8\", \"9\", \"10\", \"11\", \"12\", \"13\", \"14\", \"15\", \"16\", \"17\", \"18\", \"19\", \"20\", \"21\", \"22\", \"23\", \"24\", \"25\", \"26\", \"27\", \"28\", \"29\", \"30\", \"31\", \"32\", \"33\", \"34\", \"35\", \"36\", \"37\", \"38\", \"39\", \"40\", \"41\", \"42\", \"43\", \"44\", \"45\", \"46\", \"47\", \"48\", \"49\", \"52\", \"53\"], \"mode\": \"markers\", \"name\": \"precision_score_macro\", \"stepped\": false, \"type\": \"scatter\", \"data\": [0.9943104254991658, 0.9940396734404615, 0.9730297306701132, 0.9844464828609482, 0.9853883745675261, 0.9792725012677496, 0.9576237609368716, 0.993399738390146, 0.9778846833123415, 0.9515316913401999, 0.9727051219910879, 0.9823057422722936, 0.9927739135441115, 0.3769430210183698, 0.9954813379970678, 0.9909709854843758, 0.9800844477229819, 0.9829758316556837, 0.987844186174191, 0.3769430210183698, 0.9885442302196347, 0.9883065018314942, 0.9953377517139446, 0.9486895404706521, 0.9755489378842386, 0.8821901782438387, 0.9793758733264656, 0.9885215506072068, 0.9939395873217619, 0.9911270268915752, 0.3769430210183698, 0.9925764159229647, 0.9957534016196176, 0.9947683531548871, 0.9876140191883515, 0.8444842988524153, 0.9946005153300987, 0.9957754047042567, 0.9942695597125111, 0.993036076435069, 0.9949309895059985, 0.9896845697244504, 0.993573435072778, 0.9806695546518691, 0.9934787363874351, 0.9948407802651166, 0.9954619755222666, 0.995061262241423, 0.9945776676632182, 0.9935836725132647, 0.9959743493545945, 0.9952768941400527]}, {\"categories\": [\"0\", \"1\", \"2\", \"3\", \"4\", \"5\", \"6\", \"7\", \"8\", \"9\", \"10\", \"11\", \"12\", \"13\", \"14\", \"15\", \"16\", \"17\", \"18\", \"19\", \"20\", \"21\", \"22\", \"23\", \"24\", \"25\", \"26\", \"27\", \"28\", \"29\", \"30\", \"31\", \"32\", \"33\", \"34\", \"35\", \"36\", \"37\", \"38\", \"39\", \"40\", \"41\", \"42\", \"43\", \"44\", \"45\", \"46\", \"47\", \"48\", \"49\", \"52\", \"53\"], \"mode\": \"lines\", \"name\": \"precision_score_macro_max\", \"stepped\": true, \"type\": \"scatter\", \"data\": [0.9943104254991658, 0.9943104254991658, 0.9943104254991658, 0.9943104254991658, 0.9943104254991658, 0.9943104254991658, 0.9943104254991658, 0.9943104254991658, 0.9943104254991658, 0.9943104254991658, 0.9943104254991658, 0.9943104254991658, 0.9943104254991658, 0.9943104254991658, 0.9954813379970678, 0.9954813379970678, 0.9954813379970678, 0.9954813379970678, 0.9954813379970678, 0.9954813379970678, 0.9954813379970678, 0.9954813379970678, 0.9954813379970678, 0.9954813379970678, 0.9954813379970678, 0.9954813379970678, 0.9954813379970678, 0.9954813379970678, 0.9954813379970678, 0.9954813379970678, 0.9954813379970678, 0.9954813379970678, 0.9957534016196176, 0.9957534016196176, 0.9957534016196176, 0.9957534016196176, 0.9957534016196176, 0.9957754047042567, 0.9957754047042567, 0.9957754047042567, 0.9957754047042567, 0.9957754047042567, 0.9957754047042567, 0.9957754047042567, 0.9957754047042567, 0.9957754047042567, 0.9957754047042567, 0.9957754047042567, 0.9957754047042567, 0.9957754047042567, 0.9959743493545945, 0.9959743493545945]}], \"accuracy\": [{\"categories\": [\"0\", \"1\", \"2\", \"3\", \"4\", \"5\", \"6\", \"7\", \"8\", \"9\", \"10\", \"11\", \"12\", \"13\", \"14\", \"15\", \"16\", \"17\", \"18\", \"19\", \"20\", \"21\", \"22\", \"23\", \"24\", \"25\", \"26\", \"27\", \"28\", \"29\", \"30\", \"31\", \"32\", \"33\", \"34\", \"35\", \"36\", \"37\", \"38\", \"39\", \"40\", \"41\", \"42\", \"43\", \"44\", \"45\", \"46\", \"47\", \"48\", \"49\", \"52\", \"53\"], \"mode\": \"markers\", \"name\": \"accuracy\", \"stepped\": false, \"type\": \"scatter\", \"data\": [0.9949209456524907, 0.9944589808056059, 0.9681411299408523, 0.9835315467470181, 0.982915332982186, 0.9847631923697254, 0.9732196156287563, 0.9926121165723757, 0.98291575947689, 0.9704494614438125, 0.975220231202779, 0.988764636765123, 0.9919964714671489, 0.7538860420367396, 0.9950749102406354, 0.9872247776363237, 0.9875325646477119, 0.9887645656826723, 0.987994671659498, 0.7538860420367396, 0.9910727550207312, 0.9876866003183072, 0.9952287326638789, 0.9675226415375987, 0.980915214985318, 0.9193486430715581, 0.9875327778950638, 0.9910727550207312, 0.9946130164762012, 0.9901494650690176, 0.7538860420367396, 0.9929199746662146, 0.995536732922619, 0.9943053716297144, 0.9906109323387476, 0.889642789360663, 0.9950748391581848, 0.9958444488515564, 0.9939975135358757, 0.9930741525017113, 0.99492087457004, 0.9906114299159023, 0.9941513359591191, 0.9846085169570741, 0.9946128743112999, 0.9953826972520236, 0.9950748391581848, 0.9956904842634117, 0.9950750524055367, 0.9941511227117671, 0.9958443777691057, 0.9956904131809611]}, {\"categories\": [\"0\", \"1\", \"2\", \"3\", \"4\", \"5\", \"6\", \"7\", \"8\", \"9\", \"10\", \"11\", \"12\", \"13\", \"14\", \"15\", \"16\", \"17\", \"18\", \"19\", \"20\", \"21\", \"22\", \"23\", \"24\", \"25\", \"26\", \"27\", \"28\", \"29\", \"30\", \"31\", \"32\", \"33\", \"34\", \"35\", \"36\", \"37\", \"38\", \"39\", \"40\", \"41\", \"42\", \"43\", \"44\", \"45\", \"46\", \"47\", \"48\", \"49\", \"52\", \"53\"], \"mode\": \"lines\", \"name\": \"accuracy_max\", \"stepped\": true, \"type\": \"scatter\", \"data\": [0.9949209456524907, 0.9949209456524907, 0.9949209456524907, 0.9949209456524907, 0.9949209456524907, 0.9949209456524907, 0.9949209456524907, 0.9949209456524907, 0.9949209456524907, 0.9949209456524907, 0.9949209456524907, 0.9949209456524907, 0.9949209456524907, 0.9949209456524907, 0.9950749102406354, 0.9950749102406354, 0.9950749102406354, 0.9950749102406354, 0.9950749102406354, 0.9950749102406354, 0.9950749102406354, 0.9950749102406354, 0.9952287326638789, 0.9952287326638789, 0.9952287326638789, 0.9952287326638789, 0.9952287326638789, 0.9952287326638789, 0.9952287326638789, 0.9952287326638789, 0.9952287326638789, 0.9952287326638789, 0.995536732922619, 0.995536732922619, 0.995536732922619, 0.995536732922619, 0.995536732922619, 0.9958444488515564, 0.9958444488515564, 0.9958444488515564, 0.9958444488515564, 0.9958444488515564, 0.9958444488515564, 0.9958444488515564, 0.9958444488515564, 0.9958444488515564, 0.9958444488515564, 0.9958444488515564, 0.9958444488515564, 0.9958444488515564, 0.9958444488515564, 0.9958444488515564]}], \"average_precision_score_weighted\": [{\"categories\": [\"0\", \"1\", \"2\", \"3\", \"4\", \"5\", \"6\", \"7\", \"8\", \"9\", \"10\", \"11\", \"12\", \"13\", \"14\", \"15\", \"16\", \"17\", \"18\", \"19\", \"20\", \"21\", \"22\", \"23\", \"24\", \"25\", \"26\", \"27\", \"28\", \"29\", \"30\", \"31\", \"32\", \"33\", \"34\", \"35\", \"36\", \"37\", \"38\", \"39\", \"40\", \"41\", \"42\", \"43\", \"44\", \"45\", \"46\", \"47\", \"48\", \"49\", \"52\", \"53\"], \"mode\": \"markers\", \"name\": \"average_precision_score_weighted\", \"stepped\": false, \"type\": \"scatter\", \"data\": [0.9990716716487956, 0.9988718400566214, 0.9943703588634313, 0.9968579942845471, 0.9964997845050584, 0.9960781363437423, 0.9952216132420437, 0.998391201930625, 0.9946088437978299, 0.9958846862882115, 0.9941336739322444, 0.9972277182888236, 0.9981259802956433, 0.9783245536978247, 0.9990534362452251, 0.9974416583399589, 0.9951760856223065, 0.9977308308069012, 0.99546131626747, 0.9919784820964228, 0.9951656998822722, 0.9958202885476712, 0.9988728337961909, 0.9941958801812394, 0.9928974279400178, 0.9837780399633953, 0.9951574659004426, 0.9952691957179957, 0.9987915972893594, 0.9975692843019752, 0.9764148551803067, 0.9981169098844634, 0.9991807375169941, 0.9984891736605602, 0.9951311193574526, 0.9130498246799778, 0.9988882566456928, 0.9991219777035067, 0.9989920027790528, 0.9983739080066876, 0.9988767116770427, 0.9979717511462685, 0.9985994534075896, 0.9947913748113734, 0.9989926337889462, 0.9990465444908292, 0.9990679335432979, 0.9989664355714644, 0.9989677910886728, 0.9988203693060586, 0.9993028602669133, 0.9992962129206454]}, {\"categories\": [\"0\", \"1\", \"2\", \"3\", \"4\", \"5\", \"6\", \"7\", \"8\", \"9\", \"10\", \"11\", \"12\", \"13\", \"14\", \"15\", \"16\", \"17\", \"18\", \"19\", \"20\", \"21\", \"22\", \"23\", \"24\", \"25\", \"26\", \"27\", \"28\", \"29\", \"30\", \"31\", \"32\", \"33\", \"34\", \"35\", \"36\", \"37\", \"38\", \"39\", \"40\", \"41\", \"42\", \"43\", \"44\", \"45\", \"46\", \"47\", \"48\", \"49\", \"52\", \"53\"], \"mode\": \"lines\", \"name\": \"average_precision_score_weighted_max\", \"stepped\": true, \"type\": \"scatter\", \"data\": [0.9990716716487956, 0.9990716716487956, 0.9990716716487956, 0.9990716716487956, 0.9990716716487956, 0.9990716716487956, 0.9990716716487956, 0.9990716716487956, 0.9990716716487956, 0.9990716716487956, 0.9990716716487956, 0.9990716716487956, 0.9990716716487956, 0.9990716716487956, 0.9990716716487956, 0.9990716716487956, 0.9990716716487956, 0.9990716716487956, 0.9990716716487956, 0.9990716716487956, 0.9990716716487956, 0.9990716716487956, 0.9990716716487956, 0.9990716716487956, 0.9990716716487956, 0.9990716716487956, 0.9990716716487956, 0.9990716716487956, 0.9990716716487956, 0.9990716716487956, 0.9990716716487956, 0.9990716716487956, 0.9991807375169941, 0.9991807375169941, 0.9991807375169941, 0.9991807375169941, 0.9991807375169941, 0.9991807375169941, 0.9991807375169941, 0.9991807375169941, 0.9991807375169941, 0.9991807375169941, 0.9991807375169941, 0.9991807375169941, 0.9991807375169941, 0.9991807375169941, 0.9991807375169941, 0.9991807375169941, 0.9991807375169941, 0.9991807375169941, 0.9993028602669133, 0.9993028602669133]}], \"f1_score_micro\": [{\"categories\": [\"0\", \"1\", \"2\", \"3\", \"4\", \"5\", \"6\", \"7\", \"8\", \"9\", \"10\", \"11\", \"12\", \"13\", \"14\", \"15\", \"16\", \"17\", \"18\", \"19\", \"20\", \"21\", \"22\", \"23\", \"24\", \"25\", \"26\", \"27\", \"28\", \"29\", \"30\", \"31\", \"32\", \"33\", \"34\", \"35\", \"36\", \"37\", \"38\", \"39\", \"40\", \"41\", \"42\", \"43\", \"44\", \"45\", \"46\", \"47\", \"48\", \"49\", \"52\", \"53\"], \"mode\": \"markers\", \"name\": \"f1_score_micro\", \"stepped\": false, \"type\": \"scatter\", \"data\": [0.9949209456524907, 0.9944589808056059, 0.9681411299408523, 0.9835315467470181, 0.982915332982186, 0.9847631923697254, 0.9732196156287563, 0.9926121165723757, 0.98291575947689, 0.9704494614438125, 0.975220231202779, 0.988764636765123, 0.9919964714671489, 0.7538860420367396, 0.9950749102406354, 0.9872247776363237, 0.9875325646477119, 0.9887645656826723, 0.987994671659498, 0.7538860420367396, 0.9910727550207312, 0.9876866003183072, 0.9952287326638789, 0.9675226415375987, 0.980915214985318, 0.9193486430715581, 0.9875327778950638, 0.9910727550207312, 0.9946130164762012, 0.9901494650690176, 0.7538860420367396, 0.9929199746662146, 0.995536732922619, 0.9943053716297144, 0.9906109323387476, 0.889642789360663, 0.9950748391581848, 0.9958444488515564, 0.9939975135358757, 0.9930741525017113, 0.99492087457004, 0.9906114299159023, 0.9941513359591191, 0.9846085169570741, 0.9946128743112999, 0.9953826972520236, 0.9950748391581848, 0.9956904842634117, 0.9950750524055367, 0.9941511227117671, 0.9958443777691057, 0.9956904131809611]}, {\"categories\": [\"0\", \"1\", \"2\", \"3\", \"4\", \"5\", \"6\", \"7\", \"8\", \"9\", \"10\", \"11\", \"12\", \"13\", \"14\", \"15\", \"16\", \"17\", \"18\", \"19\", \"20\", \"21\", \"22\", \"23\", \"24\", \"25\", \"26\", \"27\", \"28\", \"29\", \"30\", \"31\", \"32\", \"33\", \"34\", \"35\", \"36\", \"37\", \"38\", \"39\", \"40\", \"41\", \"42\", \"43\", \"44\", \"45\", \"46\", \"47\", \"48\", \"49\", \"52\", \"53\"], \"mode\": \"lines\", \"name\": \"f1_score_micro_max\", \"stepped\": true, \"type\": \"scatter\", \"data\": [0.9949209456524907, 0.9949209456524907, 0.9949209456524907, 0.9949209456524907, 0.9949209456524907, 0.9949209456524907, 0.9949209456524907, 0.9949209456524907, 0.9949209456524907, 0.9949209456524907, 0.9949209456524907, 0.9949209456524907, 0.9949209456524907, 0.9949209456524907, 0.9950749102406354, 0.9950749102406354, 0.9950749102406354, 0.9950749102406354, 0.9950749102406354, 0.9950749102406354, 0.9950749102406354, 0.9950749102406354, 0.9952287326638789, 0.9952287326638789, 0.9952287326638789, 0.9952287326638789, 0.9952287326638789, 0.9952287326638789, 0.9952287326638789, 0.9952287326638789, 0.9952287326638789, 0.9952287326638789, 0.995536732922619, 0.995536732922619, 0.995536732922619, 0.995536732922619, 0.995536732922619, 0.9958444488515564, 0.9958444488515564, 0.9958444488515564, 0.9958444488515564, 0.9958444488515564, 0.9958444488515564, 0.9958444488515564, 0.9958444488515564, 0.9958444488515564, 0.9958444488515564, 0.9958444488515564, 0.9958444488515564, 0.9958444488515564, 0.9958444488515564, 0.9958444488515564]}], \"recall_score_weighted\": [{\"categories\": [\"0\", \"1\", \"2\", \"3\", \"4\", \"5\", \"6\", \"7\", \"8\", \"9\", \"10\", \"11\", \"12\", \"13\", \"14\", \"15\", \"16\", \"17\", \"18\", \"19\", \"20\", \"21\", \"22\", \"23\", \"24\", \"25\", \"26\", \"27\", \"28\", \"29\", \"30\", \"31\", \"32\", \"33\", \"34\", \"35\", \"36\", \"37\", \"38\", \"39\", \"40\", \"41\", \"42\", \"43\", \"44\", \"45\", \"46\", \"47\", \"48\", \"49\", \"52\", \"53\"], \"mode\": \"markers\", \"name\": \"recall_score_weighted\", \"stepped\": false, \"type\": \"scatter\", \"data\": [0.9949209456524907, 0.9944589808056059, 0.9681411299408523, 0.9835315467470181, 0.982915332982186, 0.9847631923697254, 0.9732196156287563, 0.9926121165723757, 0.98291575947689, 0.9704494614438125, 0.975220231202779, 0.988764636765123, 0.9919964714671489, 0.7538860420367396, 0.9950749102406354, 0.9872247776363237, 0.9875325646477119, 0.9887645656826723, 0.987994671659498, 0.7538860420367396, 0.9910727550207312, 0.9876866003183072, 0.9952287326638789, 0.9675226415375987, 0.980915214985318, 0.9193486430715581, 0.9875327778950638, 0.9910727550207312, 0.9946130164762012, 0.9901494650690176, 0.7538860420367396, 0.9929199746662146, 0.995536732922619, 0.9943053716297144, 0.9906109323387476, 0.889642789360663, 0.9950748391581848, 0.9958444488515564, 0.9939975135358757, 0.9930741525017113, 0.99492087457004, 0.9906114299159023, 0.9941513359591191, 0.9846085169570741, 0.9946128743112999, 0.9953826972520236, 0.9950748391581848, 0.9956904842634117, 0.9950750524055367, 0.9941511227117671, 0.9958443777691057, 0.9956904131809611]}, {\"categories\": [\"0\", \"1\", \"2\", \"3\", \"4\", \"5\", \"6\", \"7\", \"8\", \"9\", \"10\", \"11\", \"12\", \"13\", \"14\", \"15\", \"16\", \"17\", \"18\", \"19\", \"20\", \"21\", \"22\", \"23\", \"24\", \"25\", \"26\", \"27\", \"28\", \"29\", \"30\", \"31\", \"32\", \"33\", \"34\", \"35\", \"36\", \"37\", \"38\", \"39\", \"40\", \"41\", \"42\", \"43\", \"44\", \"45\", \"46\", \"47\", \"48\", \"49\", \"52\", \"53\"], \"mode\": \"lines\", \"name\": \"recall_score_weighted_max\", \"stepped\": true, \"type\": \"scatter\", \"data\": [0.9949209456524907, 0.9949209456524907, 0.9949209456524907, 0.9949209456524907, 0.9949209456524907, 0.9949209456524907, 0.9949209456524907, 0.9949209456524907, 0.9949209456524907, 0.9949209456524907, 0.9949209456524907, 0.9949209456524907, 0.9949209456524907, 0.9949209456524907, 0.9950749102406354, 0.9950749102406354, 0.9950749102406354, 0.9950749102406354, 0.9950749102406354, 0.9950749102406354, 0.9950749102406354, 0.9950749102406354, 0.9952287326638789, 0.9952287326638789, 0.9952287326638789, 0.9952287326638789, 0.9952287326638789, 0.9952287326638789, 0.9952287326638789, 0.9952287326638789, 0.9952287326638789, 0.9952287326638789, 0.995536732922619, 0.995536732922619, 0.995536732922619, 0.995536732922619, 0.995536732922619, 0.9958444488515564, 0.9958444488515564, 0.9958444488515564, 0.9958444488515564, 0.9958444488515564, 0.9958444488515564, 0.9958444488515564, 0.9958444488515564, 0.9958444488515564, 0.9958444488515564, 0.9958444488515564, 0.9958444488515564, 0.9958444488515564, 0.9958444488515564, 0.9958444488515564]}], \"average_precision_score_micro\": [{\"categories\": [\"0\", \"1\", \"2\", \"3\", \"4\", \"5\", \"6\", \"7\", \"8\", \"9\", \"10\", \"11\", \"12\", \"13\", \"14\", \"15\", \"16\", \"17\", \"18\", \"19\", \"20\", \"21\", \"22\", \"23\", \"24\", \"25\", \"26\", \"27\", \"28\", \"29\", \"30\", \"31\", \"32\", \"33\", \"34\", \"35\", \"36\", \"37\", \"38\", \"39\", \"40\", \"41\", \"42\", \"43\", \"44\", \"45\", \"46\", \"47\", \"48\", \"49\", \"52\", \"53\"], \"mode\": \"markers\", \"name\": \"average_precision_score_micro\", \"stepped\": false, \"type\": \"scatter\", \"data\": [0.999163654952362, 0.9991061357874612, 0.9942427066056011, 0.9970031492812653, 0.9962365621039208, 0.99665665836517, 0.9952952651156023, 0.9986767317748249, 0.9958994117476611, 0.9952435887855798, 0.9946314634545971, 0.9975903797215605, 0.9985529361264485, 0.9358148473933818, 0.999197249053095, 0.9966584932063979, 0.9959439744419107, 0.9981206106054766, 0.9961553620609228, 0.9416331394019002, 0.9960532997590695, 0.996422001966205, 0.9990889199172767, 0.9942277792647213, 0.9945374445802732, 0.9844386197198268, 0.995923037243431, 0.9961269147079785, 0.9990475115131368, 0.9975802559011248, 0.9360146188874948, 0.9983468220296455, 0.9993611644072916, 0.9987084827432376, 0.9960185199141445, 0.8812780351634246, 0.9991303875200378, 0.9993389469200856, 0.9991610892186543, 0.9986233936924697, 0.9990886784520973, 0.9979829053063103, 0.9988754280943039, 0.9956525870973506, 0.9992602238525734, 0.9992751966613737, 0.999243550379432, 0.9992117992639605, 0.9992212194581317, 0.9990893751282481, 0.9994272372288621, 0.9995514092623332]}, {\"categories\": [\"0\", \"1\", \"2\", \"3\", \"4\", \"5\", \"6\", \"7\", \"8\", \"9\", \"10\", \"11\", \"12\", \"13\", \"14\", \"15\", \"16\", \"17\", \"18\", \"19\", \"20\", \"21\", \"22\", \"23\", \"24\", \"25\", \"26\", \"27\", \"28\", \"29\", \"30\", \"31\", \"32\", \"33\", \"34\", \"35\", \"36\", \"37\", \"38\", \"39\", \"40\", \"41\", \"42\", \"43\", \"44\", \"45\", \"46\", \"47\", \"48\", \"49\", \"52\", \"53\"], \"mode\": \"lines\", \"name\": \"average_precision_score_micro_max\", \"stepped\": true, \"type\": \"scatter\", \"data\": [0.999163654952362, 0.999163654952362, 0.999163654952362, 0.999163654952362, 0.999163654952362, 0.999163654952362, 0.999163654952362, 0.999163654952362, 0.999163654952362, 0.999163654952362, 0.999163654952362, 0.999163654952362, 0.999163654952362, 0.999163654952362, 0.999197249053095, 0.999197249053095, 0.999197249053095, 0.999197249053095, 0.999197249053095, 0.999197249053095, 0.999197249053095, 0.999197249053095, 0.999197249053095, 0.999197249053095, 0.999197249053095, 0.999197249053095, 0.999197249053095, 0.999197249053095, 0.999197249053095, 0.999197249053095, 0.999197249053095, 0.999197249053095, 0.9993611644072916, 0.9993611644072916, 0.9993611644072916, 0.9993611644072916, 0.9993611644072916, 0.9993611644072916, 0.9993611644072916, 0.9993611644072916, 0.9993611644072916, 0.9993611644072916, 0.9993611644072916, 0.9993611644072916, 0.9993611644072916, 0.9993611644072916, 0.9993611644072916, 0.9993611644072916, 0.9993611644072916, 0.9993611644072916, 0.9994272372288621, 0.9995514092623332]}], \"AUC_weighted\": [{\"categories\": [\"0\", \"1\", \"2\", \"3\", \"4\", \"5\", \"6\", \"7\", \"8\", \"9\", \"10\", \"11\", \"12\", \"13\", \"14\", \"15\", \"16\", \"17\", \"18\", \"19\", \"20\", \"21\", \"22\", \"23\", \"24\", \"25\", \"26\", \"27\", \"28\", \"29\", \"30\", \"31\", \"32\", \"33\", \"34\", \"35\", \"36\", \"37\", \"38\", \"39\", \"40\", \"41\", \"42\", \"43\", \"44\", \"45\", \"46\", \"47\", \"48\", \"49\", \"52\", \"53\"], \"mode\": \"markers\", \"name\": \"AUC_weighted\", \"stepped\": false, \"type\": \"scatter\", \"data\": [0.9988413863768829, 0.9984868552752948, 0.993149840953496, 0.9959613893370448, 0.9956491674221954, 0.99571774507108, 0.9943327884104951, 0.9978616770739825, 0.9946953131660692, 0.9946887590659087, 0.9931525349637139, 0.9959635389525138, 0.9976820484567921, 0.9756684648120121, 0.9988998075916627, 0.9962994254369676, 0.9951144662032939, 0.9967754401999319, 0.9947361503576596, 0.9905724252719575, 0.9951844352501101, 0.995122049322282, 0.998659697173473, 0.992894738611705, 0.9930036707964192, 0.9846134384923672, 0.9950991747771926, 0.995220861163955, 0.9983479872101112, 0.9966263747254493, 0.9740859673398679, 0.9973616193210398, 0.998922543875933, 0.9980648935798291, 0.9950954398089209, 0.9170332349500471, 0.9985877283113863, 0.9988348185204444, 0.9986432381439659, 0.9979709039713001, 0.9985710788196324, 0.9972807173191433, 0.9980801245888471, 0.99467580044531, 0.9986013163959132, 0.9986707113407306, 0.9988207178809346, 0.9985420084097515, 0.9987960481261156, 0.9984406708049559, 0.9990679644052318, 0.9990540799335569]}, {\"categories\": [\"0\", \"1\", \"2\", \"3\", \"4\", \"5\", \"6\", \"7\", \"8\", \"9\", \"10\", \"11\", \"12\", \"13\", \"14\", \"15\", \"16\", \"17\", \"18\", \"19\", \"20\", \"21\", \"22\", \"23\", \"24\", \"25\", \"26\", \"27\", \"28\", \"29\", \"30\", \"31\", \"32\", \"33\", \"34\", \"35\", \"36\", \"37\", \"38\", \"39\", \"40\", \"41\", \"42\", \"43\", \"44\", \"45\", \"46\", \"47\", \"48\", \"49\", \"52\", \"53\"], \"mode\": \"lines\", \"name\": \"AUC_weighted_max\", \"stepped\": true, \"type\": \"scatter\", \"data\": [0.9988413863768829, 0.9988413863768829, 0.9988413863768829, 0.9988413863768829, 0.9988413863768829, 0.9988413863768829, 0.9988413863768829, 0.9988413863768829, 0.9988413863768829, 0.9988413863768829, 0.9988413863768829, 0.9988413863768829, 0.9988413863768829, 0.9988413863768829, 0.9988998075916627, 0.9988998075916627, 0.9988998075916627, 0.9988998075916627, 0.9988998075916627, 0.9988998075916627, 0.9988998075916627, 0.9988998075916627, 0.9988998075916627, 0.9988998075916627, 0.9988998075916627, 0.9988998075916627, 0.9988998075916627, 0.9988998075916627, 0.9988998075916627, 0.9988998075916627, 0.9988998075916627, 0.9988998075916627, 0.998922543875933, 0.998922543875933, 0.998922543875933, 0.998922543875933, 0.998922543875933, 0.998922543875933, 0.998922543875933, 0.998922543875933, 0.998922543875933, 0.998922543875933, 0.998922543875933, 0.998922543875933, 0.998922543875933, 0.998922543875933, 0.998922543875933, 0.998922543875933, 0.998922543875933, 0.998922543875933, 0.9990679644052318, 0.9990679644052318]}], \"log_loss\": [{\"categories\": [\"0\", \"1\", \"2\", \"3\", \"4\", \"5\", \"6\", \"7\", \"8\", \"9\", \"10\", \"11\", \"12\", \"13\", \"14\", \"15\", \"16\", \"17\", \"18\", \"19\", \"20\", \"21\", \"22\", \"23\", \"24\", \"25\", \"26\", \"27\", \"28\", \"29\", \"30\", \"31\", \"32\", \"33\", \"34\", \"35\", \"36\", \"37\", \"38\", \"39\", \"40\", \"41\", \"42\", \"43\", \"44\", \"45\", \"46\", \"47\", \"48\", \"49\", \"52\", \"53\"], \"mode\": \"markers\", \"name\": \"log_loss\", \"stepped\": false, \"type\": \"scatter\", \"data\": [0.023473957004933394, 0.022588862287946963, 0.16482055925941094, 0.09925508108772933, 0.10713804704309439, 0.22778449387971675, 0.09541436978226726, 0.2304616268272036, 0.2316476152838328, 0.18431817667387873, 0.10647131500527174, 0.261193750639497, 0.07058360947689495, 0.4882700190616134, 0.03664339358725147, 0.1439758191957924, 0.05135480994503936, 0.11381078177278763, 0.22796477944989083, 0.48547155238341544, 0.04416687106803186, 0.22666252490171304, 0.023060265799842664, 0.17444085948777713, 0.23310456130219767, 0.19113917020079854, 0.05313661050755014, 0.04386459012913258, 0.025242750463543514, 0.06727242106376269, 0.4146521543248181, 0.033683228897811106, 0.01880421814196449, 0.02822372985859317, 0.045097405753846666, 0.3616200181384428, 0.02233994578136921, 0.018400394607636497, 0.027052586983993262, 0.03169975130136345, 0.02133170928213302, 0.04215501116098353, 0.027936185609190697, 0.05634249861980683, 0.021115243591127417, 0.019148009193700792, 0.01980284035404712, 0.020999447060035998, 0.01943520717222551, 0.024223407969904926, 0.02180328293639074, 0.019827315011085245]}, {\"categories\": [\"0\", \"1\", \"2\", \"3\", \"4\", \"5\", \"6\", \"7\", \"8\", \"9\", \"10\", \"11\", \"12\", \"13\", \"14\", \"15\", \"16\", \"17\", \"18\", \"19\", \"20\", \"21\", \"22\", \"23\", \"24\", \"25\", \"26\", \"27\", \"28\", \"29\", \"30\", \"31\", \"32\", \"33\", \"34\", \"35\", \"36\", \"37\", \"38\", \"39\", \"40\", \"41\", \"42\", \"43\", \"44\", \"45\", \"46\", \"47\", \"48\", \"49\", \"52\", \"53\"], \"mode\": \"lines\", \"name\": \"log_loss_min\", \"stepped\": true, \"type\": \"scatter\", \"data\": [0.023473957004933394, 0.022588862287946963, 0.022588862287946963, 0.022588862287946963, 0.022588862287946963, 0.022588862287946963, 0.022588862287946963, 0.022588862287946963, 0.022588862287946963, 0.022588862287946963, 0.022588862287946963, 0.022588862287946963, 0.022588862287946963, 0.022588862287946963, 0.022588862287946963, 0.022588862287946963, 0.022588862287946963, 0.022588862287946963, 0.022588862287946963, 0.022588862287946963, 0.022588862287946963, 0.022588862287946963, 0.022588862287946963, 0.022588862287946963, 0.022588862287946963, 0.022588862287946963, 0.022588862287946963, 0.022588862287946963, 0.022588862287946963, 0.022588862287946963, 0.022588862287946963, 0.022588862287946963, 0.01880421814196449, 0.01880421814196449, 0.01880421814196449, 0.01880421814196449, 0.01880421814196449, 0.018400394607636497, 0.018400394607636497, 0.018400394607636497, 0.018400394607636497, 0.018400394607636497, 0.018400394607636497, 0.018400394607636497, 0.018400394607636497, 0.018400394607636497, 0.018400394607636497, 0.018400394607636497, 0.018400394607636497, 0.018400394607636497, 0.018400394607636497, 0.018400394607636497]}], \"balanced_accuracy\": [{\"categories\": [\"0\", \"1\", \"2\", \"3\", \"4\", \"5\", \"6\", \"7\", \"8\", \"9\", \"10\", \"11\", \"12\", \"13\", \"14\", \"15\", \"16\", \"17\", \"18\", \"19\", \"20\", \"21\", \"22\", \"23\", \"24\", \"25\", \"26\", \"27\", \"28\", \"29\", \"30\", \"31\", \"32\", \"33\", \"34\", \"35\", \"36\", \"37\", \"38\", \"39\", \"40\", \"41\", \"42\", \"43\", \"44\", \"45\", \"46\", \"47\", \"48\", \"49\", \"52\", \"53\"], \"mode\": \"markers\", \"name\": \"balanced_accuracy\", \"stepped\": false, \"type\": \"scatter\", \"data\": [0.9919986299307224, 0.9910455976429273, 0.9407933289680107, 0.9710868873605548, 0.9684281186149107, 0.9795221316036239, 0.9718353129607126, 0.986610958984596, 0.9759734429432302, 0.9719325475233677, 0.9602115033320587, 0.9878372609165451, 0.9855785395948374, 0.5, 0.9911912589333509, 0.9746478956709014, 0.9866605581005468, 0.9869345768884866, 0.9796691247384269, 0.5, 0.9873339387042971, 0.9784122978492237, 0.9917506362409751, 0.9662862516729941, 0.9726899648594837, 0.9118154801739656, 0.9875085390558705, 0.9873555665437831, 0.991543146883509, 0.9822359755826469, 0.5, 0.9883426077888458, 0.9921432721882999, 0.9898480328146224, 0.9870181546192122, 0.8776299593078049, 0.9920544308423835, 0.9930259226515027, 0.9894730299373977, 0.9882141083052862, 0.9913664719508737, 0.9848700612380886, 0.99060876669866, 0.9777152222209983, 0.991934472614035, 0.9926614666816381, 0.9912504372468002, 0.9933097217812955, 0.9920754453468451, 0.9906273390867307, 0.9928195887189742, 0.9930817600092808]}, {\"categories\": [\"0\", \"1\", \"2\", \"3\", \"4\", \"5\", \"6\", \"7\", \"8\", \"9\", \"10\", \"11\", \"12\", \"13\", \"14\", \"15\", \"16\", \"17\", \"18\", \"19\", \"20\", \"21\", \"22\", \"23\", \"24\", \"25\", \"26\", \"27\", \"28\", \"29\", \"30\", \"31\", \"32\", \"33\", \"34\", \"35\", \"36\", \"37\", \"38\", \"39\", \"40\", \"41\", \"42\", \"43\", \"44\", \"45\", \"46\", \"47\", \"48\", \"49\", \"52\", \"53\"], \"mode\": \"lines\", \"name\": \"balanced_accuracy_max\", \"stepped\": true, \"type\": \"scatter\", \"data\": [0.9919986299307224, 0.9919986299307224, 0.9919986299307224, 0.9919986299307224, 0.9919986299307224, 0.9919986299307224, 0.9919986299307224, 0.9919986299307224, 0.9919986299307224, 0.9919986299307224, 0.9919986299307224, 0.9919986299307224, 0.9919986299307224, 0.9919986299307224, 0.9919986299307224, 0.9919986299307224, 0.9919986299307224, 0.9919986299307224, 0.9919986299307224, 0.9919986299307224, 0.9919986299307224, 0.9919986299307224, 0.9919986299307224, 0.9919986299307224, 0.9919986299307224, 0.9919986299307224, 0.9919986299307224, 0.9919986299307224, 0.9919986299307224, 0.9919986299307224, 0.9919986299307224, 0.9919986299307224, 0.9921432721882999, 0.9921432721882999, 0.9921432721882999, 0.9921432721882999, 0.9921432721882999, 0.9930259226515027, 0.9930259226515027, 0.9930259226515027, 0.9930259226515027, 0.9930259226515027, 0.9930259226515027, 0.9930259226515027, 0.9930259226515027, 0.9930259226515027, 0.9930259226515027, 0.9933097217812955, 0.9933097217812955, 0.9933097217812955, 0.9933097217812955, 0.9933097217812955]}], \"recall_score_macro\": [{\"categories\": [\"0\", \"1\", \"2\", \"3\", \"4\", \"5\", \"6\", \"7\", \"8\", \"9\", \"10\", \"11\", \"12\", \"13\", \"14\", \"15\", \"16\", \"17\", \"18\", \"19\", \"20\", \"21\", \"22\", \"23\", \"24\", \"25\", \"26\", \"27\", \"28\", \"29\", \"30\", \"31\", \"32\", \"33\", \"34\", \"35\", \"36\", \"37\", \"38\", \"39\", \"40\", \"41\", \"42\", \"43\", \"44\", \"45\", \"46\", \"47\", \"48\", \"49\", \"52\", \"53\"], \"mode\": \"markers\", \"name\": \"recall_score_macro\", \"stepped\": false, \"type\": \"scatter\", \"data\": [0.9919986299307224, 0.9910455976429273, 0.9407933289680107, 0.9710868873605548, 0.9684281186149107, 0.9795221316036239, 0.9718353129607126, 0.986610958984596, 0.9759734429432302, 0.9719325475233677, 0.9602115033320587, 0.9878372609165451, 0.9855785395948374, 0.5, 0.9911912589333509, 0.9746478956709014, 0.9866605581005468, 0.9869345768884866, 0.9796691247384269, 0.5, 0.9873339387042971, 0.9784122978492237, 0.9917506362409751, 0.9662862516729941, 0.9726899648594837, 0.9118154801739656, 0.9875085390558705, 0.9873555665437831, 0.991543146883509, 0.9822359755826469, 0.5, 0.9883426077888458, 0.9921432721882999, 0.9898480328146224, 0.9870181546192122, 0.8776299593078049, 0.9920544308423835, 0.9930259226515027, 0.9894730299373977, 0.9882141083052862, 0.9913664719508737, 0.9848700612380886, 0.99060876669866, 0.9777152222209983, 0.991934472614035, 0.9926614666816381, 0.9912504372468002, 0.9933097217812955, 0.9920754453468451, 0.9906273390867307, 0.9928195887189742, 0.9930817600092808]}, {\"categories\": [\"0\", \"1\", \"2\", \"3\", \"4\", \"5\", \"6\", \"7\", \"8\", \"9\", \"10\", \"11\", \"12\", \"13\", \"14\", \"15\", \"16\", \"17\", \"18\", \"19\", \"20\", \"21\", \"22\", \"23\", \"24\", \"25\", \"26\", \"27\", \"28\", \"29\", \"30\", \"31\", \"32\", \"33\", \"34\", \"35\", \"36\", \"37\", \"38\", \"39\", \"40\", \"41\", \"42\", \"43\", \"44\", \"45\", \"46\", \"47\", \"48\", \"49\", \"52\", \"53\"], \"mode\": \"lines\", \"name\": \"recall_score_macro_max\", \"stepped\": true, \"type\": \"scatter\", \"data\": [0.9919986299307224, 0.9919986299307224, 0.9919986299307224, 0.9919986299307224, 0.9919986299307224, 0.9919986299307224, 0.9919986299307224, 0.9919986299307224, 0.9919986299307224, 0.9919986299307224, 0.9919986299307224, 0.9919986299307224, 0.9919986299307224, 0.9919986299307224, 0.9919986299307224, 0.9919986299307224, 0.9919986299307224, 0.9919986299307224, 0.9919986299307224, 0.9919986299307224, 0.9919986299307224, 0.9919986299307224, 0.9919986299307224, 0.9919986299307224, 0.9919986299307224, 0.9919986299307224, 0.9919986299307224, 0.9919986299307224, 0.9919986299307224, 0.9919986299307224, 0.9919986299307224, 0.9919986299307224, 0.9921432721882999, 0.9921432721882999, 0.9921432721882999, 0.9921432721882999, 0.9921432721882999, 0.9930259226515027, 0.9930259226515027, 0.9930259226515027, 0.9930259226515027, 0.9930259226515027, 0.9930259226515027, 0.9930259226515027, 0.9930259226515027, 0.9930259226515027, 0.9930259226515027, 0.9933097217812955, 0.9933097217812955, 0.9933097217812955, 0.9933097217812955, 0.9933097217812955]}], \"AUC_micro\": [{\"categories\": [\"0\", \"1\", \"2\", \"3\", \"4\", \"5\", \"6\", \"7\", \"8\", \"9\", \"10\", \"11\", \"12\", \"13\", \"14\", \"15\", \"16\", \"17\", \"18\", \"19\", \"20\", \"21\", \"22\", \"23\", \"24\", \"25\", \"26\", \"27\", \"28\", \"29\", \"30\", \"31\", \"32\", \"33\", \"34\", \"35\", \"36\", \"37\", \"38\", \"39\", \"40\", \"41\", \"42\", \"43\", \"44\", \"45\", \"46\", \"47\", \"48\", \"49\", \"52\", \"53\"], \"mode\": \"markers\", \"name\": \"AUC_micro\", \"stepped\": false, \"type\": \"scatter\", \"data\": [0.9993004059207276, 0.9991667645968324, 0.9944179152992206, 0.997251667243479, 0.9969748010357855, 0.9973137896520067, 0.9952084101217634, 0.9987730372193516, 0.9967003743301297, 0.9952776740441953, 0.9950699986413659, 0.9977464927345299, 0.9987087426352893, 0.9304197567709777, 0.9993246423227259, 0.9969262794867287, 0.9971075016454832, 0.9981633604146206, 0.9970490381043281, 0.9358413175532734, 0.997404863169474, 0.9972574046860271, 0.9992480837168648, 0.9943623535505225, 0.995765139046, 0.985052840716696, 0.9971052801176074, 0.9974330220643274, 0.9990419596874336, 0.9979190244021511, 0.9297274898965314, 0.9985075223271368, 0.9994007184836863, 0.998954003901407, 0.9973455190002021, 0.9135840431382869, 0.9992187438947142, 0.9993716281312593, 0.9991908366852655, 0.9988867530683142, 0.9992387093012166, 0.998157963777271, 0.9989062198143852, 0.9970045929397547, 0.9992548710001993, 0.9992847393534966, 0.9993348196944235, 0.9992095433693117, 0.9993533250957896, 0.9991055528512689, 0.9994274198845168, 0.9995438764702126]}, {\"categories\": [\"0\", \"1\", \"2\", \"3\", \"4\", \"5\", \"6\", \"7\", \"8\", \"9\", \"10\", \"11\", \"12\", \"13\", \"14\", \"15\", \"16\", \"17\", \"18\", \"19\", \"20\", \"21\", \"22\", \"23\", \"24\", \"25\", \"26\", \"27\", \"28\", \"29\", \"30\", \"31\", \"32\", \"33\", \"34\", \"35\", \"36\", \"37\", \"38\", \"39\", \"40\", \"41\", \"42\", \"43\", \"44\", \"45\", \"46\", \"47\", \"48\", \"49\", \"52\", \"53\"], \"mode\": \"lines\", \"name\": \"AUC_micro_max\", \"stepped\": true, \"type\": \"scatter\", \"data\": [0.9993004059207276, 0.9993004059207276, 0.9993004059207276, 0.9993004059207276, 0.9993004059207276, 0.9993004059207276, 0.9993004059207276, 0.9993004059207276, 0.9993004059207276, 0.9993004059207276, 0.9993004059207276, 0.9993004059207276, 0.9993004059207276, 0.9993004059207276, 0.9993246423227259, 0.9993246423227259, 0.9993246423227259, 0.9993246423227259, 0.9993246423227259, 0.9993246423227259, 0.9993246423227259, 0.9993246423227259, 0.9993246423227259, 0.9993246423227259, 0.9993246423227259, 0.9993246423227259, 0.9993246423227259, 0.9993246423227259, 0.9993246423227259, 0.9993246423227259, 0.9993246423227259, 0.9993246423227259, 0.9994007184836863, 0.9994007184836863, 0.9994007184836863, 0.9994007184836863, 0.9994007184836863, 0.9994007184836863, 0.9994007184836863, 0.9994007184836863, 0.9994007184836863, 0.9994007184836863, 0.9994007184836863, 0.9994007184836863, 0.9994007184836863, 0.9994007184836863, 0.9994007184836863, 0.9994007184836863, 0.9994007184836863, 0.9994007184836863, 0.9994274198845168, 0.9995438764702126]}], \"recall_score_micro\": [{\"categories\": [\"0\", \"1\", \"2\", \"3\", \"4\", \"5\", \"6\", \"7\", \"8\", \"9\", \"10\", \"11\", \"12\", \"13\", \"14\", \"15\", \"16\", \"17\", \"18\", \"19\", \"20\", \"21\", \"22\", \"23\", \"24\", \"25\", \"26\", \"27\", \"28\", \"29\", \"30\", \"31\", \"32\", \"33\", \"34\", \"35\", \"36\", \"37\", \"38\", \"39\", \"40\", \"41\", \"42\", \"43\", \"44\", \"45\", \"46\", \"47\", \"48\", \"49\", \"52\", \"53\"], \"mode\": \"markers\", \"name\": \"recall_score_micro\", \"stepped\": false, \"type\": \"scatter\", \"data\": [0.9949209456524907, 0.9944589808056059, 0.9681411299408523, 0.9835315467470181, 0.982915332982186, 0.9847631923697254, 0.9732196156287563, 0.9926121165723757, 0.98291575947689, 0.9704494614438125, 0.975220231202779, 0.988764636765123, 0.9919964714671489, 0.7538860420367396, 0.9950749102406354, 0.9872247776363237, 0.9875325646477119, 0.9887645656826723, 0.987994671659498, 0.7538860420367396, 0.9910727550207312, 0.9876866003183072, 0.9952287326638789, 0.9675226415375987, 0.980915214985318, 0.9193486430715581, 0.9875327778950638, 0.9910727550207312, 0.9946130164762012, 0.9901494650690176, 0.7538860420367396, 0.9929199746662146, 0.995536732922619, 0.9943053716297144, 0.9906109323387476, 0.889642789360663, 0.9950748391581848, 0.9958444488515564, 0.9939975135358757, 0.9930741525017113, 0.99492087457004, 0.9906114299159023, 0.9941513359591191, 0.9846085169570741, 0.9946128743112999, 0.9953826972520236, 0.9950748391581848, 0.9956904842634117, 0.9950750524055367, 0.9941511227117671, 0.9958443777691057, 0.9956904131809611]}, {\"categories\": [\"0\", \"1\", \"2\", \"3\", \"4\", \"5\", \"6\", \"7\", \"8\", \"9\", \"10\", \"11\", \"12\", \"13\", \"14\", \"15\", \"16\", \"17\", \"18\", \"19\", \"20\", \"21\", \"22\", \"23\", \"24\", \"25\", \"26\", \"27\", \"28\", \"29\", \"30\", \"31\", \"32\", \"33\", \"34\", \"35\", \"36\", \"37\", \"38\", \"39\", \"40\", \"41\", \"42\", \"43\", \"44\", \"45\", \"46\", \"47\", \"48\", \"49\", \"52\", \"53\"], \"mode\": \"lines\", \"name\": \"recall_score_micro_max\", \"stepped\": true, \"type\": \"scatter\", \"data\": [0.9949209456524907, 0.9949209456524907, 0.9949209456524907, 0.9949209456524907, 0.9949209456524907, 0.9949209456524907, 0.9949209456524907, 0.9949209456524907, 0.9949209456524907, 0.9949209456524907, 0.9949209456524907, 0.9949209456524907, 0.9949209456524907, 0.9949209456524907, 0.9950749102406354, 0.9950749102406354, 0.9950749102406354, 0.9950749102406354, 0.9950749102406354, 0.9950749102406354, 0.9950749102406354, 0.9950749102406354, 0.9952287326638789, 0.9952287326638789, 0.9952287326638789, 0.9952287326638789, 0.9952287326638789, 0.9952287326638789, 0.9952287326638789, 0.9952287326638789, 0.9952287326638789, 0.9952287326638789, 0.995536732922619, 0.995536732922619, 0.995536732922619, 0.995536732922619, 0.995536732922619, 0.9958444488515564, 0.9958444488515564, 0.9958444488515564, 0.9958444488515564, 0.9958444488515564, 0.9958444488515564, 0.9958444488515564, 0.9958444488515564, 0.9958444488515564, 0.9958444488515564, 0.9958444488515564, 0.9958444488515564, 0.9958444488515564, 0.9958444488515564, 0.9958444488515564]}]}, \"metricName\": null, \"primaryMetricName\": \"AUC_weighted\", \"showLegend\": false}, \"run_metrics\": [{\"name\": \"experiment_status\", \"run_id\": \"AutoML_23ff9a2a-e797-4f67-a468-e9c037c671d9\", \"categories\": [0, 1, 2, 3, 4, 5, 6, 7, 8, 9, 10, 11, 12, 13], \"series\": [{\"data\": [\"DatasetEvaluation\", \"FeaturesGeneration\", \"DatasetFeaturization\", \"DatasetFeaturizationCompleted\", \"DatasetCrossValidationSplit\", \"ModelSelection\", \"BestRunExplainModel\", \"ModelExplanationDataSetSetup\", \"PickSurrogateModel\", \"EngineeredFeatureExplanations\", \"EngineeredFeatureExplanations\", \"RawFeaturesExplanations\", \"RawFeaturesExplanations\", \"BestRunExplainModel\"]}]}, {\"name\": \"experiment_status_description\", \"run_id\": \"AutoML_23ff9a2a-e797-4f67-a468-e9c037c671d9\", \"categories\": [0, 1, 2, 3, 4, 5, 6, 7, 8, 9, 10, 11, 12, 13], \"series\": [{\"data\": [\"Gathering dataset statistics.\", \"Generating features for the dataset.\", \"Beginning to fit featurizers and featurize the dataset.\", \"Completed fit featurizers and featurizing the dataset.\", \"Generating individually featurized CV splits.\", \"Beginning model selection.\", \"Best run model explanations started\", \"Model explanations data setup completed\", \"Choosing LightGBM as the surrogate model for explanations\", \"Computation of engineered features started\", \"Computation of engineered features completed\", \"Computation of raw features started\", \"Computation of raw features completed\", \"Best run model explanations completed\"]}]}, {\"name\": \"precision_score_weighted\", \"run_id\": \"AutoML_23ff9a2a-e797-4f67-a468-e9c037c671d9\", \"categories\": [0], \"series\": [{\"data\": [0.9958455391013294]}]}, {\"name\": \"balanced_accuracy\", \"run_id\": \"AutoML_23ff9a2a-e797-4f67-a468-e9c037c671d9\", \"categories\": [0], \"series\": [{\"data\": [0.9928195887189742]}]}, {\"name\": \"norm_macro_recall\", \"run_id\": \"AutoML_23ff9a2a-e797-4f67-a468-e9c037c671d9\", \"categories\": [0], \"series\": [{\"data\": [0.9856391774379484]}]}, {\"name\": \"average_precision_score_micro\", \"run_id\": \"AutoML_23ff9a2a-e797-4f67-a468-e9c037c671d9\", \"categories\": [0], \"series\": [{\"data\": [0.9994272372288621]}]}, {\"name\": \"AUC_macro\", \"run_id\": \"AutoML_23ff9a2a-e797-4f67-a468-e9c037c671d9\", \"categories\": [0], \"series\": [{\"data\": [0.9990679644052318]}]}, {\"name\": \"precision_score_macro\", \"run_id\": \"AutoML_23ff9a2a-e797-4f67-a468-e9c037c671d9\", \"categories\": [0], \"series\": [{\"data\": [0.9959743493545945]}]}, {\"name\": \"average_precision_score_macro\", \"run_id\": \"AutoML_23ff9a2a-e797-4f67-a468-e9c037c671d9\", \"categories\": [0], \"series\": [{\"data\": [0.9989514872496343]}]}, {\"name\": \"AUC_weighted\", \"run_id\": \"AutoML_23ff9a2a-e797-4f67-a468-e9c037c671d9\", \"categories\": [0], \"series\": [{\"data\": [0.9990679644052318]}]}, {\"name\": \"weighted_accuracy\", \"run_id\": \"AutoML_23ff9a2a-e797-4f67-a468-e9c037c671d9\", \"categories\": [0], \"series\": [{\"data\": [0.9976247717979155]}]}, {\"name\": \"precision_score_micro\", \"run_id\": \"AutoML_23ff9a2a-e797-4f67-a468-e9c037c671d9\", \"categories\": [0], \"series\": [{\"data\": [0.9958443777691057]}]}, {\"name\": \"f1_score_micro\", \"run_id\": \"AutoML_23ff9a2a-e797-4f67-a468-e9c037c671d9\", \"categories\": [0], \"series\": [{\"data\": [0.9958443777691057]}]}, {\"name\": \"recall_score_weighted\", \"run_id\": \"AutoML_23ff9a2a-e797-4f67-a468-e9c037c671d9\", \"categories\": [0], \"series\": [{\"data\": [0.9958443777691057]}]}, {\"name\": \"f1_score_weighted\", \"run_id\": \"AutoML_23ff9a2a-e797-4f67-a468-e9c037c671d9\", \"categories\": [0], \"series\": [{\"data\": [0.9958377731369964]}]}, {\"name\": \"AUC_micro\", \"run_id\": \"AutoML_23ff9a2a-e797-4f67-a468-e9c037c671d9\", \"categories\": [0], \"series\": [{\"data\": [0.9994274198845168]}]}, {\"name\": \"f1_score_macro\", \"run_id\": \"AutoML_23ff9a2a-e797-4f67-a468-e9c037c671d9\", \"categories\": [0], \"series\": [{\"data\": [0.9943847432349484]}]}, {\"name\": \"log_loss\", \"run_id\": \"AutoML_23ff9a2a-e797-4f67-a468-e9c037c671d9\", \"categories\": [0], \"series\": [{\"data\": [0.02180328293639074]}]}, {\"name\": \"accuracy\", \"run_id\": \"AutoML_23ff9a2a-e797-4f67-a468-e9c037c671d9\", \"categories\": [0], \"series\": [{\"data\": [0.9958443777691057]}]}, {\"name\": \"recall_score_micro\", \"run_id\": \"AutoML_23ff9a2a-e797-4f67-a468-e9c037c671d9\", \"categories\": [0], \"series\": [{\"data\": [0.9958443777691057]}]}, {\"name\": \"matthews_correlation\", \"run_id\": \"AutoML_23ff9a2a-e797-4f67-a468-e9c037c671d9\", \"categories\": [0], \"series\": [{\"data\": [0.9887888851842819]}]}, {\"name\": \"average_precision_score_weighted\", \"run_id\": \"AutoML_23ff9a2a-e797-4f67-a468-e9c037c671d9\", \"categories\": [0], \"series\": [{\"data\": [0.9993028602669133]}]}, {\"name\": \"recall_score_macro\", \"run_id\": \"AutoML_23ff9a2a-e797-4f67-a468-e9c037c671d9\", \"categories\": [0], \"series\": [{\"data\": [0.9928195887189742]}]}], \"run_logs\": \"\\nRun is completed.\", \"graph\": {}, \"widget_settings\": {\"childWidgetDisplay\": \"popup\", \"send_telemetry\": false, \"log_level\": \"INFO\", \"sdk_version\": \"1.34.0\"}, \"loading\": false}"
     },
     "metadata": {},
     "output_type": "display_data"
    }
   ],
   "source": [
    "RunDetails(automl_run).show()"
   ]
  },
  {
   "cell_type": "markdown",
   "metadata": {},
   "source": [
    "## Best Model\n",
    "\n",
    "TODO: In the cell below, get the best model from the automl experiments and display all the properties of the model.\n",
    "\n"
   ]
  },
  {
   "cell_type": "code",
   "execution_count": 21,
   "metadata": {
    "gather": {
     "logged": 1598431425670
    },
    "jupyter": {
     "outputs_hidden": false,
     "source_hidden": false
    },
    "nteract": {
     "transient": {
      "deleting": false
     }
    }
   },
   "outputs": [
    {
     "name": "stdout",
     "output_type": "stream",
     "text": [
      "Run(Experiment: automl,\n",
      "Id: AutoML_23ff9a2a-e797-4f67-a468-e9c037c671d9_52,\n",
      "Type: azureml.scriptrun,\n",
      "Status: Completed)\n",
      "Pipeline(memory=None,\n",
      "         steps=[('datatransformer',\n",
      "                 DataTransformer(enable_dnn=False, enable_feature_sweeping=True, feature_sweeping_config={}, feature_sweeping_timeout=86400, featurization_config=None, force_text_dnn=False, is_cross_validation=True, is_onnx_compatible=False, observer=None, task='classification', working_dir='/mnt/batch/tasks/shared/LS_root/mount...\n",
      "), random_state=None, reg_alpha=0.7894736842105263, reg_lambda=0.3684210526315789, subsample=0.3468421052631579))], verbose=False))], flatten_transform=None, weights=[0.07692307692307693, 0.3076923076923077, 0.15384615384615385, 0.07692307692307693, 0.07692307692307693, 0.07692307692307693, 0.07692307692307693, 0.07692307692307693, 0.07692307692307693]))],\n",
      "         verbose=False)\n"
     ]
    }
   ],
   "source": [
    "best_automl_run, best_automl_model = automl_run.get_output()\n",
    "print(best_automl_run)\n",
    "print(best_automl_model)"
   ]
  },
  {
   "cell_type": "code",
   "execution_count": 29,
   "metadata": {
    "gather": {
     "logged": 1598431426111
    },
    "jupyter": {
     "outputs_hidden": false,
     "source_hidden": false
    },
    "nteract": {
     "transient": {
      "deleting": false
     }
    }
   },
   "outputs": [],
   "source": [
    "#TODO: Save the best model\n",
    "best_automl_run.download_file(best_automl_run.get_file_names()[-3], output_file_path='./outputs/')"
   ]
  },
  {
   "cell_type": "markdown",
   "metadata": {},
   "source": [
    "## Model Deployment\n",
    "\n",
    "Remember you have to deploy only one of the two models you trained.. Perform the steps in the rest of this notebook only if you wish to deploy this model.\n",
    "\n",
    "TODO: In the cell below, register the model, create an inference config and deploy the model as a web service."
   ]
  },
  {
   "cell_type": "code",
   "execution_count": null,
   "metadata": {
    "gather": {
     "logged": 1598431435189
    },
    "jupyter": {
     "outputs_hidden": false,
     "source_hidden": false
    },
    "nteract": {
     "transient": {
      "deleting": false
     }
    }
   },
   "outputs": [],
   "source": [
    "best_automl_run.register_model(model_name = 'automl_VotingEnsemble', model_path='./outputs/')"
   ]
  },
  {
   "cell_type": "markdown",
   "metadata": {
    "collapsed": true,
    "gather": {
     "logged": 1598431657736
    },
    "jupyter": {
     "outputs_hidden": false,
     "source_hidden": false
    },
    "nteract": {
     "transient": {
      "deleting": false
     }
    }
   },
   "source": [
    "TODO: In the cell below, send a request to the web service you deployed to test it."
   ]
  },
  {
   "cell_type": "code",
   "execution_count": null,
   "metadata": {
    "gather": {
     "logged": 1598432707604
    },
    "jupyter": {
     "outputs_hidden": false,
     "source_hidden": false
    },
    "nteract": {
     "transient": {
      "deleting": false
     }
    }
   },
   "outputs": [],
   "source": [
    "\n",
    "dataset_test = Dataset.Tabular.from_delimited_files(path='https://automlsamplenotebookdata.blob.core.windows.net/automl-sample-notebook-data/bankmarketing_train.csv')\n",
    "df_test = dataset_test.to_pandas_dataframe()\n",
    "df_test = df_test[pd.notnull(df_test['y'])]\n",
    "\n",
    "y_test = df_test['y']\n",
    "X_test = df_test.drop(['y'], axis=1)"
   ]
  },
  {
   "cell_type": "markdown",
   "metadata": {
    "collapsed": true,
    "gather": {
     "logged": 1598432765711
    },
    "jupyter": {
     "outputs_hidden": false,
     "source_hidden": false
    },
    "nteract": {
     "transient": {
      "deleting": false
     }
    }
   },
   "source": [
    "TODO: In the cell below, print the logs of the web service and delete the service"
   ]
  },
  {
   "cell_type": "code",
   "execution_count": null,
   "metadata": {
    "jupyter": {
     "outputs_hidden": false,
     "source_hidden": false
    },
    "nteract": {
     "transient": {
      "deleting": false
     }
    }
   },
   "outputs": [],
   "source": []
  }
 ],
 "metadata": {
  "kernel_info": {
   "name": "python3"
  },
  "kernelspec": {
   "display_name": "Python 3",
   "language": "python",
   "name": "python3"
  },
  "language_info": {
   "codemirror_mode": {
    "name": "ipython",
    "version": 3
   },
   "file_extension": ".py",
   "mimetype": "text/x-python",
   "name": "python",
   "nbconvert_exporter": "python",
   "pygments_lexer": "ipython3",
   "version": "3.6.9"
  },
  "microsoft": {
   "host": {
    "AzureML": {
     "notebookHasBeenCompleted": true
    }
   }
  },
  "nteract": {
   "version": "nteract-front-end@1.0.0"
  }
 },
 "nbformat": 4,
 "nbformat_minor": 2
}
